{
  "nbformat": 4,
  "nbformat_minor": 0,
  "metadata": {
    "colab": {
      "name": "py_class_1.ipynb",
      "version": "0.3.2",
      "provenance": [],
      "include_colab_link": true
    },
    "kernelspec": {
      "display_name": "Python 3",
      "language": "python",
      "name": "python3"
    }
  },
  "cells": [
    {
      "cell_type": "markdown",
      "metadata": {
        "id": "view-in-github",
        "colab_type": "text"
      },
      "source": [
        "<a href=\"https://colab.research.google.com/github/codeforhk/python_course/blob/master/py_class_1.ipynb\" target=\"_parent\"><img src=\"https://colab.research.google.com/assets/colab-badge.svg\" alt=\"Open In Colab\"/></a>"
      ]
    },
    {
      "metadata": {
        "id": "ejMS_tRueq8A",
        "colab_type": "text"
      },
      "cell_type": "markdown",
      "source": [
        "\n",
        "    \n",
        "<img src=\"https://www.codefor.hk/wp-content/themes/DC_CUSTOM_THEME/img/logo-code-for-hk-logo.svg\" height=\"150\" width=\"150\"  align=\"center\"/>\n",
        "<h1><center>Code For Hong Kong - Python class 1</center></h1>\n",
        "<h6><center>Written by Patrick Leung</center></h6>\n"
      ]
    },
    {
      "metadata": {
        "id": "Dw5l1boGeq8C",
        "colab_type": "text"
      },
      "cell_type": "markdown",
      "source": [
        "## 0.0.0 Install Anaconda\n",
        "\n",
        "First of all, you would need to install anaconda for this course. You would need to download python 3.7.\n",
        "Anaconda\n",
        "\n",
        "https://www.anaconda.com/distribution/#windows\n",
        "\n",
        "\n",
        "Anaconda is a python distribution. It aims to provide everything you need for python & data science \"out of the box\".\n",
        "\n",
        "It includes:\n",
        "\n",
        "- The core python language\n",
        "- 100+ python \"packages\" (libraries)\n",
        "- Spyder (IDE/editor - like pycharm) and Jupyter\n",
        "\n",
        "For window user, please install from this guide:\n",
        "\n",
        "https://www.datacamp.com/community/tutorials/installing-anaconda-windows\n",
        "\n",
        "\n",
        "For mac user, please install from this guide:\n",
        "\n",
        "https://www.datacamp.com/community/tutorials/installing-anaconda-mac-os-x"
      ]
    },
    {
      "metadata": {
        "id": "MraaPy0qeq8C",
        "colab_type": "text"
      },
      "cell_type": "markdown",
      "source": [
        "### 0.1.0  What are we doing today?\n",
        "\n",
        "* a few general words about python. \n",
        "* python as a calculator\n",
        "* how to assign variables \n",
        "* how to do simple input output : print to screen, read from keyboard\n",
        "* how to operate with strings \n",
        "* how to access the documentation\n",
        "* \"if\" statements ( if we have time )\n",
        "\n",
        "Bonus ( only if we are really really fast ):\n",
        "\n",
        "* a few words about lists\n",
        "* \"for\" statements "
      ]
    },
    {
      "metadata": {
        "id": "-H1kWX2xeq8D",
        "colab_type": "text"
      },
      "cell_type": "markdown",
      "source": [
        "<img src=\"https://www.codefor.hk/wp-content/themes/DC_CUSTOM_THEME/img/logo-code-for-hk-logo.svg\" height=\"150\" width=\"150\"  align=\"center\"/>"
      ]
    },
    {
      "metadata": {
        "id": "8xDJBPC0eq8E",
        "colab_type": "text"
      },
      "cell_type": "markdown",
      "source": [
        "# 1.0.0 Background of python"
      ]
    },
    {
      "metadata": {
        "id": "WKjW-eNIeq8F",
        "colab_type": "text"
      },
      "cell_type": "markdown",
      "source": [
        "### 1.1.0 What is python?"
      ]
    },
    {
      "metadata": {
        "id": "ZbAJdt6ieq8G",
        "colab_type": "text"
      },
      "cell_type": "markdown",
      "source": [
        "* Widely used high-level, interpreted programming language for general-purpose programming\n",
        "* Created by Guido van Rossum and first released in 1991. \n",
        "* Python has a design philosophy that emphasizes code readability that allows programmers to express concepts in fewer lines of code than might be used in languages such as C++ or Java.\n",
        "* The language provides constructs intended to enable writing clear programs on both a small and large scale."
      ]
    },
    {
      "metadata": {
        "id": "CLFqvwdoeq8H",
        "colab_type": "text"
      },
      "cell_type": "markdown",
      "source": [
        "<img src=\"https://upload.wikimedia.org/wikipedia/commons/thumb/6/66/Guido_van_Rossum_OSCON_2006.jpg/440px-Guido_van_Rossum_OSCON_2006.jpg\" />\n",
        "\n"
      ]
    },
    {
      "metadata": {
        "id": "3OwNnALMeq8H",
        "colab_type": "text"
      },
      "cell_type": "markdown",
      "source": [
        "### 1.1.1 What is a programming language?"
      ]
    },
    {
      "metadata": {
        "id": "yeSo08l_eq8I",
        "colab_type": "text"
      },
      "cell_type": "markdown",
      "source": [
        "<img src=\"http://cdn.osxdaily.com/wp-content/uploads/2011/05/top-command-sorted-by-cpu-use-610x383.jpg\n",
        "\" />"
      ]
    },
    {
      "metadata": {
        "id": "mFpDWHXeeq8J",
        "colab_type": "text"
      },
      "cell_type": "markdown",
      "source": [
        "### 1.1.2 Why do we need a computer to help out?"
      ]
    },
    {
      "metadata": {
        "id": "DVuRQWnBeq8K",
        "colab_type": "text"
      },
      "cell_type": "markdown",
      "source": [
        "<img src=\"http://img.picturequotes.com/2/509/508709/one-good-thing-about-my-computer-it-never-asks-why-quote-1.jpg\" />\n",
        "\n"
      ]
    },
    {
      "metadata": {
        "id": "ZIYvFdAgeq8L",
        "colab_type": "text"
      },
      "cell_type": "markdown",
      "source": [
        "## 1.2.0 Why Python?\n",
        "\n",
        "- Python is very popular - meaning a lot of the functionality is already written as package, and you can copy/use other people's code for free!\n",
        "- Python is very beginner friendly\n",
        "- Python is powerful together with machine learning\n",
        "\n",
        "https://medium.freecodecamp.org/what-can-you-do-with-python-the-3-main-applications-518db9a68a78"
      ]
    },
    {
      "metadata": {
        "id": "4-NHK13req8M",
        "colab_type": "text"
      },
      "cell_type": "markdown",
      "source": [
        "<img src=\"https://cdn-images-1.medium.com/max/1600/1*_R4CyVH0DSXkJsoRk-Px_Q.png\" />\n",
        "\n"
      ]
    },
    {
      "metadata": {
        "id": "NPIY3Qqaeq8N",
        "colab_type": "text"
      },
      "cell_type": "markdown",
      "source": [
        "### 1.2.1 Python is a very popular language"
      ]
    },
    {
      "metadata": {
        "id": "KG9MZTa1eq8O",
        "colab_type": "text"
      },
      "cell_type": "markdown",
      "source": [
        "https://www.economist.com/graphic-detail/2018/07/26/python-is-becoming-the-worlds-most-popular-coding-language"
      ]
    },
    {
      "metadata": {
        "id": "lSxpXEBAeq8P",
        "colab_type": "text"
      },
      "cell_type": "markdown",
      "source": [
        "<img src=\"https://www.economist.com/sites/default/files/imagecache/1280-width/20180728_WOC883.png\" />\n"
      ]
    },
    {
      "metadata": {
        "id": "ecRM_LSEeq8P",
        "colab_type": "text"
      },
      "cell_type": "markdown",
      "source": [
        "<img src=\"https://www.dotnetlanguages.net/wp-content/uploads/2018/05/Most-popular-programming-languages.png\" />"
      ]
    },
    {
      "metadata": {
        "id": "MMjFucIDeq8Q",
        "colab_type": "text"
      },
      "cell_type": "markdown",
      "source": [
        "### 1.2.2 Python has a simple & elegant syntax\n",
        "\n",
        "python is a very clean & elegant language. Look how easy for it to write a program!"
      ]
    },
    {
      "metadata": {
        "id": "Xq47eLWTeq8R",
        "colab_type": "text"
      },
      "cell_type": "markdown",
      "source": [
        "<img src=\"https://img.devrant.io/devrant/rant/r_672680_SGP4G.jpg\"/>"
      ]
    },
    {
      "metadata": {
        "id": "FVPZGuWQeq8T",
        "colab_type": "text"
      },
      "cell_type": "markdown",
      "source": [
        "Python is meant to be a very elegant language. It even includes a poem built into it. Try to import your first library. \n",
        "\n",
        "Try to click \"shift enter\" after type \"import this\" in the box"
      ]
    },
    {
      "metadata": {
        "collapsed": true,
        "id": "OivlLfxmeq8W",
        "colab_type": "code",
        "colab": {}
      },
      "cell_type": "code",
      "source": [
        "import this"
      ],
      "execution_count": 0,
      "outputs": []
    },
    {
      "metadata": {
        "id": "EBV8l3iEeq8Z",
        "colab_type": "text"
      },
      "cell_type": "markdown",
      "source": [
        "### 1.2.3 Python is good for machine learning\n",
        "a nice language to do data analytics/ data science/ machine learning!"
      ]
    },
    {
      "metadata": {
        "id": "zvay5SQOeq8Z",
        "colab_type": "text"
      },
      "cell_type": "markdown",
      "source": [
        "<img src=\"https://i.ytimg.com/vi/vISRn5qFrkM/maxresdefault.jpg\" />"
      ]
    },
    {
      "metadata": {
        "id": "t07z5faAeq8a",
        "colab_type": "text"
      },
      "cell_type": "markdown",
      "source": [
        "<img src=\"https://s3.amazonaws.com/assets.datacamp.com/blog_assets/Cheat+Sheets/content_pythonfordatascience.png\" />"
      ]
    },
    {
      "metadata": {
        "id": "UZysvTpDeq8c",
        "colab_type": "text"
      },
      "cell_type": "markdown",
      "source": [
        "### 1.2.4 Python 3 or Python 2?\n",
        "\n",
        "<img src=\"https://mk0learntocodew6bl5f.kinstacdn.com/wp-content/uploads/2014/06/python-2-vs-3-2018.png\" />\n",
        "\n",
        "\n",
        "https://learntocodewith.me/programming/python/python-2-vs-python-3/"
      ]
    },
    {
      "metadata": {
        "id": "YFqLhTWceq8d",
        "colab_type": "text"
      },
      "cell_type": "markdown",
      "source": [
        "## 1.3.0 Get familiar with the python tools"
      ]
    },
    {
      "metadata": {
        "id": "axYPsKaqeq8e",
        "colab_type": "text"
      },
      "cell_type": "markdown",
      "source": [
        "### 1.3.1 Jupyter notebook"
      ]
    },
    {
      "metadata": {
        "id": "TW8UqlDUeq8f",
        "colab_type": "text"
      },
      "cell_type": "markdown",
      "source": [
        "Jupyter notebook is previously called IPython Notebook ( http://ipython.org/notebook.html ). It is a web based extension of iPython.  It's very powerful and convenient and It allows you to mix code, annotation, text, figures into a single interactive document.\n",
        "IPython is included in all of the most popular python distributions, like Anaconda , or Canopy. If you have one of those distributions installed on your computer, you can already start using the notebook."
      ]
    },
    {
      "metadata": {
        "id": "vMi00aoreq8g",
        "colab_type": "text"
      },
      "cell_type": "markdown",
      "source": [
        "A simple youtube video to remind you how to open jupyter notebook\n",
        "\n",
        "https://www.youtube.com/watch?v=MJKVuzYZvo0"
      ]
    },
    {
      "metadata": {
        "id": "tOFBrGlceq8h",
        "colab_type": "text"
      },
      "cell_type": "markdown",
      "source": [
        "<img src=\"https://i.ytimg.com/vi/-MyjG00la2k/maxresdefault.jpg\" />\n",
        "\n"
      ]
    },
    {
      "metadata": {
        "id": "PDDgsjyveq8h",
        "colab_type": "text"
      },
      "cell_type": "markdown",
      "source": [
        "### 1.3.2 How to navigate within jupyter notebook? \n",
        "\n",
        "Jupyter notebook is just a user-friendly way of coding in python. Every code is written in a \"block\"/\"cell\",\n"
      ]
    },
    {
      "metadata": {
        "id": "a5y1uNqPeq8i",
        "colab_type": "text"
      },
      "cell_type": "markdown",
      "source": [
        "<img src=\"https://i.pinimg.com/originals/f5/7e/07/f57e074be4503a39f6d9d8d15f0e8aa5.png\" />"
      ]
    },
    {
      "metadata": {
        "id": "rR3Mw2K-eq8k",
        "colab_type": "text"
      },
      "cell_type": "markdown",
      "source": [
        "#### Example 1.3.2 - navigating the jupyter notebook"
      ]
    },
    {
      "metadata": {
        "id": "Abvr_KyLeq8m",
        "colab_type": "text"
      },
      "cell_type": "markdown",
      "source": [
        "1) Click on the \"white edge\" next to any box to select the box"
      ]
    },
    {
      "metadata": {
        "collapsed": true,
        "id": "L3unI2r0eq8m",
        "colab_type": "code",
        "colab": {}
      },
      "cell_type": "code",
      "source": [
        "#click me (the white edge)! Now you selected me"
      ],
      "execution_count": 0,
      "outputs": []
    },
    {
      "metadata": {
        "id": "j3MgRU8deq8p",
        "colab_type": "text"
      },
      "cell_type": "markdown",
      "source": [
        "2) While selecting a box, click \"a\" to create a box above, and \"b\" to create a box below"
      ]
    },
    {
      "metadata": {
        "collapsed": true,
        "id": "mEuoDOrDeq8q",
        "colab_type": "code",
        "colab": {}
      },
      "cell_type": "code",
      "source": [
        "# click me (on the white edge, not the text!), and try type a to create a box above, and b to create a box below"
      ],
      "execution_count": 0,
      "outputs": []
    },
    {
      "metadata": {
        "id": "eg-WVwBmeq8s",
        "colab_type": "text"
      },
      "cell_type": "markdown",
      "source": [
        "3) To delete a box , click \"dd\" (dobule d)"
      ]
    },
    {
      "metadata": {
        "collapsed": true,
        "id": "-ddSUYsVeq8t",
        "colab_type": "code",
        "colab": {}
      },
      "cell_type": "code",
      "source": [
        "# Try select me, and click \"dd\" to delete me!!"
      ],
      "execution_count": 0,
      "outputs": []
    },
    {
      "metadata": {
        "id": "Blmb229qeq8v",
        "colab_type": "text"
      },
      "cell_type": "markdown",
      "source": [
        "4) Realize there are \"text\" based box & \"code\" based box? Jupyter notebook has two type of \"box\" - those you see with a grey box are actually python code, while those with the entire white edge are so called the \"text\" box. all new box will be a \"code\" box automatically. To transform the \"code box\" to \"text box\", select the box & type m."
      ]
    },
    {
      "metadata": {
        "collapsed": true,
        "id": "i7Mc8LpAeq8w",
        "colab_type": "code",
        "colab": {}
      },
      "cell_type": "code",
      "source": [
        "# Change me to a text box!"
      ],
      "execution_count": 0,
      "outputs": []
    },
    {
      "metadata": {
        "id": "fi0j42vPeq8z",
        "colab_type": "text"
      },
      "cell_type": "markdown",
      "source": [
        "5) All good? Now that you know how to create a box, you should learn how to execute a code. There are 2 ways to execute the code - you can click \"shift enter\" to run a code & jump to a box below, or you can click \"ctrl enter\" to only execute the box"
      ]
    },
    {
      "metadata": {
        "collapsed": true,
        "id": "-4A8wLwMeq80",
        "colab_type": "code",
        "colab": {}
      },
      "cell_type": "code",
      "source": [
        "# I am a code box. Try execute me to run the code!\n",
        "1+1  # should be two!\n",
        "print(\"one plus one is two! is two!\")"
      ],
      "execution_count": 0,
      "outputs": []
    },
    {
      "metadata": {
        "id": "OoAT528veq82",
        "colab_type": "text"
      },
      "cell_type": "markdown",
      "source": [
        "6) Do you notice the number next to the box? It indicates the sequence of the box running. If a box has no number, it means it had not been executed."
      ]
    },
    {
      "metadata": {
        "collapsed": true,
        "id": "1iGwLpOdeq83",
        "colab_type": "code",
        "colab": {}
      },
      "cell_type": "code",
      "source": [
        "## The box \"In []:\" on the right should be empty now. Once you ran it, a number will appear in it. \n",
        "##It means the box is executed! "
      ],
      "execution_count": 0,
      "outputs": []
    },
    {
      "metadata": {
        "id": "yZ-OEQfWeq89",
        "colab_type": "text"
      },
      "cell_type": "markdown",
      "source": [
        "7) Sometimes python could crash - you would notice it when you see it is all frozen and you can't execute the code. The \"In []\" box will become \"In [*]\". If that happens, you could try to click \"stop\". If it's not working,  click \"kernel\"  & restart"
      ]
    },
    {
      "metadata": {
        "id": "c3fZQEq9eq89",
        "colab_type": "text"
      },
      "cell_type": "markdown",
      "source": [
        "<img src=\"https://storage.googleapis.com/bwdb/codeforhk/python_course/image/Screenshot%202019-02-15%20at%2012.59.47%20AM.png\" />"
      ]
    },
    {
      "metadata": {
        "scrolled": true,
        "id": "ts4s5-t4eq8-",
        "colab_type": "code",
        "colab": {},
        "outputId": "50db3b44-a9ba-4a83-facb-01b7fb79be4b"
      },
      "cell_type": "code",
      "source": [
        "#This will freeze your python \n",
        "while True:\n",
        "    #do nothing\n",
        "    #This will force python to keep calculating without stopping\n",
        "    1+1\n",
        "    # If you click stop, an error message will appear below\n"
      ],
      "execution_count": 0,
      "outputs": [
        {
          "output_type": "error",
          "ename": "KeyboardInterrupt",
          "evalue": "",
          "traceback": [
            "\u001b[0;31m---------------------------------------------------------------------------\u001b[0m",
            "\u001b[0;31mKeyboardInterrupt\u001b[0m                         Traceback (most recent call last)",
            "\u001b[0;32m<ipython-input-6-b06f0c5fd582>\u001b[0m in \u001b[0;36m<module>\u001b[0;34m()\u001b[0m\n\u001b[1;32m      3\u001b[0m     \u001b[0;31m#do nothing\u001b[0m\u001b[0;34m\u001b[0m\u001b[0;34m\u001b[0m\u001b[0m\n\u001b[1;32m      4\u001b[0m     \u001b[0;31m#This will force python to keep calculating without stopping\u001b[0m\u001b[0;34m\u001b[0m\u001b[0;34m\u001b[0m\u001b[0m\n\u001b[0;32m----> 5\u001b[0;31m     \u001b[0;36m1\u001b[0m\u001b[0;34m+\u001b[0m\u001b[0;36m1\u001b[0m\u001b[0;34m\u001b[0m\u001b[0m\n\u001b[0m",
            "\u001b[0;31mKeyboardInterrupt\u001b[0m: "
          ]
        }
      ]
    },
    {
      "metadata": {
        "id": "rj7_iJRNeq9C",
        "colab_type": "text"
      },
      "cell_type": "markdown",
      "source": [
        "8) Text can be created with markdown, as below:"
      ]
    },
    {
      "metadata": {
        "id": "Ww4vuagUeq9F",
        "colab_type": "text"
      },
      "cell_type": "markdown",
      "source": [
        "Markdown are useful for lists, markup and formatting \n",
        "\n",
        "* *italics*\n",
        "* **bold**\n",
        "* `fixed_font`\n",
        "\n",
        "#You can add titles of various size using \"#\" at the beginning of the line\n",
        "\n",
        "##### this has 5 \"#####\""
      ]
    },
    {
      "metadata": {
        "id": "cYm-fUXTeq9G",
        "colab_type": "text"
      },
      "cell_type": "markdown",
      "source": [
        "#### Exercise 1.3.2 - navigating the jupyter notebook"
      ]
    },
    {
      "metadata": {
        "id": "zMjyH2Nxeq9G",
        "colab_type": "text"
      },
      "cell_type": "markdown",
      "source": [
        "1) Try to create a box and execute 1 + 1\n",
        "\n",
        "2) Try to create a box and create a mark down (a text box) that shows your name\n",
        "\n"
      ]
    },
    {
      "metadata": {
        "id": "NQa1BQVeeq9H",
        "colab_type": "text"
      },
      "cell_type": "markdown",
      "source": [
        "3) Try to delete the box below:"
      ]
    },
    {
      "metadata": {
        "collapsed": true,
        "id": "Dait4clyeq9I",
        "colab_type": "code",
        "colab": {}
      },
      "cell_type": "code",
      "source": [
        "# delete me!!"
      ],
      "execution_count": 0,
      "outputs": []
    },
    {
      "metadata": {
        "id": "HCXwt-UXeq9J",
        "colab_type": "text"
      },
      "cell_type": "markdown",
      "source": [
        "4) Try to execute the box below without error boxing"
      ]
    },
    {
      "metadata": {
        "collapsed": true,
        "id": "4pWtO1abeq9K",
        "colab_type": "code",
        "colab": {}
      },
      "cell_type": "code",
      "source": [
        "Try to execute me!"
      ],
      "execution_count": 0,
      "outputs": []
    },
    {
      "metadata": {
        "id": "BaAFVzEAeq9M",
        "colab_type": "text"
      },
      "cell_type": "markdown",
      "source": [
        "5) Try to execute the box to output the maths"
      ]
    },
    {
      "metadata": {
        "id": "HeGeqw80eq9N",
        "colab_type": "text"
      },
      "cell_type": "markdown",
      "source": [
        "1+1"
      ]
    },
    {
      "metadata": {
        "id": "uEPaO83neq9O",
        "colab_type": "text"
      },
      "cell_type": "markdown",
      "source": [
        "### 1.3.3 How does native python works?"
      ]
    },
    {
      "metadata": {
        "id": "F5QWOCaIeq9P",
        "colab_type": "text"
      },
      "cell_type": "markdown",
      "source": [
        "<img src=\"https://storage.googleapis.com/bwdb/codeforhk/python_course/image/Screenshot%202019-02-15%20at%209.04.05%20AM.png\" />"
      ]
    },
    {
      "metadata": {
        "id": "tNHM94A0eq9Q",
        "colab_type": "text"
      },
      "cell_type": "markdown",
      "source": [
        "#### Exercise 1.3.3 How does native python works\n",
        "\n"
      ]
    },
    {
      "metadata": {
        "id": "pmFRHQ_Seq9R",
        "colab_type": "text"
      },
      "cell_type": "markdown",
      "source": [
        "1) For mac users, type \"command space\" & search for \"terminal\". Then type \"python3\" to get to your python terminal.\n",
        "\n",
        "2) For window uses, you would need to set your environmental variable to do so.\n",
        "\n",
        "3) Try to run \"helloworld.py\" by running \"python3 helloworld.py\""
      ]
    },
    {
      "metadata": {
        "id": "j3Xht8Y5eq9R",
        "colab_type": "text"
      },
      "cell_type": "markdown",
      "source": [
        "### 1.3.4 How does Colab works?"
      ]
    },
    {
      "metadata": {
        "id": "MEDm0bF-eq9S",
        "colab_type": "text"
      },
      "cell_type": "markdown",
      "source": [
        "### 1.3.5 How does Github works?"
      ]
    },
    {
      "metadata": {
        "collapsed": true,
        "id": "-s1zEsACeq9T",
        "colab_type": "code",
        "colab": {}
      },
      "cell_type": "code",
      "source": [
        ""
      ],
      "execution_count": 0,
      "outputs": []
    },
    {
      "metadata": {
        "id": "QbCSljwYeq9V",
        "colab_type": "text"
      },
      "cell_type": "markdown",
      "source": [
        "## 1.4.0 How does a computer/programming work?"
      ]
    },
    {
      "metadata": {
        "id": "_VJVTVx6eq9V",
        "colab_type": "text"
      },
      "cell_type": "markdown",
      "source": [
        "### 1.4.1 Programming is all about problem solving"
      ]
    },
    {
      "metadata": {
        "id": "u7xJeopUeq9W",
        "colab_type": "text"
      },
      "cell_type": "markdown",
      "source": [
        "<img src=\"https://cs50.harvard.edu/college/weeks/0/notes/input_output.png\" />\n"
      ]
    },
    {
      "metadata": {
        "id": "jHZmko0Eeq9X",
        "colab_type": "text"
      },
      "cell_type": "markdown",
      "source": [
        "### 1.4.2 Programming is to think about the steps\n",
        "\n"
      ]
    },
    {
      "metadata": {
        "id": "xboB1hwUeq9X",
        "colab_type": "text"
      },
      "cell_type": "markdown",
      "source": [
        "![Image of Yaktocat](https://storage.googleapis.com/bwdb/acceleratehk_DSML/class_1/ds13.png)"
      ]
    },
    {
      "metadata": {
        "id": "hiQ73G2Zeq9Z",
        "colab_type": "text"
      },
      "cell_type": "markdown",
      "source": [
        "![Image of Yaktocat](https://storage.googleapis.com/bwdb/acceleratehk_DSML/class_1/ds14.png)"
      ]
    },
    {
      "metadata": {
        "id": "Y3TzmFS1eq9a",
        "colab_type": "text"
      },
      "cell_type": "markdown",
      "source": [
        "#### Example 1.4.2 Programming is to think about the steps \n",
        "How do give instruction to computer to make a toast?"
      ]
    },
    {
      "metadata": {
        "collapsed": true,
        "id": "p3byEwkseq9a",
        "colab_type": "text"
      },
      "cell_type": "markdown",
      "source": [
        "<img src=\"https://www.wikihow.com/images/thumb/4/45/Make-Buttered-Toast-Step-14-Version-2.jpg/aid599255-v4-728px-Make-Buttered-Toast-Step-14-Version-2.jpg\" />\n"
      ]
    },
    {
      "metadata": {
        "id": "t8kElCcXeq9b",
        "colab_type": "text"
      },
      "cell_type": "markdown",
      "source": [
        "define bread, peanut butter, jelly\n",
        "\n",
        "1) Get a piece of bread\n",
        "\n",
        "2) Spread peanut butter on it\n",
        "\n",
        "3) Get another piece of bread\n",
        "\n",
        "4) Spread jelly on it\n",
        "\n",
        "5) Put the two pieces of bread together\n",
        "\n",
        "6) Eat it!"
      ]
    },
    {
      "metadata": {
        "id": "GQVnbwPgeq9c",
        "colab_type": "text"
      },
      "cell_type": "markdown",
      "source": [
        "#### Exercise 1.4.2 Programming is to think about the steps \n",
        "\n",
        "How to give instruction to computer to make a tea?"
      ]
    },
    {
      "metadata": {
        "id": "8oQPcoVkeq9c",
        "colab_type": "text"
      },
      "cell_type": "markdown",
      "source": [
        "<img src=\"http://m1.wish.co.uk/blog/wp-content/uploads/2014/10/lovetea.jpg\" />\n"
      ]
    },
    {
      "metadata": {
        "id": "Qvm5ip48eq9e",
        "colab_type": "text"
      },
      "cell_type": "markdown",
      "source": [
        "#### Example 1.4.3 - solve problems in block-wise/step-wise approach\n",
        "\n",
        "To make this into a code format, try to solve this\n",
        "https://studio.code.org/hoc/1"
      ]
    },
    {
      "metadata": {
        "id": "t6Sn2Y_leq9e",
        "colab_type": "text"
      },
      "cell_type": "markdown",
      "source": [
        "#### Exercise 1.4.3\n",
        "\n",
        "Try to complete challenge 2-5"
      ]
    },
    {
      "metadata": {
        "id": "4E6WIGIueq9f",
        "colab_type": "code",
        "colab": {},
        "outputId": "b03a16af-1137-47a2-b108-d09ac6b87e80"
      },
      "cell_type": "code",
      "source": [
        "for i in range(2,6):\n",
        "    print('https://studio.code.org/hoc/'+str(i))"
      ],
      "execution_count": 0,
      "outputs": [
        {
          "output_type": "stream",
          "text": [
            "https://studio.code.org/hoc/2\n",
            "https://studio.code.org/hoc/3\n",
            "https://studio.code.org/hoc/4\n",
            "https://studio.code.org/hoc/5\n"
          ],
          "name": "stdout"
        }
      ]
    },
    {
      "metadata": {
        "id": "F6FUnWpbeq9j",
        "colab_type": "code",
        "colab": {},
        "outputId": "806cb90b-9a1b-4a34-e922-dfbe61c9d7c8"
      },
      "cell_type": "code",
      "source": [
        "# Anything that begins with \"#\" is a comment\n",
        "# Try click on this box. You can edit and write this box like any notepad (Try it!)\n",
        "\n",
        "# You can execute the cell by Shift+Enter\n",
        "print('hello! This is the first time you execute a python code!')"
      ],
      "execution_count": 0,
      "outputs": [
        {
          "output_type": "stream",
          "text": [
            "hello! This is the first time you execute a python code!\n"
          ],
          "name": "stdout"
        }
      ]
    },
    {
      "metadata": {
        "id": "jgz2pT6seq9m",
        "colab_type": "code",
        "colab": {},
        "outputId": "5d7df9ca-153d-484c-b2c6-a2e915bd7050"
      },
      "cell_type": "code",
      "source": [
        "# By clicking shift + enter, jupyter notebook brings you to the next cell. Now try Ctrl + Enter\n",
        "print('Ctrl + Enter execute the cell, and stay in the cell')"
      ],
      "execution_count": 0,
      "outputs": [
        {
          "output_type": "stream",
          "text": [
            "Ctrl + Enter execute the cell, and stay in the cell\n"
          ],
          "name": "stdout"
        }
      ]
    },
    {
      "metadata": {
        "collapsed": true,
        "id": "xd8cRngCeq9o",
        "colab_type": "code",
        "colab": {}
      },
      "cell_type": "code",
      "source": [
        "#Now click on this cell. Try click on the edge of the cell, then type a. You just created an empty cell above this cell.\n",
        "#Now, try the same and click b. You just created a cell below.\n",
        "# To delete a cell, click the cell and type dd. I don't recommend you to do that now though....\n"
      ],
      "execution_count": 0,
      "outputs": []
    },
    {
      "metadata": {
        "id": "K888jk0Teq9r",
        "colab_type": "text"
      },
      "cell_type": "markdown",
      "source": [
        "\n"
      ]
    },
    {
      "metadata": {
        "id": "IXb0tBvheq9s",
        "colab_type": "text"
      },
      "cell_type": "markdown",
      "source": [
        "## Test 1.0.0\n",
        "\n",
        "https://goo.gl/forms/MNvu81mO1SOx7AVu2"
      ]
    },
    {
      "metadata": {
        "id": "IeaudazMeq9t",
        "colab_type": "text"
      },
      "cell_type": "markdown",
      "source": [
        "<img src=\"https://www.codefor.hk/wp-content/themes/DC_CUSTOM_THEME/img/logo-code-for-hk-logo.svg\" height=\"150\" width=\"150\"  align=\"center\"/>"
      ]
    },
    {
      "metadata": {
        "id": "pRGo6doPeq9u",
        "colab_type": "text"
      },
      "cell_type": "markdown",
      "source": [
        "# 2.0.0 Python basics\n",
        "\n",
        "To start learning python, you would need to learn the syntax. You can think syntax as equivalent to grammar in natural language - it is the rule you write the language, so python understand you correctly!\n",
        "\n",
        "Python is an object oriented language - everything is stored as an object"
      ]
    },
    {
      "metadata": {
        "id": "-aIIFibXeq9v",
        "colab_type": "text"
      },
      "cell_type": "markdown",
      "source": [
        "<img src=\"http://www.lanl.gov/museum/events/calendar/2015/June/_images/dday.jpg\"/>\n"
      ]
    },
    {
      "metadata": {
        "id": "JScpQ0mGeq9x",
        "colab_type": "text"
      },
      "cell_type": "markdown",
      "source": [
        "## 2.1.0 Understanding Python as an Object Oriented Language"
      ]
    },
    {
      "metadata": {
        "id": "QutuEZ6Zeq9y",
        "colab_type": "text"
      },
      "cell_type": "markdown",
      "source": [
        "Everything in Python is an object. Still, this begs the question. What is an object? You can think of it like a variables in mathematics. You can assign any value to this variable. E.g, you can assign:\n",
        "\n",
        "* x = 1\n",
        "* cristano_ronaldo = 'a footballer'\n",
        "* Ultimate_answer_for_everything = 42\n",
        "\n",
        "Why do we want to do this? Because it is a clean and efficient way to manage a large amount of information, especially when the program starts to grow very large. It is sort of like the naming system for military operation or typhoon. For example, It is way cleaner to call it d-day than \"normandy landing in June 6 1944. \n",
        "\n",
        "* d_day = \"normandy landing in June 6 1944\"\n",
        "* hato = 'the #10 typhoon that hits macau in August 2017'\n",
        "\n",
        "In python, it means any value can be assigned to a variable/object, or passed as an argument to a function. (Don't worry about function for now)\n",
        "\n",
        "This is so important that I'm going to repeat it in case you missed it the first few times: everything in Python is an object. Strings are objects. Lists are objects. Functions are objects. Even modules are objects.\n"
      ]
    },
    {
      "metadata": {
        "id": "IfWfAUgneq9z",
        "colab_type": "text"
      },
      "cell_type": "markdown",
      "source": [
        "### 2.1.1 Assign value to an object. \n",
        "Use \"=\" to assign a value to an object. Let's say we want to assign the value 1 to x, then execute the cell by CTRL+ENTER"
      ]
    },
    {
      "metadata": {
        "collapsed": true,
        "id": "1yfewqcLeq90",
        "colab_type": "code",
        "colab": {}
      },
      "cell_type": "code",
      "source": [
        "#Let's say assign the value 1 to x, then execute the cell by CTRL+ENTER\n",
        "x = 1\n",
        "#From now on, python recognise x is equal to 1"
      ],
      "execution_count": 0,
      "outputs": []
    },
    {
      "metadata": {
        "id": "g7kBoTwzeq93",
        "colab_type": "text"
      },
      "cell_type": "markdown",
      "source": [
        " Don't put x on the right & do it the other way round! 1=x would give you an error, because python thinks you are assigning x to the integer 1"
      ]
    },
    {
      "metadata": {
        "id": "Dx_iejEteq93",
        "colab_type": "code",
        "colab": {},
        "outputId": "f101cbb4-4094-46b5-cd89-7c3bdc0a527a"
      },
      "cell_type": "code",
      "source": [
        "# This will create an error, called \"SyntaxError\". It means python doesn't understand it! \n",
        "#(You should see this very often from now on)\n",
        "1 = x"
      ],
      "execution_count": 0,
      "outputs": [
        {
          "output_type": "error",
          "ename": "SyntaxError",
          "evalue": "can't assign to literal (<ipython-input-10-3cf750b9bc2c>, line 3)",
          "traceback": [
            "\u001b[0;36m  File \u001b[0;32m\"<ipython-input-10-3cf750b9bc2c>\"\u001b[0;36m, line \u001b[0;32m3\u001b[0m\n\u001b[0;31m    1 = x\u001b[0m\n\u001b[0m         ^\u001b[0m\n\u001b[0;31mSyntaxError\u001b[0m\u001b[0;31m:\u001b[0m can't assign to literal\n"
          ]
        }
      ]
    },
    {
      "metadata": {
        "id": "YP3HgxS9eq96",
        "colab_type": "text"
      },
      "cell_type": "markdown",
      "source": [
        "The value executed will be stored in the memory.  From now on x = 1. You can try execute the cell below, it should return 1, telling you the value of x is 1"
      ]
    },
    {
      "metadata": {
        "collapsed": true,
        "id": "0mcQrbtaeq96",
        "colab_type": "code",
        "colab": {}
      },
      "cell_type": "code",
      "source": [
        "x #try execute me!"
      ],
      "execution_count": 0,
      "outputs": []
    },
    {
      "metadata": {
        "id": "LD4euE4Seq98",
        "colab_type": "text"
      },
      "cell_type": "markdown",
      "source": [
        "<img src=\"https://tse1.mm.bing.net/th?id=OIP.I7QCS0SfLtoGA-q81cFbygEsEf&w=199&h=190&c=7&qlt=90&o=4&dpr=2&pid=1.7\"/>\n"
      ]
    },
    {
      "metadata": {
        "id": "0_lrp6Uveq99",
        "colab_type": "text"
      },
      "cell_type": "markdown",
      "source": [
        "### 2.1.2 Python is case-sensitive!\n",
        "Try wih capital X? What would you expect? Will the value be the same?"
      ]
    },
    {
      "metadata": {
        "collapsed": true,
        "id": "SO9R_dPWeq9-",
        "colab_type": "code",
        "colab": {}
      },
      "cell_type": "code",
      "source": [
        "X"
      ],
      "execution_count": 0,
      "outputs": []
    },
    {
      "metadata": {
        "id": "CLs3C6qxeq-B",
        "colab_type": "text"
      },
      "cell_type": "markdown",
      "source": [
        "### 2.1.3 You can re-assign the value for an object. \n",
        "Let's try to assign another value for x"
      ]
    },
    {
      "metadata": {
        "collapsed": true,
        "id": "nRYvgumfeq-C",
        "colab_type": "code",
        "colab": {}
      },
      "cell_type": "code",
      "source": [
        "# You can assign anything to the variable. \n",
        "x = 'an expensive iphone'"
      ],
      "execution_count": 0,
      "outputs": []
    },
    {
      "metadata": {
        "id": "_jZEML1heq-G",
        "colab_type": "text"
      },
      "cell_type": "markdown",
      "source": [
        "### 2.1.4 The value of the object changes everytime you re-assign\n",
        "\n",
        "Now, try to execute x again on the cell below? You can also try to execute the cell 1.03 above. What would you expect?"
      ]
    },
    {
      "metadata": {
        "collapsed": true,
        "id": "jJQjjWDEeq-I",
        "colab_type": "code",
        "colab": {}
      },
      "cell_type": "code",
      "source": [
        "x"
      ],
      "execution_count": 0,
      "outputs": []
    },
    {
      "metadata": {
        "id": "8l9Ox5nEeq-N",
        "colab_type": "text"
      },
      "cell_type": "markdown",
      "source": [
        "#### Exercise 2.1.4  \n",
        "\n",
        "What is the value of x?"
      ]
    },
    {
      "metadata": {
        "collapsed": true,
        "id": "5VeqgQIJeq-O",
        "colab_type": "code",
        "colab": {}
      },
      "cell_type": "code",
      "source": [
        "x = 1\n",
        "x = 1 + x\n",
        "print(x)\n",
        "#what is X now?"
      ],
      "execution_count": 0,
      "outputs": []
    },
    {
      "metadata": {
        "id": "9gkdE9cjeq-S",
        "colab_type": "text"
      },
      "cell_type": "markdown",
      "source": [
        "A Python Code Sample"
      ]
    },
    {
      "metadata": {
        "scrolled": true,
        "id": "rph6Ku-Oeq-T",
        "colab_type": "code",
        "colab": {},
        "outputId": "75f5ddff-4a7d-4a07-8e1e-1e835c62e67c"
      },
      "cell_type": "code",
      "source": [
        "x = 34 - 23  # These are discrete integers, x is a variable assinged to the math equation 34 - 23, = is an assignement operator \n",
        "             #(Hash) here can be used to add comments, without affecting the code. Python won't read comments as part of the code\n",
        "\n",
        "y = \"Hello\"  # This is an example of a string. The alphabets between \" \" are strings. \" Denotes that we are working with strings\n",
        "\n",
        "z = 3.45     # z is a variable where 3.45, a continous number, is assigned to it. In Python we call this type as floats\n",
        "\n",
        "if z == 3.45 or y == \"Hello\": # == is a comparison operator i.e. is z equal to 3.45 true? and is y equal to \"Hello\" true? In this\n",
        "                              # case yes. So we move down the if statement assigning x = x + 1 and y = y + \"World\"  \n",
        "    x = x + 1                 # \"if\" statement is a loop where if the statement is true we move down the loop and execute the \n",
        "                              # code. Otherwise we stay out of the loop. Notice the indentation in the if loop. It clearly, shows\n",
        "y = y + \"World\"               # if z == 3.45 or y == \"Hello\": we move into the loop to execute x = x + 1, y = y + \"World\"\n",
        "                              # Don't forget to put the \":\" at the end of the if statement, otherwise, Python will give you an\n",
        "                              # error\n",
        "                              # Python will give x = x + 1 a discrete value. That's one of the amazing features of Python, unlike\n",
        "                              # other computer languages, where it can indentify what type of variable you are trying to add an\n",
        "                              # integer to. In this case it knows x a is discrete value so it will condiser 1 to be a discrete \n",
        "                              # addition to x. With y = y + \"World\", python knows y is a string so \"World\" gets added to the\n",
        "                              # y string type.\n",
        "x = 1 #this is a comment \n",
        "x"
      ],
      "execution_count": 0,
      "outputs": [
        {
          "output_type": "execute_result",
          "data": {
            "text/plain": [
              "1"
            ]
          },
          "metadata": {
            "tags": []
          },
          "execution_count": 4
        }
      ]
    },
    {
      "metadata": {
        "id": "MYMTDFUyeq-V",
        "colab_type": "text"
      },
      "cell_type": "markdown",
      "source": [
        "### 2.1.5 How to seek help in python\n",
        "\n",
        "You can use dir() or ? to seek help in python"
      ]
    },
    {
      "metadata": {
        "collapsed": true,
        "id": "EjdvYRzveq-X",
        "colab_type": "code",
        "colab": {}
      },
      "cell_type": "code",
      "source": [
        "## dir() gives information on the attributes of an object \n",
        "dir(wiki)\n",
        "## to learn more about something we can use help()\n",
        "help(wiki.replace)\n",
        "## or the fancy ipython version \"?\"\n",
        "wiki.replace?"
      ],
      "execution_count": 0,
      "outputs": []
    },
    {
      "metadata": {
        "id": "xwESnp52eq-c",
        "colab_type": "text"
      },
      "cell_type": "markdown",
      "source": [
        "## 2.2.0 Data type in python (Integer, Float, String)"
      ]
    },
    {
      "metadata": {
        "id": "5DKaMx0Xeq-d",
        "colab_type": "text"
      },
      "cell_type": "markdown",
      "source": [
        "### 2.2.1 integer\n",
        "Integer is literally, the integer, e.g 1,2,3,4. You can use type() to check the data type of the variable"
      ]
    },
    {
      "metadata": {
        "collapsed": true,
        "id": "4fDgjqF7eq-f",
        "colab_type": "code",
        "colab": {}
      },
      "cell_type": "code",
      "source": [
        "y = 2\n",
        "type(y)"
      ],
      "execution_count": 0,
      "outputs": []
    },
    {
      "metadata": {
        "id": "1quwCZaceq-g",
        "colab_type": "text"
      },
      "cell_type": "markdown",
      "source": [
        "You can also check the data type directly"
      ]
    },
    {
      "metadata": {
        "collapsed": true,
        "id": "zvUsNNOSeq-h",
        "colab_type": "code",
        "colab": {}
      },
      "cell_type": "code",
      "source": [
        "type(2)"
      ],
      "execution_count": 0,
      "outputs": []
    },
    {
      "metadata": {
        "id": "heuyIVbWeq-j",
        "colab_type": "text"
      },
      "cell_type": "markdown",
      "source": [
        "### 2.2.2 Float\n",
        "Float is also a number. However float contains more information because it contains decimal place"
      ]
    },
    {
      "metadata": {
        "collapsed": true,
        "id": "hza4JY2Ieq-k",
        "colab_type": "code",
        "colab": {}
      },
      "cell_type": "code",
      "source": [
        "z = 3.1416\n",
        "type(z)"
      ],
      "execution_count": 0,
      "outputs": []
    },
    {
      "metadata": {
        "id": "d4vrusrUeq-l",
        "colab_type": "text"
      },
      "cell_type": "markdown",
      "source": [
        "You can use int() to transform float to integer, or float() to transform integer to float"
      ]
    },
    {
      "metadata": {
        "collapsed": true,
        "id": "EvGpVCqneq-m",
        "colab_type": "code",
        "colab": {}
      },
      "cell_type": "code",
      "source": [
        "int(z)"
      ],
      "execution_count": 0,
      "outputs": []
    },
    {
      "metadata": {
        "id": "bJ4QBNrCeq-n",
        "colab_type": "text"
      },
      "cell_type": "markdown",
      "source": [
        "### 2.2.3 String\n",
        "String can be any character you can find on the keyboard, as long as it can be bound within \" or '."
      ]
    },
    {
      "metadata": {
        "collapsed": true,
        "id": "hlBN4tREeq-o",
        "colab_type": "code",
        "colab": {}
      },
      "cell_type": "code",
      "source": [
        "this_is_a_string = 'Patrick'\n",
        "this_is_also_a_string = \"$%%^&*()njfnksdjfsdyftuy32uygsjdhfbmnasd\"\n",
        "number_can_also_be_string = \"123456\""
      ],
      "execution_count": 0,
      "outputs": []
    },
    {
      "metadata": {
        "collapsed": true,
        "id": "UVqpGsx7eq-p",
        "colab_type": "code",
        "colab": {}
      },
      "cell_type": "code",
      "source": [
        "#Anything within a \" or ' will be a string\n",
        "myname = \"Patrick\"\n",
        "type(myname)"
      ],
      "execution_count": 0,
      "outputs": []
    },
    {
      "metadata": {
        "id": "EoOZHVM_eq-q",
        "colab_type": "text"
      },
      "cell_type": "markdown",
      "source": [
        "String can be concatenated by using +"
      ]
    },
    {
      "metadata": {
        "collapsed": true,
        "id": "yn4mi2QFeq-r",
        "colab_type": "code",
        "colab": {}
      },
      "cell_type": "code",
      "source": [
        "#example\n",
        "firstname  = 'Cristiano'\n",
        "lastname = 'Ronaldo'\n",
        "\n",
        "fullname = firstname + lastname\n",
        "fullname"
      ],
      "execution_count": 0,
      "outputs": []
    },
    {
      "metadata": {
        "id": "MJGSBttweq-t",
        "colab_type": "text"
      },
      "cell_type": "markdown",
      "source": [
        "Remember, string tend to contain less information. It doesn't treat numbers inside a string as numbers. What would you expect to see below?"
      ]
    },
    {
      "metadata": {
        "collapsed": true,
        "id": "sUokonc8eq-t",
        "colab_type": "code",
        "colab": {}
      },
      "cell_type": "code",
      "source": [
        "one = '1'\n",
        "two = '2'\n",
        "one+two"
      ],
      "execution_count": 0,
      "outputs": []
    },
    {
      "metadata": {
        "id": "Qhnw0E20eq-x",
        "colab_type": "text"
      },
      "cell_type": "markdown",
      "source": [
        "You can use str() to transform float or int to string"
      ]
    },
    {
      "metadata": {
        "collapsed": true,
        "id": "XiLISSUEeq-y",
        "colab_type": "code",
        "colab": {}
      },
      "cell_type": "code",
      "source": [
        "float(one) + int(two)"
      ],
      "execution_count": 0,
      "outputs": []
    },
    {
      "metadata": {
        "id": "6PAMHayleq-0",
        "colab_type": "text"
      },
      "cell_type": "markdown",
      "source": [
        "<img src=\"http://ivl-net.eu/wp-content/uploads/2015/04/workshops-chalkboard.jpg\"/>\n"
      ]
    },
    {
      "metadata": {
        "id": "WqgNLVaceq-1",
        "colab_type": "text"
      },
      "cell_type": "markdown",
      "source": [
        "#### Example 2.2.3 - Work out your full name\n",
        "1. Try input your first name and last name in the variable, and work out your full name\n",
        "2. Now, realize there is no space between your name? Can you amend the code so there is a space?\n",
        "3. Type in your age, and assign it as integer to the age variable\n",
        "4. complete the code so it prints out \"[Yourname] is now [age] years old\".\n",
        "e.g Cristiano Ronadlo is now 32 years old"
      ]
    },
    {
      "metadata": {
        "id": "Y3gdAudpeq-2",
        "colab_type": "code",
        "colab": {},
        "outputId": "b4f0aae0-e672-42cf-8c68-1e346f4b986b"
      },
      "cell_type": "code",
      "source": [
        "firstname  = 'cristiano'\n",
        "lastname = 'ronaldo'\n",
        "\n",
        "fullname = firstname + lastname\n",
        "print(fullname)\n",
        "\n",
        "age = 32\n",
        "print(fullname + 'is now ' + str(age))"
      ],
      "execution_count": 0,
      "outputs": [
        {
          "output_type": "stream",
          "text": [
            "cristianoronaldo\n",
            "cristianoronaldois now 32\n"
          ],
          "name": "stdout"
        }
      ]
    },
    {
      "metadata": {
        "id": "6ro-6eVkeq-5",
        "colab_type": "text"
      },
      "cell_type": "markdown",
      "source": [
        "#### Exercise 2.2.3 - Work out your full name"
      ]
    },
    {
      "metadata": {
        "collapsed": true,
        "id": "CrUIxDMYeq-5",
        "colab_type": "code",
        "colab": {}
      },
      "cell_type": "code",
      "source": [
        "#exercise: Try input your first name and last name in the variable\n",
        "\n",
        "firstname  = ''\n",
        "lastname = ''\n",
        "\n",
        "fullname = firstname + lastname\n",
        "print(fullname)\n",
        "\n",
        "#How do we add a space in between?\n",
        "\n",
        "age = 32\n",
        "print(fullname + ' is now ' str(age) + 'years old.')"
      ],
      "execution_count": 0,
      "outputs": []
    },
    {
      "metadata": {
        "id": "JX6NSV7Ieq-8",
        "colab_type": "text"
      },
      "cell_type": "markdown",
      "source": [
        "### 2.2.4 Object can be of any data type\n",
        "\n",
        "Try execute the cell below"
      ]
    },
    {
      "metadata": {
        "collapsed": true,
        "id": "Ir2n9C-6eq-8",
        "colab_type": "code",
        "colab": {}
      },
      "cell_type": "code",
      "source": [
        "x = 1\n",
        "print(x)\n",
        "\n",
        "house_price = 100\n",
        "print(house_price)\n",
        "\n",
        "girlfriend = 'pretty'\n",
        "print(girlfriend)"
      ],
      "execution_count": 0,
      "outputs": []
    },
    {
      "metadata": {
        "collapsed": true,
        "id": "G4PZXjP9eq--",
        "colab_type": "code",
        "colab": {}
      },
      "cell_type": "code",
      "source": [
        "girlfriend"
      ],
      "execution_count": 0,
      "outputs": []
    },
    {
      "metadata": {
        "id": "WlDvGqjIeq_B",
        "colab_type": "text"
      },
      "cell_type": "markdown",
      "source": [
        "### 2.2.5 Reserved words \n",
        "\n",
        "There are a bunch of words that you are not allowed to use\n",
        "This is because they have special meanings in python"
      ]
    },
    {
      "metadata": {
        "id": "KYKL4TCqeq_C",
        "colab_type": "text"
      },
      "cell_type": "markdown",
      "source": [
        "https://www.programiz.com/python-programming/keywords-identifier"
      ]
    },
    {
      "metadata": {
        "collapsed": true,
        "id": "KSKK32tHeq_C",
        "colab_type": "code",
        "colab": {}
      },
      "cell_type": "code",
      "source": [
        "# Don't use these words!! They have special meanings\n",
        "False\n",
        "None\n",
        "and\n",
        "if\n",
        "for\n",
        "from\n",
        "import\n",
        "as\n",
        "is\n",
        "in"
      ],
      "execution_count": 0,
      "outputs": []
    },
    {
      "metadata": {
        "id": "8SuFhWOUeq_G",
        "colab_type": "text"
      },
      "cell_type": "markdown",
      "source": [
        "## 2.2.0 Python mathematics operations"
      ]
    },
    {
      "metadata": {
        "id": "oIfoiGe0eq_H",
        "colab_type": "text"
      },
      "cell_type": "markdown",
      "source": [
        "### 2.2.1 Sum"
      ]
    },
    {
      "metadata": {
        "id": "5w53ntWteq_H",
        "colab_type": "text"
      },
      "cell_type": "markdown",
      "source": [
        "<img src=\"https://i-cdn.phonearena.com/images/article/98010-thumb/The-fall-2017-Apple-iPhone-lineup-we-now-have-8-iPhones-to-choose-from-more-than-ever-before.jpg\"/>"
      ]
    },
    {
      "metadata": {
        "id": "TTJOZJdneq_I",
        "colab_type": "text"
      },
      "cell_type": "markdown",
      "source": [
        "#### Example 2.2.1 "
      ]
    },
    {
      "metadata": {
        "collapsed": true,
        "id": "_auCVzzTeq_J",
        "colab_type": "code",
        "colab": {}
      },
      "cell_type": "code",
      "source": [
        "#you can use it like a calculator. Try 6+7? you should be expecting 13?\n",
        "6+7"
      ],
      "execution_count": 0,
      "outputs": []
    },
    {
      "metadata": {
        "collapsed": true,
        "id": "WT9eB1O0eq_L",
        "colab_type": "code",
        "colab": {}
      },
      "cell_type": "code",
      "source": [
        "#Let's say I want to know how much to does it cost to the buy whole set of iphone\n",
        "iphoneX = 9998\n",
        "airpods = 1288\n",
        "price_for_new_iphone = iphoneX + airpods\n",
        "price_for_new_iphone"
      ],
      "execution_count": 0,
      "outputs": []
    },
    {
      "metadata": {
        "id": "StXbl1toeq_M",
        "colab_type": "text"
      },
      "cell_type": "markdown",
      "source": [
        "#### Exercise 2.2.1 - Cost of Samsung S8\n",
        "Using the previous example, now that samsung s8 cost $5200. \n",
        "1. Assign 5200 to samsung_s8\n",
        "2. Assign 0 to normal_headphone (becoz we already have one)\n",
        "3. findout how much in total to buy samsung s8 & normal_headphone? asign it to variable called price_for_new_samsung"
      ]
    },
    {
      "metadata": {
        "collapsed": true,
        "id": "d18Nq4N3eq_N",
        "colab_type": "code",
        "colab": {}
      },
      "cell_type": "code",
      "source": [
        "#Your code in here!\n",
        "\n"
      ],
      "execution_count": 0,
      "outputs": []
    },
    {
      "metadata": {
        "id": "3zJtuP2ieq_O",
        "colab_type": "text"
      },
      "cell_type": "markdown",
      "source": [
        "### 2.3.2 Subtraction"
      ]
    },
    {
      "metadata": {
        "id": "jBaiByqdeq_P",
        "colab_type": "text"
      },
      "cell_type": "markdown",
      "source": [
        "<img src=\"http://na.signwiki.org/images/public/d/db/Subtraction.gif\"/>"
      ]
    },
    {
      "metadata": {
        "id": "HdYdFcdTeq_P",
        "colab_type": "text"
      },
      "cell_type": "markdown",
      "source": [
        "#### Example 2.3.2"
      ]
    },
    {
      "metadata": {
        "collapsed": true,
        "id": "m-ZGLhfOeq_Q",
        "colab_type": "code",
        "colab": {}
      },
      "cell_type": "code",
      "source": [
        "# You can also do calculation like excel\n",
        "6-7\n",
        "11-9"
      ],
      "execution_count": 0,
      "outputs": []
    },
    {
      "metadata": {
        "collapsed": true,
        "id": "6mpX2Rgweq_R",
        "colab_type": "code",
        "colab": {}
      },
      "cell_type": "code",
      "source": [
        "## read interactive input \n",
        "a = input(\"enter the first number: \" )\n",
        "b = input(\"enter the second number: \")\n"
      ],
      "execution_count": 0,
      "outputs": []
    },
    {
      "metadata": {
        "collapsed": true,
        "id": "xE7AOvQdeq_S",
        "colab_type": "code",
        "colab": {}
      },
      "cell_type": "code",
      "source": [
        "#example\n",
        "\n",
        "#Assign 2017 to a variable called THISYEAR, \n",
        "THISYEAR = 2017\n",
        "#Assign the year of your birthday to  a variable called BIRTHYEAR\n",
        "BIRTHYEAR =    \n",
        "\n",
        "#work out your age by substracting BIRTHYEAR by THISYEAR\n",
        "age = THISYEAR-BIRTHYEAR\n",
        "print(age)"
      ],
      "execution_count": 0,
      "outputs": []
    },
    {
      "metadata": {
        "id": "cjh9cLVeeq_T",
        "colab_type": "text"
      },
      "cell_type": "markdown",
      "source": [
        "<img src=\"http://cdn1.knowyourmobile.com/sites/knowyourmobilecom/files/styles/gallery_wide/public/2016/02/screen_shot_2016-02-22_at_4.48.09_pm.jpg?itok=H2I28t7Q\"/>\n",
        "\n"
      ]
    },
    {
      "metadata": {
        "id": "cVa4D96peq_U",
        "colab_type": "text"
      },
      "cell_type": "markdown",
      "source": [
        "#### Exercise 2.3.2  - Iphone vs Samsung\n",
        "Using the previous example, you have the price to buy samsung s8. Find out how much more expensive are iphone, compare to samsung?\n",
        "1. Create a new object called price_for_new_samsung\n",
        "2. we already have an object called price_for_new_iphone\n",
        "3. execute price_for_new_iphone - price_for_new_samsung, and assign to a variable called \"money_saved\"\n"
      ]
    },
    {
      "metadata": {
        "id": "CAFydVuxeq_U",
        "colab_type": "code",
        "colab": {}
      },
      "cell_type": "code",
      "source": [
        "#Your code in here!\n",
        "price_for_new_samsung = '2000'\n",
        "price_for_new_iphone = '3000'\n",
        "\n"
      ],
      "execution_count": 0,
      "outputs": []
    },
    {
      "metadata": {
        "id": "6EgP_u5oeq_V",
        "colab_type": "text"
      },
      "cell_type": "markdown",
      "source": [
        "### 2.3.3 multiplication"
      ]
    },
    {
      "metadata": {
        "id": "gUQbPbHOeq_W",
        "colab_type": "text"
      },
      "cell_type": "markdown",
      "source": [
        "#### Example 2.3.3 "
      ]
    },
    {
      "metadata": {
        "id": "E_o88a3ieq_X",
        "colab_type": "code",
        "colab": {},
        "outputId": "6043926c-6158-4bde-85f3-40820d56cf33"
      },
      "cell_type": "code",
      "source": [
        "7*6"
      ],
      "execution_count": 0,
      "outputs": [
        {
          "output_type": "execute_result",
          "data": {
            "text/plain": [
              "42"
            ]
          },
          "metadata": {
            "tags": []
          },
          "execution_count": 30
        }
      ]
    },
    {
      "metadata": {
        "id": "C854QC8Qeq_a",
        "colab_type": "code",
        "colab": {},
        "outputId": "c8a1f3e4-9c4c-4d19-dcc1-3fb0a6c87eed"
      },
      "cell_type": "code",
      "source": [
        "#exercise\n",
        "\n",
        "#let's assign 7.8 to a variable called exchange_rate\n",
        "exchange_rate = 7.8\n",
        "#Assign 100 to a variable called usd\n",
        "usd = 100   \n",
        "\n",
        "#workout how much hkd is worth of 100 usd\n",
        "hkd = exchange_rate*usd\n",
        "print(hkd)"
      ],
      "execution_count": 0,
      "outputs": [
        {
          "output_type": "stream",
          "text": [
            "780.0\n"
          ],
          "name": "stdout"
        }
      ]
    },
    {
      "metadata": {
        "id": "VdxxwBf3eq_b",
        "colab_type": "text"
      },
      "cell_type": "markdown",
      "source": [
        "#### Exercise 2.2.3 - HKD & USD\n",
        "Using the previous example, can you try to convert hkd back to usd?"
      ]
    },
    {
      "metadata": {
        "id": "SFyqRAGceq_c",
        "colab_type": "code",
        "colab": {},
        "outputId": "7b5ce96d-5eae-4b93-f3e0-94ce2b802b27"
      },
      "cell_type": "code",
      "source": [
        "#your code here!\n",
        "exchange_rate = 1/7.8\n",
        "hkd = 780\n",
        "\n",
        "usd = exchange_rate*hkd\n",
        "\n",
        "print(usd)"
      ],
      "execution_count": 0,
      "outputs": [
        {
          "output_type": "stream",
          "text": [
            "100.00000000000001\n"
          ],
          "name": "stdout"
        }
      ]
    },
    {
      "metadata": {
        "id": "Ekg_RLTueq_f",
        "colab_type": "text"
      },
      "cell_type": "markdown",
      "source": [
        "### 2.3.4 Divison"
      ]
    },
    {
      "metadata": {
        "collapsed": true,
        "id": "5wihypkjeq_f",
        "colab_type": "code",
        "colab": {}
      },
      "cell_type": "code",
      "source": [
        "\n",
        "## note that we are doing calculation among integers\n",
        "6/7\n",
        "## let's make sure that the interpreter understands we want to use floating point\n",
        "6./7\n",
        "## You don't need to define the type of variable. The interpreter will guess.\n",
        "a=6\n",
        "b=7\n",
        "print(a*b , a+b, a-b, a/b) \n",
        "\n",
        "## As in the previous example, if one element is floating point, the interpreter will do an automatic cast\n",
        "print \n",
        "a=6.   ## this is now float\n",
        "b=7\n",
        "print(a*b , a+b, a-b, a/b) "
      ],
      "execution_count": 0,
      "outputs": []
    },
    {
      "metadata": {
        "id": "6qSWfivneq_g",
        "colab_type": "text"
      },
      "cell_type": "markdown",
      "source": [
        "### 2.3.5 Logical operation in python\n",
        "Play around with logic!"
      ]
    },
    {
      "metadata": {
        "id": "as4w366Ieq_h",
        "colab_type": "text"
      },
      "cell_type": "markdown",
      "source": [
        " == means checking whether if they equal"
      ]
    },
    {
      "metadata": {
        "collapsed": true,
        "id": "AmTx38_xeq_h",
        "colab_type": "code",
        "colab": {}
      },
      "cell_type": "code",
      "source": [
        "x = 1\n",
        "x ==1 # Check if x equals one"
      ],
      "execution_count": 0,
      "outputs": []
    },
    {
      "metadata": {
        "id": "VTFctkyEeq_i",
        "colab_type": "text"
      },
      "cell_type": "markdown",
      "source": [
        " != means check if they don't equal"
      ]
    },
    {
      "metadata": {
        "id": "bud-sIW-eq_j",
        "colab_type": "code",
        "colab": {},
        "outputId": "89b940f0-ad12-43be-d676-93055b6a0bc4"
      },
      "cell_type": "code",
      "source": [
        "!=1"
      ],
      "execution_count": 0,
      "outputs": [
        {
          "output_type": "stream",
          "text": [
            "/bin/sh: 1: =1: not found\r\n"
          ],
          "name": "stdout"
        }
      ]
    },
    {
      "metadata": {
        "collapsed": true,
        "id": "MRABeOZ8eq_k",
        "colab_type": "code",
        "colab": {}
      },
      "cell_type": "code",
      "source": [
        "## Some basic logic operators \n",
        "a = 2 \n",
        "b = 3 \n",
        "print \"a = \" ,a \n",
        "print \"b = \" ,b\n",
        "\n",
        "## == stands for \"is equal to\"  \n",
        "## be careful and do not confuse \n",
        "## ==  which is an operator that compares the two operand\n",
        "## with = , which is an assignment operator.\n",
        "print \"a == b is \" , a == b \n",
        "\n",
        "## != \"not equal to\" \n",
        "print \"a != b is \" , a != b \n",
        "\n",
        "## greater and smaller than\n",
        "print \"a < b is \" , a < b \n",
        "print \"a > b is \" , a > b\n",
        "\n",
        "## the basic boolean types.\n",
        "print \"True is ... well ... \" , True\n",
        "print  \"...and obviously False is \" , False "
      ],
      "execution_count": 0,
      "outputs": []
    },
    {
      "metadata": {
        "id": "Cw6i4WiAeq_n",
        "colab_type": "text"
      },
      "cell_type": "markdown",
      "source": [
        " \">\" and \"<\" means bigger or smaller"
      ]
    },
    {
      "metadata": {
        "collapsed": true,
        "id": "tjIHT5BYeq_o",
        "colab_type": "code",
        "colab": {}
      },
      "cell_type": "code",
      "source": [
        "iphone = 9000\n",
        "samsung = 5000\n",
        "iphone > samsung"
      ],
      "execution_count": 0,
      "outputs": []
    },
    {
      "metadata": {
        "id": "sH_XwaZGeq_q",
        "colab_type": "text"
      },
      "cell_type": "markdown",
      "source": [
        "#### Exercise 2.3.5 - check if 1 equals 1.0"
      ]
    },
    {
      "metadata": {
        "id": "QqDh_Inzeq_q",
        "colab_type": "code",
        "colab": {}
      },
      "cell_type": "code",
      "source": [
        "x = 1\n",
        "y = 1.0\n",
        "\n",
        "#Your code here!"
      ],
      "execution_count": 0,
      "outputs": []
    },
    {
      "metadata": {
        "id": "s02P4S-Weq_r",
        "colab_type": "text"
      },
      "cell_type": "markdown",
      "source": [
        "## 2.4.0 Python string / text operations"
      ]
    },
    {
      "metadata": {
        "id": "lS_uJ1x8eq_r",
        "colab_type": "code",
        "colab": {},
        "outputId": "7077cd22-afdf-43d0-acce-c9a926fd6f5c"
      },
      "cell_type": "code",
      "source": [
        "## a string is just a sequence of characters within quotes \"\" or '' \n",
        "mystr1 = \"i am\"\n",
        "mystr2 = 'i am'\n",
        "mystr1==mystr2\n"
      ],
      "execution_count": 0,
      "outputs": [
        {
          "output_type": "execute_result",
          "data": {
            "text/plain": [
              "True"
            ]
          },
          "metadata": {
            "tags": []
          },
          "execution_count": 42
        }
      ]
    },
    {
      "metadata": {
        "id": "v6sIQVYaeq_t",
        "colab_type": "text"
      },
      "cell_type": "markdown",
      "source": [
        "### 2.4.1 String is just text \n",
        "\n",
        "Python can handle long text, or even an entire novel, or even the entire wikipedia!"
      ]
    },
    {
      "metadata": {
        "id": "jlnkdJvbeq_u",
        "colab_type": "code",
        "colab": {},
        "outputId": "fb3cc7b8-cd8b-4435-fef8-5f825a5daf79"
      },
      "cell_type": "code",
      "source": [
        "wiki = \"Python is a widely used high-level programming language for general-purpose programming, created by Guido van Rossum and first released in 1991\"\n",
        "print(wiki)"
      ],
      "execution_count": 0,
      "outputs": [
        {
          "output_type": "stream",
          "text": [
            "Python is a widely used high-level programming language for general-purpose programming, created by Guido van Rossum and first released in 1991\n"
          ],
          "name": "stdout"
        }
      ]
    },
    {
      "metadata": {
        "id": "eod0452beq_w",
        "colab_type": "text"
      },
      "cell_type": "markdown",
      "source": [
        "### 2.4.2 Indexing in string\n",
        "\n",
        "You can navigate each letter in the string by using square brackets and index"
      ]
    },
    {
      "metadata": {
        "id": "WMip739xeq_w",
        "colab_type": "code",
        "colab": {},
        "outputId": "a76aafcc-192d-42dc-8989-c5ebd3e43991"
      },
      "cell_type": "code",
      "source": [
        "print(wiki[3])\n",
        "print(wiki[-1])\n",
        "print(wiki[0:20])"
      ],
      "execution_count": 0,
      "outputs": [
        {
          "output_type": "stream",
          "text": [
            "h\n",
            "1\n",
            "Python is a widely u\n"
          ],
          "name": "stdout"
        }
      ]
    },
    {
      "metadata": {
        "id": "Rl_KMJA8eq_y",
        "colab_type": "text"
      },
      "cell_type": "markdown",
      "source": [
        "### 2.4.3 String related functions\n",
        "\n",
        "Some very useful functions to find characters in strings"
      ]
    },
    {
      "metadata": {
        "collapsed": true,
        "id": "yrTgB-zheq_y",
        "colab_type": "code",
        "colab": {}
      },
      "cell_type": "code",
      "source": [
        "## manipulating strings is very easy \n",
        "\n",
        "## finding the location of a substring\n",
        "print(wiki.find(\"Python\"))\n",
        "\n",
        "## changing to uppercase\n",
        "print(wiki.upper())\n",
        "\n",
        "## replacing substrings\n",
        "print(wiki.replace('high','low'))\n",
        "\n",
        "## these operations do not modify the original string\n",
        "print(wiki)\n",
        "\n",
        "## we can count the occurrences of a letter\n",
        "print(wiki.count('python') )\n",
        "\n",
        "#Lower change all the letters to lower case\n",
        "wiki.lower().count('python')\n",
        "\n",
        "## \"in\" returns a boolean\n",
        "print(\"python\" in wiki)\n",
        "print(\"language\" in wiki)\n",
        "\n",
        "## .split() separates fields \n",
        "print(wiki.split())"
      ],
      "execution_count": 0,
      "outputs": []
    },
    {
      "metadata": {
        "id": "LLNXaxezeq_0",
        "colab_type": "text"
      },
      "cell_type": "markdown",
      "source": [
        "#### Challenge 2.4.3 - Change the shape of the song  \"Shape of you\"\n",
        "1. This is a popular song from Ed Sheeran called shape of you. You can listen to it from the youtube link (please wear your airpods, or plug in your earphone if you are not using iphone)\n",
        "2. Count the occurance of the word \"baby\"\n",
        "3. Count the number of words in the entire lyrics\n",
        "4. Replace \"Oh I oh I oh I oh I \" to something else\n",
        "\n",
        "https://www.azlyrics.com/lyrics/edsheeran/shapeofyou.html\n",
        "\n"
      ]
    },
    {
      "metadata": {
        "id": "ocpGLnb_eq_1",
        "colab_type": "code",
        "colab": {},
        "outputId": "32a478bb-b672-452c-bd63-d83bdc7ad9f8"
      },
      "cell_type": "code",
      "source": [
        "from IPython.display import YouTubeVideo\n",
        "\n",
        "shape_of_you = \"The club isn't the best place to find a lover.  So the bar is where I go (mmmm).  Me and my friends at the table doing shots.  Drinking fast and then we talk slow (mmmm).  And you come over and start up a conversation with just me.  And trust me I'll give it a chance now (mmmm).  Take my hand, stop, put Van The Man on the jukebox.  And then we start to dance.  And now I'm singing like.  .  Girl, you know I want your love.  Your love was handmade for somebody like me.  Come on now, follow my lead.  I may be crazy, don't mind me.  Say, boy, let's not talk too much.  Grab on my waist and put that body on me.  Come on now, follow my lead.  Come, come on now, follow my lead (mmmm).  .  I'm in love with the shape of you.  We push and pull like a magnet do.  Although my heart is falling too.  I'm in love with your body.  Last night you were in my room.  And now my bedsheets smell like you.  Every day discovering something brand new.  I'm in love with your body.  .  Oh I oh I oh I oh I.  I'm in love with your body.  Oh I oh I oh I oh I.  I'm in love with your body.  Oh I oh I oh I oh I.  I'm in love with your body.  Every day discovering something brand new.  I'm in love with the shape of you.  .  One week in we let the story begin.  We're going out on our first date (mmmm).  You and me are thrifty, so go all you can eat.  Fill up your bag and I fill up a plate (mmmm).  We talk for hours and hours about the sweet and the sour.  And how your family is doing okay (mmmm).  And leave and get in a taxi, then kiss in the backseat.  Tell the driver make the radio play.  And I'm singing like.  .  Girl, you know I want your love.  Your love was handmade for somebody like me.  Come on now, follow my lead.  I may be crazy, don't mind me.  Say, boy, let's not talk too much.  Grab on my waist and put that body on me.  Come on now, follow my lead.  Come, come on now, follow my lead (mmmm).  .  I'm in love with the shape of you.  We push and pull like a magnet do.  Although my heart is falling too.  I'm in love with your body.  Last night you were in my room.  And now my bedsheets smell like you.  Every day discovering something brand new.  I'm in love with your body.  .  Oh I oh I oh I oh I.  I'm in love with your body.  Oh I oh I oh I oh I.  I'm in love with your body.  Oh I oh I oh I oh I.  I'm in love with your body.  Every day discovering something brand new.  I'm in love with the shape of you.  .  Come on, be my baby, come on.  Come on, be my baby, come on.  Come on, be my baby, come on.  Come on, be my baby, come on.  Come on, be my baby, come on.  Come on, be my baby, come on.  Come on, be my baby, come on.  Come on, be my baby, come on.  .  I'm in love with the shape of you.  We push and pull like a magnet do.  Although my heart is falling too.  I'm in love with your body.  Last night you were in my room.  And now my bedsheets smell like you.  Every day discovering something brand new.  I'm in love with your body.  .  Come on, be my baby, come on.  Come on, be my baby, come on.  I'm in love with your body.  Come on, be my baby, come on.  Come on, be my baby, come on.  I'm in love with your body.  Come on, be my baby, come on.  Come on, be my baby, come on.  I'm in love with your body.  Every day discovering something brand new.  I'm in love with the shape of you\"\n",
        "#print(shape_of_you)\n",
        "(YouTubeVideo('JGwWNGJdvx8'))"
      ],
      "execution_count": 0,
      "outputs": [
        {
          "output_type": "execute_result",
          "data": {
            "image/jpeg": "[encoded data removed]",
            "text/html": [
              "\n",
              "        <iframe\n",
              "            width=\"400\"\n",
              "            height=\"300\"\n",
              "            src=\"https://www.youtube.com/embed/JGwWNGJdvx8\"\n",
              "            frameborder=\"0\"\n",
              "            allowfullscreen\n",
              "        ></iframe>\n",
              "        "
            ],
            "text/plain": [
              "<IPython.lib.display.YouTubeVideo at 0x7fafc4373550>"
            ]
          },
          "metadata": {
            "tags": []
          },
          "execution_count": 20
        }
      ]
    },
    {
      "metadata": {
        "id": "lOx_Xo3ceq_3",
        "colab_type": "code",
        "colab": {}
      },
      "cell_type": "code",
      "source": [
        "#Your code here!\n"
      ],
      "execution_count": 0,
      "outputs": []
    },
    {
      "metadata": {
        "id": "AKE0X-ppeq_6",
        "colab_type": "text"
      },
      "cell_type": "markdown",
      "source": [
        "## Test 2.0.0\n",
        "\n"
      ]
    },
    {
      "metadata": {
        "id": "WJrF0KwLeq_6",
        "colab_type": "text"
      },
      "cell_type": "markdown",
      "source": [
        "<img src=\"https://www.codefor.hk/wp-content/themes/DC_CUSTOM_THEME/img/logo-code-for-hk-logo.svg\" height=\"150\" width=\"150\"  align=\"center\"/>"
      ]
    },
    {
      "metadata": {
        "id": "J7IszlFOeq_7",
        "colab_type": "text"
      },
      "cell_type": "markdown",
      "source": [
        "# 3.0.0 Data structure in Python (List, Dictionary, Tuple, Dataframe)"
      ]
    },
    {
      "metadata": {
        "id": "J-lwYgjPeq_7",
        "colab_type": "text"
      },
      "cell_type": "markdown",
      "source": [
        "https://docs.python.org/3/tutorial/datastructures.html"
      ]
    },
    {
      "metadata": {
        "id": "7N2yunLoeq_8",
        "colab_type": "text"
      },
      "cell_type": "markdown",
      "source": [
        "<img src=\"https://storage.googleapis.com/bwdb/acceleratehk/python_class/Screen%20Shot%202017-10-21%20at%2012.26.59%20AM.png\"/>\n"
      ]
    },
    {
      "metadata": {
        "id": "JSv4iMtieq_8",
        "colab_type": "text"
      },
      "cell_type": "markdown",
      "source": [
        "## 3.1.0 List\n",
        "\n",
        "What is a list?"
      ]
    },
    {
      "metadata": {
        "id": "6-zCQE0leq_9",
        "colab_type": "text"
      },
      "cell_type": "markdown",
      "source": [
        "A list is a data structure in Python that is a mutable, or changeable, ordered sequence of elements. Each element or value that is inside of a list is called an item. Just as strings are defined as characters between quotes, lists are defined by having values between square brackets [ ].\n",
        "\n",
        "Lists are great to use when you want to work with many related values. They enable you to keep data together that belongs together, condense your code, and perform the same methods and operations on multiple values at once.\n",
        "\n",
        "When thinking about Python lists and other data structures that are types of collections, it is useful to consider all the different collections you have on your computer: your assortment of files, your song playlists, your browser bookmarks, your emails, the collection of videos you can access on a streaming service, and more."
      ]
    },
    {
      "metadata": {
        "id": "vE5bxvaIeq_9",
        "colab_type": "code",
        "colab": {},
        "outputId": "bd79394b-0c64-4da6-ba5d-fa96f1bf68dc"
      },
      "cell_type": "code",
      "source": [
        "sea_creatures = ['shark', 'cuttlefish', 'squid', 'mantis shrimp', 'anemone']\n",
        "print(sea_creatures)"
      ],
      "execution_count": 0,
      "outputs": [
        {
          "output_type": "stream",
          "text": [
            "['shark', 'cuttlefish', 'squid', 'mantis shrimp', 'anemone']\n"
          ],
          "name": "stdout"
        }
      ]
    },
    {
      "metadata": {
        "id": "0q8x8tyxeq__",
        "colab_type": "text"
      },
      "cell_type": "markdown",
      "source": [
        "### 3.1.1 Python list syntax\n",
        "\n",
        "Python list is bounded by square brackets"
      ]
    },
    {
      "metadata": {
        "collapsed": true,
        "id": "Y2XQbY1Feq__",
        "colab_type": "code",
        "colab": {}
      },
      "cell_type": "code",
      "source": [
        "num_list = [1,2,3,4,5]"
      ],
      "execution_count": 0,
      "outputs": []
    },
    {
      "metadata": {
        "id": "cDUea5oAerAA",
        "colab_type": "text"
      },
      "cell_type": "markdown",
      "source": [
        "#### Example 3.1.1\n",
        "\n",
        "Let's say I want to name a list of students & add to the object called python class"
      ]
    },
    {
      "metadata": {
        "id": "g-6sGPqMerAB",
        "colab_type": "code",
        "colab": {},
        "outputId": "16a48cbb-9e7a-45b7-8515-e97bda6febc6"
      },
      "cell_type": "code",
      "source": [
        "python_class = ['Tommy', \"Sonia\", \"Maria\", \"Jeremie\"]\n",
        "print(python_class)"
      ],
      "execution_count": 0,
      "outputs": [
        {
          "output_type": "stream",
          "text": [
            "['Tommy', 'Sonia', 'Maria', 'Jeremie']\n"
          ],
          "name": "stdout"
        }
      ]
    },
    {
      "metadata": {
        "id": "oMbs1uKLerAC",
        "colab_type": "text"
      },
      "cell_type": "markdown",
      "source": [
        "#### Exercise 3.1.1\n",
        "1) Let's say I want to name a list of instructors & add to the object called python_class_instructors\n",
        "\n",
        "we have Patrick, Rein & Anushree"
      ]
    },
    {
      "metadata": {
        "collapsed": true,
        "id": "zKwebnOzerAD",
        "colab_type": "code",
        "colab": {}
      },
      "cell_type": "code",
      "source": [
        "#fill in the gap\n",
        "python_class_instructors = "
      ],
      "execution_count": 0,
      "outputs": []
    },
    {
      "metadata": {
        "id": "YJG-i3iGerAE",
        "colab_type": "text"
      },
      "cell_type": "markdown",
      "source": [
        "### 3.1.2 Python list & index\n",
        "\n",
        "Python list can be selected by index (it begins in zero!)"
      ]
    },
    {
      "metadata": {
        "scrolled": true,
        "id": "qlfyx_I_erAF",
        "colab_type": "code",
        "colab": {},
        "outputId": "129799bb-d6d7-4692-de2a-d984db8dd959"
      },
      "cell_type": "code",
      "source": [
        "num_list = [1,2,3,4,5]\n",
        "print(num_list[0]) # use square bracket to indicate anything \"index\". index begins at 0 - \n",
        "# and this expression is trying to get the first item from the list!\n",
        "\n",
        "#This to select the second item\n",
        "print(num_list[1])\n",
        "\n",
        "#This to select the last item\n",
        "print(num_list[-1])"
      ],
      "execution_count": 0,
      "outputs": [
        {
          "output_type": "stream",
          "text": [
            "1\n",
            "2\n",
            "5\n"
          ],
          "name": "stdout"
        }
      ]
    },
    {
      "metadata": {
        "id": "5IkyH35verAG",
        "colab_type": "text"
      },
      "cell_type": "markdown",
      "source": [
        "In python, you can select more than one index by making use \":\""
      ]
    },
    {
      "metadata": {
        "collapsed": true,
        "id": "KZDxS_45erAH",
        "colab_type": "code",
        "colab": {}
      },
      "cell_type": "code",
      "source": [
        "#And this is how to selet more than one list\n",
        "print(num_list[0:5])\n",
        "print(num_list[3:])\n",
        "print(num_list[:3])"
      ],
      "execution_count": 0,
      "outputs": []
    },
    {
      "metadata": {
        "id": "-SXuNJi_erAK",
        "colab_type": "text"
      },
      "cell_type": "markdown",
      "source": [
        "#### Example 3.1.2\n",
        "\n",
        "1) Let's say I want to find the first student from my class\n",
        "\n",
        "2) Let's say I want to find the first 3 students from my class\n",
        "\n",
        "3) Let's say I want to find the last 2 students from my class\n"
      ]
    },
    {
      "metadata": {
        "id": "w5OXsMq9erAK",
        "colab_type": "code",
        "colab": {},
        "outputId": "1e31baf8-2ca0-4a00-84fe-87836e141e1e"
      },
      "cell_type": "code",
      "source": [
        "python_class = ['Tommy', \"Sonia\", \"Maria\", \"Jeremie\"]\n",
        "#First student\n",
        "python_class[0] # It begins in 0!\n",
        "\n",
        "#First three student\n",
        "python_class[0:3]\n",
        "\n",
        "#Last 2 students\n",
        "python_class[-2:]"
      ],
      "execution_count": 0,
      "outputs": [
        {
          "output_type": "execute_result",
          "data": {
            "text/plain": [
              "['Maria', 'Jeremie']"
            ]
          },
          "metadata": {
            "tags": []
          },
          "execution_count": 15
        }
      ]
    },
    {
      "metadata": {
        "id": "yfNa9tXGerAN",
        "colab_type": "text"
      },
      "cell_type": "markdown",
      "source": [
        "#### Exercise 3.1.2\n",
        "\n",
        "1) Let's say I want to find the 5th sea_creatures from my list\n",
        "\n",
        "2) Let's say I want to find the first 3 sea_creatures from my list\n",
        "\n",
        "3) Let's say I want to find the 2-4th seacreatures from my list"
      ]
    },
    {
      "metadata": {
        "collapsed": true,
        "id": "r9h8wRG_erAN",
        "colab_type": "code",
        "colab": {}
      },
      "cell_type": "code",
      "source": [
        "sea_creatures = ['shark', 'cuttlefish', 'squid', 'mantis shrimp', 'anemone']\n",
        "#your code here"
      ],
      "execution_count": 0,
      "outputs": []
    },
    {
      "metadata": {
        "id": "pKR76FPverAP",
        "colab_type": "text"
      },
      "cell_type": "markdown",
      "source": [
        "### 3.1.3 How to find the length of the list?\n",
        " Length of python list can be obtained by len()"
      ]
    },
    {
      "metadata": {
        "id": "CE4IuFc4erAQ",
        "colab_type": "code",
        "colab": {},
        "outputId": "552f1dc2-df72-4a57-e888-51911bd64c48"
      },
      "cell_type": "code",
      "source": [
        "num_list = [1,2,3,4,5]\n",
        "len(num_list)"
      ],
      "execution_count": 0,
      "outputs": [
        {
          "output_type": "execute_result",
          "data": {
            "text/plain": [
              "5"
            ]
          },
          "metadata": {
            "tags": []
          },
          "execution_count": 19
        }
      ]
    },
    {
      "metadata": {
        "id": "J-4Z9g5lerAU",
        "colab_type": "text"
      },
      "cell_type": "markdown",
      "source": [
        "#### Exercise  3.1.3\n",
        "Try to find the number of sea_creatures in the list\n",
        "\n"
      ]
    },
    {
      "metadata": {
        "id": "TU2uIu63erAV",
        "colab_type": "code",
        "colab": {},
        "outputId": "caf57c03-fdb2-4893-ccaf-1944e5b78a50"
      },
      "cell_type": "code",
      "source": [
        "sea_creatures = ['shark', 'cuttlefish', 'squid', 'mantis shrimp', 'anemone']\n",
        "len(sea_creatures)"
      ],
      "execution_count": 0,
      "outputs": [
        {
          "output_type": "execute_result",
          "data": {
            "text/plain": [
              "5"
            ]
          },
          "metadata": {
            "tags": []
          },
          "execution_count": 21
        }
      ]
    },
    {
      "metadata": {
        "id": "d4y1BBG4erAX",
        "colab_type": "text"
      },
      "cell_type": "markdown",
      "source": [
        "### 3.1.4 Manipulating the list\n",
        "\n"
      ]
    },
    {
      "metadata": {
        "id": "stmCtMCferAb",
        "colab_type": "text"
      },
      "cell_type": "markdown",
      "source": [
        "#### Example 3.1.4\n",
        "\n",
        "Item can be removed by remove()"
      ]
    },
    {
      "metadata": {
        "scrolled": true,
        "id": "6h01c9-nerAc",
        "colab_type": "code",
        "colab": {},
        "outputId": "f53c2c52-a0e7-433e-d99d-fd42c02ad4ad"
      },
      "cell_type": "code",
      "source": [
        "num_list = [1,2,3,4,5]\n",
        "num_list.remove(1)\n",
        "print(num_list)"
      ],
      "execution_count": 0,
      "outputs": [
        {
          "output_type": "stream",
          "text": [
            "[2, 3, 4, 5]\n"
          ],
          "name": "stdout"
        }
      ]
    },
    {
      "metadata": {
        "id": "bSjxflN7erAf",
        "colab_type": "text"
      },
      "cell_type": "markdown",
      "source": [
        "item can be added by append()"
      ]
    },
    {
      "metadata": {
        "id": "EqIN4xfTerAf",
        "colab_type": "code",
        "colab": {},
        "outputId": "8c116a1f-9868-4260-e004-86383e52dc73"
      },
      "cell_type": "code",
      "source": [
        "num_list.append(1)\n",
        "print(num_list)"
      ],
      "execution_count": 0,
      "outputs": [
        {
          "output_type": "stream",
          "text": [
            "[2, 3, 4, 5, 1]\n"
          ],
          "name": "stdout"
        }
      ]
    },
    {
      "metadata": {
        "id": "pUiDnU02erAh",
        "colab_type": "code",
        "colab": {},
        "outputId": "7350204a-760b-4b9c-9623-93085f0e1057"
      },
      "cell_type": "code",
      "source": [
        "empty_list = []\n",
        "empty_list.append(1)\n",
        "empty_list.append(2.0)\n",
        "empty_list.append('three')\n",
        "print(empty_list)"
      ],
      "execution_count": 0,
      "outputs": [
        {
          "output_type": "stream",
          "text": [
            "[1, 2.0, 'three']\n"
          ],
          "name": "stdout"
        }
      ]
    },
    {
      "metadata": {
        "id": "xziBqfoOerAi",
        "colab_type": "text"
      },
      "cell_type": "markdown",
      "source": [
        "To combine 2 lists, you can simple use \"+\""
      ]
    },
    {
      "metadata": {
        "id": "-mqMTQszerAj",
        "colab_type": "code",
        "colab": {},
        "outputId": "de6c7aa4-155f-4537-b4f4-b5253413522d"
      },
      "cell_type": "code",
      "source": [
        "asia = [\"china\", \"japan\", \"india\"]\n",
        "europe = [\"france\", \"germany\", \"italy\"]\n",
        "asia + europe"
      ],
      "execution_count": 0,
      "outputs": [
        {
          "output_type": "execute_result",
          "data": {
            "text/plain": [
              "['china', 'japan', 'india', 'france', 'germany', 'italy']"
            ]
          },
          "metadata": {
            "tags": []
          },
          "execution_count": 30
        }
      ]
    },
    {
      "metadata": {
        "id": "7E0RQxIOerAk",
        "colab_type": "code",
        "colab": {},
        "outputId": "39dc5d96-b086-49fd-8612-21cf65f7d1c6"
      },
      "cell_type": "code",
      "source": [
        "hkisland = ['Central','Wanchai']\n",
        "kowloon = ['tst','mong kok']\n",
        "hk = hkisland+kowloon\n",
        "hk"
      ],
      "execution_count": 0,
      "outputs": [
        {
          "output_type": "execute_result",
          "data": {
            "text/plain": [
              "['Central', 'Wanchai', 'tst', 'mong kok']"
            ]
          },
          "metadata": {
            "tags": []
          },
          "execution_count": 31
        }
      ]
    },
    {
      "metadata": {
        "id": "0HgQG8YjerAn",
        "colab_type": "text"
      },
      "cell_type": "markdown",
      "source": [
        "### 3.1.5 Creating complicated list"
      ]
    },
    {
      "metadata": {
        "collapsed": true,
        "id": "K9UQL3JkerAn",
        "colab_type": "code",
        "colab": {}
      },
      "cell_type": "code",
      "source": [
        "a = 1\n",
        "b = 2\n",
        "c = [3,4,5]\n",
        "[a,b,c]"
      ],
      "execution_count": 0,
      "outputs": []
    },
    {
      "metadata": {
        "collapsed": true,
        "id": "icNg_6HgerAo",
        "colab_type": "text"
      },
      "cell_type": "markdown",
      "source": [
        "### 3.1.6 Working with strings & list"
      ]
    },
    {
      "metadata": {
        "id": "Vd9ppyLIerAo",
        "colab_type": "text"
      },
      "cell_type": "markdown",
      "source": [
        "You can also split string to create a list"
      ]
    },
    {
      "metadata": {
        "id": "__Tc1iiDerAo",
        "colab_type": "code",
        "colab": {},
        "outputId": "fdce879d-9525-4b3a-a7e5-c8e7752f653e"
      },
      "cell_type": "code",
      "source": [
        "shape_of_you = \"The club isn't the best place to find a lover.  So the bar is where I go (mmmm).  Me and my friends at the table doing shots.  Drinking fast and then we talk slow (mmmm).  And you come over and start up a conversation with just me.  And trust me I'll give it a chance now (mmmm).  Take my hand, stop, put Van The Man on the jukebox.  And then we start to dance.  And now I'm singing like.  .  Girl, you know I want your love.  Your love was handmade for somebody like me.  Come on now, follow my lead.  I may be crazy, don't mind me.  Say, boy, let's not talk too much.  Grab on my waist and put that body on me.  Come on now, follow my lead.  Come, come on now, follow my lead (mmmm).  .  I'm in love with the shape of you.  We push and pull like a magnet do.  Although my heart is falling too.  I'm in love with your body.  Last night you were in my room.  And now my bedsheets smell like you.  Every day discovering something brand new.  I'm in love with your body.  .  Oh I oh I oh I oh I.  I'm in love with your body.  Oh I oh I oh I oh I.  I'm in love with your body.  Oh I oh I oh I oh I.  I'm in love with your body.  Every day discovering something brand new.  I'm in love with the shape of you.  .  One week in we let the story begin.  We're going out on our first date (mmmm).  You and me are thrifty, so go all you can eat.  Fill up your bag and I fill up a plate (mmmm).  We talk for hours and hours about the sweet and the sour.  And how your family is doing okay (mmmm).  And leave and get in a taxi, then kiss in the backseat.  Tell the driver make the radio play.  And I'm singing like.  .  Girl, you know I want your love.  Your love was handmade for somebody like me.  Come on now, follow my lead.  I may be crazy, don't mind me.  Say, boy, let's not talk too much.  Grab on my waist and put that body on me.  Come on now, follow my lead.  Come, come on now, follow my lead (mmmm).  .  I'm in love with the shape of you.  We push and pull like a magnet do.  Although my heart is falling too.  I'm in love with your body.  Last night you were in my room.  And now my bedsheets smell like you.  Every day discovering something brand new.  I'm in love with your body.  .  Oh I oh I oh I oh I.  I'm in love with your body.  Oh I oh I oh I oh I.  I'm in love with your body.  Oh I oh I oh I oh I.  I'm in love with your body.  Every day discovering something brand new.  I'm in love with the shape of you.  .  Come on, be my baby, come on.  Come on, be my baby, come on.  Come on, be my baby, come on.  Come on, be my baby, come on.  Come on, be my baby, come on.  Come on, be my baby, come on.  Come on, be my baby, come on.  Come on, be my baby, come on.  .  I'm in love with the shape of you.  We push and pull like a magnet do.  Although my heart is falling too.  I'm in love with your body.  Last night you were in my room.  And now my bedsheets smell like you.  Every day discovering something brand new.  I'm in love with your body.  .  Come on, be my baby, come on.  Come on, be my baby, come on.  I'm in love with your body.  Come on, be my baby, come on.  Come on, be my baby, come on.  I'm in love with your body.  Come on, be my baby, come on.  Come on, be my baby, come on.  I'm in love with your body.  Every day discovering something brand new.  I'm in love with the shape of you\"\n",
        "shape_of_you_list = shape_of_you.split('.')\n",
        "shape_of_you_list[:3]"
      ],
      "execution_count": 0,
      "outputs": [
        {
          "output_type": "execute_result",
          "data": {
            "text/plain": [
              "[\"The club isn't the best place to find a lover\",\n",
              " '  So the bar is where I go (mmmm)',\n",
              " '  Me and my friends at the table doing shots']"
            ]
          },
          "metadata": {
            "tags": []
          },
          "execution_count": 23
        }
      ]
    },
    {
      "metadata": {
        "id": "_N4eIFgserAr",
        "colab_type": "text"
      },
      "cell_type": "markdown",
      "source": [
        "#### Exercise 3.1.6  - find in the song shape of you\n",
        "1. Find out the indexes of all the \"baby\" in the song"
      ]
    },
    {
      "metadata": {
        "collapsed": true,
        "id": "qqc48XGrerAs",
        "colab_type": "code",
        "colab": {}
      },
      "cell_type": "code",
      "source": [
        "# Your code here"
      ],
      "execution_count": 0,
      "outputs": []
    },
    {
      "metadata": {
        "id": "FvJZ8saNerAu",
        "colab_type": "text"
      },
      "cell_type": "markdown",
      "source": [
        "## 3.2.0 Dictionary"
      ]
    },
    {
      "metadata": {
        "collapsed": true,
        "id": "Et6nH7D9erAu",
        "colab_type": "code",
        "colab": {}
      },
      "cell_type": "code",
      "source": [
        "#Let's make a dictionary:\n",
        "mygeobook = {\"Country\":\"USA\",\"Capital\":\"Washington,Dc\",\"President\":\"Barack Obama\",\"Region\":\"China\"}"
      ],
      "execution_count": 0,
      "outputs": []
    },
    {
      "metadata": {
        "collapsed": true,
        "id": "144nvGtherAv",
        "colab_type": "code",
        "colab": {}
      },
      "cell_type": "code",
      "source": [
        ""
      ],
      "execution_count": 0,
      "outputs": []
    },
    {
      "metadata": {
        "id": "oh0Xv8FnerAw",
        "colab_type": "text"
      },
      "cell_type": "markdown",
      "source": [
        "## Test 3.0.0"
      ]
    },
    {
      "metadata": {
        "collapsed": true,
        "id": "jBoBQF9NerAw",
        "colab_type": "code",
        "colab": {}
      },
      "cell_type": "code",
      "source": [
        ""
      ],
      "execution_count": 0,
      "outputs": []
    },
    {
      "metadata": {
        "id": "7BhBZ3JTerAx",
        "colab_type": "text"
      },
      "cell_type": "markdown",
      "source": [
        "## 4.0.0 Python operations\n",
        "\n",
        "\n",
        "### 4.1.0 if statements  \n",
        "\n",
        "Where Indentation matters!!\n"
      ]
    },
    {
      "metadata": {
        "id": "B4g1sXlverAx",
        "colab_type": "text"
      },
      "cell_type": "markdown",
      "source": [
        "![Image of Yaktocat](https://storage.googleapis.com/bwdb/acceleratehk_DSML/class_1/ds19.PNG)"
      ]
    },
    {
      "metadata": {
        "id": "CXGWv9pMerAx",
        "colab_type": "text"
      },
      "cell_type": "markdown",
      "source": [
        "![Image of Yaktocat](https://storage.googleapis.com/bwdb/acceleratehk_DSML/class_1/ds18.PNG)"
      ]
    },
    {
      "metadata": {
        "id": "Sd14qPbLerAy",
        "colab_type": "text"
      },
      "cell_type": "markdown",
      "source": [
        "This works a bit like the function in excel"
      ]
    },
    {
      "metadata": {
        "collapsed": true,
        "id": "4KW_F2pYerAy",
        "colab_type": "code",
        "colab": {}
      },
      "cell_type": "code",
      "source": [
        ""
      ],
      "execution_count": 0,
      "outputs": []
    },
    {
      "metadata": {
        "id": "HR49ZnF4erAz",
        "colab_type": "raw"
      },
      "cell_type": "markdown",
      "source": [
        "## the indentation is used to identfy code blocks.\n",
        "if condition_1 :\n",
        "    do something \n",
        "elif condition_2 :\n",
        "    do something else\n",
        "else :\n",
        "    do something else"
      ]
    },
    {
      "metadata": {
        "id": "tVhMYLWkerA0",
        "colab_type": "text"
      },
      "cell_type": "markdown",
      "source": [
        "#### Example 4.1.1 "
      ]
    },
    {
      "metadata": {
        "collapsed": true,
        "id": "Eu5RkuKkerA0",
        "colab_type": "code",
        "colab": {}
      },
      "cell_type": "code",
      "source": [
        "iphone = 9000\n",
        "samsung = 5000\n",
        "if(iphone>samsung):\n",
        "    print('buy Samsung!')\n",
        "else:\n",
        "    print('buy iphone!')"
      ],
      "execution_count": 0,
      "outputs": []
    },
    {
      "metadata": {
        "collapsed": true,
        "id": "chzR_W1zerA2",
        "colab_type": "code",
        "colab": {}
      },
      "cell_type": "code",
      "source": [
        "if age > 17: \n",
        "  print(\"can see a rated R movie\")\n",
        "elif age < 17 and age > 12:\n",
        "  print(\"can see a rated PG-13 movie\")\n",
        "else: \n",
        "  print(\"can only see rated PG movies\")"
      ],
      "execution_count": 0,
      "outputs": []
    },
    {
      "metadata": {
        "id": "fLBZWqvMerA4",
        "colab_type": "text"
      },
      "cell_type": "markdown",
      "source": [
        "#### Exercise 4.1.1 \n",
        "\n",
        "Ask the user for a number. Depending on whether the number is even or odd, print out an appropriate message to the user. Hint: how does an even / odd number react differently when divided by 2?\n",
        "\n",
        "Extras:\n",
        "\n",
        "If the number is a multiple of 4, print out a different message.\n",
        "Ask the user for two numbers: one number to check (call it num) and one number to divide by (check). If check divides evenly into num, tell that to the user. If not, print a different appropriate message."
      ]
    },
    {
      "metadata": {
        "collapsed": true,
        "id": "RXU3j0JderA4",
        "colab_type": "code",
        "colab": {}
      },
      "cell_type": "code",
      "source": [
        "#your code here\n",
        "a=(age)\n",
        "a=input(\"Enter your age: \")\n"
      ],
      "execution_count": 0,
      "outputs": []
    },
    {
      "metadata": {
        "collapsed": true,
        "id": "yxEn-DAyerA5",
        "colab_type": "code",
        "colab": {}
      },
      "cell_type": "code",
      "source": [
        ""
      ],
      "execution_count": 0,
      "outputs": []
    },
    {
      "metadata": {
        "id": "j9kHjlSeerA6",
        "colab_type": "text"
      },
      "cell_type": "markdown",
      "source": [
        "## 4.2.0 For loops"
      ]
    },
    {
      "metadata": {
        "id": "dRZKEuU_erA6",
        "colab_type": "text"
      },
      "cell_type": "markdown",
      "source": [
        "### 4.2.1 What is a for loops?"
      ]
    },
    {
      "metadata": {
        "id": "HEI1iecjerA7",
        "colab_type": "text"
      },
      "cell_type": "markdown",
      "source": [
        "For loops is a way to ask your computer to repeatedly do a task - until it finished the no. of times to keep on doing the same thing ! (Kind of like a slave!)"
      ]
    },
    {
      "metadata": {
        "id": "s3drJFxPerA7",
        "colab_type": "text"
      },
      "cell_type": "markdown",
      "source": [
        "https://studio.code.org/hoc/6"
      ]
    },
    {
      "metadata": {
        "id": "nqkeqKzserA7",
        "colab_type": "text"
      },
      "cell_type": "markdown",
      "source": [
        "##for loops:"
      ]
    },
    {
      "metadata": {
        "id": "OC5NMjY0erA8",
        "colab_type": "raw"
      },
      "cell_type": "markdown",
      "source": [
        "for i in some_range:\n",
        "    do something with i\n"
      ]
    },
    {
      "metadata": {
        "collapsed": true,
        "id": "xSYtVeiberA9",
        "colab_type": "code",
        "colab": {}
      },
      "cell_type": "code",
      "source": [
        "## range(i,j) retuns integers beween i and j-1 \n",
        "range(1,11)"
      ],
      "execution_count": 0,
      "outputs": []
    },
    {
      "metadata": {
        "collapsed": true,
        "id": "36gz79VberA-",
        "colab_type": "code",
        "colab": {}
      },
      "cell_type": "code",
      "source": [
        "## sum of first 10 integers\n",
        "\n",
        "result=0\n",
        "for i in range(1,11):\n",
        "    result = result+i\n",
        "    print result"
      ],
      "execution_count": 0,
      "outputs": []
    },
    {
      "metadata": {
        "collapsed": true,
        "id": "Jr1GgOb-erBA",
        "colab_type": "code",
        "colab": {}
      },
      "cell_type": "code",
      "source": [
        "shopping_list=[\"bananas\", \"chocolate\", \"carrots\"]\n",
        "## lists are iterators. \n",
        "## We can automatically loop through list elements without using indexes\n",
        "for thing in shopping_list:\n",
        "    print(\"today I purchased some\" + thing)\n",
        "             "
      ],
      "execution_count": 0,
      "outputs": []
    },
    {
      "metadata": {
        "id": "xIwG_Uj3erBB",
        "colab_type": "text"
      },
      "cell_type": "markdown",
      "source": [
        "#### Challenge 4.0.0:\n",
        "\n",
        "Using \"for loops \"  and  \"if statements \" answer the following questions :\n",
        "\n",
        "- who among us has the longest First name? and how long is it? ...... this is a very tricky exercise as it will imply that we can spell all our names correctly :) :) \n",
        "\n",
        "- and what about the shortest name?\n",
        "\n",
        "These are \"probably\" our names : \n",
        "\n",
        "Xiaoyan ,  Maitreya , Jason , Qihui , Chuck , Jeremy , Mihwa , Lina , Huijun , Raul , Warintra , Abhay \n",
        "\n",
        "\n"
      ]
    },
    {
      "metadata": {
        "collapsed": true,
        "id": "1z5qaHP8erBC",
        "colab_type": "code",
        "colab": {}
      },
      "cell_type": "code",
      "source": [
        "## some tips \n",
        "\n",
        "## maybe I want to define a list containing our names \n",
        "## and then go through each of the names and see how long they are , and note down the longest one(s)."
      ],
      "execution_count": 0,
      "outputs": []
    },
    {
      "metadata": {
        "id": "YYtsCbJperBD",
        "colab_type": "text"
      },
      "cell_type": "markdown",
      "source": [
        "## Test 4.0.0"
      ]
    },
    {
      "metadata": {
        "id": "oWl0Ha2RerBD",
        "colab_type": "text"
      },
      "cell_type": "markdown",
      "source": [
        "## Take home exercise\n",
        "\n",
        "You should try finish this at home :)\n",
        "http://www.practicepython.org/"
      ]
    },
    {
      "metadata": {
        "collapsed": true,
        "id": "6wws_s0ierBD",
        "colab_type": "code",
        "colab": {}
      },
      "cell_type": "code",
      "source": [
        ""
      ],
      "execution_count": 0,
      "outputs": []
    }
  ]
}