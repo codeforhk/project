{
  "nbformat": 4,
  "nbformat_minor": 0,
  "metadata": {
    "colab": {
      "name": "common_project.ipynb",
      "provenance": [],
      "include_colab_link": true
    },
    "kernelspec": {
      "name": "python3",
      "display_name": "Python 3"
    }
  },
  "cells": [
    {
      "cell_type": "markdown",
      "metadata": {
        "id": "view-in-github",
        "colab_type": "text"
      },
      "source": [
        "<a href=\"https://colab.research.google.com/github/codeforhk/python_practitioner/blob/master/common_project.ipynb\" target=\"_parent\"><img src=\"https://colab.research.google.com/assets/colab-badge.svg\" alt=\"Open In Colab\"/></a>"
      ]
    },
    {
      "cell_type": "markdown",
      "metadata": {
        "id": "EEMPIn4lRgQx",
        "colab_type": "text"
      },
      "source": [
        "<img src=\"https://yt3.ggpht.com/iFOyisOFkFJU3VPQBc92xmjj9IW9k7iVHs1Dva-TTi4wJGXxFKj4ifITh8rHpywTRywgOhW2Tg=w2120-fcrop64=1,00000000ffffffff-k-c0xffffffff-no-nd-rj\" align=\"center\"/>\n",
        "\n",
        "## Project: Trading system\n",
        "\n",
        "\n",
        "\n",
        "- Build a system that get stock/blockchain prices from internet periodically\n",
        "- This system stores this stock prices either locally or in the cloud.\n",
        "- A rule engine will be developed to take actions\n",
        "- An alert system will be developed to notify the users (e.g email / slack bot)\n",
        "\n",
        "To make things simple, I propose to  do this:\n",
        "\n",
        "` Find arbitrage opportunities between huobi & poloniex`"
      ]
    },
    {
      "cell_type": "markdown",
      "metadata": {
        "id": "EZkdKzbiRxAm",
        "colab_type": "text"
      },
      "source": [
        "## How should we break it down?"
      ]
    },
    {
      "cell_type": "markdown",
      "metadata": {
        "id": "F89yFWhCRTGe",
        "colab_type": "text"
      },
      "source": [
        " \n",
        "* use `import requests` to get price from api\n",
        "* reshape it using `import pandas` as data frame\n",
        "* save it using `import os` & `csv`\n",
        "* make decision using `if`\n",
        "* alert ourselves using `emails` or `slack`\n"
      ]
    },
    {
      "cell_type": "markdown",
      "metadata": {
        "id": "BvM0UCAXRTDi",
        "colab_type": "text"
      },
      "source": [
        "## Which external parties should we focus on?\n",
        "\n",
        "I propose to focus on huobi & poloniex *(famous crypto currency exchanges)*\n",
        "\n",
        "sample api:\n",
        "\n",
        "* https://api.huobi.pro/market/depth?symbol=ethbtc&type=step1\n",
        "\n",
        "* https://poloniex.com/public?command=returnOrderBook&currencyPair=BTC_ETH"
      ]
    },
    {
      "cell_type": "markdown",
      "metadata": {
        "id": "sx0J5WHNTQH3",
        "colab_type": "text"
      },
      "source": [
        "## What is our architectural plan?"
      ]
    },
    {
      "cell_type": "markdown",
      "metadata": {
        "id": "INsC-I-CTTdW",
        "colab_type": "text"
      },
      "source": [
        "[Our architecture diagram](https://www.lucidchart.com/invitations/accept/a1f0d551-b90b-449f-8a6d-4162a8f6c200)"
      ]
    },
    {
      "cell_type": "markdown",
      "metadata": {
        "id": "b7_bmketTdCw",
        "colab_type": "text"
      },
      "source": [
        "## 1.0.0 Get the price from the internet"
      ]
    },
    {
      "cell_type": "code",
      "metadata": {
        "id": "s2dznM5cRPzT",
        "colab_type": "code",
        "colab": {}
      },
      "source": [
        "'https://api.huobi.pro/market/depth?symbol=ethbtc&type=step1'\n",
        "\n",
        "'https://poloniex.com/public?command=returnOrderBook&currencyPair=BTC_ETH'"
      ],
      "execution_count": 0,
      "outputs": []
    },
    {
      "cell_type": "markdown",
      "metadata": {
        "id": "WUU6fKlrTmHx",
        "colab_type": "text"
      },
      "source": [
        "##### Exercise 1.01 How do we get the price from internet?"
      ]
    },
    {
      "cell_type": "code",
      "metadata": {
        "id": "mvIHRMAHTqxK",
        "colab_type": "code",
        "colab": {}
      },
      "source": [
        "import requests\n",
        "## Your code"
      ],
      "execution_count": 0,
      "outputs": []
    },
    {
      "cell_type": "markdown",
      "metadata": {
        "id": "ly9Fr3RvTuPE",
        "colab_type": "text"
      },
      "source": [
        "##### Exercise 1.02 How do we structure the code, so we dynamically get all prices?\n",
        "\n",
        "e.g\n",
        "\n",
        "* https://api.huobi.pro/market/depth?symbol=etcbtc&type=step1\n",
        "* https://api.huobi.pro/market/depth?symbol=ethbtc&type=step1"
      ]
    },
    {
      "cell_type": "code",
      "metadata": {
        "id": "sCIogiz7TzOu",
        "colab_type": "code",
        "colab": {}
      },
      "source": [
        "l = []\n",
        "for i in ['ethbtc','etcbtc']:\n",
        "  r = requests.get('https://api.huobi.pro/market/depth?symbol={}&type=step1'.format(i))\n",
        "  l.append(r)"
      ],
      "execution_count": 0,
      "outputs": []
    },
    {
      "cell_type": "markdown",
      "metadata": {
        "id": "5eRs8TE6U0su",
        "colab_type": "text"
      },
      "source": [
        "Can you do it for poloniex?"
      ]
    },
    {
      "cell_type": "code",
      "metadata": {
        "id": "xNapUrKTU3z-",
        "colab_type": "code",
        "colab": {}
      },
      "source": [
        "# Your code here"
      ],
      "execution_count": 0,
      "outputs": []
    },
    {
      "cell_type": "markdown",
      "metadata": {
        "id": "BdpktRd2UKzN",
        "colab_type": "text"
      },
      "source": [
        "##### Exercise 1.03 How could I parse their data?"
      ]
    },
    {
      "cell_type": "code",
      "metadata": {
        "id": "yAp8F4fNUMTW",
        "colab_type": "code",
        "colab": {
          "base_uri": "https://localhost:8080/",
          "height": 773
        },
        "outputId": "ace0e928-cbf3-4cb4-a15d-443fe2176d08"
      },
      "source": [
        "r = requests.get('https://api.huobi.pro/market/depth?symbol=ethbtc&type=step1')\n",
        "r = eval(r.content)\n",
        "r"
      ],
      "execution_count": 6,
      "outputs": [
        {
          "output_type": "execute_result",
          "data": {
            "text/plain": [
              "{'ch': 'market.ethbtc.depth.step1',\n",
              " 'status': 'ok',\n",
              " 'tick': {'asks': [[0.02037, 96.2533],\n",
              "   [0.02038, 325.5285],\n",
              "   [0.02039, 195.4397],\n",
              "   [0.0204, 450.7697],\n",
              "   [0.02041, 75.5559],\n",
              "   [0.02042, 200.108],\n",
              "   [0.02043, 50.436],\n",
              "   [0.02044, 9.5712],\n",
              "   [0.02045, 4.9195],\n",
              "   [0.02046, 5.7734],\n",
              "   [0.02047, 12.4034],\n",
              "   [0.02048, 299.6578],\n",
              "   [0.02049, 10.0203],\n",
              "   [0.0205, 3.9745],\n",
              "   [0.02051, 10.3756],\n",
              "   [0.02052, 345.3946],\n",
              "   [0.02053, 0.7674],\n",
              "   [0.02054, 9.5377],\n",
              "   [0.02055, 20.337],\n",
              "   [0.02056, 2.7871]],\n",
              "  'bids': [[0.02035, 26.3171],\n",
              "   [0.02034, 318.3999],\n",
              "   [0.02033, 208.4089],\n",
              "   [0.02032, 466.4783],\n",
              "   [0.02031, 44.9303],\n",
              "   [0.0203, 1183.5837],\n",
              "   [0.02029, 15.5333],\n",
              "   [0.02028, 89.439],\n",
              "   [0.02027, 20.366],\n",
              "   [0.02026, 54.706],\n",
              "   [0.02025, 0.8528],\n",
              "   [0.02024, 13.9482],\n",
              "   [0.02023, 5.0614],\n",
              "   [0.02022, 9.1221],\n",
              "   [0.02021, 2.4437],\n",
              "   [0.0202, 380.4178],\n",
              "   [0.02019, 9.6997],\n",
              "   [0.02018, 19.6763],\n",
              "   [0.02017, 46.0758],\n",
              "   [0.02016, 43.1741]],\n",
              "  'ts': 1574933189061,\n",
              "  'version': 101417934311},\n",
              " 'ts': 1574933189821}"
            ]
          },
          "metadata": {
            "tags": []
          },
          "execution_count": 6
        }
      ]
    },
    {
      "cell_type": "markdown",
      "metadata": {
        "id": "s604JHWZVNUS",
        "colab_type": "text"
      },
      "source": [
        "Can you do it for poloniex?"
      ]
    },
    {
      "cell_type": "code",
      "metadata": {
        "id": "YkfDUNx4USzr",
        "colab_type": "code",
        "colab": {}
      },
      "source": [
        "#Your code here"
      ],
      "execution_count": 0,
      "outputs": []
    },
    {
      "cell_type": "markdown",
      "metadata": {
        "id": "tv6mI0g4VdM8",
        "colab_type": "text"
      },
      "source": [
        "## 2.0.0 Parse and reshape the data"
      ]
    },
    {
      "cell_type": "markdown",
      "metadata": {
        "id": "h1LlEUgeWWsu",
        "colab_type": "text"
      },
      "source": [
        ""
      ]
    },
    {
      "cell_type": "markdown",
      "metadata": {
        "id": "09PLuCq3VoJ9",
        "colab_type": "text"
      },
      "source": [
        "## 3.0.0  Structure and save the data"
      ]
    },
    {
      "cell_type": "code",
      "metadata": {
        "id": "tK2fAAt7VuLy",
        "colab_type": "code",
        "colab": {}
      },
      "source": [
        ""
      ],
      "execution_count": 0,
      "outputs": []
    },
    {
      "cell_type": "markdown",
      "metadata": {
        "id": "D1krlJDQVu4e",
        "colab_type": "text"
      },
      "source": [
        "## 4.0.0 Decision Engine"
      ]
    },
    {
      "cell_type": "code",
      "metadata": {
        "id": "9IBRiQHfV1-D",
        "colab_type": "code",
        "colab": {}
      },
      "source": [
        ""
      ],
      "execution_count": 0,
      "outputs": []
    },
    {
      "cell_type": "markdown",
      "metadata": {
        "id": "1EnOIfh_V2vq",
        "colab_type": "text"
      },
      "source": [
        "## 5.0.0 Notification System"
      ]
    },
    {
      "cell_type": "code",
      "metadata": {
        "id": "bF_5_KVRV4q4",
        "colab_type": "code",
        "colab": {}
      },
      "source": [
        ""
      ],
      "execution_count": 0,
      "outputs": []
    },
    {
      "cell_type": "markdown",
      "metadata": {
        "id": "utLbfTMdV5eb",
        "colab_type": "text"
      },
      "source": [
        "## 6.0.0 How to restructure your code and run it dynamically?"
      ]
    },
    {
      "cell_type": "code",
      "metadata": {
        "id": "Uofm4HFyV9nr",
        "colab_type": "code",
        "colab": {}
      },
      "source": [
        ""
      ],
      "execution_count": 0,
      "outputs": []
    },
    {
      "cell_type": "markdown",
      "metadata": {
        "id": "K9Jdj96mV_1d",
        "colab_type": "text"
      },
      "source": [
        "## 7.0.0 Final Destinations"
      ]
    },
    {
      "cell_type": "code",
      "metadata": {
        "id": "utJ4ns1aWDzm",
        "colab_type": "code",
        "colab": {}
      },
      "source": [
        "import os\n",
        "import time\n",
        "import requests\n",
        "import pandas as pd\n",
        "import io\n",
        "import datetime\n",
        "\n",
        "class crypto():\n",
        "    def po_get(self):\n",
        "        tics = ['BTC_ETH','BTC_ETC']\n",
        "        l = []\n",
        "        for ticker in tics:\n",
        "            a = eval(requests.get('https://poloniex.com/public?command=returnOrderBook&currencyPair='+ticker+'&depth=10').content)\n",
        "            tic = ticker.lower().replace('btc','').replace('_','').replace('neos','neo')+'btc'\n",
        "            t = datetime.datetime.now()\n",
        "            df = [a['asks'][0][0], a['asks'][0][1], a['bids'][0][0],a['bids'][0][1],tic,'po', t]\n",
        "            df = pd.DataFrame([df])\n",
        "            #df.to_csv('po_'+tic+'_'+str(t)+'.csv', index = False)\n",
        "            l.append(df)\n",
        "        print('po done')\n",
        "        return pd.concat(l)\n",
        "\n",
        "    def hb_get(self):\n",
        "        tics = ['ethbtc', 'etcbtc']\n",
        "        l = []\n",
        "        for tic in tics:\n",
        "            r = requests.get('https://api.huobi.pro/market/depth?symbol='+tic+'&type=step1')\n",
        "            temp = eval(r.content)['tick']\n",
        "            df = pd.DataFrame(temp['asks'][0]+temp['bids'][0]+[tic,'hb']).transpose()\n",
        "            t = datetime.datetime.now()\n",
        "            df['time'] = t\n",
        "            #df.columns = range(len(df.columns))\n",
        "            #df.to_csv('hb_'+tic+'_'+str(t)+'.csv', index = False)\n",
        "            l.append(df)\n",
        "        print('hb done')\n",
        "        return pd.concat(l)"
      ],
      "execution_count": 0,
      "outputs": []
    },
    {
      "cell_type": "code",
      "metadata": {
        "id": "jt50JxOTWPQ4",
        "colab_type": "code",
        "colab": {}
      },
      "source": [
        ""
      ],
      "execution_count": 0,
      "outputs": []
    }
  ]
}