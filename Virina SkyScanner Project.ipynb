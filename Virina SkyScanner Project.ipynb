{
 "cells": [
  {
   "cell_type": "code",
   "execution_count": 5,
   "metadata": {},
   "outputs": [],
   "source": [
    "from selenium import webdriver"
   ]
  },
  {
   "cell_type": "code",
   "execution_count": 6,
   "metadata": {},
   "outputs": [],
   "source": [
    "driver = webdriver.Chrome()"
   ]
  },
  {
   "cell_type": "code",
   "execution_count": 7,
   "metadata": {},
   "outputs": [],
   "source": [
    "driver.get('https://www.skyscanner.com.hk/transport/flights/hkga/sgnv/191213/191215')"
   ]
  },
  {
   "cell_type": "code",
   "execution_count": 8,
   "metadata": {},
   "outputs": [],
   "source": [
    "from bs4 import BeautifulSoup as bs\n",
    "import time\n",
    "import pandas as pd"
   ]
  },
  {
   "cell_type": "code",
   "execution_count": 9,
   "metadata": {},
   "outputs": [
    {
     "data": {
      "text/plain": [
       "'https://www.skyscanner.com.hk/transport/flights/hkg/sgnv/191213/191215'"
      ]
     },
     "execution_count": 9,
     "metadata": {},
     "output_type": "execute_result"
    }
   ],
   "source": [
    "start = 'hkg'\n",
    "'https://www.skyscanner.com.hk/transport/flights/'+start+'/sgnv/191213/191215'"
   ]
  },
  {
   "cell_type": "code",
   "execution_count": 12,
   "metadata": {},
   "outputs": [
    {
     "data": {
      "text/plain": [
       "'https://www.skyscanner.com.hk/transport/flights/hkga/sgnv/191213/191215'"
      ]
     },
     "execution_count": 12,
     "metadata": {},
     "output_type": "execute_result"
    }
   ],
   "source": [
    "'https://www.skyscanner.com.hk/transport/flights/{start}/{end}/{startdate}/{enddate}'.format(start = 'hkga', end = 'sgnv', startdate = '191213', enddate = '191215')"
   ]
  },
  {
   "cell_type": "code",
   "execution_count": null,
   "metadata": {},
   "outputs": [],
   "source": [
    "# change startdate to every Friday , change enddate to every Sunday"
   ]
  },
  {
   "cell_type": "code",
   "execution_count": 26,
   "metadata": {},
   "outputs": [],
   "source": [
    "if datetime.datetime.today().weekday()==4:\n",
    "    print('friday')\n",
    "if datetime.datetime.today().weekday()==6:\n",
    "    print('sunday')"
   ]
  },
  {
   "cell_type": "code",
   "execution_count": 19,
   "metadata": {},
   "outputs": [
    {
     "data": {
      "text/plain": [
       "3"
      ]
     },
     "execution_count": 19,
     "metadata": {},
     "output_type": "execute_result"
    }
   ],
   "source": [
    "import datetime\n",
    "\n",
    "\n",
    "datetime.datetime(2019,12,12).weekday()"
   ]
  },
  {
   "cell_type": "code",
   "execution_count": 24,
   "metadata": {},
   "outputs": [],
   "source": [
    "# spreadsheet of CSV values for airport codes https://docs.google.com/spreadsheets/d/e/2PACX-1vTLtUeG-gzcyimhvcl2HxTtUTOjX6H1l1qQxKgHXgIdFEtm9pRO10mEfthnw9s5GtE5ob-gHNH3rR2e/pub?gid=0&single=true&output=csv"
   ]
  },
  {
   "cell_type": "code",
   "execution_count": 13,
   "metadata": {},
   "outputs": [],
   "source": [
    "from bs4 import BeautifulSoup as bs\n",
    "\n",
    "soup = bs(driver.page_source, 'lxml')"
   ]
  },
  {
   "cell_type": "code",
   "execution_count": 25,
   "metadata": {},
   "outputs": [],
   "source": [
    "class skyscanner:\n",
    "\n",
    "  def __init__(self):\n",
    "    self.TICKET = 'EcoTicketWrapper_ecoContainer'\n",
    "    self.LEG = 'LegDetails_container'\n",
    "    self.PRICE = 'Price_mainPriceContainer'\n",
    "    self.driver = webdriver.Chrome()\n",
    "    url = 'https://www.skyscanner.com.hk/transport/flights/hkg/osaa/191208/200212/' \n",
    "    self.driver.get(url)\n",
    "    \n",
    "  def quit_browser(self):\n",
    "    self.driver.quit()\n",
    "\n",
    "  def flatten(self, l):\n",
    "    return [a for b in l for a in b]\n",
    "\n",
    "  def search_class_name(self, key_word):\n",
    "    target = [i for i in self.all_class if key_word in i] \n",
    "    return list(set(target))[0]\n",
    "\n",
    "  def search_all_class(self):\n",
    "    all_class = []\n",
    "    for i in self.soup.find_all('div'):\n",
    "      try:\n",
    "        all_class.append(i['class'])\n",
    "      except:\n",
    "        ''\n",
    "    return all_class"
   ]
  },
  {
   "cell_type": "code",
   "execution_count": null,
   "metadata": {},
   "outputs": [],
   "source": [
    "  def execute(self, start, end):\n",
    "    url = 'https://www.skyscanner.com.hk/transport/flights/hkg/osaa/{start}/{end}/'.format(start = start, end = end) \n",
    "    self.driver.get(url)\n",
    "    time.sleep(30)\n",
    "    self.driver.execute_script(\"window.scrollTo(0, 100)\") \n",
    "    self.soup = bs(self.driver.page_source)\n",
    "    self.all_class = self.flatten(self.search_all_class())\n",
    "    ticket_details = self.search_class_name(self.TICKET)\n",
    "    leg_details = self.search_class_name(self.LEG)\n",
    "    price_details = self.search_class_name(self.PRICE)\n",
    "    ticket_body_list = self.soup.find_all('div', class_ = ticket_details)#\n",
    "    all_tickets = []\n",
    "    for i in ticket_body_list:\n",
    "      legs = []\n",
    "      for leg in i.find_all('div', class_ = leg_details):\n",
    "        legs.append([i.text for i in leg.find_all('span')])\n",
    "      \n",
    "      ticket_price = (i.find('div', class_ = price_details).text)\n",
    "      all_tickets.append({'leg_1': legs[0], 'leg_2': legs[1], 'price':ticket_price})\n",
    "      return pd.DataFrame(all_tickets)"
   ]
  }
 ],
 "metadata": {
  "kernelspec": {
   "display_name": "Python 3",
   "language": "python",
   "name": "python3"
  },
  "language_info": {
   "codemirror_mode": {
    "name": "ipython",
    "version": 3
   },
   "file_extension": ".py",
   "mimetype": "text/x-python",
   "name": "python",
   "nbconvert_exporter": "python",
   "pygments_lexer": "ipython3",
   "version": "3.7.3"
  }
 },
 "nbformat": 4,
 "nbformat_minor": 2
}
