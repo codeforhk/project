{
  "nbformat": 4,
  "nbformat_minor": 0,
  "metadata": {
    "colab": {
      "name": "py_class_3.ipynb",
      "version": "0.3.2",
      "provenance": [],
      "collapsed_sections": [
        "UZysvTpDeq8c",
        "axYPsKaqeq8e",
        "rR3Mw2K-eq8k",
        "cYm-fUXTeq9G",
        "uEPaO83neq9O",
        "tNHM94A0eq9Q",
        "MEDm0bF-eq9S",
        "QbCSljwYeq9V",
        "_VJVTVx6eq9V",
        "jHZmko0Eeq9X",
        "Y3TzmFS1eq9a",
        "GQVnbwPgeq9c",
        "Qvm5ip48eq9e",
        "t6Sn2Y_leq9e",
        "IXb0tBvheq9s",
        "pRGo6doPeq9u",
        "IfWfAUgneq9z",
        "0_lrp6Uveq99",
        "CLs3C6qxeq-B",
        "_jZEML1heq-G",
        "8l9Ox5nEeq-N",
        "MYMTDFUyeq-V",
        "5DKaMx0Xeq-d",
        "heuyIVbWeq-j",
        "bJ4QBNrCeq-n",
        "WqgNLVaceq-1",
        "6ro-6eVkeq-5",
        "JX6NSV7Ieq-8",
        "WlDvGqjIeq_B",
        "8SuFhWOUeq_G",
        "oIfoiGe0eq_H",
        "TTJOZJdneq_I",
        "StXbl1toeq_M",
        "3zJtuP2ieq_O",
        "HdYdFcdTeq_P",
        "cVa4D96peq_U",
        "6EgP_u5oeq_V",
        "gUQbPbHOeq_W",
        "VdxxwBf3eq_b",
        "Ekg_RLTueq_f",
        "6qSWfivneq_g",
        "sH_XwaZGeq_q",
        "s02P4S-Weq_r",
        "v6sIQVYaeq_t",
        "eod0452beq_w",
        "Rl_KMJA8eq_y",
        "LLNXaxezeq_0",
        "AKE0X-ppeq_6",
        "JSv4iMtieq_8",
        "0q8x8tyxeq__",
        "cDUea5oAerAA",
        "oMbs1uKLerAC",
        "YJG-i3iGerAE",
        "-SXuNJi_erAK",
        "yfNa9tXGerAN",
        "pKR76FPverAP",
        "J-4Z9g5lerAU",
        "d4y1BBG4erAX",
        "stmCtMCferAb",
        "0HgQG8YjerAn",
        "icNg_6HgerAo",
        "_N4eIFgserAr",
        "FvJZ8saNerAu",
        "oh0Xv8FnerAw",
        "tVhMYLWkerA0",
        "fLBZWqvMerA4",
        "j9kHjlSeerA6",
        "dRZKEuU_erA6",
        "xIwG_Uj3erBB",
        "YYtsCbJperBD",
        "oWl0Ha2RerBD"
      ],
      "toc_visible": true,
      "include_colab_link": true
    },
    "kernelspec": {
      "display_name": "Python 3",
      "language": "python",
      "name": "python3"
    }
  },
  "cells": [
    {
      "cell_type": "markdown",
      "metadata": {
        "id": "view-in-github",
        "colab_type": "text"
      },
      "source": [
        "<a href=\"https://colab.research.google.com/github/codeforhk/python_course/blob/master/py_class_3.ipynb\" target=\"_parent\"><img src=\"https://colab.research.google.com/assets/colab-badge.svg\" alt=\"Open In Colab\"/></a>"
      ]
    },
    {
      "metadata": {
        "id": "E_I6QftesBvW",
        "colab_type": "text"
      },
      "cell_type": "markdown",
      "source": [
        "\n",
        "    \n",
        "<img src=\"https://www.codefor.hk/wp-content/themes/DC_CUSTOM_THEME/img/logo-code-for-hk-logo.svg\" height=\"150\" width=\"150\"  align=\"center\"/>\n",
        "<h1><center>Code For Hong Kong - Python class 3</center></h1>\n",
        "<h6><center>Written by Patrick Leung</center></h6>"
      ]
    },
    {
      "metadata": {
        "id": "hffP3JWisQfH",
        "colab_type": "text"
      },
      "cell_type": "markdown",
      "source": [
        "# 5.0.0 Recap"
      ]
    },
    {
      "metadata": {
        "id": "ZC25o1Z7q-Ai",
        "colab_type": "text"
      },
      "cell_type": "markdown",
      "source": [
        "### Review 5.0.0 Concepts"
      ]
    },
    {
      "metadata": {
        "id": "FltYBhLarQmO",
        "colab_type": "text"
      },
      "cell_type": "markdown",
      "source": [
        "- boolean\n",
        "- if else\n",
        "- for loop\n",
        "- while loop"
      ]
    },
    {
      "metadata": {
        "id": "0I2A3sG2r6-W",
        "colab_type": "text"
      },
      "cell_type": "markdown",
      "source": [
        "### Review 5.3.0 Homework\n",
        "\n",
        "Take two lists, say for example these two:\n",
        "\n",
        "a = [1, 1, 2, 3, 5, 8, 13, 21, 34, 55, 89]\n",
        "\n",
        "b = [1, 2, 3, 4, 5, 6, 7, 8, 9, 10, 11, 12, 13]\n",
        "\n",
        "and write a program that returns a list that contains only the elements that are common between the lists (without duplicates). Make sure your program works on two lists of different sizes."
      ]
    },
    {
      "metadata": {
        "id": "BKrIPZy8s56H",
        "colab_type": "code",
        "colab": {}
      },
      "cell_type": "code",
      "source": [
        ""
      ],
      "execution_count": 0,
      "outputs": []
    },
    {
      "metadata": {
        "id": "qUIjKAg6rpYa",
        "colab_type": "text"
      },
      "cell_type": "markdown",
      "source": [
        "### Review 5.4.0 Homework\n",
        "\n",
        " Given a word, compute the scrabble score for that word. Letter Values You'll need these:\n",
        "\n",
        "A, E, I, O, U, L, N, R, S, T = 1 points\n",
        "D, G = 2 points\n",
        "B, C, M, P = 3 points\n",
        "F, H, V, W, Y = 4 points\n",
        "k = 5 points\n",
        "J, X = 8 points\n",
        "Q, Z = 10 points\n",
        "Examples \"cabbage\" should be scored as worth 14 points:\n",
        "\n",
        "3 points for C 1 point for A, twice 3 points for B, twice 2 points for G 1 point for E\n",
        "\n",
        "And to total: 3 + 21 + 23 + 2 + 1 = 3 + 2 + 6 + 3 = 5 + 9 = 14\n",
        "\n",
        "\n"
      ]
    },
    {
      "metadata": {
        "id": "TsEJks_erj_4",
        "colab_type": "code",
        "colab": {}
      },
      "cell_type": "code",
      "source": [
        "letters = {'A':1,'E':1,'I':1,'O':1,'U':1,'L':1,'N':1,'R':1,'S':1,'T':1,\n",
        "          'D':2,'G':2,\n",
        "          'B':3,'C':3,'M':3,'P':3,\n",
        "          'F':4,'H':4,'V':4,'W':4,'Y':4,\n",
        "          'K':5,\n",
        "          'J':8,'X':8,\n",
        "          'Q':10,'Z':10}\n",
        "\n",
        "word_input = str(input(\"type your word: \")).upper()\n",
        "points = 0\n",
        "\n",
        "for i in word_input:\n",
        "    points = points + letters[i]\n",
        "print(points)"
      ],
      "execution_count": 0,
      "outputs": []
    },
    {
      "metadata": {
        "id": "0pQGnkwGqwII",
        "colab_type": "text"
      },
      "cell_type": "markdown",
      "source": [
        "### Review 5.5.0 - Goldman Sachs interview\n",
        "Go through a string and find the first non-duplicate letter."
      ]
    },
    {
      "metadata": {
        "id": "ml0HQPQntBhe",
        "colab_type": "code",
        "colab": {}
      },
      "cell_type": "code",
      "source": [
        "text = 'aabbccddeefgghhijj'\n",
        "\n",
        "#define a dictionary to store the data\n",
        "char = {}\n",
        "n = 0\n",
        "\n",
        "#loop through all text once to get the characters count & order of first occurance\n",
        "for i in text:\n",
        "  if i not in char.keys():\n",
        "    char[i] = [1, n]\n",
        "  else:\n",
        "    char[i] = [char[i][0]+1, char[i][1]]\n",
        "  n = n + 1\n",
        "\n",
        "#loop through the dictionary to find minimum count if occurance ==1  \n",
        "min_count = min([char[i][1] for i in char.keys() if char[i][0]==1])\n",
        "\n",
        "#finally find the relevant field in the dictionary\n",
        "for i in char.keys():\n",
        "  if char[i][0]==1 and char[i][1]==min_count:\n",
        "    print(i)"
      ],
      "execution_count": 0,
      "outputs": []
    },
    {
      "metadata": {
        "colab_type": "text",
        "id": "3GavFz5PrKrl"
      },
      "cell_type": "markdown",
      "source": [
        "# 6.0.0 Python Functions\n"
      ]
    },
    {
      "metadata": {
        "id": "TSvMVattlyoZ",
        "colab_type": "text"
      },
      "cell_type": "markdown",
      "source": [
        "## 6.1.0 What is a function?"
      ]
    },
    {
      "metadata": {
        "id": "tBDnBw0t5G3T",
        "colab_type": "text"
      },
      "cell_type": "markdown",
      "source": [
        "A function is a block of organized, reusable code that is used to perform a single, related action. Functions provide better modularity for your application and a high degree of code reusing.\n",
        "\n",
        " You’re already familiar with the print(), input(), and len() functions from the previous chapters. Python provides several builtin functions like these, but you can also write your own functions.  These functions are called user-defined functions.\n"
      ]
    },
    {
      "metadata": {
        "id": "RltB37Zzo4Tg",
        "colab_type": "text"
      },
      "cell_type": "markdown",
      "source": [
        "\n",
        "![Image of Yaktocat](https://cdn-learn.adafruit.com/assets/assets/000/058/742/medium800/circuitpython_function-big.png?1533749193)\n",
        "\n",
        "\n",
        "\n",
        "\n"
      ]
    },
    {
      "metadata": {
        "id": "wy7v4YkZp-hK",
        "colab_type": "text"
      },
      "cell_type": "markdown",
      "source": [
        "![Image of Yaktocat](https://d2h0cx97tjks2p.cloudfront.net/blogs/wp-content/uploads/sites/2/2018/01/Python-Functions.jpg)\n",
        "\n",
        "\n",
        "\n"
      ]
    },
    {
      "metadata": {
        "id": "Q7nHGC3FOHrR",
        "colab_type": "text"
      },
      "cell_type": "markdown",
      "source": [
        "## 6.2.0 The structure and syntax of a function"
      ]
    },
    {
      "metadata": {
        "id": "fC34WwIj5NHb",
        "colab_type": "text"
      },
      "cell_type": "markdown",
      "source": [
        "- Function blocks begin with the keyword def followed by the function name and parentheses ( ( ) ).\n",
        "\n",
        "- Any input parameters or arguments should be placed within these parentheses. You can also define parameters inside these parentheses.\n",
        "\n",
        "- The first statement of a function can be an optional statement - the documentation string of the function or docstring.\n",
        "\n",
        "- The code block within every function starts with a colon (:) and is indented.\n",
        "\n",
        "- The statement return [expression] exits a function, optionally passing back an expression to the caller. A return statement with no arguments is the same as return None.\n",
        "\n",
        "\n"
      ]
    },
    {
      "metadata": {
        "id": "7IcmOIYWos-K",
        "colab_type": "text"
      },
      "cell_type": "markdown",
      "source": [
        "![Image of Yaktocat](https://swcarpentry.github.io/python-novice-inflammation/fig/python-function.svg)\n",
        "\n"
      ]
    },
    {
      "metadata": {
        "id": "soAzgs81szOq",
        "colab_type": "code",
        "outputId": "7bd2d83f-f214-4965-a4c8-2f73fa17bd92",
        "colab": {
          "base_uri": "https://localhost:8080/",
          "height": 34
        }
      },
      "cell_type": "code",
      "source": [
        "def fahr_to_celsius(temp):\n",
        "    return ((temp - 32)) * (5/9)\n",
        "\n",
        "fahr_to_celsius(100)    "
      ],
      "execution_count": 0,
      "outputs": [
        {
          "output_type": "execute_result",
          "data": {
            "text/plain": [
              "37.77777777777778"
            ]
          },
          "metadata": {
            "tags": []
          },
          "execution_count": 35
        }
      ]
    },
    {
      "metadata": {
        "id": "ZBp00ReqrRsO",
        "colab_type": "text"
      },
      "cell_type": "markdown",
      "source": [
        "### 6.2.1 The syntax of function"
      ]
    },
    {
      "metadata": {
        "id": "HSYiyguPpNPU",
        "colab_type": "text"
      },
      "cell_type": "markdown",
      "source": [
        "![Image of Yaktocat](http://www.informit.com/content/images/chap2_9780134076430/elementLinks/p0215_01.jpg)\n",
        "\n",
        "\n"
      ]
    },
    {
      "metadata": {
        "id": "vY6UEg8YrWBO",
        "colab_type": "text"
      },
      "cell_type": "markdown",
      "source": [
        "To make it more coder friendly, this is how it looks like in a code format"
      ]
    },
    {
      "metadata": {
        "id": "q5mHE4ctd-Y9",
        "colab_type": "code",
        "colab": {}
      },
      "cell_type": "code",
      "source": [
        "def function-name(Parameter list):\n",
        "    statements, i.e. the function body"
      ],
      "execution_count": 0,
      "outputs": []
    },
    {
      "metadata": {
        "id": "lSh1rSk-r6-q",
        "colab_type": "text"
      },
      "cell_type": "markdown",
      "source": [
        "#### Example 6.2.1\n",
        "\n",
        "Try write a function to return the sum of 2 number"
      ]
    },
    {
      "metadata": {
        "id": "-v9acE9KsEM4",
        "colab_type": "code",
        "outputId": "a5c6a83e-130a-4a5a-ea6b-88f30733dd34",
        "colab": {
          "base_uri": "https://localhost:8080/",
          "height": 34
        }
      },
      "cell_type": "code",
      "source": [
        "def sum_of_two_number( a, b):\n",
        "  return a+b\n",
        "\n",
        "# to call the function\n",
        "sum_2(1,2)"
      ],
      "execution_count": 0,
      "outputs": [
        {
          "output_type": "execute_result",
          "data": {
            "text/plain": [
              "3"
            ]
          },
          "metadata": {
            "tags": []
          },
          "execution_count": 33
        }
      ]
    },
    {
      "metadata": {
        "id": "Nnu6HsZxsNdQ",
        "colab_type": "text"
      },
      "cell_type": "markdown",
      "source": [
        "#### Exercise 6.2.1\n",
        "\n",
        "Try write a function to return the multiple of 3 numbers"
      ]
    },
    {
      "metadata": {
        "id": "CzA2cI4isUnV",
        "colab_type": "code",
        "colab": {}
      },
      "cell_type": "code",
      "source": [
        "def mult_three_number():\n",
        "    # some logic\n",
        "    return "
      ],
      "execution_count": 0,
      "outputs": []
    },
    {
      "metadata": {
        "id": "ao-WGFCXshOr",
        "colab_type": "text"
      },
      "cell_type": "markdown",
      "source": [
        "## 6.2.2 Parameters of function\n",
        "\n",
        "If you think about it, function is just a wrapper of a logic, with the input as parameter, and output as return"
      ]
    },
    {
      "metadata": {
        "id": "QumlRkUNusSP",
        "colab_type": "text"
      },
      "cell_type": "markdown",
      "source": [
        "#### Example 6.2.2"
      ]
    },
    {
      "metadata": {
        "id": "rj6nVA1DtAF2",
        "colab_type": "code",
        "colab": {}
      },
      "cell_type": "code",
      "source": [
        "# a function can still work without a parameter\n",
        "\n",
        "def jay_chou():\n",
        "  return \"is by default, cool\"\n",
        "\n",
        "anushree()"
      ],
      "execution_count": 0,
      "outputs": []
    },
    {
      "metadata": {
        "id": "Bo9N1Go7str1",
        "colab_type": "code",
        "outputId": "8afef7ea-3634-4857-8140-9266144195f7",
        "colab": {
          "base_uri": "https://localhost:8080/",
          "height": 34
        }
      },
      "cell_type": "code",
      "source": [
        "# a function can work with an input parameter, or even multiple\n",
        "\n",
        "def jay_chou( profession):\n",
        "  if profession == 'singer':\n",
        "      return \"is cool\"\n",
        "  else:\n",
        "      return \"he sucks when he doesn't sing\"\n",
        "\n",
        "jay_chou('singer')"
      ],
      "execution_count": 0,
      "outputs": [
        {
          "output_type": "execute_result",
          "data": {
            "text/plain": [
              "'is cool'"
            ]
          },
          "metadata": {
            "tags": []
          },
          "execution_count": 38
        }
      ]
    },
    {
      "metadata": {
        "id": "Yq_QIDEgth_-",
        "colab_type": "code",
        "outputId": "a9bf447a-06b6-442c-9a36-2f0bd3ccab62",
        "colab": {
          "base_uri": "https://localhost:8080/",
          "height": 34
        }
      },
      "cell_type": "code",
      "source": [
        "# or you can do this\n",
        "\n",
        "jay_chou(profession = 'singer')"
      ],
      "execution_count": 0,
      "outputs": [
        {
          "output_type": "execute_result",
          "data": {
            "text/plain": [
              "'is cool'"
            ]
          },
          "metadata": {
            "tags": []
          },
          "execution_count": 39
        }
      ]
    },
    {
      "metadata": {
        "id": "JqGwFZcJtlx3",
        "colab_type": "code",
        "colab": {}
      },
      "cell_type": "code",
      "source": [
        "# You can also add a default variable. Here I set him to be a singer by default\n",
        "\n",
        "def jay_chou( profession = 'singer'):\n",
        "  if profession == 'singer':\n",
        "      return \"is cool\"\n",
        "  else:\n",
        "      return \"he sucks when he doesn't sing\""
      ],
      "execution_count": 0,
      "outputs": []
    },
    {
      "metadata": {
        "id": "ZANOSAketwTq",
        "colab_type": "code",
        "outputId": "39a9af69-dc0f-45b0-e8c6-00c697cb2245",
        "colab": {
          "base_uri": "https://localhost:8080/",
          "height": 34
        }
      },
      "cell_type": "code",
      "source": [
        "# You can also add multiple variable\n",
        "\n",
        "def jay_chou(year, profession = 'singer'):\n",
        "  if year > 2010:\n",
        "      return \"his song sucks after 2010\"\n",
        "      \n",
        "  if profession == 'singer':\n",
        "      return \"is cool\"\n",
        "  else:\n",
        "      return \"he sucks when he doesn't sing\"\n",
        "    \n",
        "jay_chou(2009, 'singer')"
      ],
      "execution_count": 0,
      "outputs": [
        {
          "output_type": "execute_result",
          "data": {
            "text/plain": [
              "'is cool'"
            ]
          },
          "metadata": {
            "tags": []
          },
          "execution_count": 43
        }
      ]
    },
    {
      "metadata": {
        "id": "Yl99-mZHd_XN",
        "colab_type": "text"
      },
      "cell_type": "markdown",
      "source": [
        "Docstring is a description of the function. You can add it by using 3 \""
      ]
    },
    {
      "metadata": {
        "id": "WXUXQRkll2Qd",
        "colab_type": "code",
        "colab": {}
      },
      "cell_type": "code",
      "source": [
        "def add(x, y):\n",
        "    \"\"\"Return x plus y\"\"\"\n",
        "    return x + y"
      ],
      "execution_count": 0,
      "outputs": []
    },
    {
      "metadata": {
        "id": "XIDA2rLUuN6N",
        "colab_type": "code",
        "colab": {}
      },
      "cell_type": "code",
      "source": [
        "def jay_chou(year, profession = 'singer'):\n",
        "  ''' \n",
        "  This is a function to explain jaychou is a good singer before 2010, otherwise he sucks\n",
        "  \n",
        "  arg:\n",
        "      year = numeric year\n",
        "      profession: can be any string\n",
        "  \n",
        "  '''\n",
        "  if year > 2010:\n",
        "      return \"his song sucks after 2010\"\n",
        "      \n",
        "  if profession == 'singer':\n",
        "      return \"is cool\"\n",
        "  else:\n",
        "      return \"he sucks when he doesn't sing\""
      ],
      "execution_count": 0,
      "outputs": []
    },
    {
      "metadata": {
        "id": "06Z5GGmXuhef",
        "colab_type": "code",
        "colab": {}
      },
      "cell_type": "code",
      "source": [
        "# and you can call by using a question mark\n",
        "\n",
        "jay_chou?"
      ],
      "execution_count": 0,
      "outputs": []
    },
    {
      "metadata": {
        "id": "kFamRP1Ml5Tr",
        "colab_type": "text"
      },
      "cell_type": "markdown",
      "source": [
        "#### Example 6.2.2\n",
        "\n",
        "a) Try write a function of suming 2 number\n",
        "\n",
        "b) Try write a function of multiplying 2 number\n",
        "\n",
        "c) Try write a function with an extra variable, that if mode = \"sum\", do the sum of 2 number. If mode = \"multiply\", do the multiply of 2 number\n",
        "\n",
        "d) Try set the default mode as sum\n",
        "\n",
        "e) Try use a doc string to explain that"
      ]
    },
    {
      "metadata": {
        "id": "2S4sCMemOJ-K",
        "colab_type": "text"
      },
      "cell_type": "markdown",
      "source": [
        "## 6.3.0 Local and Global Scope"
      ]
    },
    {
      "metadata": {
        "id": "sz4ZhVcAOhfx",
        "colab_type": "text"
      },
      "cell_type": "markdown",
      "source": [
        "In python, there are local variables and global variables. \n",
        "\n",
        "Local Variables Cannot Be Used in the Global Scope"
      ]
    },
    {
      "metadata": {
        "id": "aJZzdAQXOs_9",
        "colab_type": "text"
      },
      "cell_type": "markdown",
      "source": [
        "#### Example 6.3.0 Local and Global Variables with the Same Name"
      ]
    },
    {
      "metadata": {
        "id": "ddTYafEdyjAY",
        "colab_type": "code",
        "outputId": "c6694bb6-52a9-4583-8d53-bb2c7a916271",
        "colab": {
          "base_uri": "https://localhost:8080/",
          "height": 34
        }
      },
      "cell_type": "code",
      "source": [
        "x = 10\n",
        "\n",
        "def something():\n",
        "  x = 100\n",
        "  return x\n",
        "\n",
        "print(x)"
      ],
      "execution_count": 0,
      "outputs": [
        {
          "output_type": "stream",
          "text": [
            "10\n"
          ],
          "name": "stdout"
        }
      ]
    },
    {
      "metadata": {
        "id": "HDaRegomPCD8",
        "colab_type": "text"
      },
      "cell_type": "markdown",
      "source": [
        "## 6.4.0 Error Handling"
      ]
    },
    {
      "metadata": {
        "id": "4wAcJfXPUqfL",
        "colab_type": "text"
      },
      "cell_type": "markdown",
      "source": [
        "To handle Error, you can use try & except"
      ]
    },
    {
      "metadata": {
        "id": "qs4QZGV4VEBI",
        "colab_type": "code",
        "outputId": "d2281fd0-10b2-42ff-9c26-f3fa9372cbcb",
        "colab": {
          "base_uri": "https://localhost:8080/",
          "height": 34
        }
      },
      "cell_type": "code",
      "source": [
        "\n",
        "try:\n",
        "  asdfasdfasdf\n",
        "except:\n",
        "  print(\"this is an error!\")\n"
      ],
      "execution_count": 0,
      "outputs": [
        {
          "output_type": "stream",
          "text": [
            "this is an error!\n"
          ],
          "name": "stdout"
        }
      ]
    },
    {
      "metadata": {
        "id": "sXV5X5QkcZWi",
        "colab_type": "text"
      },
      "cell_type": "markdown",
      "source": [
        "# 7.0.0 Python Recap & advance technique\n"
      ]
    },
    {
      "metadata": {
        "id": "D2vRhPSScpef",
        "colab_type": "text"
      },
      "cell_type": "markdown",
      "source": [
        "![Image of Yaktocat](https://cdn.intellipaat.com/mediaFiles/2018/11/Python-Basics-Cheat-Sheet-1-1.png)\n"
      ]
    },
    {
      "metadata": {
        "id": "-JpPxFBSasLm",
        "colab_type": "text"
      },
      "cell_type": "markdown",
      "source": [
        "## 7.1.0 Loop recap"
      ]
    },
    {
      "metadata": {
        "id": "oB5rMvYOasLn",
        "colab_type": "text"
      },
      "cell_type": "markdown",
      "source": [
        "- You can loop through a list, a string or a range(index)\n",
        "- If you want to add all operation in a loop into a list, you can throw them inside an empty list"
      ]
    },
    {
      "metadata": {
        "id": "saxonqpgasLo",
        "colab_type": "code",
        "colab": {}
      },
      "cell_type": "code",
      "source": [
        "x = 'patrick'"
      ],
      "execution_count": 0,
      "outputs": []
    },
    {
      "metadata": {
        "id": "W3hIkx0AasLs",
        "colab_type": "code",
        "outputId": "8f948414-a7ed-4084-83d5-06c6480dc5e7",
        "colab": {}
      },
      "cell_type": "code",
      "source": [
        "for i in range(len(x)):\n",
        "    print(x[i])"
      ],
      "execution_count": 0,
      "outputs": [
        {
          "output_type": "stream",
          "text": [
            "p\n",
            "a\n",
            "t\n",
            "r\n",
            "i\n",
            "c\n",
            "k\n"
          ],
          "name": "stdout"
        }
      ]
    },
    {
      "metadata": {
        "id": "UG-vypceasLx",
        "colab_type": "code",
        "outputId": "eb0ebbff-8a3e-4f29-cf31-ff4613e0cff0",
        "colab": {}
      },
      "cell_type": "code",
      "source": [
        "#list\n",
        "x = 'patrick'\n",
        "for i in range(len(x)):\n",
        "    print(i)\n"
      ],
      "execution_count": 0,
      "outputs": [
        {
          "output_type": "stream",
          "text": [
            "0\n",
            "1\n",
            "2\n",
            "3\n",
            "4\n",
            "5\n",
            "6\n"
          ],
          "name": "stdout"
        }
      ]
    },
    {
      "metadata": {
        "id": "SUAmLYsSasL0",
        "colab_type": "code",
        "colab": {}
      },
      "cell_type": "code",
      "source": [
        "#list\n",
        "x = [1,2,3]\n",
        "for i in x:\n",
        "    print(i*2)\n",
        "\n",
        "#string\n",
        "x = 'data'\n",
        "for i in x:\n",
        "    print(i)\n",
        "    \n",
        "#index\n",
        "for i in range(3):\n",
        "    print(i)"
      ],
      "execution_count": 0,
      "outputs": []
    },
    {
      "metadata": {
        "scrolled": true,
        "id": "gOKgndxqasL2",
        "colab_type": "code",
        "outputId": "011dde99-6d48-4058-87cb-1c7fee3141a0",
        "colab": {}
      },
      "cell_type": "code",
      "source": [
        "#throw it to empty list\n",
        "empty_list = [] #this is an empty list\n",
        "for i in range(3):\n",
        "    empty_list.append(i)\n",
        "empty_list"
      ],
      "execution_count": 0,
      "outputs": [
        {
          "output_type": "execute_result",
          "data": {
            "text/plain": [
              "[0, 1, 2]"
            ]
          },
          "metadata": {
            "tags": []
          },
          "execution_count": 6
        }
      ]
    },
    {
      "metadata": {
        "id": "DgRoBN8rasL6",
        "colab_type": "text"
      },
      "cell_type": "markdown",
      "source": [
        "#### Exercise 7.1.1"
      ]
    },
    {
      "metadata": {
        "id": "eHdlgwt1asL6",
        "colab_type": "text"
      },
      "cell_type": "markdown",
      "source": [
        "Write a loop to multiply every number by 3 in list [1,2,3,4]. Output your answer in a list"
      ]
    },
    {
      "metadata": {
        "id": "GD1z84JAasL7",
        "colab_type": "code",
        "outputId": "a1e4d653-ab71-4015-8423-24edcbda7923",
        "colab": {}
      },
      "cell_type": "code",
      "source": [
        "x = [1,2,3,4]\n",
        "#your code here\n",
        "\n",
        "for i in x:\n",
        "    print(i*3)"
      ],
      "execution_count": 0,
      "outputs": [
        {
          "output_type": "stream",
          "text": [
            "3\n",
            "6\n",
            "9\n",
            "12\n"
          ],
          "name": "stdout"
        }
      ]
    },
    {
      "metadata": {
        "id": "UdjewZ9xasL-",
        "colab_type": "code",
        "outputId": "4b68197a-fc80-4c40-9bcf-7bbb50b2f8a6",
        "colab": {}
      },
      "cell_type": "code",
      "source": [
        "[(i*3)  for i in x if i!= 2]"
      ],
      "execution_count": 0,
      "outputs": [
        {
          "output_type": "execute_result",
          "data": {
            "text/plain": [
              "[3, 9, 12]"
            ]
          },
          "metadata": {
            "tags": []
          },
          "execution_count": 15
        }
      ]
    },
    {
      "metadata": {
        "id": "uhF_nkFMasMC",
        "colab_type": "code",
        "outputId": "aba4cc79-e95f-4230-9e03-54e463e4d825",
        "colab": {}
      },
      "cell_type": "code",
      "source": [
        "[(i*3) if i!=2 else i for i in x ]"
      ],
      "execution_count": 0,
      "outputs": [
        {
          "output_type": "execute_result",
          "data": {
            "text/plain": [
              "[3, 2, 9, 12]"
            ]
          },
          "metadata": {
            "tags": []
          },
          "execution_count": 14
        }
      ]
    },
    {
      "metadata": {
        "id": "cyxlKZtXasMG",
        "colab_type": "text"
      },
      "cell_type": "markdown",
      "source": [
        "### 7.1.2 list comprehension"
      ]
    },
    {
      "metadata": {
        "id": "FQGVbK48asMH",
        "colab_type": "text"
      },
      "cell_type": "markdown",
      "source": [
        "- In python, there is a efficient way to write loop, which is called the list comprehension. It simply \"flatten\" the for loop into a one liner. \n",
        "- Notice that it is bounded by a square bracket? square bracket is a sign for a 'list', and it is there because list comprehension will always output as a list!"
      ]
    },
    {
      "metadata": {
        "id": "YcfutJ_UasMH",
        "colab_type": "text"
      },
      "cell_type": "markdown",
      "source": [
        "![Image of Yaktocat](http://python-3-patterns-idioms-test.readthedocs.io/en/latest/_images/listComprehensions.gif)\n",
        "\n"
      ]
    },
    {
      "metadata": {
        "id": "xsjNHRUBasMI",
        "colab_type": "code",
        "colab": {}
      },
      "cell_type": "code",
      "source": [
        "empty_list = []\n",
        "for i in [1,2,3]:\n",
        "    empty_list.append(i*2)"
      ],
      "execution_count": 0,
      "outputs": []
    },
    {
      "metadata": {
        "id": "sIu5mCKzasML",
        "colab_type": "code",
        "outputId": "ba2c7f40-1d22-496f-cb51-d6f5adf5b0e0",
        "colab": {}
      },
      "cell_type": "code",
      "source": [
        "[i*2 for i in [1,2,3]]"
      ],
      "execution_count": 0,
      "outputs": [
        {
          "output_type": "execute_result",
          "data": {
            "text/plain": [
              "[2, 4, 6]"
            ]
          },
          "metadata": {
            "tags": []
          },
          "execution_count": 10
        }
      ]
    },
    {
      "metadata": {
        "id": "JM5itL0oasMO",
        "colab_type": "code",
        "outputId": "84a21452-2651-4266-80bf-1d5ee7b3d3a4",
        "colab": {}
      },
      "cell_type": "code",
      "source": [
        "firstexample = [i*2 for i in [1,2,3]]\n",
        "print(firstexample)\n",
        "\n",
        "secondexample = [i for i in 'data']\n",
        "print(secondexample)\n",
        "\n",
        "thirdexample = [i for i in range(3)]\n",
        "print(thirdexample)"
      ],
      "execution_count": 0,
      "outputs": [
        {
          "output_type": "stream",
          "text": [
            "[2, 4, 6]\n",
            "['d', 'a', 't', 'a']\n",
            "[0, 1, 2]\n"
          ],
          "name": "stdout"
        }
      ]
    },
    {
      "metadata": {
        "id": "kF6pRllYasMS",
        "colab_type": "text"
      },
      "cell_type": "markdown",
      "source": [
        "#### Example 7.1.2 Convert loop to list comprehension"
      ]
    },
    {
      "metadata": {
        "id": "eqVn5WGDasMT",
        "colab_type": "text"
      },
      "cell_type": "markdown",
      "source": [
        "- Write a for loop that loop from 0 to 3. Skip \"2\" in the loop\n",
        "- Transform this loop to list comprehension"
      ]
    },
    {
      "metadata": {
        "id": "xNAxyC6_asMV",
        "colab_type": "code",
        "outputId": "622bbade-96e2-4e46-ad7b-7bfc01bf93c5",
        "colab": {}
      },
      "cell_type": "code",
      "source": [
        "empty_list = []\n",
        "for i in range(4):\n",
        "    if(i!=2):\n",
        "        empty_list.append(i)\n",
        "empty_list\n"
      ],
      "execution_count": 0,
      "outputs": [
        {
          "output_type": "execute_result",
          "data": {
            "text/plain": [
              "[0, 1, 3]"
            ]
          },
          "metadata": {
            "tags": []
          },
          "execution_count": 17
        }
      ]
    },
    {
      "metadata": {
        "id": "Bg1oTeONasMa",
        "colab_type": "code",
        "outputId": "66f00654-e3da-40ac-ad34-946664ea4efe",
        "colab": {}
      },
      "cell_type": "code",
      "source": [
        "['double' if i==2 else i for i in range(4)  ]"
      ],
      "execution_count": 0,
      "outputs": [
        {
          "output_type": "execute_result",
          "data": {
            "text/plain": [
              "[0, 1, 'double', 3]"
            ]
          },
          "metadata": {
            "tags": []
          },
          "execution_count": 14
        }
      ]
    },
    {
      "metadata": {
        "id": "MNtoS5oIasMe",
        "colab_type": "text"
      },
      "cell_type": "markdown",
      "source": [
        "- Write a for loop that loop from 0 to 3. **Convert '2' into '_'**\n",
        "- Transform this loop to list comprehension\n"
      ]
    },
    {
      "metadata": {
        "id": "1iQOGvZgasMf",
        "colab_type": "code",
        "outputId": "7fca8981-9a77-4232-f4ed-f7c749991574",
        "colab": {}
      },
      "cell_type": "code",
      "source": [
        "empty_list = []\n",
        "for i in range(4):\n",
        "    if(i!=2):\n",
        "        empty_list.append(i)\n",
        "    else:\n",
        "        empty_list.append('_')\n",
        "empty_list"
      ],
      "execution_count": 0,
      "outputs": [
        {
          "output_type": "execute_result",
          "data": {
            "text/plain": [
              "[0, 1, '_', 3]"
            ]
          },
          "metadata": {
            "tags": []
          },
          "execution_count": 15
        }
      ]
    },
    {
      "metadata": {
        "id": "xlPTF_rIasMj",
        "colab_type": "code",
        "colab": {}
      },
      "cell_type": "code",
      "source": [
        "#your code here"
      ],
      "execution_count": 0,
      "outputs": []
    },
    {
      "metadata": {
        "id": "R6gfeCjgasMm",
        "colab_type": "text"
      },
      "cell_type": "markdown",
      "source": [
        "#### Exercise 7.1.2 Convert loop to list comprehension"
      ]
    },
    {
      "metadata": {
        "id": "0PVtiua2asMn",
        "colab_type": "text"
      },
      "cell_type": "markdown",
      "source": [
        "convert below to list comprehension"
      ]
    },
    {
      "metadata": {
        "id": "Lf9mPdbPasMn",
        "colab_type": "code",
        "outputId": "0c18adaf-a634-4883-fa8d-d54b6fa4d670",
        "colab": {}
      },
      "cell_type": "code",
      "source": [
        "empty_list = []\n",
        "for i  in 'abc':\n",
        "    if i=='a':\n",
        "        empty_list.append('b')\n",
        "    else:\n",
        "        empty_list.append(i)\n",
        "empty_list"
      ],
      "execution_count": 0,
      "outputs": [
        {
          "output_type": "execute_result",
          "data": {
            "text/plain": [
              "['b', 'b', 'c']"
            ]
          },
          "metadata": {
            "tags": []
          },
          "execution_count": 35
        }
      ]
    },
    {
      "metadata": {
        "id": "j-vp-4QVasMr",
        "colab_type": "code",
        "colab": {}
      },
      "cell_type": "code",
      "source": [
        "#your code here"
      ],
      "execution_count": 0,
      "outputs": []
    },
    {
      "metadata": {
        "id": "1qQd25zAasMt",
        "colab_type": "text"
      },
      "cell_type": "markdown",
      "source": [
        "#### Example 7.1.3 Advance list comprehension"
      ]
    },
    {
      "metadata": {
        "id": "mxoAIODFasMu",
        "colab_type": "text"
      },
      "cell_type": "markdown",
      "source": [
        "- Given \n",
        "x = ['a','b','c','d']\n",
        "y = [0,1,2,3]\n",
        "c = 'c'\n",
        "- if x = c , replace x with the corresponding position in y\n",
        "- Transform the loop to list comprehension"
      ]
    },
    {
      "metadata": {
        "id": "GHv0jK3TasMv",
        "colab_type": "code",
        "outputId": "d5a7a74f-e336-4696-d07c-c95e040bc9ed",
        "colab": {}
      },
      "cell_type": "code",
      "source": [
        "y = [0,1,2,3]\n",
        "x = ['a','b','c','d']\n",
        "c = 'c'\n",
        "\n",
        "empty_list = []\n",
        "for i in range(len(y)):\n",
        "    if(x[i]== 'c'):\n",
        "        empty_list.append(y[i])\n",
        "    else:\n",
        "        empty_list.append(x[i])\n",
        "print(empty_list)"
      ],
      "execution_count": 0,
      "outputs": [
        {
          "output_type": "stream",
          "text": [
            "['a', 'b', 2, 'd']\n"
          ],
          "name": "stdout"
        }
      ]
    },
    {
      "metadata": {
        "id": "XSXJxji1asM0",
        "colab_type": "code",
        "outputId": "419a3ed2-acfd-45bd-d5b7-b3fedb0eb2ea",
        "colab": {}
      },
      "cell_type": "code",
      "source": [
        "[y[i] if x[i]==c else x[i] for i in  range(len(y))]"
      ],
      "execution_count": 0,
      "outputs": [
        {
          "output_type": "execute_result",
          "data": {
            "text/plain": [
              "['a', 'b', 2, 'd']"
            ]
          },
          "metadata": {
            "tags": []
          },
          "execution_count": 42
        }
      ]
    },
    {
      "metadata": {
        "id": "80SCBQmoasM3",
        "colab_type": "text"
      },
      "cell_type": "markdown",
      "source": [
        "#### Exercise 7.1.3 Advance list comprehension"
      ]
    },
    {
      "metadata": {
        "id": "_zpzz61_asM6",
        "colab_type": "text"
      },
      "cell_type": "markdown",
      "source": [
        "- Given name = 'data',currentpick = ['_','_','t','_'], playerguess = 'd'\n",
        "- Write a for loop that loop index. Convert '_' to 'd' in the correct position\n",
        "- Transform this loop to list comprehension"
      ]
    },
    {
      "metadata": {
        "id": "MJ7WuJnuasM7",
        "colab_type": "code",
        "colab": {}
      },
      "cell_type": "code",
      "source": [
        "#your code here"
      ],
      "execution_count": 0,
      "outputs": []
    },
    {
      "metadata": {
        "id": "Xg1TH-qqasM9",
        "colab_type": "text"
      },
      "cell_type": "markdown",
      "source": [
        "## 7.2.0 While loop recap"
      ]
    },
    {
      "metadata": {
        "id": "Gor7f_fVasM-",
        "colab_type": "code",
        "outputId": "ca427234-f1f6-4696-fb23-d2778767b8aa",
        "colab": {}
      },
      "cell_type": "code",
      "source": [
        "n = 10\n",
        "while n > 5:\n",
        "    # do sth\n",
        "    print(n)\n",
        "    n = n - 1\n",
        "    "
      ],
      "execution_count": 0,
      "outputs": [
        {
          "output_type": "stream",
          "text": [
            "10\n",
            "9\n",
            "8\n",
            "7\n",
            "6\n"
          ],
          "name": "stdout"
        }
      ]
    },
    {
      "metadata": {
        "id": "LC3gTLxmasNB",
        "colab_type": "code",
        "outputId": "86b8272f-387d-4782-c708-8e91b97fc703",
        "colab": {}
      },
      "cell_type": "code",
      "source": [
        "live = 8\n",
        "while  live>0:\n",
        "    print(live)\n",
        "    live = live-1"
      ],
      "execution_count": 0,
      "outputs": [
        {
          "output_type": "stream",
          "text": [
            "8\n",
            "7\n",
            "6\n",
            "5\n",
            "4\n",
            "3\n",
            "2\n",
            "1\n"
          ],
          "name": "stdout"
        }
      ]
    },
    {
      "metadata": {
        "id": "SpjQ4Y7fasNE",
        "colab_type": "text"
      },
      "cell_type": "markdown",
      "source": [
        "#### Example 7.2.1  While loop"
      ]
    },
    {
      "metadata": {
        "id": "mYX8j_IjasNE",
        "colab_type": "text"
      },
      "cell_type": "markdown",
      "source": [
        "- write a while loop that breaks if life  =3"
      ]
    },
    {
      "metadata": {
        "scrolled": true,
        "id": "LL5xxBT0asNG",
        "colab_type": "code",
        "outputId": "16a8c159-1561-453c-b7ec-fd62f0648c11",
        "colab": {}
      },
      "cell_type": "code",
      "source": [
        "live = 5\n",
        "while  live>0:\n",
        "    print(live)\n",
        "    if live==3:\n",
        "        break\n",
        "    live = live-1"
      ],
      "execution_count": 0,
      "outputs": [
        {
          "output_type": "stream",
          "text": [
            "5\n",
            "4\n",
            "3\n"
          ],
          "name": "stdout"
        }
      ]
    },
    {
      "metadata": {
        "id": "k4ugVkVTasNL",
        "colab_type": "text"
      },
      "cell_type": "markdown",
      "source": [
        "#### Exercise 7.2.1 While loop"
      ]
    },
    {
      "metadata": {
        "id": "odT0djcRasNL",
        "colab_type": "text"
      },
      "cell_type": "markdown",
      "source": [
        "- Write a while loop that go from live = 0 to live = 10. Stop the loop if live >10\n",
        "- Try to write an infinite loop. How can you do that?"
      ]
    },
    {
      "metadata": {
        "id": "ctubMjF5asNM",
        "colab_type": "code",
        "colab": {}
      },
      "cell_type": "code",
      "source": [
        "#Your code here\n",
        "\n"
      ],
      "execution_count": 0,
      "outputs": []
    },
    {
      "metadata": {
        "id": "2APZPg46asNO",
        "colab_type": "text"
      },
      "cell_type": "markdown",
      "source": [
        "## Test 7.3.0  Test of concept"
      ]
    },
    {
      "metadata": {
        "id": "QsTduYi8asNO",
        "colab_type": "text"
      },
      "cell_type": "markdown",
      "source": [
        "Q1 Can you fix the bug?"
      ]
    },
    {
      "metadata": {
        "id": "LI2RSfT5asNP",
        "colab_type": "code",
        "outputId": "08e12c1b-9bd5-48db-cb60-a06bd92c1a16",
        "colab": {}
      },
      "cell_type": "code",
      "source": [
        "for i in [1,2,3,4]:\n",
        "    if i ==3:\n",
        "        print('three')\n",
        "    else:\n",
        "        print(i)"
      ],
      "execution_count": 0,
      "outputs": [
        {
          "output_type": "error",
          "ename": "SyntaxError",
          "evalue": "invalid syntax (<ipython-input-19-fe84ed5e44cd>, line 1)",
          "traceback": [
            "\u001b[0;36m  File \u001b[0;32m\"<ipython-input-19-fe84ed5e44cd>\"\u001b[0;36m, line \u001b[0;32m1\u001b[0m\n\u001b[0;31m    for i in [1,2,3,4]\u001b[0m\n\u001b[0m                      ^\u001b[0m\n\u001b[0;31mSyntaxError\u001b[0m\u001b[0;31m:\u001b[0m invalid syntax\n"
          ]
        }
      ]
    },
    {
      "metadata": {
        "id": "w-RR2P_qasNR",
        "colab_type": "text"
      },
      "cell_type": "markdown",
      "source": [
        "Q2 In the python memory system: \n",
        "- what is variable s after you execute the code?\n",
        "- what is variable x after you execute the code?\n",
        "- which variable is assigned as 24?\n"
      ]
    },
    {
      "metadata": {
        "id": "Wf1qcdH0asNS",
        "colab_type": "code",
        "outputId": "9e8feb9b-033d-4e47-b2d1-dd04d82e985f",
        "colab": {}
      },
      "cell_type": "code",
      "source": [
        "x = 12\n",
        "s = 1\n",
        "def this_is_a_function(x):\n",
        "    s = 10\n",
        "    x = x*2+s\n",
        "    print(x)\n",
        "    return(x)\n",
        "\n",
        "x = this_is_a_function(7)\n",
        "x"
      ],
      "execution_count": 0,
      "outputs": [
        {
          "output_type": "stream",
          "text": [
            "24\n"
          ],
          "name": "stdout"
        },
        {
          "output_type": "execute_result",
          "data": {
            "text/plain": [
              "24"
            ]
          },
          "metadata": {
            "tags": []
          },
          "execution_count": 24
        }
      ]
    },
    {
      "metadata": {
        "id": "okrcDC6UasNV",
        "colab_type": "text"
      },
      "cell_type": "markdown",
      "source": [
        "Q3 Playing with list\n",
        "- How do you get the second last object on the list?\n",
        "- how do I get the length of the list?"
      ]
    },
    {
      "metadata": {
        "id": "SrkEa4w2asNV",
        "colab_type": "code",
        "colab": {}
      },
      "cell_type": "code",
      "source": [
        "x = range(31,9999)\n",
        "#second last?"
      ],
      "execution_count": 0,
      "outputs": []
    },
    {
      "metadata": {
        "id": "DpjlWAZBasNa",
        "colab_type": "text"
      },
      "cell_type": "markdown",
      "source": [
        "Q4 \n",
        "- How to concatenate list a & b? concatenate them and name it c\n",
        "- now, multiple every item on the new list by 3\n"
      ]
    },
    {
      "metadata": {
        "id": "rmqhAr_nasNb",
        "colab_type": "code",
        "colab": {}
      },
      "cell_type": "code",
      "source": [
        "a = [1,2,3]\n",
        "b = [4,5,6]\n"
      ],
      "execution_count": 0,
      "outputs": []
    },
    {
      "metadata": {
        "id": "V8wN5CxUasNg",
        "colab_type": "code",
        "colab": {}
      },
      "cell_type": "code",
      "source": [
        "a+b"
      ],
      "execution_count": 0,
      "outputs": []
    },
    {
      "metadata": {
        "id": "ADxZ3wFyasNl",
        "colab_type": "code",
        "outputId": "4548d056-639d-4a90-ae5f-8ef5ac17e20f",
        "colab": {}
      },
      "cell_type": "code",
      "source": [
        "for i in a+b:\n",
        "    print(i*3)"
      ],
      "execution_count": 0,
      "outputs": [
        {
          "output_type": "stream",
          "text": [
            "3\n",
            "6\n",
            "9\n",
            "12\n",
            "15\n",
            "18\n"
          ],
          "name": "stdout"
        }
      ]
    },
    {
      "metadata": {
        "id": "9ZR1k6CEasNp",
        "colab_type": "code",
        "outputId": "2967e050-c6bf-4d58-8aa1-b7d32363d903",
        "colab": {}
      },
      "cell_type": "code",
      "source": [
        "import numpy as np\n",
        "np.array(a+b)*3\n"
      ],
      "execution_count": 0,
      "outputs": [
        {
          "output_type": "execute_result",
          "data": {
            "text/plain": [
              "array([ 3,  6,  9, 12, 15, 18])"
            ]
          },
          "metadata": {
            "tags": []
          },
          "execution_count": 41
        }
      ]
    },
    {
      "metadata": {
        "id": "1M9XAPDMasNs",
        "colab_type": "text"
      },
      "cell_type": "markdown",
      "source": [
        "Q5 Can you fix the bug? I want to concatenate x and y"
      ]
    },
    {
      "metadata": {
        "id": "bblWiqBjasNt",
        "colab_type": "code",
        "outputId": "ba784914-94dc-44dd-eb15-7d888ec18228",
        "colab": {}
      },
      "cell_type": "code",
      "source": [
        "x = [1,2,3]\n",
        "y = [4]\n",
        "x +y"
      ],
      "execution_count": 0,
      "outputs": [
        {
          "output_type": "execute_result",
          "data": {
            "text/plain": [
              "[1, 2, 3, 4]"
            ]
          },
          "metadata": {
            "tags": []
          },
          "execution_count": 37
        }
      ]
    },
    {
      "metadata": {
        "id": "yE-sEPLZasNw",
        "colab_type": "text"
      },
      "cell_type": "markdown",
      "source": [
        "Q6 can you fix the bug?"
      ]
    },
    {
      "metadata": {
        "scrolled": true,
        "id": "KwEXm-1BasNw",
        "colab_type": "code",
        "outputId": "e60bf8e9-16ce-4613-a879-90c71f3dff18",
        "colab": {}
      },
      "cell_type": "code",
      "source": [
        "[a if a==3 else '_' for a in [1,2,3] ]"
      ],
      "execution_count": 0,
      "outputs": [
        {
          "output_type": "execute_result",
          "data": {
            "text/plain": [
              "['_', '_', 3]"
            ]
          },
          "metadata": {
            "tags": []
          },
          "execution_count": 39
        }
      ]
    },
    {
      "metadata": {
        "id": "aO942k97asNz",
        "colab_type": "text"
      },
      "cell_type": "markdown",
      "source": [
        "Q7 Can you fix the bug?"
      ]
    },
    {
      "metadata": {
        "id": "or-BfdM4asNz",
        "colab_type": "code",
        "outputId": "afb8e332-8e1c-488b-f452-0c4d28ac53c4",
        "colab": {}
      },
      "cell_type": "code",
      "source": [
        "[a  for a in [1,2,3] if a==3  ]"
      ],
      "execution_count": 0,
      "outputs": [
        {
          "output_type": "error",
          "ename": "SyntaxError",
          "evalue": "invalid syntax (<ipython-input-41-78bf3a31660a>, line 1)",
          "traceback": [
            "\u001b[0;36m  File \u001b[0;32m\"<ipython-input-41-78bf3a31660a>\"\u001b[0;36m, line \u001b[0;32m1\u001b[0m\n\u001b[0;31m    [a if a==3 for a in [1,2,3]   ]\u001b[0m\n\u001b[0m                 ^\u001b[0m\n\u001b[0;31mSyntaxError\u001b[0m\u001b[0;31m:\u001b[0m invalid syntax\n"
          ]
        }
      ]
    },
    {
      "metadata": {
        "id": "eRK3pr2uasN3",
        "colab_type": "code",
        "colab": {}
      },
      "cell_type": "code",
      "source": [
        ""
      ],
      "execution_count": 0,
      "outputs": []
    },
    {
      "metadata": {
        "id": "8af_oltBc1Sb",
        "colab_type": "text"
      },
      "cell_type": "markdown",
      "source": [
        "## Challenge 7.4.0"
      ]
    },
    {
      "metadata": {
        "colab_type": "text",
        "id": "YSV2Z-neck1H"
      },
      "cell_type": "markdown",
      "source": [
        "#### Challenge 7.4.1\n",
        "\n",
        "Construct a function that returns all the divisors of the number the user inputs as a list."
      ]
    },
    {
      "metadata": {
        "colab_type": "text",
        "id": "FRrwOEGPck1H"
      },
      "cell_type": "markdown",
      "source": [
        " #### Challenge 7.4.2\n",
        " \n",
        " x = [1, 1, 2, 3, 5, 8, 13, 21, 34, 55, 89]\n",
        "\n",
        "a) write a program that prints out all the elements of the list that are less than 5.\n",
        "\n",
        "\n",
        "b) Instead of printing the elements one by one, make a new list that has all the elements less than 5 from this list in it and print out this new list.\n",
        "\n",
        "\n",
        "c) Write this in one line of Python.\n",
        "\n",
        "\n",
        "d)Ask the user for a number and return a list that contains only elements from the original list a that are smaller than that number given by the user.\n"
      ]
    },
    {
      "metadata": {
        "colab_type": "text",
        "id": "sYFNVtdpck1I"
      },
      "cell_type": "markdown",
      "source": [
        "#### Challenge 7.4.3\n",
        "\n",
        "Write a program that asks the user how many Fibonnaci numbers to generate and then generates them. Take this opportunity to think about how you can use functions. Make sure to ask the user to enter the number of numbers in the sequence to generate.(Hint: The Fibonnaci seqence is a sequence of numbers where the next number in the sequence is the sum of the previous two numbers in the sequence. The sequence looks like this: 1, 1, 2, 3, 5, 8, 13, …)"
      ]
    },
    {
      "metadata": {
        "colab_type": "text",
        "id": "y58S5m9Uck1J"
      },
      "cell_type": "markdown",
      "source": [
        "#### Challenge 7.4.4\n",
        "\n",
        "Generate a random number between 1 and 20 (including 1 and 20). Ask the user to guess the number, then tell them whether they guessed too low, too high, or exactly right. (Hint: remember to use the user input lessons from the very first exercise)\n",
        "\n",
        "Extras:\n",
        "\n",
        "Keep the game going until the user types “exit”\n",
        "Keep track of how many guesses the user has taken, and when the game ends, print this out."
      ]
    },
    {
      "metadata": {
        "id": "8wf_Gp-7dXaY",
        "colab_type": "code",
        "outputId": "71636fa5-7f7c-4a06-a3c0-cae6c6022adb",
        "colab": {
          "base_uri": "https://localhost:8080/",
          "height": 289
        }
      },
      "cell_type": "code",
      "source": [
        "\n"
      ],
      "execution_count": 0,
      "outputs": [
        {
          "output_type": "stream",
          "text": [
            "I am thinking of a number between 1 and 20.\n",
            "Take a guess.\n",
            "10\n",
            "Your guess is too low.\n",
            "Take a guess.\n",
            "15\n",
            "Your guess is too low.\n",
            "Take a guess.\n",
            "18\n",
            "Your guess is too high.\n",
            "Take a guess.\n",
            "17\n",
            "Your guess is too high.\n",
            "Take a guess.\n",
            "16\n",
            "Good job! You guessed my number in 5 guesses!\n"
          ],
          "name": "stdout"
        }
      ]
    },
    {
      "metadata": {
        "id": "CoEwMdGloFit",
        "colab_type": "text"
      },
      "cell_type": "markdown",
      "source": [
        "# 8.0.0 Advance Python Functions"
      ]
    },
    {
      "metadata": {
        "colab_type": "text",
        "id": "46gq-Fmnck1J"
      },
      "cell_type": "markdown",
      "source": [
        "#### Challenge 8.1.0\n",
        "\n",
        "Hangman\n",
        "\n",
        "https://github.com/codeforhk/python_course/blob/master/py_class_2_Hangman_Breakdown.ipynb"
      ]
    },
    {
      "metadata": {
        "colab_type": "text",
        "id": "Vdbh_gW_ck1P"
      },
      "cell_type": "markdown",
      "source": [
        "## Take home exercise\n",
        "\n",
        "Finish Hangman!"
      ]
    }
  ]
}