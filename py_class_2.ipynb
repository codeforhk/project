{
  "nbformat": 4,
  "nbformat_minor": 0,
  "metadata": {
    "colab": {
      "name": "py_class_2.ipynb",
      "version": "0.3.2",
      "provenance": [],
      "collapsed_sections": [
        "UZysvTpDeq8c",
        "axYPsKaqeq8e",
        "rR3Mw2K-eq8k",
        "cYm-fUXTeq9G",
        "uEPaO83neq9O",
        "tNHM94A0eq9Q",
        "MEDm0bF-eq9S",
        "QbCSljwYeq9V",
        "_VJVTVx6eq9V",
        "jHZmko0Eeq9X",
        "Y3TzmFS1eq9a",
        "GQVnbwPgeq9c",
        "Qvm5ip48eq9e",
        "t6Sn2Y_leq9e",
        "IXb0tBvheq9s",
        "pRGo6doPeq9u",
        "IfWfAUgneq9z",
        "0_lrp6Uveq99",
        "CLs3C6qxeq-B",
        "_jZEML1heq-G",
        "8l9Ox5nEeq-N",
        "MYMTDFUyeq-V",
        "5DKaMx0Xeq-d",
        "heuyIVbWeq-j",
        "bJ4QBNrCeq-n",
        "WqgNLVaceq-1",
        "6ro-6eVkeq-5",
        "JX6NSV7Ieq-8",
        "WlDvGqjIeq_B",
        "8SuFhWOUeq_G",
        "oIfoiGe0eq_H",
        "TTJOZJdneq_I",
        "StXbl1toeq_M",
        "3zJtuP2ieq_O",
        "HdYdFcdTeq_P",
        "cVa4D96peq_U",
        "6EgP_u5oeq_V",
        "gUQbPbHOeq_W",
        "VdxxwBf3eq_b",
        "Ekg_RLTueq_f",
        "6qSWfivneq_g",
        "sH_XwaZGeq_q",
        "s02P4S-Weq_r",
        "v6sIQVYaeq_t",
        "eod0452beq_w",
        "Rl_KMJA8eq_y",
        "LLNXaxezeq_0",
        "AKE0X-ppeq_6",
        "JSv4iMtieq_8",
        "0q8x8tyxeq__",
        "cDUea5oAerAA",
        "oMbs1uKLerAC",
        "YJG-i3iGerAE",
        "-SXuNJi_erAK",
        "yfNa9tXGerAN",
        "pKR76FPverAP",
        "J-4Z9g5lerAU",
        "d4y1BBG4erAX",
        "stmCtMCferAb",
        "0HgQG8YjerAn",
        "icNg_6HgerAo",
        "_N4eIFgserAr",
        "FvJZ8saNerAu",
        "oh0Xv8FnerAw",
        "tVhMYLWkerA0",
        "fLBZWqvMerA4",
        "j9kHjlSeerA6",
        "dRZKEuU_erA6",
        "xIwG_Uj3erBB",
        "YYtsCbJperBD",
        "oWl0Ha2RerBD"
      ],
      "toc_visible": true,
      "include_colab_link": true
    },
    "kernelspec": {
      "display_name": "Python 3",
      "language": "python",
      "name": "python3"
    }
  },
  "cells": [
    {
      "cell_type": "markdown",
      "metadata": {
        "id": "view-in-github",
        "colab_type": "text"
      },
      "source": [
        "<a href=\"https://colab.research.google.com/github/codeforhk/python_course/blob/master/py_class_2.ipynb\" target=\"_parent\"><img src=\"https://colab.research.google.com/assets/colab-badge.svg\" alt=\"Open In Colab\"/></a>"
      ]
    },
    {
      "metadata": {
        "id": "E_I6QftesBvW",
        "colab_type": "text"
      },
      "cell_type": "markdown",
      "source": [
        "\n",
        "    \n",
        "<img src=\"https://www.codefor.hk/wp-content/themes/DC_CUSTOM_THEME/img/logo-code-for-hk-logo.svg\" height=\"150\" width=\"150\"  align=\"center\"/>\n",
        "<h1><center>Code For Hong Kong - Python class 2</center></h1>\n",
        "<h6><center>Written by Patrick Leung</center></h6>"
      ]
    },
    {
      "metadata": {
        "id": "hffP3JWisQfH",
        "colab_type": "text"
      },
      "cell_type": "markdown",
      "source": [
        "# 3.0.0 Recap"
      ]
    },
    {
      "metadata": {
        "id": "ZC25o1Z7q-Ai",
        "colab_type": "text"
      },
      "cell_type": "markdown",
      "source": [
        "### Review 3.0.0 Concepts"
      ]
    },
    {
      "metadata": {
        "id": "FltYBhLarQmO",
        "colab_type": "text"
      },
      "cell_type": "markdown",
      "source": [
        "- variables\n",
        "- data types (int, string, float)\n",
        "- data structure (list, dictionary)"
      ]
    },
    {
      "metadata": {
        "id": "0pQGnkwGqwII",
        "colab_type": "text"
      },
      "cell_type": "markdown",
      "source": [
        "### Review 3.0.0 Homework\n",
        "\n",
        "a) Try to write a program that generates an eight digit password, which consist of letters a - z\n",
        "\n",
        "b) To make it more challenging, try write a program that generates an 8 digit password with lower case, upper case, numer and special character"
      ]
    },
    {
      "metadata": {
        "id": "brXGR2v6qvSg",
        "colab_type": "code",
        "colab": {}
      },
      "cell_type": "code",
      "source": [
        "import random\n",
        "\n",
        "\n",
        "#valid characters\n",
        "abc = 'abcdefghijklmnopqrstuvwxyz'\n",
        "abc1 = abc.upper()\n",
        "num = \"1234567890\"\n",
        "spec_char = '!,@#$%.[&*()}'\n",
        "\n",
        "\n",
        "#combining valid characters\n",
        "char_list = abc + abc1 + num + spec_char\n",
        "\n",
        "#get the password length from the user\n",
        "pass_len= int(input(\"password generator: \" +\n",
        "                  \" how long do you want your password? :\"))\n",
        "\n",
        "#creating empty password\n",
        "password = ''\n",
        "\n",
        "#building the password\n",
        "for i in range(0,pass_len):\n",
        "    charac = random.choice(char_list)\n",
        "    password = password + charac\n",
        "\n",
        "print(password)"
      ],
      "execution_count": 0,
      "outputs": []
    },
    {
      "metadata": {
        "id": "oh0Xv8FnerAw",
        "colab_type": "text"
      },
      "cell_type": "markdown",
      "source": [
        "## Test 3.0.0\n",
        "\n",
        "https://goo.gl/forms/KkEyuIcNZTZifQGT2"
      ]
    },
    {
      "metadata": {
        "id": "7BhBZ3JTerAx",
        "colab_type": "text"
      },
      "cell_type": "markdown",
      "source": [
        "# 4.0.0 Python operations\n"
      ]
    },
    {
      "metadata": {
        "id": "Vv6p_bRVop-n",
        "colab_type": "text"
      },
      "cell_type": "markdown",
      "source": [
        "## 4.1.0 if statements  \n",
        "\n",
        "Where Indentation matters!!"
      ]
    },
    {
      "metadata": {
        "id": "B4g1sXlverAx",
        "colab_type": "text"
      },
      "cell_type": "markdown",
      "source": [
        "![Image of Yaktocat](https://storage.googleapis.com/bwdb/acceleratehk_DSML/class_1/ds19.PNG)"
      ]
    },
    {
      "metadata": {
        "id": "CXGWv9pMerAx",
        "colab_type": "text"
      },
      "cell_type": "markdown",
      "source": [
        "![Image of Yaktocat](https://storage.googleapis.com/bwdb/acceleratehk_DSML/class_1/ds18.PNG)"
      ]
    },
    {
      "metadata": {
        "id": "Sd14qPbLerAy",
        "colab_type": "text"
      },
      "cell_type": "markdown",
      "source": [
        "This works a bit like the function in excel"
      ]
    },
    {
      "metadata": {
        "id": "HR49ZnF4erAz",
        "colab_type": "raw"
      },
      "cell_type": "markdown",
      "source": [
        "the indentation is used to identfy code blocks.\n",
        "if condition_1 :\n",
        "    do something \n",
        "elif condition_2 :\n",
        "    do something else\n",
        "else :\n",
        "    do something else"
      ]
    },
    {
      "metadata": {
        "id": "tVhMYLWkerA0",
        "colab_type": "text"
      },
      "cell_type": "markdown",
      "source": [
        "#### Example 4.1.1 "
      ]
    },
    {
      "metadata": {
        "id": "Eu5RkuKkerA0",
        "colab_type": "code",
        "outputId": "039399e6-6e7b-4f59-9222-368bbe298586",
        "colab": {
          "base_uri": "https://localhost:8080/",
          "height": 34
        }
      },
      "cell_type": "code",
      "source": [
        "iphone = 9000\n",
        "samsung = 5000\n",
        "if(iphone>samsung):\n",
        "    print('buy Samsung!')\n",
        "else:\n",
        "    print('buy iphone!')"
      ],
      "execution_count": 0,
      "outputs": [
        {
          "output_type": "stream",
          "text": [
            "buy Samsung!\n"
          ],
          "name": "stdout"
        }
      ]
    },
    {
      "metadata": {
        "id": "tFfwrgus0t43",
        "colab_type": "text"
      },
      "cell_type": "markdown",
      "source": [
        "Write a code to check if you are taller than Cristiano Ronaldo"
      ]
    },
    {
      "metadata": {
        "id": "tOOTdrmY0tYs",
        "colab_type": "code",
        "outputId": "a9d4646e-6596-466b-d450-72a843570aee",
        "colab": {
          "base_uri": "https://localhost:8080/",
          "height": 34
        }
      },
      "cell_type": "code",
      "source": [
        "my_height = 170\n",
        "Ronaldo_height = 186\n",
        "if Ronaldo_height>my_height:\n",
        "  print('ronaldo is taller')\n",
        "else:\n",
        "  print('you are taller!')\n"
      ],
      "execution_count": 0,
      "outputs": [
        {
          "output_type": "stream",
          "text": [
            "ronaldo is taller\n"
          ],
          "name": "stdout"
        }
      ]
    },
    {
      "metadata": {
        "id": "IWWDbgIr1BFY",
        "colab_type": "text"
      },
      "cell_type": "markdown",
      "source": [
        "Write a code to check  if you are old enough to watch R movie"
      ]
    },
    {
      "metadata": {
        "id": "chzR_W1zerA2",
        "colab_type": "code",
        "outputId": "6eb9f106-c951-4ecf-d774-46c6e3a2fca6",
        "colab": {
          "base_uri": "https://localhost:8080/",
          "height": 51
        }
      },
      "cell_type": "code",
      "source": [
        "age =input(\"Enter your age: \")\n",
        "\n",
        "age = int(age)\n",
        "\n",
        "if age > 17: \n",
        "  print(\"can see a rated R movie\")\n",
        "elif age < 17 and age > 12:\n",
        "  print(\"can see a rated PG-13 movie\")\n",
        "else: \n",
        "  print(\"can only see rated PG movies\")"
      ],
      "execution_count": 0,
      "outputs": [
        {
          "output_type": "stream",
          "text": [
            "Enter your age: 10\n",
            "can only see rated PG movies\n"
          ],
          "name": "stdout"
        }
      ]
    },
    {
      "metadata": {
        "id": "tg__b8290WCg",
        "colab_type": "text"
      },
      "cell_type": "markdown",
      "source": [
        "#### Exercise 4.1.1\n",
        "\n",
        "1) Try to write a code that checks if you have longer name than \"Anusree\""
      ]
    },
    {
      "metadata": {
        "id": "QdPqyScT0Ur5",
        "colab_type": "code",
        "colab": {}
      },
      "cell_type": "code",
      "source": [
        ""
      ],
      "execution_count": 0,
      "outputs": []
    },
    {
      "metadata": {
        "id": "fLBZWqvMerA4",
        "colab_type": "text"
      },
      "cell_type": "markdown",
      "source": [
        "#### Challenge 4.1.1 \n",
        "\n",
        "Ask the user for a number. Depending on whether the number is even or odd, print out an appropriate message to the user. Hint: how does an even / odd number react differently when divided by 2?\n",
        "\n",
        "**hints: modulo operator**\n",
        "\n",
        "**Extras:**\n",
        "\n",
        "If the number is a multiple of 4, print out a different message.\n",
        "Ask the user for two numbers: one number to check (call it num) and one number to divide by (check). If check divides evenly into num, tell that to the user. If not, print a different appropriate message."
      ]
    },
    {
      "metadata": {
        "id": "yxEn-DAyerA5",
        "colab_type": "code",
        "colab": {}
      },
      "cell_type": "code",
      "source": [
        "#your code here\n",
        "\n",
        "num =input(\"Enter your number: \")"
      ],
      "execution_count": 0,
      "outputs": []
    },
    {
      "metadata": {
        "id": "j9kHjlSeerA6",
        "colab_type": "text"
      },
      "cell_type": "markdown",
      "source": [
        "## 4.2.0 For loops"
      ]
    },
    {
      "metadata": {
        "id": "dRZKEuU_erA6",
        "colab_type": "text"
      },
      "cell_type": "markdown",
      "source": [
        "### 4.2.1 What is a for loops?"
      ]
    },
    {
      "metadata": {
        "id": "ke8V5wDz81rd",
        "colab_type": "text"
      },
      "cell_type": "markdown",
      "source": [
        "\n",
        "<img src=\"https://swcarpentry.github.io/python-novice-inflammation/fig/loops_image.png\n",
        "\"/>\n"
      ]
    },
    {
      "metadata": {
        "id": "HEI1iecjerA7",
        "colab_type": "text"
      },
      "cell_type": "markdown",
      "source": [
        "For loops is a way to ask your computer to repeatedly do a task - until it finished the no. of times to keep on doing the same thing ! (Kind of like a slave!)"
      ]
    },
    {
      "metadata": {
        "id": "U6fSjpnp8fY7",
        "colab_type": "text"
      },
      "cell_type": "markdown",
      "source": [
        "#### Exercise 4.2.1"
      ]
    },
    {
      "metadata": {
        "id": "s3drJFxPerA7",
        "colab_type": "text"
      },
      "cell_type": "markdown",
      "source": [
        "Try finish game 6 - 8\n",
        "\n",
        "https://studio.code.org/hoc/6"
      ]
    },
    {
      "metadata": {
        "id": "EhwLRWpZ-LHN",
        "colab_type": "text"
      },
      "cell_type": "markdown",
      "source": [
        "### 4.2.2 Syntax of for loop"
      ]
    },
    {
      "metadata": {
        "id": "fkW21CZP-RPe",
        "colab_type": "text"
      },
      "cell_type": "markdown",
      "source": [
        "\n",
        "<img src=\"https://www.oreilly.com/library/view/head-first-python/9781491919521/figs/web/027fig02.png.jpg\n",
        "\"/>\n"
      ]
    },
    {
      "metadata": {
        "id": "gl_-BHOTo2I1",
        "colab_type": "text"
      },
      "cell_type": "markdown",
      "source": [
        "for i in some_range:\n",
        "\n",
        "    do something with i"
      ]
    },
    {
      "metadata": {
        "id": "RDayWil28Yql",
        "colab_type": "code",
        "colab": {}
      },
      "cell_type": "code",
      "source": [
        "# An example of the for-loop. Iterate through the numbers 1-11. What do you think this function does?\n",
        "x = [1,2,3,4,5,6,7,8,9,10]\n",
        "\n",
        "for i in x:\n",
        "    if i % 2 == 0: \n",
        "        print (i)"
      ],
      "execution_count": 0,
      "outputs": []
    },
    {
      "metadata": {
        "id": "xSYtVeiberA9",
        "colab_type": "code",
        "colab": {}
      },
      "cell_type": "code",
      "source": [
        "## range(i,j) retuns integers beween i and j-1 \n",
        "range(1,11)"
      ],
      "execution_count": 0,
      "outputs": []
    },
    {
      "metadata": {
        "id": "36gz79VberA-",
        "colab_type": "code",
        "outputId": "0e8afe05-5f53-40e2-b62c-491ad55b1ad5",
        "colab": {
          "base_uri": "https://localhost:8080/",
          "height": 187
        }
      },
      "cell_type": "code",
      "source": [
        "## sum of first 10 integers\n",
        "\n",
        "result=0\n",
        "for i in range(1,11):\n",
        "    result = result+i\n",
        "    print(result)"
      ],
      "execution_count": 0,
      "outputs": [
        {
          "output_type": "stream",
          "text": [
            "1\n",
            "3\n",
            "6\n",
            "10\n",
            "15\n",
            "21\n",
            "28\n",
            "36\n",
            "45\n",
            "55\n"
          ],
          "name": "stdout"
        }
      ]
    },
    {
      "metadata": {
        "id": "Jr1GgOb-erBA",
        "colab_type": "code",
        "colab": {}
      },
      "cell_type": "code",
      "source": [
        "shopping_list=[\"bananas\", \"chocolate\", \"carrots\"]\n",
        "## lists are iterators. \n",
        "## We can automatically loop through list elements without using indexes\n",
        "for thing in shopping_list:\n",
        "    print(\"today I purchased some\" + thing)\n",
        "             "
      ],
      "execution_count": 0,
      "outputs": []
    },
    {
      "metadata": {
        "id": "oJdISfjF11dC",
        "colab_type": "text"
      },
      "cell_type": "markdown",
      "source": [
        ""
      ]
    },
    {
      "metadata": {
        "id": "VtwIpQOb10Zp",
        "colab_type": "code",
        "colab": {}
      },
      "cell_type": "code",
      "source": [
        ""
      ],
      "execution_count": 0,
      "outputs": []
    },
    {
      "metadata": {
        "id": "xIwG_Uj3erBB",
        "colab_type": "text"
      },
      "cell_type": "markdown",
      "source": [
        "#### Challenge 4.0.0:\n",
        "\n",
        "Using \"for loops \"  and  \"if statements \" answer the following questions :\n",
        "\n",
        "- who among us has the longest First name? and how long is it? ...... this is a very tricky exercise as it will imply that we can spell all our names correctly :) :) \n",
        "\n",
        "- and what about the shortest name?\n",
        "\n",
        "These are \"probably\" our names : \n",
        "\n",
        "Xiaoyan ,  Maitreya , Jason , Qihui , Chuck , Jeremy , Mihwa , Lina , Huijun , Raul , Warintra , Abhay \n",
        "\n",
        "\n"
      ]
    },
    {
      "metadata": {
        "id": "1z5qaHP8erBC",
        "colab_type": "code",
        "colab": {}
      },
      "cell_type": "code",
      "source": [
        "## some tips \n",
        "\n",
        "## maybe I want to define a list containing our names \n",
        "## and then go through each of the names and see how long they are , and note down the longest one(s)."
      ],
      "execution_count": 0,
      "outputs": []
    },
    {
      "metadata": {
        "id": "kDH32cCRpD_m",
        "colab_type": "text"
      },
      "cell_type": "markdown",
      "source": [
        "## 4.3.0 While loop"
      ]
    },
    {
      "metadata": {
        "id": "niEsCpnUpJEr",
        "colab_type": "text"
      },
      "cell_type": "markdown",
      "source": [
        "\n",
        "#### Exercise 4.3.1\n",
        "\n",
        "Try finish game 9 - 12\n",
        "\n",
        "https://studio.code.org/hoc/9"
      ]
    },
    {
      "metadata": {
        "id": "-9xsxf1j_AHo",
        "colab_type": "code",
        "outputId": "34f499a1-56b7-4c4c-8693-e7dd8920443c",
        "colab": {
          "base_uri": "https://localhost:8080/",
          "height": 170
        }
      },
      "cell_type": "code",
      "source": [
        "n = 10\n",
        "while n>1:\n",
        "  print(n)\n",
        "  n = n-1"
      ],
      "execution_count": 0,
      "outputs": [
        {
          "output_type": "stream",
          "text": [
            "10\n",
            "9\n",
            "8\n",
            "7\n",
            "6\n",
            "5\n",
            "4\n",
            "3\n",
            "2\n"
          ],
          "name": "stdout"
        }
      ]
    },
    {
      "metadata": {
        "id": "N45bVOMvM3ke",
        "colab_type": "code",
        "outputId": "4af0a28e-f115-497e-cee1-4bea153e48b7",
        "colab": {
          "base_uri": "https://localhost:8080/",
          "height": 34
        }
      },
      "cell_type": "code",
      "source": [
        "n = 10\n",
        "while n>1:\n",
        "  print(n)\n",
        "  break\n",
        "  n = n-1"
      ],
      "execution_count": 0,
      "outputs": [
        {
          "output_type": "stream",
          "text": [
            "10\n"
          ],
          "name": "stdout"
        }
      ]
    },
    {
      "metadata": {
        "id": "t-pydw0g2JU3",
        "colab_type": "text"
      },
      "cell_type": "markdown",
      "source": [
        "### 4.4.0 Use of if & loops together\n",
        "\n",
        "Try finish game 14-20\n",
        "\n",
        "https://studio.code.org/hoc/14"
      ]
    },
    {
      "metadata": {
        "id": "YYtsCbJperBD",
        "colab_type": "text"
      },
      "cell_type": "markdown",
      "source": [
        "\n",
        "\n",
        "#### Challenge 4.4.1\n",
        "\n",
        "Using \"for loops \"  and  \"if statements \" answer the following questions :\n",
        "\n",
        "- who among us has the longest First name? and how long is it? ...... this is a very tricky exercise as it will imply that we can spell all our names correctly :) :) \n",
        "\n",
        "- and what about the shortest name?\n",
        "\n",
        "These are \"probably\" our names : \n",
        "\n",
        "Xiaoyan ,  Maitreya , Jason , Qihui , Chuck , Jeremy , Mihwa , Lina , Huijun , Raul , Warintra , Abhay \n",
        "\n"
      ]
    },
    {
      "metadata": {
        "id": "fCJxZz8U2GGV",
        "colab_type": "code",
        "colab": {}
      },
      "cell_type": "code",
      "source": [
        ""
      ],
      "execution_count": 0,
      "outputs": []
    },
    {
      "metadata": {
        "id": "WQi7nMxO3xea",
        "colab_type": "text"
      },
      "cell_type": "markdown",
      "source": [
        "#### Challenge 4.4.2 \n",
        "\n",
        "Find the maximum, mean and minimum value of list of intergers without using any precoded mathematical function in Python"
      ]
    },
    {
      "metadata": {
        "id": "ShE61O2m3wyK",
        "colab_type": "code",
        "colab": {}
      },
      "cell_type": "code",
      "source": [
        ""
      ],
      "execution_count": 0,
      "outputs": []
    },
    {
      "metadata": {
        "id": "2KmS9Gn55pXn",
        "colab_type": "text"
      },
      "cell_type": "markdown",
      "source": [
        "## Test 4.0.0\n",
        "\n",
        "https://goo.gl/forms/jAPGw50cb8zFTAYI3"
      ]
    },
    {
      "metadata": {
        "id": "oWl0Ha2RerBD",
        "colab_type": "text"
      },
      "cell_type": "markdown",
      "source": [
        "## Take home exercise\n",
        "\n",
        "1) You should try finish this at home :)\n",
        "http://www.practicepython.org/\n",
        "\n",
        "2) \n",
        "\n",
        "a) Try to write a program that generates an eight digit password, which consist of letters a - z\n",
        "b) To make it more challenging, try write a program that generates an 8 digit password with lower case, upper case, numer and special character"
      ]
    },
    {
      "metadata": {
        "id": "6wws_s0ierBD",
        "colab_type": "code",
        "outputId": "ede11866-59a6-4ada-92b3-8b121113c8b7",
        "colab": {
          "base_uri": "https://localhost:8080/",
          "height": 34
        }
      },
      "cell_type": "code",
      "source": [
        "#hints\n",
        "\n",
        "import random\n",
        "random.choice(['a','b','c','d','e'])"
      ],
      "execution_count": 0,
      "outputs": [
        {
          "output_type": "execute_result",
          "data": {
            "text/plain": [
              "'b'"
            ]
          },
          "metadata": {
            "tags": []
          },
          "execution_count": 13
        }
      ]
    },
    {
      "metadata": {
        "id": "N6R5ftqD6ezY",
        "colab_type": "code",
        "colab": {}
      },
      "cell_type": "code",
      "source": [
        ""
      ],
      "execution_count": 0,
      "outputs": []
    },
    {
      "metadata": {
        "colab_type": "text",
        "id": "RaG1x3FArBL6"
      },
      "cell_type": "markdown",
      "source": [
        "# 5.0.0 Python Operations Exercise\n"
      ]
    },
    {
      "metadata": {
        "colab_type": "text",
        "id": "K3TKv8XkrBL8"
      },
      "cell_type": "markdown",
      "source": [
        "## Challenge 5.1.0\n",
        "\n",
        "Where Indentation matters!!"
      ]
    },
    {
      "metadata": {
        "colab_type": "text",
        "id": "Wdw3EZWLrBL-"
      },
      "cell_type": "markdown",
      "source": [
        "#### Example 4.1.1 "
      ]
    },
    {
      "metadata": {
        "colab_type": "text",
        "id": "4DLj4QXLrBMJ"
      },
      "cell_type": "markdown",
      "source": [
        "#### Exercise 4.1.1\n",
        "\n",
        "1) Try to write a code that checks if you have longer name than \"Anusree\""
      ]
    },
    {
      "metadata": {
        "colab_type": "code",
        "id": "Gx0OL_GhrBMK",
        "colab": {}
      },
      "cell_type": "code",
      "source": [
        ""
      ],
      "execution_count": 0,
      "outputs": []
    },
    {
      "metadata": {
        "colab_type": "text",
        "id": "GOvgFxDArBMO"
      },
      "cell_type": "markdown",
      "source": [
        "## Challenge 5.2.0"
      ]
    },
    {
      "metadata": {
        "colab_type": "code",
        "id": "bUcAvj2TrBMc",
        "colab": {}
      },
      "cell_type": "code",
      "source": [
        "\n",
        "## maybe I want to define a list containing our names \n",
        "## and then go through each of the names and see how long they are , and note down the longest one(s)."
      ],
      "execution_count": 0,
      "outputs": []
    },
    {
      "metadata": {
        "colab_type": "text",
        "id": "AsWejIFfrBMd"
      },
      "cell_type": "markdown",
      "source": [
        "## Challenge 5.3.0"
      ]
    },
    {
      "metadata": {
        "colab_type": "text",
        "id": "sKbc_4JdrBMm"
      },
      "cell_type": "markdown",
      "source": [
        "Find the maximum, mean and minimum value of list of intergers without using any precoded mathematical function in Python"
      ]
    },
    {
      "metadata": {
        "colab_type": "text",
        "id": "3GavFz5PrKrl"
      },
      "cell_type": "markdown",
      "source": [
        "# 6.0.0 Python Functions\n"
      ]
    },
    {
      "metadata": {
        "colab_type": "text",
        "id": "-CH7Iq6rrKrm"
      },
      "cell_type": "markdown",
      "source": [
        "## 4.1.0 if statements  \n",
        "\n",
        "Where Indentation matters!!"
      ]
    },
    {
      "metadata": {
        "colab_type": "text",
        "id": "yP0ZFAAIrKrn"
      },
      "cell_type": "markdown",
      "source": [
        "![Image of Yaktocat](https://storage.googleapis.com/bwdb/acceleratehk_DSML/class_1/ds19.PNG)"
      ]
    },
    {
      "metadata": {
        "colab_type": "text",
        "id": "umyg3u7ZrKrn"
      },
      "cell_type": "markdown",
      "source": [
        "![Image of Yaktocat](https://storage.googleapis.com/bwdb/acceleratehk_DSML/class_1/ds18.PNG)"
      ]
    },
    {
      "metadata": {
        "colab_type": "text",
        "id": "JYj9c4NjrKro"
      },
      "cell_type": "markdown",
      "source": [
        "This works a bit like the function in excel"
      ]
    },
    {
      "metadata": {
        "colab_type": "raw",
        "id": "030cyU18rKro"
      },
      "cell_type": "markdown",
      "source": [
        "the indentation is used to identfy code blocks.\n",
        "if condition_1 :\n",
        "    do something \n",
        "elif condition_2 :\n",
        "    do something else\n",
        "else :\n",
        "    do something else"
      ]
    },
    {
      "metadata": {
        "colab_type": "text",
        "id": "mvje4qPrrKrp"
      },
      "cell_type": "markdown",
      "source": [
        "#### Example 4.1.1 "
      ]
    },
    {
      "metadata": {
        "colab_type": "code",
        "outputId": "039399e6-6e7b-4f59-9222-368bbe298586",
        "id": "4hfggK_ZrKrq",
        "colab": {
          "base_uri": "https://localhost:8080/",
          "height": 34
        }
      },
      "cell_type": "code",
      "source": [
        "iphone = 9000\n",
        "samsung = 5000\n",
        "if(iphone>samsung):\n",
        "    print('buy Samsung!')\n",
        "else:\n",
        "    print('buy iphone!')"
      ],
      "execution_count": 0,
      "outputs": [
        {
          "output_type": "stream",
          "text": [
            "buy Samsung!\n"
          ],
          "name": "stdout"
        }
      ]
    },
    {
      "metadata": {
        "colab_type": "text",
        "id": "Tozjc5qLrKrt"
      },
      "cell_type": "markdown",
      "source": [
        "Write a code to check if you are taller than Cristiano Ronaldo"
      ]
    },
    {
      "metadata": {
        "colab_type": "code",
        "outputId": "a9d4646e-6596-466b-d450-72a843570aee",
        "id": "cCc3z0CBrKrt",
        "colab": {
          "base_uri": "https://localhost:8080/",
          "height": 34
        }
      },
      "cell_type": "code",
      "source": [
        "my_height = 170\n",
        "Ronaldo_height = 186\n",
        "if Ronaldo_height>my_height:\n",
        "  print('ronaldo is taller')\n",
        "else:\n",
        "  print('you are taller!')\n"
      ],
      "execution_count": 0,
      "outputs": [
        {
          "output_type": "stream",
          "text": [
            "ronaldo is taller\n"
          ],
          "name": "stdout"
        }
      ]
    },
    {
      "metadata": {
        "colab_type": "text",
        "id": "2DswzUn2rKrw"
      },
      "cell_type": "markdown",
      "source": [
        "Write a code to check  if you are old enough to watch R movie"
      ]
    },
    {
      "metadata": {
        "colab_type": "code",
        "outputId": "6eb9f106-c951-4ecf-d774-46c6e3a2fca6",
        "id": "hNgM8cnTrKrz",
        "colab": {
          "base_uri": "https://localhost:8080/",
          "height": 51
        }
      },
      "cell_type": "code",
      "source": [
        "age =input(\"Enter your age: \")\n",
        "\n",
        "age = int(age)\n",
        "\n",
        "if age > 17: \n",
        "  print(\"can see a rated R movie\")\n",
        "elif age < 17 and age > 12:\n",
        "  print(\"can see a rated PG-13 movie\")\n",
        "else: \n",
        "  print(\"can only see rated PG movies\")"
      ],
      "execution_count": 0,
      "outputs": [
        {
          "output_type": "stream",
          "text": [
            "Enter your age: 10\n",
            "can only see rated PG movies\n"
          ],
          "name": "stdout"
        }
      ]
    },
    {
      "metadata": {
        "colab_type": "text",
        "id": "XLHzJ5SRrKr3"
      },
      "cell_type": "markdown",
      "source": [
        "#### Exercise 4.1.1\n",
        "\n",
        "1) Try to write a code that checks if you have longer name than \"Anusree\""
      ]
    },
    {
      "metadata": {
        "colab_type": "code",
        "id": "p2CJS5_BrKr3",
        "colab": {}
      },
      "cell_type": "code",
      "source": [
        ""
      ],
      "execution_count": 0,
      "outputs": []
    },
    {
      "metadata": {
        "colab_type": "text",
        "id": "Dlgi0EcxrKr4"
      },
      "cell_type": "markdown",
      "source": [
        "#### Challenge 4.1.1 \n",
        "\n",
        "Ask the user for a number. Depending on whether the number is even or odd, print out an appropriate message to the user. Hint: how does an even / odd number react differently when divided by 2?\n",
        "\n",
        "**hints: modulo operator**\n",
        "\n",
        "**Extras:**\n",
        "\n",
        "If the number is a multiple of 4, print out a different message.\n",
        "Ask the user for two numbers: one number to check (call it num) and one number to divide by (check). If check divides evenly into num, tell that to the user. If not, print a different appropriate message."
      ]
    },
    {
      "metadata": {
        "colab_type": "code",
        "id": "w1TtAxkTrKr5",
        "colab": {}
      },
      "cell_type": "code",
      "source": [
        "#your code here\n",
        "\n",
        "num =input(\"Enter your number: \")"
      ],
      "execution_count": 0,
      "outputs": []
    },
    {
      "metadata": {
        "colab_type": "text",
        "id": "gm8Wq5zRrKr6"
      },
      "cell_type": "markdown",
      "source": [
        "## 4.2.0 For loops"
      ]
    },
    {
      "metadata": {
        "colab_type": "text",
        "id": "jbRbrqLkrKr_"
      },
      "cell_type": "markdown",
      "source": [
        "### 4.2.1 What is a for loops?"
      ]
    },
    {
      "metadata": {
        "colab_type": "text",
        "id": "TcaAtxF0rKr_"
      },
      "cell_type": "markdown",
      "source": [
        "\n",
        "<img src=\"https://swcarpentry.github.io/python-novice-inflammation/fig/loops_image.png\n",
        "\"/>\n"
      ]
    },
    {
      "metadata": {
        "colab_type": "text",
        "id": "T_sE52HErKr_"
      },
      "cell_type": "markdown",
      "source": [
        "For loops is a way to ask your computer to repeatedly do a task - until it finished the no. of times to keep on doing the same thing ! (Kind of like a slave!)"
      ]
    },
    {
      "metadata": {
        "colab_type": "text",
        "id": "3H5i48lzrKsA"
      },
      "cell_type": "markdown",
      "source": [
        "#### Exercise 4.2.1"
      ]
    },
    {
      "metadata": {
        "colab_type": "text",
        "id": "silwbtwSrKsB"
      },
      "cell_type": "markdown",
      "source": [
        "Try finish game 6 - 8\n",
        "\n",
        "https://studio.code.org/hoc/6"
      ]
    },
    {
      "metadata": {
        "colab_type": "text",
        "id": "CPBN-8OfrKsB"
      },
      "cell_type": "markdown",
      "source": [
        "### 4.2.2 Syntax of for loop"
      ]
    },
    {
      "metadata": {
        "colab_type": "text",
        "id": "icO-4mBgrKsC"
      },
      "cell_type": "markdown",
      "source": [
        "\n",
        "<img src=\"https://www.oreilly.com/library/view/head-first-python/9781491919521/figs/web/027fig02.png.jpg\n",
        "\"/>\n"
      ]
    },
    {
      "metadata": {
        "colab_type": "text",
        "id": "miNDZ7JbrKsC"
      },
      "cell_type": "markdown",
      "source": [
        "for i in some_range:\n",
        "\n",
        "    do something with i"
      ]
    },
    {
      "metadata": {
        "colab_type": "code",
        "id": "ae266u5YrKsC",
        "colab": {}
      },
      "cell_type": "code",
      "source": [
        "# An example of the for-loop. Iterate through the numbers 1-11. What do you think this function does?\n",
        "x = [1,2,3,4,5,6,7,8,9,10]\n",
        "\n",
        "for i in x:\n",
        "    if i % 2 == 0: \n",
        "        print (i)"
      ],
      "execution_count": 0,
      "outputs": []
    },
    {
      "metadata": {
        "colab_type": "code",
        "id": "o-UkafjnrKsD",
        "colab": {}
      },
      "cell_type": "code",
      "source": [
        "## range(i,j) retuns integers beween i and j-1 \n",
        "range(1,11)"
      ],
      "execution_count": 0,
      "outputs": []
    },
    {
      "metadata": {
        "colab_type": "code",
        "outputId": "0e8afe05-5f53-40e2-b62c-491ad55b1ad5",
        "id": "rci1y61drKsE",
        "colab": {
          "base_uri": "https://localhost:8080/",
          "height": 187
        }
      },
      "cell_type": "code",
      "source": [
        "## sum of first 10 integers\n",
        "\n",
        "result=0\n",
        "for i in range(1,11):\n",
        "    result = result+i\n",
        "    print(result)"
      ],
      "execution_count": 0,
      "outputs": [
        {
          "output_type": "stream",
          "text": [
            "1\n",
            "3\n",
            "6\n",
            "10\n",
            "15\n",
            "21\n",
            "28\n",
            "36\n",
            "45\n",
            "55\n"
          ],
          "name": "stdout"
        }
      ]
    },
    {
      "metadata": {
        "colab_type": "code",
        "id": "nmCs7xCHrKsG",
        "colab": {}
      },
      "cell_type": "code",
      "source": [
        "shopping_list=[\"bananas\", \"chocolate\", \"carrots\"]\n",
        "## lists are iterators. \n",
        "## We can automatically loop through list elements without using indexes\n",
        "for thing in shopping_list:\n",
        "    print(\"today I purchased some\" + thing)\n",
        "             "
      ],
      "execution_count": 0,
      "outputs": []
    },
    {
      "metadata": {
        "colab_type": "text",
        "id": "r96fmGHNrKsH"
      },
      "cell_type": "markdown",
      "source": [
        ""
      ]
    },
    {
      "metadata": {
        "colab_type": "code",
        "id": "Y9jaUP-prKsH",
        "colab": {}
      },
      "cell_type": "code",
      "source": [
        ""
      ],
      "execution_count": 0,
      "outputs": []
    },
    {
      "metadata": {
        "colab_type": "text",
        "id": "ovrhWYIzrKsI"
      },
      "cell_type": "markdown",
      "source": [
        "#### Challenge 4.0.0:\n",
        "\n",
        "Using \"for loops \"  and  \"if statements \" answer the following questions :\n",
        "\n",
        "- who among us has the longest First name? and how long is it? ...... this is a very tricky exercise as it will imply that we can spell all our names correctly :) :) \n",
        "\n",
        "- and what about the shortest name?\n",
        "\n",
        "These are \"probably\" our names : \n",
        "\n",
        "Xiaoyan ,  Maitreya , Jason , Qihui , Chuck , Jeremy , Mihwa , Lina , Huijun , Raul , Warintra , Abhay \n",
        "\n",
        "\n"
      ]
    },
    {
      "metadata": {
        "colab_type": "code",
        "id": "Amu19e-VrKsJ",
        "colab": {}
      },
      "cell_type": "code",
      "source": [
        "## some tips \n",
        "\n",
        "## maybe I want to define a list containing our names \n",
        "## and then go through each of the names and see how long they are , and note down the longest one(s)."
      ],
      "execution_count": 0,
      "outputs": []
    },
    {
      "metadata": {
        "colab_type": "text",
        "id": "MuMcl_rkrKsK"
      },
      "cell_type": "markdown",
      "source": [
        "## 4.3.0 While loop"
      ]
    },
    {
      "metadata": {
        "colab_type": "text",
        "id": "VskV2hrQrKsK"
      },
      "cell_type": "markdown",
      "source": [
        "\n",
        "#### Exercise 4.3.1\n",
        "\n",
        "Try finish game 9 - 12\n",
        "\n",
        "https://studio.code.org/hoc/9"
      ]
    },
    {
      "metadata": {
        "colab_type": "code",
        "outputId": "34f499a1-56b7-4c4c-8693-e7dd8920443c",
        "id": "NRSYaV6PrKsK",
        "colab": {
          "base_uri": "https://localhost:8080/",
          "height": 170
        }
      },
      "cell_type": "code",
      "source": [
        "n = 10\n",
        "while n>1:\n",
        "  print(n)\n",
        "  n = n-1"
      ],
      "execution_count": 0,
      "outputs": [
        {
          "output_type": "stream",
          "text": [
            "10\n",
            "9\n",
            "8\n",
            "7\n",
            "6\n",
            "5\n",
            "4\n",
            "3\n",
            "2\n"
          ],
          "name": "stdout"
        }
      ]
    },
    {
      "metadata": {
        "colab_type": "code",
        "outputId": "4af0a28e-f115-497e-cee1-4bea153e48b7",
        "id": "3e5-cPmsrKsM",
        "colab": {
          "base_uri": "https://localhost:8080/",
          "height": 34
        }
      },
      "cell_type": "code",
      "source": [
        "n = 10\n",
        "while n>1:\n",
        "  print(n)\n",
        "  break\n",
        "  n = n-1"
      ],
      "execution_count": 0,
      "outputs": [
        {
          "output_type": "stream",
          "text": [
            "10\n"
          ],
          "name": "stdout"
        }
      ]
    },
    {
      "metadata": {
        "colab_type": "text",
        "id": "P_S4MbDFrKsN"
      },
      "cell_type": "markdown",
      "source": [
        "### 4.4.0 Use of if & loops together\n",
        "\n",
        "Try finish game 14-20\n",
        "\n",
        "https://studio.code.org/hoc/14"
      ]
    },
    {
      "metadata": {
        "colab_type": "text",
        "id": "48vjSSaFrKsO"
      },
      "cell_type": "markdown",
      "source": [
        "\n",
        "\n",
        "#### Challenge 4.4.1\n",
        "\n",
        "Using \"for loops \"  and  \"if statements \" answer the following questions :\n",
        "\n",
        "- who among us has the longest First name? and how long is it? ...... this is a very tricky exercise as it will imply that we can spell all our names correctly :) :) \n",
        "\n",
        "- and what about the shortest name?\n",
        "\n",
        "These are \"probably\" our names : \n",
        "\n",
        "Xiaoyan ,  Maitreya , Jason , Qihui , Chuck , Jeremy , Mihwa , Lina , Huijun , Raul , Warintra , Abhay \n",
        "\n"
      ]
    },
    {
      "metadata": {
        "colab_type": "code",
        "id": "imM_I6wtrKsP",
        "colab": {}
      },
      "cell_type": "code",
      "source": [
        ""
      ],
      "execution_count": 0,
      "outputs": []
    },
    {
      "metadata": {
        "colab_type": "text",
        "id": "xW1cW7dWrKsP"
      },
      "cell_type": "markdown",
      "source": [
        "#### Challenge 4.4.2 \n",
        "\n",
        "Find the maximum, mean and minimum value of list of intergers without using any precoded mathematical function in Python"
      ]
    },
    {
      "metadata": {
        "colab_type": "code",
        "id": "Sfb5lVXmrKsQ",
        "colab": {}
      },
      "cell_type": "code",
      "source": [
        ""
      ],
      "execution_count": 0,
      "outputs": []
    },
    {
      "metadata": {
        "colab_type": "text",
        "id": "HkkxOutXrKsR"
      },
      "cell_type": "markdown",
      "source": [
        "## Test 4.0.0\n",
        "\n",
        "https://goo.gl/forms/jAPGw50cb8zFTAYI3"
      ]
    },
    {
      "metadata": {
        "colab_type": "text",
        "id": "SkIinVutrKsR"
      },
      "cell_type": "markdown",
      "source": [
        "## Take home exercise\n",
        "\n",
        "1) You should try finish this at home :)\n",
        "http://www.practicepython.org/\n",
        "\n",
        "2) \n",
        "\n",
        "a) Try to write a program that generates an eight digit password, which consist of letters a - z\n",
        "b) To make it more challenging, try write a program that generates an 8 digit password with lower case, upper case, numer and special character"
      ]
    },
    {
      "metadata": {
        "colab_type": "code",
        "outputId": "ede11866-59a6-4ada-92b3-8b121113c8b7",
        "id": "0UwBc06GrKsR",
        "colab": {
          "base_uri": "https://localhost:8080/",
          "height": 34
        }
      },
      "cell_type": "code",
      "source": [
        "#hints\n",
        "\n",
        "import random\n",
        "random.choice(['a','b','c','d','e'])"
      ],
      "execution_count": 0,
      "outputs": [
        {
          "output_type": "execute_result",
          "data": {
            "text/plain": [
              "'b'"
            ]
          },
          "metadata": {
            "tags": []
          },
          "execution_count": 13
        }
      ]
    },
    {
      "metadata": {
        "colab_type": "code",
        "id": "2kQ56kJerKsT",
        "colab": {}
      },
      "cell_type": "code",
      "source": [
        ""
      ],
      "execution_count": 0,
      "outputs": []
    },
    {
      "metadata": {
        "colab_type": "text",
        "id": "DhfI3KNgs8L4"
      },
      "cell_type": "markdown",
      "source": [
        "# 7.0.0 Python Functions Exercise\n"
      ]
    },
    {
      "metadata": {
        "colab_type": "text",
        "id": "v5g_q36bs8Ku"
      },
      "cell_type": "markdown",
      "source": [
        "## Take home exercise\n",
        "\n",
        "1) You should try finish this at home :)\n",
        "http://www.practicepython.org/\n",
        "\n",
        "2) \n",
        "\n",
        "a) Try to write a program that generates an eight digit password, which consist of letters a - z\n",
        "b) To make it more challenging, try write a program that generates an 8 digit password with lower case, upper case, numer and special character"
      ]
    }
  ]
}