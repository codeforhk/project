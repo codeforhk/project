{
  "nbformat": 4,
  "nbformat_minor": 0,
  "metadata": {
    "colab": {
      "name": "py_class_2.ipynb",
      "version": "0.3.2",
      "provenance": [],
      "collapsed_sections": [
        "UZysvTpDeq8c",
        "axYPsKaqeq8e",
        "rR3Mw2K-eq8k",
        "cYm-fUXTeq9G",
        "uEPaO83neq9O",
        "tNHM94A0eq9Q",
        "MEDm0bF-eq9S",
        "QbCSljwYeq9V",
        "_VJVTVx6eq9V",
        "jHZmko0Eeq9X",
        "Y3TzmFS1eq9a",
        "GQVnbwPgeq9c",
        "Qvm5ip48eq9e",
        "t6Sn2Y_leq9e",
        "IXb0tBvheq9s",
        "pRGo6doPeq9u",
        "IfWfAUgneq9z",
        "0_lrp6Uveq99",
        "CLs3C6qxeq-B",
        "_jZEML1heq-G",
        "8l9Ox5nEeq-N",
        "MYMTDFUyeq-V",
        "5DKaMx0Xeq-d",
        "heuyIVbWeq-j",
        "bJ4QBNrCeq-n",
        "WqgNLVaceq-1",
        "6ro-6eVkeq-5",
        "JX6NSV7Ieq-8",
        "WlDvGqjIeq_B",
        "8SuFhWOUeq_G",
        "oIfoiGe0eq_H",
        "TTJOZJdneq_I",
        "StXbl1toeq_M",
        "3zJtuP2ieq_O",
        "HdYdFcdTeq_P",
        "cVa4D96peq_U",
        "6EgP_u5oeq_V",
        "gUQbPbHOeq_W",
        "VdxxwBf3eq_b",
        "Ekg_RLTueq_f",
        "6qSWfivneq_g",
        "sH_XwaZGeq_q",
        "s02P4S-Weq_r",
        "v6sIQVYaeq_t",
        "eod0452beq_w",
        "Rl_KMJA8eq_y",
        "LLNXaxezeq_0",
        "AKE0X-ppeq_6",
        "JSv4iMtieq_8",
        "0q8x8tyxeq__",
        "cDUea5oAerAA",
        "oMbs1uKLerAC",
        "YJG-i3iGerAE",
        "-SXuNJi_erAK",
        "yfNa9tXGerAN",
        "pKR76FPverAP",
        "J-4Z9g5lerAU",
        "d4y1BBG4erAX",
        "stmCtMCferAb",
        "0HgQG8YjerAn",
        "icNg_6HgerAo",
        "_N4eIFgserAr",
        "FvJZ8saNerAu",
        "oh0Xv8FnerAw",
        "tVhMYLWkerA0",
        "fLBZWqvMerA4",
        "j9kHjlSeerA6",
        "dRZKEuU_erA6",
        "xIwG_Uj3erBB",
        "YYtsCbJperBD",
        "oWl0Ha2RerBD"
      ],
      "toc_visible": true,
      "include_colab_link": true
    },
    "kernelspec": {
      "display_name": "Python 3",
      "language": "python",
      "name": "python3"
    }
  },
  "cells": [
    {
      "cell_type": "markdown",
      "metadata": {
        "id": "view-in-github",
        "colab_type": "text"
      },
      "source": [
        "<a href=\"https://colab.research.google.com/github/codeforhk/python_course/blob/master/py_class_2.ipynb\" target=\"_parent\"><img src=\"https://colab.research.google.com/assets/colab-badge.svg\" alt=\"Open In Colab\"/></a>"
      ]
    },
    {
      "metadata": {
        "id": "E_I6QftesBvW",
        "colab_type": "text"
      },
      "cell_type": "markdown",
      "source": [
        "\n",
        "    \n",
        "<img src=\"https://www.codefor.hk/wp-content/themes/DC_CUSTOM_THEME/img/logo-code-for-hk-logo.svg\" height=\"150\" width=\"150\"  align=\"center\"/>\n",
        "<h1><center>Code For Hong Kong - Python class 2</center></h1>\n",
        "<h6><center>Written by Patrick Leung</center></h6>"
      ]
    },
    {
      "metadata": {
        "id": "hffP3JWisQfH",
        "colab_type": "text"
      },
      "cell_type": "markdown",
      "source": [
        "# 3.0.0 Recap"
      ]
    },
    {
      "metadata": {
        "id": "ZC25o1Z7q-Ai",
        "colab_type": "text"
      },
      "cell_type": "markdown",
      "source": [
        "### Review 3.0.0 Concepts"
      ]
    },
    {
      "metadata": {
        "id": "FltYBhLarQmO",
        "colab_type": "text"
      },
      "cell_type": "markdown",
      "source": [
        "- variables (object)\n",
        "- data types (int, string, float)\n",
        "- data structure (list, dictionary)"
      ]
    },
    {
      "metadata": {
        "id": "0pQGnkwGqwII",
        "colab_type": "text"
      },
      "cell_type": "markdown",
      "source": [
        "### Review 3.0.0 Homework\n",
        "\n",
        "a) Try to write a program that generates an eight digit password, which consist of letters a - z\n",
        "\n",
        "b) To make it more challenging, try write a program that generates an 8 digit password with lower case, upper case, numer and special character\n",
        "\n",
        "hints: import random"
      ]
    },
    {
      "metadata": {
        "id": "brXGR2v6qvSg",
        "colab_type": "code",
        "colab": {}
      },
      "cell_type": "code",
      "source": [
        "import random\n",
        "\n",
        "\n",
        "#valid characters\n",
        "abc = 'abcdefghijklmnopqrstuvwxyz'\n",
        "abc1 = abc.upper()\n",
        "num = \"1234567890\"\n",
        "spec_char = '!,@#$%.[&*()}'\n",
        "\n",
        "\n",
        "#combining valid characters\n",
        "char_list = abc + abc1 + num + spec_char\n",
        "\n",
        "#get the password length from the user\n",
        "pass_len= int(input(\"password generator: \" +\n",
        "                  \" how long do you want your password? :\"))\n",
        "\n",
        "#creating empty password\n",
        "password = ''\n",
        "\n",
        "#building the password\n",
        "for i in range(0,pass_len):\n",
        "    charac = random.choice(char_list)\n",
        "    password = password + charac\n",
        "\n",
        "print(password)"
      ],
      "execution_count": 0,
      "outputs": []
    },
    {
      "metadata": {
        "id": "MXeL-tba65Ty",
        "colab_type": "text"
      },
      "cell_type": "markdown",
      "source": [
        "How can we do it?\n",
        "\n",
        "1) First of all, how can you make a random password with just 1 digit?"
      ]
    },
    {
      "metadata": {
        "id": "YXvKIwjL643t",
        "colab_type": "code",
        "outputId": "effedc4e-3ec5-41a1-a225-b15b517823bf",
        "colab": {
          "base_uri": "https://localhost:8080/",
          "height": 34
        }
      },
      "cell_type": "code",
      "source": [
        "import random\n",
        "random.choice('1234567890')"
      ],
      "execution_count": 0,
      "outputs": [
        {
          "output_type": "execute_result",
          "data": {
            "text/plain": [
              "'0'"
            ]
          },
          "metadata": {
            "tags": []
          },
          "execution_count": 4
        }
      ]
    },
    {
      "metadata": {
        "id": "jlOvLCGQ7OgJ",
        "colab_type": "text"
      },
      "cell_type": "markdown",
      "source": [
        "2) Ok, that's how you can get one password from 1 to 0. How about if I want letters as well?"
      ]
    },
    {
      "metadata": {
        "id": "di-EVtyj7OGF",
        "colab_type": "code",
        "outputId": "9c5b023f-0ad8-4968-ec52-599510829f3f",
        "colab": {
          "base_uri": "https://localhost:8080/",
          "height": 34
        }
      },
      "cell_type": "code",
      "source": [
        "random.choice('abcdefghijklmnopqrstuvwxyz1234567890')"
      ],
      "execution_count": 0,
      "outputs": [
        {
          "output_type": "execute_result",
          "data": {
            "text/plain": [
              "'r'"
            ]
          },
          "metadata": {
            "tags": []
          },
          "execution_count": 6
        }
      ]
    },
    {
      "metadata": {
        "id": "b45ZUtYQ7cpp",
        "colab_type": "text"
      },
      "cell_type": "markdown",
      "source": [
        "3) Ok...but I want the password to have 8 digits. How can I do it?"
      ]
    },
    {
      "metadata": {
        "id": "qgDCEkNm7iIN",
        "colab_type": "code",
        "colab": {}
      },
      "cell_type": "code",
      "source": [
        "a = random.choice('ABCDEFGHIJKLMNOPQRSTUVWXYZabcdefghijklmnopqrstuvwxyz1234567890!@#$%^&*()')\n",
        "b = random.choice('ABCDEFGHIJKLMNOPQRSTUVWXYZabcdefghijklmnopqrstuvwxyz1234567890!@#$%^&*()')\n",
        "c = random.choice('ABCDEFGHIJKLMNOPQRSTUVWXYZabcdefghijklmnopqrstuvwxyz1234567890!@#$%^&*()')\n",
        "d = random.choice('ABCDEFGHIJKLMNOPQRSTUVWXYZabcdefghijklmnopqrstuvwxyz1234567890!@#$%^&*()')\n",
        "e = random.choice('ABCDEFGHIJKLMNOPQRSTUVWXYZabcdefghijklmnopqrstuvwxyz1234567890!@#$%^&*()')\n",
        "f = random.choice('ABCDEFGHIJKLMNOPQRSTUVWXYZabcdefghijklmnopqrstuvwxyz1234567890!@#$%^&*()')\n",
        "g = random.choice('ABCDEFGHIJKLMNOPQRSTUVWXYZabcdefghijklmnopqrstuvwxyz1234567890!@#$%^&*()')\n",
        "h = random.choice('ABCDEFGHIJKLMNOPQRSTUVWXYZabcdefghijklmnopqrstuvwxyz1234567890!@#$%^&*()')\n",
        "\n",
        "pw = a+b+c+d+e+f+g+h"
      ],
      "execution_count": 0,
      "outputs": []
    },
    {
      "metadata": {
        "id": "DUTnm1Cc7oU2",
        "colab_type": "text"
      },
      "cell_type": "markdown",
      "source": [
        "4) Right...but that looks ugly! How can I make it simplier?"
      ]
    },
    {
      "metadata": {
        "id": "zQJhDX5z8Bbj",
        "colab_type": "code",
        "colab": {}
      },
      "cell_type": "code",
      "source": [
        "#define a variable!\n",
        "characters = 'ABCDEFGHIJKLMNOPQRSTUVWXYZabcdefghijklmnopqrstuvwxyz1234567890!@#$%^&*()'\n",
        "a = random.choice(characters)"
      ],
      "execution_count": 0,
      "outputs": []
    },
    {
      "metadata": {
        "id": "tDf0sohg8Nkp",
        "colab_type": "text"
      },
      "cell_type": "markdown",
      "source": [
        "5) But hey, how can I repeat for 8 times? and how can I check if the password contains what I want?"
      ]
    },
    {
      "metadata": {
        "id": "g-njchv48nFD",
        "colab_type": "code",
        "outputId": "17d4ac0c-dfa7-457e-cbdb-14cb49dd1b93",
        "colab": {
          "base_uri": "https://localhost:8080/",
          "height": 34
        }
      },
      "cell_type": "code",
      "source": [
        "characters = 'ABCDEFGHIJKLMNOPQRSTUVWXYZabcdefghijklmnopqrstuvwxyz1234567890!@#$%^&*()'\n",
        "\n",
        "pw = ''\n",
        "for i in range(8):\n",
        "    pw = pw + random.choice(characters)\n",
        "pw"
      ],
      "execution_count": 0,
      "outputs": [
        {
          "output_type": "execute_result",
          "data": {
            "text/plain": [
              "')Z2VCg#j'"
            ]
          },
          "metadata": {
            "tags": []
          },
          "execution_count": 25
        }
      ]
    },
    {
      "metadata": {
        "id": "ZP2Iv7Dv8W8c",
        "colab_type": "code",
        "outputId": "a647924b-89d5-4806-91f7-6dee5d97f949",
        "colab": {
          "base_uri": "https://localhost:8080/",
          "height": 34
        }
      },
      "cell_type": "code",
      "source": [
        "\n",
        "''.join([random.choice(charactersjk) for i in range(8)])"
      ],
      "execution_count": 0,
      "outputs": [
        {
          "output_type": "execute_result",
          "data": {
            "text/plain": [
              "'*eqWoh%%'"
            ]
          },
          "metadata": {
            "tags": []
          },
          "execution_count": 30
        }
      ]
    },
    {
      "metadata": {
        "id": "oh0Xv8FnerAw",
        "colab_type": "text"
      },
      "cell_type": "markdown",
      "source": [
        "## Test 3.0.0\n",
        "\n",
        "https://goo.gl/forms/KkEyuIcNZTZifQGT2"
      ]
    },
    {
      "metadata": {
        "id": "7BhBZ3JTerAx",
        "colab_type": "text"
      },
      "cell_type": "markdown",
      "source": [
        "# 4.0.0 Python operations\n"
      ]
    },
    {
      "metadata": {
        "id": "pv6cGaaPAecI",
        "colab_type": "text"
      },
      "cell_type": "markdown",
      "source": [
        "## 4.1.0 if statements  "
      ]
    },
    {
      "metadata": {
        "id": "Vv6p_bRVop-n",
        "colab_type": "text"
      },
      "cell_type": "markdown",
      "source": [
        "\n",
        "\n",
        "![Image of Yaktocat](https://2.bp.blogspot.com/-bobax-NxaAA/WM_qJ3UQptI/AAAAAAAAdJw/DVqC-jHu1BcSgwRkIhYgPwQrbsDPgVcmgCLcB/s1600/What%2BIf.png)\n"
      ]
    },
    {
      "metadata": {
        "id": "A6_1gxaJAoDM",
        "colab_type": "text"
      },
      "cell_type": "markdown",
      "source": [
        "### 4.1.1 Boolean Values\n",
        "\n",
        "\n",
        "-  Equal to ==\n",
        "\n",
        "-  Not equal to !=\n",
        "\n",
        "-  Less than <\n",
        "\n",
        "- Greater than >\n",
        "\n",
        "- Less than or equal to <=\n",
        "\n",
        "- Greater than or equal to >="
      ]
    },
    {
      "metadata": {
        "id": "EAIKaX--UQce",
        "colab_type": "code",
        "colab": {}
      },
      "cell_type": "code",
      "source": [
        ""
      ],
      "execution_count": 0,
      "outputs": []
    },
    {
      "metadata": {
        "id": "2GEsA86DAp61",
        "colab_type": "text"
      },
      "cell_type": "markdown",
      "source": [
        "### 4.1.2 Logic for If statement"
      ]
    },
    {
      "metadata": {
        "id": "B4g1sXlverAx",
        "colab_type": "text"
      },
      "cell_type": "markdown",
      "source": [
        "\n",
        "\n",
        "\n",
        "![Image of Yaktocat](https://cdn.techbeamers.com/wp-content/uploads/2018/08/Python-Decision-Making-If-Elif-Else-Statements.png)\n",
        "\n"
      ]
    },
    {
      "metadata": {
        "id": "Sd14qPbLerAy",
        "colab_type": "text"
      },
      "cell_type": "markdown",
      "source": [
        "This works a bit like the function in excel"
      ]
    },
    {
      "metadata": {
        "id": "xfB8iWKKAv18",
        "colab_type": "text"
      },
      "cell_type": "markdown",
      "source": [
        "### 4.1.3 Syntax for if statement (Indentation)"
      ]
    },
    {
      "metadata": {
        "id": "HR49ZnF4erAz",
        "colab_type": "raw"
      },
      "cell_type": "markdown",
      "source": [
        "the indentation is used to identfy code blocks.\n",
        "if condition_1 :\n",
        "    do something \n",
        "elif condition_2 :\n",
        "    do something else\n",
        "else :\n",
        "    do something else"
      ]
    },
    {
      "metadata": {
        "id": "9rlTwyDu_i1G",
        "colab_type": "text"
      },
      "cell_type": "markdown",
      "source": [
        "![Image of Yaktocat](https://storage.googleapis.com/bwdb/acceleratehk_DSML/class_1/ds19.PNG)\n",
        "\n",
        "![Image of Yaktocat](https://storage.googleapis.com/bwdb/acceleratehk_DSML/class_1/ds18.PNG)"
      ]
    },
    {
      "metadata": {
        "id": "tVhMYLWkerA0",
        "colab_type": "text"
      },
      "cell_type": "markdown",
      "source": [
        "#### Example 4.1.3"
      ]
    },
    {
      "metadata": {
        "id": "Eu5RkuKkerA0",
        "colab_type": "code",
        "outputId": "039399e6-6e7b-4f59-9222-368bbe298586",
        "colab": {
          "base_uri": "https://localhost:8080/",
          "height": 34
        }
      },
      "cell_type": "code",
      "source": [
        "iphone = 9000\n",
        "samsung = 5000\n",
        "if(iphone>samsung):\n",
        "    print('buy Samsung!')\n",
        "else:\n",
        "    print('buy iphone!')"
      ],
      "execution_count": 0,
      "outputs": [
        {
          "output_type": "stream",
          "text": [
            "buy Samsung!\n"
          ],
          "name": "stdout"
        }
      ]
    },
    {
      "metadata": {
        "id": "tFfwrgus0t43",
        "colab_type": "text"
      },
      "cell_type": "markdown",
      "source": [
        "Write a code to check if you are taller than Cristiano Ronaldo"
      ]
    },
    {
      "metadata": {
        "id": "tOOTdrmY0tYs",
        "colab_type": "code",
        "outputId": "a9d4646e-6596-466b-d450-72a843570aee",
        "colab": {
          "base_uri": "https://localhost:8080/",
          "height": 34
        }
      },
      "cell_type": "code",
      "source": [
        "my_height = 170\n",
        "Ronaldo_height = 186\n",
        "if Ronaldo_height>my_height:\n",
        "  print('ronaldo is taller')\n",
        "else:\n",
        "  print('you are taller!')\n"
      ],
      "execution_count": 0,
      "outputs": [
        {
          "output_type": "stream",
          "text": [
            "ronaldo is taller\n"
          ],
          "name": "stdout"
        }
      ]
    },
    {
      "metadata": {
        "id": "IWWDbgIr1BFY",
        "colab_type": "text"
      },
      "cell_type": "markdown",
      "source": [
        "Write a code to check  if you are old enough to watch R movie"
      ]
    },
    {
      "metadata": {
        "id": "chzR_W1zerA2",
        "colab_type": "code",
        "outputId": "6eb9f106-c951-4ecf-d774-46c6e3a2fca6",
        "colab": {
          "base_uri": "https://localhost:8080/",
          "height": 51
        }
      },
      "cell_type": "code",
      "source": [
        "age =input(\"Enter your age: \")\n",
        "\n",
        "age = int(age)\n",
        "\n",
        "if age > 17: \n",
        "  print(\"can see a rated R movie\")\n",
        "elif age < 17 and age > 12:\n",
        "  print(\"can see a rated PG-13 movie\")\n",
        "else: \n",
        "  print(\"can only see rated PG movies\")"
      ],
      "execution_count": 0,
      "outputs": [
        {
          "output_type": "stream",
          "text": [
            "Enter your age: 10\n",
            "can only see rated PG movies\n"
          ],
          "name": "stdout"
        }
      ]
    },
    {
      "metadata": {
        "id": "tg__b8290WCg",
        "colab_type": "text"
      },
      "cell_type": "markdown",
      "source": [
        "#### Exercise 4.1.3\n",
        "\n",
        "1) Try to write a code that checks if you have longer name than \"Anusree\""
      ]
    },
    {
      "metadata": {
        "id": "QdPqyScT0Ur5",
        "colab_type": "code",
        "colab": {}
      },
      "cell_type": "code",
      "source": [
        "# Your code here"
      ],
      "execution_count": 0,
      "outputs": []
    },
    {
      "metadata": {
        "id": "fLBZWqvMerA4",
        "colab_type": "text"
      },
      "cell_type": "markdown",
      "source": [
        "#### Challenge 4.1.3\n",
        "\n",
        "Ask the user for a number. Depending on whether the number is even or odd, print out an appropriate message to the user. Hint: how does an even / odd number react differently when divided by 2?\n",
        "\n",
        "**hints: modulo operator**\n",
        "\n",
        "**Extras:**\n",
        "\n",
        "If the number is a multiple of 4, print out a different message.\n",
        "Ask the user for two numbers: one number to check (call it num) and one number to divide by (check). If check divides evenly into num, tell that to the user. If not, print a different appropriate message."
      ]
    },
    {
      "metadata": {
        "id": "Kt9Y2rV2MkoC",
        "colab_type": "code",
        "outputId": "40fe242e-8d3a-412d-b627-0bfbc85f4f4a",
        "colab": {
          "base_uri": "https://localhost:8080/",
          "height": 34
        }
      },
      "cell_type": "code",
      "source": [
        "#hints\n",
        "3%2"
      ],
      "execution_count": 0,
      "outputs": [
        {
          "output_type": "execute_result",
          "data": {
            "text/plain": [
              "1"
            ]
          },
          "metadata": {
            "tags": []
          },
          "execution_count": 1
        }
      ]
    },
    {
      "metadata": {
        "id": "yxEn-DAyerA5",
        "colab_type": "code",
        "colab": {}
      },
      "cell_type": "code",
      "source": [
        "#your code here\n",
        "\n",
        "num =input(\"Enter your number: \")"
      ],
      "execution_count": 0,
      "outputs": []
    },
    {
      "metadata": {
        "id": "j9kHjlSeerA6",
        "colab_type": "text"
      },
      "cell_type": "markdown",
      "source": [
        "## 4.2.0 For loops"
      ]
    },
    {
      "metadata": {
        "id": "BtRfBXE3NKpN",
        "colab_type": "text"
      },
      "cell_type": "markdown",
      "source": [
        "For loop is one of the most important concept in programming\n",
        "\n",
        "<img src=\"https://i.gifer.com/SZgP.gif\n",
        "\"/>\n"
      ]
    },
    {
      "metadata": {
        "id": "dRZKEuU_erA6",
        "colab_type": "text"
      },
      "cell_type": "markdown",
      "source": [
        "### 4.2.1 What is a for loops?"
      ]
    },
    {
      "metadata": {
        "id": "ke8V5wDz81rd",
        "colab_type": "text"
      },
      "cell_type": "markdown",
      "source": [
        "\n",
        "<img src=\"https://swcarpentry.github.io/python-novice-inflammation/fig/loops_image.png\n",
        "\"/>\n"
      ]
    },
    {
      "metadata": {
        "id": "gqdZqcNTNhgM",
        "colab_type": "text"
      },
      "cell_type": "markdown",
      "source": [
        "\n",
        "<img src=\"https://nedbatchelder.com/text/iter_pix/004.png\n",
        "\"/>\n",
        "\n"
      ]
    },
    {
      "metadata": {
        "id": "HEI1iecjerA7",
        "colab_type": "text"
      },
      "cell_type": "markdown",
      "source": [
        "For loops is a way to ask your computer to repeatedly do a task - until it finished the no. of times to keep on doing the same thing ! (Kind of like a slave!)"
      ]
    },
    {
      "metadata": {
        "id": "wgDYR5G5N3qW",
        "colab_type": "text"
      },
      "cell_type": "markdown",
      "source": [
        "#### When do we use for loop?\n",
        "\n",
        "\n",
        "for loops are traditionally used when you have a block of code which you want to repeat a fixed number of times. The Python for statement iterates over the members of a sequence in order, executing the block each time. Contrast the for statement with the ''while'' loop, used when a condition needs to be checked each iteration, or to repeat a block of code forever. For example:\n",
        "\n",
        "For loop from 0 to 2, therefore running 3 times."
      ]
    },
    {
      "metadata": {
        "id": "3GDLopwIN_b5",
        "colab_type": "code",
        "outputId": "fcd352fe-1c3f-4544-ffa3-b9f8e870e33e",
        "colab": {
          "base_uri": "https://localhost:8080/",
          "height": 68
        }
      },
      "cell_type": "code",
      "source": [
        "for x in range(0, 3):\n",
        "    print(\"We're on time %d\" % (x))"
      ],
      "execution_count": 0,
      "outputs": [
        {
          "output_type": "stream",
          "text": [
            "We're on time 0\n",
            "We're on time 1\n",
            "We're on time 2\n"
          ],
          "name": "stdout"
        }
      ]
    },
    {
      "metadata": {
        "id": "f86hJX2EN8fA",
        "colab_type": "text"
      },
      "cell_type": "markdown",
      "source": [
        "#### Example 4.2.1\n",
        "\n"
      ]
    },
    {
      "metadata": {
        "id": "CrYLvotiOEus",
        "colab_type": "text"
      },
      "cell_type": "markdown",
      "source": [
        "Python's for loop can loop through a string or a list.\n",
        "Let's try to loop throgh my name?"
      ]
    },
    {
      "metadata": {
        "id": "I9AEXZ3TOESS",
        "colab_type": "code",
        "outputId": "0ba93c4c-2c17-4b58-b944-2779efda1e1d",
        "colab": {
          "base_uri": "https://localhost:8080/",
          "height": 136
        }
      },
      "cell_type": "code",
      "source": [
        "string = \"Patrick\"\n",
        "for x in string:\n",
        "    print(x)"
      ],
      "execution_count": 0,
      "outputs": [
        {
          "output_type": "stream",
          "text": [
            "P\n",
            "a\n",
            "t\n",
            "r\n",
            "i\n",
            "c\n",
            "k\n"
          ],
          "name": "stdout"
        }
      ]
    },
    {
      "metadata": {
        "id": "U6fSjpnp8fY7",
        "colab_type": "text"
      },
      "cell_type": "markdown",
      "source": [
        "#### Exercise 4.2.1"
      ]
    },
    {
      "metadata": {
        "id": "s3drJFxPerA7",
        "colab_type": "text"
      },
      "cell_type": "markdown",
      "source": [
        "Try finish game 6 - 8\n",
        "\n",
        "https://studio.code.org/hoc/6"
      ]
    },
    {
      "metadata": {
        "id": "EhwLRWpZ-LHN",
        "colab_type": "text"
      },
      "cell_type": "markdown",
      "source": [
        "### 4.2.2 Syntax of for loop"
      ]
    },
    {
      "metadata": {
        "id": "fkW21CZP-RPe",
        "colab_type": "text"
      },
      "cell_type": "markdown",
      "source": [
        "\n",
        "<img src=\"https://www.oreilly.com/library/view/head-first-python/9781491919521/figs/web/027fig02.png.jpg\n",
        "\"/>\n"
      ]
    },
    {
      "metadata": {
        "id": "FD_-LdQeOkke",
        "colab_type": "text"
      },
      "cell_type": "markdown",
      "source": [
        "#### Example 4.2.2 For loop syntax"
      ]
    },
    {
      "metadata": {
        "id": "gl_-BHOTo2I1",
        "colab_type": "text"
      },
      "cell_type": "markdown",
      "source": [
        "for i in some_range:\n",
        "\n",
        "    do something with i"
      ]
    },
    {
      "metadata": {
        "id": "RDayWil28Yql",
        "colab_type": "code",
        "colab": {}
      },
      "cell_type": "code",
      "source": [
        "# An example of the for-loop. Iterate through the numbers 1-11. What do you think this function does?\n",
        "x = [1,2,3,4,5,6,7,8,9,10]\n",
        "\n",
        "for i in x:\n",
        "    if i % 2 == 0: \n",
        "        print (i)"
      ],
      "execution_count": 0,
      "outputs": []
    },
    {
      "metadata": {
        "id": "xSYtVeiberA9",
        "colab_type": "code",
        "colab": {}
      },
      "cell_type": "code",
      "source": [
        "## range(i,j) retuns integers beween i and j-1 \n",
        "range(1,11)"
      ],
      "execution_count": 0,
      "outputs": []
    },
    {
      "metadata": {
        "id": "36gz79VberA-",
        "colab_type": "code",
        "outputId": "0e8afe05-5f53-40e2-b62c-491ad55b1ad5",
        "colab": {
          "base_uri": "https://localhost:8080/",
          "height": 187
        }
      },
      "cell_type": "code",
      "source": [
        "## sum of first 10 integers\n",
        "\n",
        "result=0\n",
        "for i in range(1,11):\n",
        "    result = result+i\n",
        "    print(result)"
      ],
      "execution_count": 0,
      "outputs": [
        {
          "output_type": "stream",
          "text": [
            "1\n",
            "3\n",
            "6\n",
            "10\n",
            "15\n",
            "21\n",
            "28\n",
            "36\n",
            "45\n",
            "55\n"
          ],
          "name": "stdout"
        }
      ]
    },
    {
      "metadata": {
        "id": "Jr1GgOb-erBA",
        "colab_type": "code",
        "colab": {}
      },
      "cell_type": "code",
      "source": [
        "shopping_list=[\"bananas\", \"chocolate\", \"carrots\"]\n",
        "## lists are iterators. \n",
        "## We can automatically loop through list elements without using indexes\n",
        "for thing in shopping_list:\n",
        "    print(\"today I purchased some\" + thing)\n",
        "             "
      ],
      "execution_count": 0,
      "outputs": []
    },
    {
      "metadata": {
        "id": "S_5Edm7aQ5w4",
        "colab_type": "text"
      },
      "cell_type": "markdown",
      "source": [
        "#### A nested for loop\n",
        "\n",
        "\n",
        "When you have a block of code you want to run x number of times, then a block of code within that code which you want to run y number of times, you use what is known as a \"nested loop\". In Python, these are heavily used whenever someone has a list of lists - an iterable object within an iterable object."
      ]
    },
    {
      "metadata": {
        "id": "nS-i5-YkRMRi",
        "colab_type": "code",
        "outputId": "8bc673c8-d5a5-4aa3-dd70-6ec137ca6f23",
        "colab": {
          "base_uri": "https://localhost:8080/",
          "height": 1717
        }
      },
      "cell_type": "code",
      "source": [
        "for x in range(1, 11):\n",
        "    for y in range(1, 11):\n",
        "        print('%d * %d = %d' % (x, y, x*y))"
      ],
      "execution_count": 0,
      "outputs": [
        {
          "output_type": "stream",
          "text": [
            "1 * 1 = 1\n",
            "1 * 2 = 2\n",
            "1 * 3 = 3\n",
            "1 * 4 = 4\n",
            "1 * 5 = 5\n",
            "1 * 6 = 6\n",
            "1 * 7 = 7\n",
            "1 * 8 = 8\n",
            "1 * 9 = 9\n",
            "1 * 10 = 10\n",
            "2 * 1 = 2\n",
            "2 * 2 = 4\n",
            "2 * 3 = 6\n",
            "2 * 4 = 8\n",
            "2 * 5 = 10\n",
            "2 * 6 = 12\n",
            "2 * 7 = 14\n",
            "2 * 8 = 16\n",
            "2 * 9 = 18\n",
            "2 * 10 = 20\n",
            "3 * 1 = 3\n",
            "3 * 2 = 6\n",
            "3 * 3 = 9\n",
            "3 * 4 = 12\n",
            "3 * 5 = 15\n",
            "3 * 6 = 18\n",
            "3 * 7 = 21\n",
            "3 * 8 = 24\n",
            "3 * 9 = 27\n",
            "3 * 10 = 30\n",
            "4 * 1 = 4\n",
            "4 * 2 = 8\n",
            "4 * 3 = 12\n",
            "4 * 4 = 16\n",
            "4 * 5 = 20\n",
            "4 * 6 = 24\n",
            "4 * 7 = 28\n",
            "4 * 8 = 32\n",
            "4 * 9 = 36\n",
            "4 * 10 = 40\n",
            "5 * 1 = 5\n",
            "5 * 2 = 10\n",
            "5 * 3 = 15\n",
            "5 * 4 = 20\n",
            "5 * 5 = 25\n",
            "5 * 6 = 30\n",
            "5 * 7 = 35\n",
            "5 * 8 = 40\n",
            "5 * 9 = 45\n",
            "5 * 10 = 50\n",
            "6 * 1 = 6\n",
            "6 * 2 = 12\n",
            "6 * 3 = 18\n",
            "6 * 4 = 24\n",
            "6 * 5 = 30\n",
            "6 * 6 = 36\n",
            "6 * 7 = 42\n",
            "6 * 8 = 48\n",
            "6 * 9 = 54\n",
            "6 * 10 = 60\n",
            "7 * 1 = 7\n",
            "7 * 2 = 14\n",
            "7 * 3 = 21\n",
            "7 * 4 = 28\n",
            "7 * 5 = 35\n",
            "7 * 6 = 42\n",
            "7 * 7 = 49\n",
            "7 * 8 = 56\n",
            "7 * 9 = 63\n",
            "7 * 10 = 70\n",
            "8 * 1 = 8\n",
            "8 * 2 = 16\n",
            "8 * 3 = 24\n",
            "8 * 4 = 32\n",
            "8 * 5 = 40\n",
            "8 * 6 = 48\n",
            "8 * 7 = 56\n",
            "8 * 8 = 64\n",
            "8 * 9 = 72\n",
            "8 * 10 = 80\n",
            "9 * 1 = 9\n",
            "9 * 2 = 18\n",
            "9 * 3 = 27\n",
            "9 * 4 = 36\n",
            "9 * 5 = 45\n",
            "9 * 6 = 54\n",
            "9 * 7 = 63\n",
            "9 * 8 = 72\n",
            "9 * 9 = 81\n",
            "9 * 10 = 90\n",
            "10 * 1 = 10\n",
            "10 * 2 = 20\n",
            "10 * 3 = 30\n",
            "10 * 4 = 40\n",
            "10 * 5 = 50\n",
            "10 * 6 = 60\n",
            "10 * 7 = 70\n",
            "10 * 8 = 80\n",
            "10 * 9 = 90\n",
            "10 * 10 = 100\n"
          ],
          "name": "stdout"
        }
      ]
    },
    {
      "metadata": {
        "id": "b-gDY4BkQ1gp",
        "colab_type": "code",
        "outputId": "daf41f0e-429c-446a-d3bf-c3914bdbfee5",
        "colab": {
          "base_uri": "https://localhost:8080/",
          "height": 170
        }
      },
      "cell_type": "code",
      "source": [
        "list_of_lists = [ [1, 2, 3], [4, 5, 6], [7, 8, 9]]\n",
        "for list in list_of_lists:\n",
        "    for x in list:\n",
        "        print(x)"
      ],
      "execution_count": 0,
      "outputs": [
        {
          "output_type": "stream",
          "text": [
            "1\n",
            "2\n",
            "3\n",
            "4\n",
            "5\n",
            "6\n",
            "7\n",
            "8\n",
            "9\n"
          ],
          "name": "stdout"
        }
      ]
    },
    {
      "metadata": {
        "id": "qolb0p_DQuxg",
        "colab_type": "text"
      },
      "cell_type": "markdown",
      "source": [
        "#### Mixing for loop & if statement"
      ]
    },
    {
      "metadata": {
        "id": "VtwIpQOb10Zp",
        "colab_type": "code",
        "outputId": "dd09859c-d7a5-491b-9a98-b495637be7a0",
        "colab": {
          "base_uri": "https://localhost:8080/",
          "height": 102
        }
      },
      "cell_type": "code",
      "source": [
        "for i in [1,2,3,4,5,6,7,8,9,10]:\n",
        "  if i > 5:\n",
        "    print(i)"
      ],
      "execution_count": 0,
      "outputs": [
        {
          "output_type": "stream",
          "text": [
            "6\n",
            "7\n",
            "8\n",
            "9\n",
            "10\n"
          ],
          "name": "stdout"
        }
      ]
    },
    {
      "metadata": {
        "id": "EuZz-wY4Zmao",
        "colab_type": "text"
      },
      "cell_type": "markdown",
      "source": [
        ""
      ]
    },
    {
      "metadata": {
        "id": "ZAvzuXNDZl_z",
        "colab_type": "code",
        "colab": {}
      },
      "cell_type": "code",
      "source": [
        ""
      ],
      "execution_count": 0,
      "outputs": []
    },
    {
      "metadata": {
        "id": "vhSfqhJLUUpn",
        "colab_type": "code",
        "outputId": "b650c828-2286-46f4-cd30-4cd90a3b6107",
        "colab": {
          "base_uri": "https://localhost:8080/",
          "height": 153
        }
      },
      "cell_type": "code",
      "source": [
        "#We can set multiple conditions else, elif\n",
        "a = [\"fido\",\"cow\",\"camel\",\"cat\",\"dog\",\"horse\",\"rabbit\",\"bingo\"]\n",
        "for i in a:\n",
        "    if i == \"fido\" or i == \"bingo\" or i == \"dog\":\n",
        "        print(\"bark!\")\n",
        "    elif i == \"cow\":\n",
        "            print(\"moo!\")\n",
        "    else:\n",
        "        print(\"I dunno\")"
      ],
      "execution_count": 0,
      "outputs": [
        {
          "output_type": "stream",
          "text": [
            "bark!\n",
            "moo!\n",
            "I dunno\n",
            "I dunno\n",
            "bark!\n",
            "I dunno\n",
            "I dunno\n",
            "bark!\n"
          ],
          "name": "stdout"
        }
      ]
    },
    {
      "metadata": {
        "id": "ESoZuT7nZuw7",
        "colab_type": "text"
      },
      "cell_type": "markdown",
      "source": [
        "#### Example 4.1.0"
      ]
    },
    {
      "metadata": {
        "id": "C9VBmq-pZt2X",
        "colab_type": "code",
        "colab": {}
      },
      "cell_type": "code",
      "source": [
        "import random\n",
        "\n",
        "abc = 'abcdefghijklmnopqrstuvwxyz'\n",
        "abc1 = abc.upper()\n",
        "num = \"1234567890\"\n",
        "spec_char = '!,@#$%.[&*()}'\n",
        "pw_candidate = abc + abc1 + num + spec_char\n",
        "\n",
        "\n",
        "target = 8\n",
        "a = ''\n",
        "\n",
        "# First loop through different choice of characters\n",
        "for i in [abc, abc1, num, spec_char]:\n",
        "  a = a + random.choice(i)\n",
        "\n",
        "# after making sure we have one from each kind, do a random selection on the rest\n",
        "for i in range(target-len(a)):\n",
        "  a = a + random.choice(pw_candidate)\n",
        "a"
      ],
      "execution_count": 0,
      "outputs": []
    },
    {
      "metadata": {
        "id": "MTD9qXDhSOQ7",
        "colab_type": "text"
      },
      "cell_type": "markdown",
      "source": [
        "#### Exercise 4.1.0\n",
        "\n",
        "a) Try to loop from 1 to 100, and print out when it is divisable by 10\n",
        "b) Loop through and print out all even numbers from the numbers list in the same order they are received. Don't print any numbers that come after 237 in the sequence.\n",
        "\n"
      ]
    },
    {
      "metadata": {
        "id": "KiK9uJIcSzyH",
        "colab_type": "code",
        "colab": {}
      },
      "cell_type": "code",
      "source": [
        "#a) your code here"
      ],
      "execution_count": 0,
      "outputs": []
    },
    {
      "metadata": {
        "id": "dWITJvKZS1jH",
        "colab_type": "code",
        "colab": {}
      },
      "cell_type": "code",
      "source": [
        "#b) Your code here\n",
        "\n",
        "numbers = [\n",
        "    951, 402, 984, 651, 360, 69, 408, 319, 601, 485, 980, 507, 725, 547, 544,\n",
        "    615, 83, 165, 141, 501, 263, 617, 865, 575, 219, 390, 984, 592, 236, 105, 942, 941,\n",
        "    386, 462, 47, 418, 907, 344, 236, 375, 823, 566, 597, 978, 328, 615, 953, 345,\n",
        "    399, 162, 758, 219, 918, 237, 412, 566, 826, 248, 866, 950, 626, 949, 687, 217,\n",
        "    815, 67, 104, 58, 512, 24, 892, 894, 767, 553, 81, 379, 843, 831, 445, 742, 717,\n",
        "    958, 609, 842, 451, 688, 753, 854, 685, 93, 857, 440, 380, 126, 721, 328, 753, 470,\n",
        "    743, 527\n",
        "]\n"
      ],
      "execution_count": 0,
      "outputs": []
    },
    {
      "metadata": {
        "id": "xIwG_Uj3erBB",
        "colab_type": "text"
      },
      "cell_type": "markdown",
      "source": [
        "#### Challenge 4.1.0:\n",
        "\n",
        "Using \"for loops \"  and  \"if statements \" answer the following questions :\n",
        "\n",
        "- who among us has the longest First name? and how long is it? ...... this is a very tricky exercise as it will imply that we can spell all our names correctly :) :) \n",
        "\n",
        "- and what about the shortest name?\n",
        "\n",
        "These are \"probably\" our names : \n",
        "\n",
        "Xiaoyan ,  Maitreya , Jason , Qihui , Chuck , Jeremy , Mihwa , Lina , Huijun , Raul , Warintra , Abhay \n",
        "\n",
        "\n"
      ]
    },
    {
      "metadata": {
        "id": "1z5qaHP8erBC",
        "colab_type": "code",
        "colab": {}
      },
      "cell_type": "code",
      "source": [
        "## some tips \n",
        "\n",
        "## maybe I want to define a list containing our names \n",
        "## and then go through each of the names and see how long they are , and note down the longest one(s)."
      ],
      "execution_count": 0,
      "outputs": []
    },
    {
      "metadata": {
        "id": "kDH32cCRpD_m",
        "colab_type": "text"
      },
      "cell_type": "markdown",
      "source": [
        "## 4.3.0 While loop"
      ]
    },
    {
      "metadata": {
        "id": "FyOc3tlfTTUq",
        "colab_type": "text"
      },
      "cell_type": "markdown",
      "source": [
        "A while loop is one of the most common types of loop. The main characteristic of a while loop is that it will repeat a set of instructions based on a condition. As far as the loop returns a boolean value of TRUE, the code inside it will keep repeating. We use this kind of loop when we don't know the exact number of times a code needs to be executed."
      ]
    },
    {
      "metadata": {
        "id": "GcZS6HSRtj-v",
        "colab_type": "text"
      },
      "cell_type": "markdown",
      "source": [
        "\n",
        "\n",
        "![Image of Yaktocat](http://diwo.bq.com/wp-content/uploads/2015/03/While-loop-diagram.png)\n"
      ]
    },
    {
      "metadata": {
        "id": "8J3Ne6RfsfEt",
        "colab_type": "text"
      },
      "cell_type": "markdown",
      "source": [
        "\n",
        "\n",
        "![Image of Yaktocat](https://blog.penjee.com/wp-content/uploads/2016/04/while-loop-modulo-even-numbers-python-animation.gif)\n"
      ]
    },
    {
      "metadata": {
        "id": "niEsCpnUpJEr",
        "colab_type": "text"
      },
      "cell_type": "markdown",
      "source": [
        "\n",
        "#### Exercise 4.3.1\n",
        "\n",
        "Try finish game 9 - 12\n",
        "\n",
        "https://studio.code.org/hoc/9"
      ]
    },
    {
      "metadata": {
        "id": "-9xsxf1j_AHo",
        "colab_type": "code",
        "outputId": "34f499a1-56b7-4c4c-8693-e7dd8920443c",
        "colab": {
          "base_uri": "https://localhost:8080/",
          "height": 170
        }
      },
      "cell_type": "code",
      "source": [
        "n = 10\n",
        "while n>1:\n",
        "  print(n)\n",
        "  n = n-1"
      ],
      "execution_count": 0,
      "outputs": [
        {
          "output_type": "stream",
          "text": [
            "10\n",
            "9\n",
            "8\n",
            "7\n",
            "6\n",
            "5\n",
            "4\n",
            "3\n",
            "2\n"
          ],
          "name": "stdout"
        }
      ]
    },
    {
      "metadata": {
        "id": "N45bVOMvM3ke",
        "colab_type": "code",
        "outputId": "4af0a28e-f115-497e-cee1-4bea153e48b7",
        "colab": {
          "base_uri": "https://localhost:8080/",
          "height": 34
        }
      },
      "cell_type": "code",
      "source": [
        "n = 10\n",
        "while n>1:\n",
        "  print(n)\n",
        "  break\n",
        "  n = n-1"
      ],
      "execution_count": 0,
      "outputs": [
        {
          "output_type": "stream",
          "text": [
            "10\n"
          ],
          "name": "stdout"
        }
      ]
    },
    {
      "metadata": {
        "id": "t-pydw0g2JU3",
        "colab_type": "text"
      },
      "cell_type": "markdown",
      "source": [
        "### 4.4.0 Use of if & loops together\n",
        "\n",
        "Try finish game 14-20\n",
        "\n",
        "https://studio.code.org/hoc/14"
      ]
    },
    {
      "metadata": {
        "id": "WQi7nMxO3xea",
        "colab_type": "text"
      },
      "cell_type": "markdown",
      "source": [
        "#### Challenge 4.4.2 \n",
        "\n",
        "Find the maximum, mean and minimum value of list of intergers without using any precoded mathematical function in Python"
      ]
    },
    {
      "metadata": {
        "id": "ShE61O2m3wyK",
        "colab_type": "code",
        "colab": {}
      },
      "cell_type": "code",
      "source": [
        ""
      ],
      "execution_count": 0,
      "outputs": []
    },
    {
      "metadata": {
        "id": "2KmS9Gn55pXn",
        "colab_type": "text"
      },
      "cell_type": "markdown",
      "source": [
        "## Test 4.0.0\n",
        "\n",
        "https://goo.gl/forms/jAPGw50cb8zFTAYI3"
      ]
    },
    {
      "metadata": {
        "colab_type": "text",
        "id": "RaG1x3FArBL6"
      },
      "cell_type": "markdown",
      "source": [
        "# 5.0.0 Python Operations Exercise\n"
      ]
    },
    {
      "metadata": {
        "colab_type": "text",
        "id": "K3TKv8XkrBL8"
      },
      "cell_type": "markdown",
      "source": [
        "## Challenge 5.1.0\n",
        "\n",
        "Find the Mean, Max, Min of a list of integer (E.g [10, -10, 100, 200, 3]), without using any built-in function"
      ]
    },
    {
      "metadata": {
        "colab_type": "code",
        "id": "Gx0OL_GhrBMK",
        "colab": {}
      },
      "cell_type": "code",
      "source": [
        "# Your code here"
      ],
      "execution_count": 0,
      "outputs": []
    },
    {
      "metadata": {
        "colab_type": "text",
        "id": "GOvgFxDArBMO"
      },
      "cell_type": "markdown",
      "source": [
        "## Challenge 5.2.0\n",
        "\n",
        "Write a function for finding out the factorial of a number that the user inputs."
      ]
    },
    {
      "metadata": {
        "colab_type": "code",
        "id": "bUcAvj2TrBMc",
        "colab": {}
      },
      "cell_type": "code",
      "source": [
        "\n",
        "## maybe I want to define a list containing our names \n",
        "## and then go through each of the names and see how long they are , and note down the longest one(s)."
      ],
      "execution_count": 0,
      "outputs": []
    },
    {
      "metadata": {
        "colab_type": "text",
        "id": "AsWejIFfrBMd"
      },
      "cell_type": "markdown",
      "source": [
        "## Challenge 5.3.0\n",
        "\n",
        "Convert a phrase to its acronym.\n",
        "\n",
        "Techies love their TLA (Three Letter Acronyms)!\n",
        "Help generate some jargon (words) by writing a program that converts a long name like “Portable Network Graphics” to its acronym “PNG”.\n",
        "Example: “We love python” => “WLP”\n"
      ]
    },
    {
      "metadata": {
        "id": "fT7lH5xfVYSU",
        "colab_type": "text"
      },
      "cell_type": "markdown",
      "source": [
        "## Challenge 5.4.0\n",
        "\n",
        "Take two lists, say for example these two:\n",
        "\n",
        "  a = [1, 1, 2, 3, 5, 8, 13, 21, 34, 55, 89]\n",
        "  \n",
        "  b = [1, 2, 3, 4, 5, 6, 7, 8, 9, 10, 11, 12, 13]\n",
        "  \n",
        "and write a program that returns a list that contains only the elements that are common between the lists (without duplicates). Make sure your program works on two lists of different sizes."
      ]
    },
    {
      "metadata": {
        "id": "C3zuUZrJx_bj",
        "colab_type": "text"
      },
      "cell_type": "markdown",
      "source": [
        "## Challenge 5.4.0\n",
        "\n",
        "D.) Given a word, compute the scrabble score for that word.\n",
        "Letter Values\n",
        "You'll need these:\n",
        "\n",
        "Letter                           Value\n",
        "A, E, I, O, U, L, N, R, S, T       1\n",
        "D, G                               2\n",
        "B, C, M, P                         3\n",
        "F, H, V, W, Y                      4\n",
        "K                                  5\n",
        "J, X                               8\n",
        "Q, Z                               10\n",
        "\n",
        "\n",
        "Examples\n",
        "\"cabbage\" should be scored as worth 14 points:\n",
        "\n",
        "3 points for C\n",
        "1 point for A, twice\n",
        "3 points for B, twice\n",
        "2 points for G\n",
        "1 point for E\n",
        "\n",
        "And to total:\n",
        "3 + 2*1 + 2*3 + 2 + 1\n",
        "= 3 + 2 + 6 + 3\n",
        "= 5 + 9\n",
        "= 14"
      ]
    },
    {
      "metadata": {
        "colab_type": "text",
        "id": "3GavFz5PrKrl"
      },
      "cell_type": "markdown",
      "source": [
        "# 6.0.0 Python Functions\n"
      ]
    },
    {
      "metadata": {
        "id": "TSvMVattlyoZ",
        "colab_type": "text"
      },
      "cell_type": "markdown",
      "source": [
        "## 6.1.0 What is a function?"
      ]
    },
    {
      "metadata": {
        "id": "tBDnBw0t5G3T",
        "colab_type": "text"
      },
      "cell_type": "markdown",
      "source": [
        "A function is a block of organized, reusable code that is used to perform a single, related action. Functions provide better modularity for your application and a high degree of code reusing.\n",
        "\n",
        " You’re already familiar with the print(), input(), and len() functions from the previous chapters. Python provides several builtin functions like these, but you can also write your own functions.  These functions are called user-defined functions.\n"
      ]
    },
    {
      "metadata": {
        "id": "RltB37Zzo4Tg",
        "colab_type": "text"
      },
      "cell_type": "markdown",
      "source": [
        "\n",
        "![Image of Yaktocat](https://cdn-learn.adafruit.com/assets/assets/000/058/742/medium800/circuitpython_function-big.png?1533749193)\n",
        "\n",
        "\n",
        "\n",
        "\n"
      ]
    },
    {
      "metadata": {
        "id": "wy7v4YkZp-hK",
        "colab_type": "text"
      },
      "cell_type": "markdown",
      "source": [
        "![Image of Yaktocat](https://d2h0cx97tjks2p.cloudfront.net/blogs/wp-content/uploads/sites/2/2018/01/Python-Functions.jpg)\n",
        "\n",
        "\n",
        "\n"
      ]
    },
    {
      "metadata": {
        "id": "Q7nHGC3FOHrR",
        "colab_type": "text"
      },
      "cell_type": "markdown",
      "source": [
        "## 6.2.0 The structure and syntax of a function"
      ]
    },
    {
      "metadata": {
        "id": "fC34WwIj5NHb",
        "colab_type": "text"
      },
      "cell_type": "markdown",
      "source": [
        "- Function blocks begin with the keyword def followed by the function name and parentheses ( ( ) ).\n",
        "\n",
        "- Any input parameters or arguments should be placed within these parentheses. You can also define parameters inside these parentheses.\n",
        "\n",
        "- The first statement of a function can be an optional statement - the documentation string of the function or docstring.\n",
        "\n",
        "- The code block within every function starts with a colon (:) and is indented.\n",
        "\n",
        "- The statement return [expression] exits a function, optionally passing back an expression to the caller. A return statement with no arguments is the same as return None.\n",
        "\n",
        "\n"
      ]
    },
    {
      "metadata": {
        "id": "7IcmOIYWos-K",
        "colab_type": "text"
      },
      "cell_type": "markdown",
      "source": [
        "![Image of Yaktocat](https://swcarpentry.github.io/python-novice-inflammation/fig/python-function.svg)\n",
        "\n"
      ]
    },
    {
      "metadata": {
        "id": "HSYiyguPpNPU",
        "colab_type": "text"
      },
      "cell_type": "markdown",
      "source": [
        "![Image of Yaktocat](http://www.informit.com/content/images/chap2_9780134076430/elementLinks/p0215_01.jpg)\n",
        "\n",
        "\n"
      ]
    },
    {
      "metadata": {
        "id": "gwTVGMNUn4iy",
        "colab_type": "code",
        "colab": {}
      },
      "cell_type": "code",
      "source": [
        ">>> def add(x, y):\n",
        "...     \"\"\"Return x plus y\"\"\"\n",
        "...     return x + y"
      ],
      "execution_count": 0,
      "outputs": []
    },
    {
      "metadata": {
        "id": "q5mHE4ctd-Y9",
        "colab_type": "code",
        "colab": {}
      },
      "cell_type": "code",
      "source": [
        "def function-name(Parameter list):\n",
        "    statements, i.e. the function body"
      ],
      "execution_count": 0,
      "outputs": []
    },
    {
      "metadata": {
        "id": "Yl99-mZHd_XN",
        "colab_type": "text"
      },
      "cell_type": "markdown",
      "source": [
        "Docstring"
      ]
    },
    {
      "metadata": {
        "id": "WXUXQRkll2Qd",
        "colab_type": "code",
        "colab": {}
      },
      "cell_type": "code",
      "source": [
        ""
      ],
      "execution_count": 0,
      "outputs": []
    },
    {
      "metadata": {
        "id": "VGz-1Ea9l3Z3",
        "colab_type": "text"
      },
      "cell_type": "markdown",
      "source": [
        "Calling a Function"
      ]
    },
    {
      "metadata": {
        "id": "BCm8GDE8l22X",
        "colab_type": "code",
        "colab": {}
      },
      "cell_type": "code",
      "source": [
        ""
      ],
      "execution_count": 0,
      "outputs": []
    },
    {
      "metadata": {
        "id": "kFamRP1Ml5Tr",
        "colab_type": "text"
      },
      "cell_type": "markdown",
      "source": [
        ""
      ]
    },
    {
      "metadata": {
        "id": "2S4sCMemOJ-K",
        "colab_type": "text"
      },
      "cell_type": "markdown",
      "source": [
        "## 6.3.0 Local and Global Scope"
      ]
    },
    {
      "metadata": {
        "id": "sz4ZhVcAOhfx",
        "colab_type": "text"
      },
      "cell_type": "markdown",
      "source": [
        "Local Variables Cannot Be Used in the Global Scope"
      ]
    },
    {
      "metadata": {
        "id": "aJZzdAQXOs_9",
        "colab_type": "text"
      },
      "cell_type": "markdown",
      "source": [
        "#### Example 6.3.0 Local and Global Variables with the Same Name"
      ]
    },
    {
      "metadata": {
        "id": "HDaRegomPCD8",
        "colab_type": "text"
      },
      "cell_type": "markdown",
      "source": [
        "## 6.4.0 Error Handling"
      ]
    },
    {
      "metadata": {
        "id": "FQcJyCb9O2xw",
        "colab_type": "text"
      },
      "cell_type": "markdown",
      "source": [
        ""
      ]
    },
    {
      "metadata": {
        "id": "4wAcJfXPUqfL",
        "colab_type": "text"
      },
      "cell_type": "markdown",
      "source": [
        "The toy examples I’ve show you so far are useful for introducing basic concepts, but now let’s see how everything you’ve learned comes together in a more complete program. In this section, I’ll show you a simple “guess the number” game. When you run this program, the output will look something like this:\n",
        "\n",
        "\n",
        "I am thinking of a number between 1 and 20.\n",
        "Take a guess.\n",
        "10\n",
        "Your guess is too low.\n",
        "Take a guess.\n",
        "15\n",
        "Your guess is too low.\n",
        "Take a guess.\n",
        "17\n",
        "Your guess is too high.\n",
        "Take a guess.\n",
        "16\n",
        "Good job! You guessed my number in 4 guesses!\n",
        "Type the following source code into the file editor, and save the file as guessTheNumber.py:\n"
      ]
    },
    {
      "metadata": {
        "id": "qs4QZGV4VEBI",
        "colab_type": "code",
        "colab": {}
      },
      "cell_type": "code",
      "source": [
        "\n",
        "\n"
      ],
      "execution_count": 0,
      "outputs": []
    },
    {
      "metadata": {
        "id": "sXV5X5QkcZWi",
        "colab_type": "text"
      },
      "cell_type": "markdown",
      "source": [
        "# 7.0.0 Python Recap & advance technique\n"
      ]
    },
    {
      "metadata": {
        "id": "D2vRhPSScpef",
        "colab_type": "text"
      },
      "cell_type": "markdown",
      "source": [
        "![Image of Yaktocat](https://cdn.intellipaat.com/mediaFiles/2018/11/Python-Basics-Cheat-Sheet-1-1.png)\n"
      ]
    },
    {
      "metadata": {
        "id": "-JpPxFBSasLm",
        "colab_type": "text"
      },
      "cell_type": "markdown",
      "source": [
        "## 7.1.0 Loop recap"
      ]
    },
    {
      "metadata": {
        "id": "oB5rMvYOasLn",
        "colab_type": "text"
      },
      "cell_type": "markdown",
      "source": [
        "- You can loop through a list, a string or a range(index)\n",
        "- If you want to add all operation in a loop into a list, you can throw them inside an empty list"
      ]
    },
    {
      "metadata": {
        "id": "saxonqpgasLo",
        "colab_type": "code",
        "colab": {}
      },
      "cell_type": "code",
      "source": [
        "x = 'patrick'"
      ],
      "execution_count": 0,
      "outputs": []
    },
    {
      "metadata": {
        "id": "W3hIkx0AasLs",
        "colab_type": "code",
        "outputId": "8f948414-a7ed-4084-83d5-06c6480dc5e7",
        "colab": {}
      },
      "cell_type": "code",
      "source": [
        "for i in range(len(x)):\n",
        "    print(x[i])"
      ],
      "execution_count": 0,
      "outputs": [
        {
          "output_type": "stream",
          "text": [
            "p\n",
            "a\n",
            "t\n",
            "r\n",
            "i\n",
            "c\n",
            "k\n"
          ],
          "name": "stdout"
        }
      ]
    },
    {
      "metadata": {
        "id": "UG-vypceasLx",
        "colab_type": "code",
        "outputId": "eb0ebbff-8a3e-4f29-cf31-ff4613e0cff0",
        "colab": {}
      },
      "cell_type": "code",
      "source": [
        "#list\n",
        "x = 'patrick'\n",
        "for i in range(len(x)):\n",
        "    print(i)\n"
      ],
      "execution_count": 0,
      "outputs": [
        {
          "output_type": "stream",
          "text": [
            "0\n",
            "1\n",
            "2\n",
            "3\n",
            "4\n",
            "5\n",
            "6\n"
          ],
          "name": "stdout"
        }
      ]
    },
    {
      "metadata": {
        "id": "SUAmLYsSasL0",
        "colab_type": "code",
        "colab": {}
      },
      "cell_type": "code",
      "source": [
        "#list\n",
        "x = [1,2,3]\n",
        "for i in x:\n",
        "    print(i*2)\n",
        "\n",
        "#string\n",
        "x = 'data'\n",
        "for i in x:\n",
        "    print(i)\n",
        "    \n",
        "#index\n",
        "for i in range(3):\n",
        "    print(i)"
      ],
      "execution_count": 0,
      "outputs": []
    },
    {
      "metadata": {
        "scrolled": true,
        "id": "gOKgndxqasL2",
        "colab_type": "code",
        "outputId": "011dde99-6d48-4058-87cb-1c7fee3141a0",
        "colab": {}
      },
      "cell_type": "code",
      "source": [
        "#throw it to empty list\n",
        "empty_list = [] #this is an empty list\n",
        "for i in range(3):\n",
        "    empty_list.append(i)\n",
        "empty_list"
      ],
      "execution_count": 0,
      "outputs": [
        {
          "output_type": "execute_result",
          "data": {
            "text/plain": [
              "[0, 1, 2]"
            ]
          },
          "metadata": {
            "tags": []
          },
          "execution_count": 6
        }
      ]
    },
    {
      "metadata": {
        "id": "DgRoBN8rasL6",
        "colab_type": "text"
      },
      "cell_type": "markdown",
      "source": [
        "#### Exercise 7.1.1"
      ]
    },
    {
      "metadata": {
        "id": "eHdlgwt1asL6",
        "colab_type": "text"
      },
      "cell_type": "markdown",
      "source": [
        "Write a loop to multiply every number by 3 in list [1,2,3,4]. Output your answer in a list"
      ]
    },
    {
      "metadata": {
        "id": "GD1z84JAasL7",
        "colab_type": "code",
        "outputId": "a1e4d653-ab71-4015-8423-24edcbda7923",
        "colab": {}
      },
      "cell_type": "code",
      "source": [
        "x = [1,2,3,4]\n",
        "#your code here\n",
        "\n",
        "for i in x:\n",
        "    print(i*3)"
      ],
      "execution_count": 0,
      "outputs": [
        {
          "output_type": "stream",
          "text": [
            "3\n",
            "6\n",
            "9\n",
            "12\n"
          ],
          "name": "stdout"
        }
      ]
    },
    {
      "metadata": {
        "id": "UdjewZ9xasL-",
        "colab_type": "code",
        "outputId": "4b68197a-fc80-4c40-9bcf-7bbb50b2f8a6",
        "colab": {}
      },
      "cell_type": "code",
      "source": [
        "[(i*3)  for i in x if i!= 2]"
      ],
      "execution_count": 0,
      "outputs": [
        {
          "output_type": "execute_result",
          "data": {
            "text/plain": [
              "[3, 9, 12]"
            ]
          },
          "metadata": {
            "tags": []
          },
          "execution_count": 15
        }
      ]
    },
    {
      "metadata": {
        "id": "uhF_nkFMasMC",
        "colab_type": "code",
        "outputId": "aba4cc79-e95f-4230-9e03-54e463e4d825",
        "colab": {}
      },
      "cell_type": "code",
      "source": [
        "[(i*3) if i!=2 else i for i in x ]"
      ],
      "execution_count": 0,
      "outputs": [
        {
          "output_type": "execute_result",
          "data": {
            "text/plain": [
              "[3, 2, 9, 12]"
            ]
          },
          "metadata": {
            "tags": []
          },
          "execution_count": 14
        }
      ]
    },
    {
      "metadata": {
        "id": "cyxlKZtXasMG",
        "colab_type": "text"
      },
      "cell_type": "markdown",
      "source": [
        "### 7.1.2 list comprehension"
      ]
    },
    {
      "metadata": {
        "id": "FQGVbK48asMH",
        "colab_type": "text"
      },
      "cell_type": "markdown",
      "source": [
        "- In python, there is a efficient way to write loop, which is called the list comprehension. It simply \"flatten\" the for loop into a one liner. \n",
        "- Notice that it is bounded by a square bracket? square bracket is a sign for a 'list', and it is there because list comprehension will always output as a list!"
      ]
    },
    {
      "metadata": {
        "id": "YcfutJ_UasMH",
        "colab_type": "text"
      },
      "cell_type": "markdown",
      "source": [
        "![Image of Yaktocat](http://python-3-patterns-idioms-test.readthedocs.io/en/latest/_images/listComprehensions.gif)\n",
        "\n"
      ]
    },
    {
      "metadata": {
        "id": "xsjNHRUBasMI",
        "colab_type": "code",
        "colab": {}
      },
      "cell_type": "code",
      "source": [
        "empty_list = []\n",
        "for i in [1,2,3]:\n",
        "    empty_list.append(i*2)"
      ],
      "execution_count": 0,
      "outputs": []
    },
    {
      "metadata": {
        "id": "sIu5mCKzasML",
        "colab_type": "code",
        "outputId": "ba2c7f40-1d22-496f-cb51-d6f5adf5b0e0",
        "colab": {}
      },
      "cell_type": "code",
      "source": [
        "[i*2 for i in [1,2,3]]"
      ],
      "execution_count": 0,
      "outputs": [
        {
          "output_type": "execute_result",
          "data": {
            "text/plain": [
              "[2, 4, 6]"
            ]
          },
          "metadata": {
            "tags": []
          },
          "execution_count": 10
        }
      ]
    },
    {
      "metadata": {
        "id": "JM5itL0oasMO",
        "colab_type": "code",
        "outputId": "84a21452-2651-4266-80bf-1d5ee7b3d3a4",
        "colab": {}
      },
      "cell_type": "code",
      "source": [
        "firstexample = [i*2 for i in [1,2,3]]\n",
        "print(firstexample)\n",
        "\n",
        "secondexample = [i for i in 'data']\n",
        "print(secondexample)\n",
        "\n",
        "thirdexample = [i for i in range(3)]\n",
        "print(thirdexample)"
      ],
      "execution_count": 0,
      "outputs": [
        {
          "output_type": "stream",
          "text": [
            "[2, 4, 6]\n",
            "['d', 'a', 't', 'a']\n",
            "[0, 1, 2]\n"
          ],
          "name": "stdout"
        }
      ]
    },
    {
      "metadata": {
        "id": "kF6pRllYasMS",
        "colab_type": "text"
      },
      "cell_type": "markdown",
      "source": [
        "#### Example 7.1.2 Convert loop to list comprehension"
      ]
    },
    {
      "metadata": {
        "id": "eqVn5WGDasMT",
        "colab_type": "text"
      },
      "cell_type": "markdown",
      "source": [
        "- Write a for loop that loop from 0 to 3. Skip \"2\" in the loop\n",
        "- Transform this loop to list comprehension"
      ]
    },
    {
      "metadata": {
        "id": "xNAxyC6_asMV",
        "colab_type": "code",
        "outputId": "622bbade-96e2-4e46-ad7b-7bfc01bf93c5",
        "colab": {}
      },
      "cell_type": "code",
      "source": [
        "empty_list = []\n",
        "for i in range(4):\n",
        "    if(i!=2):\n",
        "        empty_list.append(i)\n",
        "empty_list\n"
      ],
      "execution_count": 0,
      "outputs": [
        {
          "output_type": "execute_result",
          "data": {
            "text/plain": [
              "[0, 1, 3]"
            ]
          },
          "metadata": {
            "tags": []
          },
          "execution_count": 17
        }
      ]
    },
    {
      "metadata": {
        "id": "Bg1oTeONasMa",
        "colab_type": "code",
        "outputId": "66f00654-e3da-40ac-ad34-946664ea4efe",
        "colab": {}
      },
      "cell_type": "code",
      "source": [
        "['double' if i==2 else i for i in range(4)  ]"
      ],
      "execution_count": 0,
      "outputs": [
        {
          "output_type": "execute_result",
          "data": {
            "text/plain": [
              "[0, 1, 'double', 3]"
            ]
          },
          "metadata": {
            "tags": []
          },
          "execution_count": 14
        }
      ]
    },
    {
      "metadata": {
        "id": "MNtoS5oIasMe",
        "colab_type": "text"
      },
      "cell_type": "markdown",
      "source": [
        "- Write a for loop that loop from 0 to 3. **Convert '2' into '_'**\n",
        "- Transform this loop to list comprehension\n"
      ]
    },
    {
      "metadata": {
        "id": "1iQOGvZgasMf",
        "colab_type": "code",
        "outputId": "7fca8981-9a77-4232-f4ed-f7c749991574",
        "colab": {}
      },
      "cell_type": "code",
      "source": [
        "empty_list = []\n",
        "for i in range(4):\n",
        "    if(i!=2):\n",
        "        empty_list.append(i)\n",
        "    else:\n",
        "        empty_list.append('_')\n",
        "empty_list"
      ],
      "execution_count": 0,
      "outputs": [
        {
          "output_type": "execute_result",
          "data": {
            "text/plain": [
              "[0, 1, '_', 3]"
            ]
          },
          "metadata": {
            "tags": []
          },
          "execution_count": 15
        }
      ]
    },
    {
      "metadata": {
        "id": "xlPTF_rIasMj",
        "colab_type": "code",
        "colab": {}
      },
      "cell_type": "code",
      "source": [
        "#your code here"
      ],
      "execution_count": 0,
      "outputs": []
    },
    {
      "metadata": {
        "id": "R6gfeCjgasMm",
        "colab_type": "text"
      },
      "cell_type": "markdown",
      "source": [
        "#### Exercise 7.1.2 Convert loop to list comprehension"
      ]
    },
    {
      "metadata": {
        "id": "0PVtiua2asMn",
        "colab_type": "text"
      },
      "cell_type": "markdown",
      "source": [
        "convert below to list comprehension"
      ]
    },
    {
      "metadata": {
        "id": "Lf9mPdbPasMn",
        "colab_type": "code",
        "outputId": "0c18adaf-a634-4883-fa8d-d54b6fa4d670",
        "colab": {}
      },
      "cell_type": "code",
      "source": [
        "empty_list = []\n",
        "for i  in 'abc':\n",
        "    if i=='a':\n",
        "        empty_list.append('b')\n",
        "    else:\n",
        "        empty_list.append(i)\n",
        "empty_list"
      ],
      "execution_count": 0,
      "outputs": [
        {
          "output_type": "execute_result",
          "data": {
            "text/plain": [
              "['b', 'b', 'c']"
            ]
          },
          "metadata": {
            "tags": []
          },
          "execution_count": 35
        }
      ]
    },
    {
      "metadata": {
        "id": "j-vp-4QVasMr",
        "colab_type": "code",
        "colab": {}
      },
      "cell_type": "code",
      "source": [
        "#your code here"
      ],
      "execution_count": 0,
      "outputs": []
    },
    {
      "metadata": {
        "id": "1qQd25zAasMt",
        "colab_type": "text"
      },
      "cell_type": "markdown",
      "source": [
        "#### Example 7.1.3 Advance list comprehension"
      ]
    },
    {
      "metadata": {
        "id": "mxoAIODFasMu",
        "colab_type": "text"
      },
      "cell_type": "markdown",
      "source": [
        "- Given \n",
        "x = ['a','b','c','d']\n",
        "y = [0,1,2,3]\n",
        "c = 'c'\n",
        "- if x = c , replace x with the corresponding position in y\n",
        "- Transform the loop to list comprehension"
      ]
    },
    {
      "metadata": {
        "id": "GHv0jK3TasMv",
        "colab_type": "code",
        "outputId": "d5a7a74f-e336-4696-d07c-c95e040bc9ed",
        "colab": {}
      },
      "cell_type": "code",
      "source": [
        "y = [0,1,2,3]\n",
        "x = ['a','b','c','d']\n",
        "c = 'c'\n",
        "\n",
        "empty_list = []\n",
        "for i in range(len(y)):\n",
        "    if(x[i]== 'c'):\n",
        "        empty_list.append(y[i])\n",
        "    else:\n",
        "        empty_list.append(x[i])\n",
        "print(empty_list)"
      ],
      "execution_count": 0,
      "outputs": [
        {
          "output_type": "stream",
          "text": [
            "['a', 'b', 2, 'd']\n"
          ],
          "name": "stdout"
        }
      ]
    },
    {
      "metadata": {
        "id": "XSXJxji1asM0",
        "colab_type": "code",
        "outputId": "419a3ed2-acfd-45bd-d5b7-b3fedb0eb2ea",
        "colab": {}
      },
      "cell_type": "code",
      "source": [
        "[y[i] if x[i]==c else x[i] for i in  range(len(y))]"
      ],
      "execution_count": 0,
      "outputs": [
        {
          "output_type": "execute_result",
          "data": {
            "text/plain": [
              "['a', 'b', 2, 'd']"
            ]
          },
          "metadata": {
            "tags": []
          },
          "execution_count": 42
        }
      ]
    },
    {
      "metadata": {
        "id": "80SCBQmoasM3",
        "colab_type": "text"
      },
      "cell_type": "markdown",
      "source": [
        "#### Exercise 7.1.3 Advance list comprehension"
      ]
    },
    {
      "metadata": {
        "id": "_zpzz61_asM6",
        "colab_type": "text"
      },
      "cell_type": "markdown",
      "source": [
        "- Given name = 'data',currentpick = ['_','_','t','_'], playerguess = 'd'\n",
        "- Write a for loop that loop index. Convert '_' to 'd' in the correct position\n",
        "- Transform this loop to list comprehension"
      ]
    },
    {
      "metadata": {
        "id": "MJ7WuJnuasM7",
        "colab_type": "code",
        "colab": {}
      },
      "cell_type": "code",
      "source": [
        "#your code here"
      ],
      "execution_count": 0,
      "outputs": []
    },
    {
      "metadata": {
        "id": "Xg1TH-qqasM9",
        "colab_type": "text"
      },
      "cell_type": "markdown",
      "source": [
        "## 7.2.0 While loop recap"
      ]
    },
    {
      "metadata": {
        "id": "Gor7f_fVasM-",
        "colab_type": "code",
        "outputId": "ca427234-f1f6-4696-fb23-d2778767b8aa",
        "colab": {}
      },
      "cell_type": "code",
      "source": [
        "n = 10\n",
        "while n > 5:\n",
        "    # do sth\n",
        "    print(n)\n",
        "    n = n - 1\n",
        "    "
      ],
      "execution_count": 0,
      "outputs": [
        {
          "output_type": "stream",
          "text": [
            "10\n",
            "9\n",
            "8\n",
            "7\n",
            "6\n"
          ],
          "name": "stdout"
        }
      ]
    },
    {
      "metadata": {
        "id": "LC3gTLxmasNB",
        "colab_type": "code",
        "outputId": "86b8272f-387d-4782-c708-8e91b97fc703",
        "colab": {}
      },
      "cell_type": "code",
      "source": [
        "live = 8\n",
        "while  live>0:\n",
        "    print(live)\n",
        "    live = live-1"
      ],
      "execution_count": 0,
      "outputs": [
        {
          "output_type": "stream",
          "text": [
            "8\n",
            "7\n",
            "6\n",
            "5\n",
            "4\n",
            "3\n",
            "2\n",
            "1\n"
          ],
          "name": "stdout"
        }
      ]
    },
    {
      "metadata": {
        "id": "SpjQ4Y7fasNE",
        "colab_type": "text"
      },
      "cell_type": "markdown",
      "source": [
        "#### Example 7.2.1  While loop"
      ]
    },
    {
      "metadata": {
        "id": "mYX8j_IjasNE",
        "colab_type": "text"
      },
      "cell_type": "markdown",
      "source": [
        "- write a while loop that breaks if life  =3"
      ]
    },
    {
      "metadata": {
        "scrolled": true,
        "id": "LL5xxBT0asNG",
        "colab_type": "code",
        "outputId": "16a8c159-1561-453c-b7ec-fd62f0648c11",
        "colab": {}
      },
      "cell_type": "code",
      "source": [
        "live = 5\n",
        "while  live>0:\n",
        "    print(live)\n",
        "    if live==3:\n",
        "        break\n",
        "    live = live-1"
      ],
      "execution_count": 0,
      "outputs": [
        {
          "output_type": "stream",
          "text": [
            "5\n",
            "4\n",
            "3\n"
          ],
          "name": "stdout"
        }
      ]
    },
    {
      "metadata": {
        "id": "k4ugVkVTasNL",
        "colab_type": "text"
      },
      "cell_type": "markdown",
      "source": [
        "#### Exercise 7.2.1 While loop"
      ]
    },
    {
      "metadata": {
        "id": "odT0djcRasNL",
        "colab_type": "text"
      },
      "cell_type": "markdown",
      "source": [
        "- Write a while loop that go from live = 0 to live = 10. Stop the loop if live >10\n",
        "- Try to write an infinite loop. How can you do that?"
      ]
    },
    {
      "metadata": {
        "id": "ctubMjF5asNM",
        "colab_type": "code",
        "colab": {}
      },
      "cell_type": "code",
      "source": [
        "#Your code here\n",
        "\n"
      ],
      "execution_count": 0,
      "outputs": []
    },
    {
      "metadata": {
        "id": "2APZPg46asNO",
        "colab_type": "text"
      },
      "cell_type": "markdown",
      "source": [
        "## Test 7.3.0  Test of concept"
      ]
    },
    {
      "metadata": {
        "id": "QsTduYi8asNO",
        "colab_type": "text"
      },
      "cell_type": "markdown",
      "source": [
        "Q1 Can you fix the bug?"
      ]
    },
    {
      "metadata": {
        "id": "LI2RSfT5asNP",
        "colab_type": "code",
        "outputId": "08e12c1b-9bd5-48db-cb60-a06bd92c1a16",
        "colab": {}
      },
      "cell_type": "code",
      "source": [
        "for i in [1,2,3,4]:\n",
        "    if i ==3:\n",
        "        print('three')\n",
        "    else:\n",
        "        print(i)"
      ],
      "execution_count": 0,
      "outputs": [
        {
          "output_type": "error",
          "ename": "SyntaxError",
          "evalue": "invalid syntax (<ipython-input-19-fe84ed5e44cd>, line 1)",
          "traceback": [
            "\u001b[0;36m  File \u001b[0;32m\"<ipython-input-19-fe84ed5e44cd>\"\u001b[0;36m, line \u001b[0;32m1\u001b[0m\n\u001b[0;31m    for i in [1,2,3,4]\u001b[0m\n\u001b[0m                      ^\u001b[0m\n\u001b[0;31mSyntaxError\u001b[0m\u001b[0;31m:\u001b[0m invalid syntax\n"
          ]
        }
      ]
    },
    {
      "metadata": {
        "id": "w-RR2P_qasNR",
        "colab_type": "text"
      },
      "cell_type": "markdown",
      "source": [
        "Q2 In the python memory system: \n",
        "- what is variable s after you execute the code?\n",
        "- what is variable x after you execute the code?\n",
        "- which variable is assigned as 24?\n"
      ]
    },
    {
      "metadata": {
        "id": "Wf1qcdH0asNS",
        "colab_type": "code",
        "outputId": "9e8feb9b-033d-4e47-b2d1-dd04d82e985f",
        "colab": {}
      },
      "cell_type": "code",
      "source": [
        "x = 12\n",
        "s = 1\n",
        "def this_is_a_function(x):\n",
        "    s = 10\n",
        "    x = x*2+s\n",
        "    print(x)\n",
        "    return(x)\n",
        "\n",
        "x = this_is_a_function(7)\n",
        "x"
      ],
      "execution_count": 0,
      "outputs": [
        {
          "output_type": "stream",
          "text": [
            "24\n"
          ],
          "name": "stdout"
        },
        {
          "output_type": "execute_result",
          "data": {
            "text/plain": [
              "24"
            ]
          },
          "metadata": {
            "tags": []
          },
          "execution_count": 24
        }
      ]
    },
    {
      "metadata": {
        "id": "okrcDC6UasNV",
        "colab_type": "text"
      },
      "cell_type": "markdown",
      "source": [
        "Q3 Playing with list\n",
        "- How do you get the second last object on the list?\n",
        "- how do I get the length of the list?"
      ]
    },
    {
      "metadata": {
        "id": "SrkEa4w2asNV",
        "colab_type": "code",
        "colab": {}
      },
      "cell_type": "code",
      "source": [
        "x = range(31,9999)\n",
        "#second last?"
      ],
      "execution_count": 0,
      "outputs": []
    },
    {
      "metadata": {
        "id": "DpjlWAZBasNa",
        "colab_type": "text"
      },
      "cell_type": "markdown",
      "source": [
        "Q4 \n",
        "- How to concatenate list a & b? concatenate them and name it c\n",
        "- now, multiple every item on the new list by 3\n"
      ]
    },
    {
      "metadata": {
        "id": "rmqhAr_nasNb",
        "colab_type": "code",
        "colab": {}
      },
      "cell_type": "code",
      "source": [
        "a = [1,2,3]\n",
        "b = [4,5,6]\n"
      ],
      "execution_count": 0,
      "outputs": []
    },
    {
      "metadata": {
        "id": "V8wN5CxUasNg",
        "colab_type": "code",
        "colab": {}
      },
      "cell_type": "code",
      "source": [
        "a+b"
      ],
      "execution_count": 0,
      "outputs": []
    },
    {
      "metadata": {
        "id": "ADxZ3wFyasNl",
        "colab_type": "code",
        "outputId": "4548d056-639d-4a90-ae5f-8ef5ac17e20f",
        "colab": {}
      },
      "cell_type": "code",
      "source": [
        "for i in a+b:\n",
        "    print(i*3)"
      ],
      "execution_count": 0,
      "outputs": [
        {
          "output_type": "stream",
          "text": [
            "3\n",
            "6\n",
            "9\n",
            "12\n",
            "15\n",
            "18\n"
          ],
          "name": "stdout"
        }
      ]
    },
    {
      "metadata": {
        "id": "9ZR1k6CEasNp",
        "colab_type": "code",
        "outputId": "2967e050-c6bf-4d58-8aa1-b7d32363d903",
        "colab": {}
      },
      "cell_type": "code",
      "source": [
        "import numpy as np\n",
        "np.array(a+b)*3\n"
      ],
      "execution_count": 0,
      "outputs": [
        {
          "output_type": "execute_result",
          "data": {
            "text/plain": [
              "array([ 3,  6,  9, 12, 15, 18])"
            ]
          },
          "metadata": {
            "tags": []
          },
          "execution_count": 41
        }
      ]
    },
    {
      "metadata": {
        "id": "1M9XAPDMasNs",
        "colab_type": "text"
      },
      "cell_type": "markdown",
      "source": [
        "Q5 Can you fix the bug? I want to concatenate x and y"
      ]
    },
    {
      "metadata": {
        "id": "bblWiqBjasNt",
        "colab_type": "code",
        "outputId": "ba784914-94dc-44dd-eb15-7d888ec18228",
        "colab": {}
      },
      "cell_type": "code",
      "source": [
        "x = [1,2,3]\n",
        "y = [4]\n",
        "x +y"
      ],
      "execution_count": 0,
      "outputs": [
        {
          "output_type": "execute_result",
          "data": {
            "text/plain": [
              "[1, 2, 3, 4]"
            ]
          },
          "metadata": {
            "tags": []
          },
          "execution_count": 37
        }
      ]
    },
    {
      "metadata": {
        "id": "yE-sEPLZasNw",
        "colab_type": "text"
      },
      "cell_type": "markdown",
      "source": [
        "Q6 can you fix the bug?"
      ]
    },
    {
      "metadata": {
        "scrolled": true,
        "id": "KwEXm-1BasNw",
        "colab_type": "code",
        "outputId": "e60bf8e9-16ce-4613-a879-90c71f3dff18",
        "colab": {}
      },
      "cell_type": "code",
      "source": [
        "[a if a==3 else '_' for a in [1,2,3] ]"
      ],
      "execution_count": 0,
      "outputs": [
        {
          "output_type": "execute_result",
          "data": {
            "text/plain": [
              "['_', '_', 3]"
            ]
          },
          "metadata": {
            "tags": []
          },
          "execution_count": 39
        }
      ]
    },
    {
      "metadata": {
        "id": "aO942k97asNz",
        "colab_type": "text"
      },
      "cell_type": "markdown",
      "source": [
        "Q7 Can you fix the bug?"
      ]
    },
    {
      "metadata": {
        "id": "or-BfdM4asNz",
        "colab_type": "code",
        "outputId": "afb8e332-8e1c-488b-f452-0c4d28ac53c4",
        "colab": {}
      },
      "cell_type": "code",
      "source": [
        "[a  for a in [1,2,3] if a==3  ]"
      ],
      "execution_count": 0,
      "outputs": [
        {
          "output_type": "error",
          "ename": "SyntaxError",
          "evalue": "invalid syntax (<ipython-input-41-78bf3a31660a>, line 1)",
          "traceback": [
            "\u001b[0;36m  File \u001b[0;32m\"<ipython-input-41-78bf3a31660a>\"\u001b[0;36m, line \u001b[0;32m1\u001b[0m\n\u001b[0;31m    [a if a==3 for a in [1,2,3]   ]\u001b[0m\n\u001b[0m                 ^\u001b[0m\n\u001b[0;31mSyntaxError\u001b[0m\u001b[0;31m:\u001b[0m invalid syntax\n"
          ]
        }
      ]
    },
    {
      "metadata": {
        "id": "eRK3pr2uasN3",
        "colab_type": "code",
        "colab": {}
      },
      "cell_type": "code",
      "source": [
        ""
      ],
      "execution_count": 0,
      "outputs": []
    },
    {
      "metadata": {
        "id": "8af_oltBc1Sb",
        "colab_type": "text"
      },
      "cell_type": "markdown",
      "source": [
        "## Challenge 7.4.0"
      ]
    },
    {
      "metadata": {
        "colab_type": "text",
        "id": "YSV2Z-neck1H"
      },
      "cell_type": "markdown",
      "source": [
        "#### Challenge 7.4.1\n",
        "\n",
        "Construct a function that returns all the divisors of the number the user inputs as a list."
      ]
    },
    {
      "metadata": {
        "colab_type": "text",
        "id": "FRrwOEGPck1H"
      },
      "cell_type": "markdown",
      "source": [
        " #### Challenge 7.4.2\n",
        " \n",
        " x = [1, 1, 2, 3, 5, 8, 13, 21, 34, 55, 89]\n",
        "\n",
        "a) write a program that prints out all the elements of the list that are less than 5.\n",
        "\n",
        "\n",
        "b) Instead of printing the elements one by one, make a new list that has all the elements less than 5 from this list in it and print out this new list.\n",
        "\n",
        "\n",
        "c) Write this in one line of Python.\n",
        "\n",
        "\n",
        "d)Ask the user for a number and return a list that contains only elements from the original list a that are smaller than that number given by the user.\n"
      ]
    },
    {
      "metadata": {
        "colab_type": "text",
        "id": "sYFNVtdpck1I"
      },
      "cell_type": "markdown",
      "source": [
        "#### Challenge 7.4.3\n",
        "\n",
        "Write a program that asks the user how many Fibonnaci numbers to generate and then generates them. Take this opportunity to think about how you can use functions. Make sure to ask the user to enter the number of numbers in the sequence to generate.(Hint: The Fibonnaci seqence is a sequence of numbers where the next number in the sequence is the sum of the previous two numbers in the sequence. The sequence looks like this: 1, 1, 2, 3, 5, 8, 13, …)"
      ]
    },
    {
      "metadata": {
        "colab_type": "text",
        "id": "y58S5m9Uck1J"
      },
      "cell_type": "markdown",
      "source": [
        "#### Challenge 7.4.4\n",
        "\n",
        "Generate a random number between 1 and 20 (including 1 and 20). Ask the user to guess the number, then tell them whether they guessed too low, too high, or exactly right. (Hint: remember to use the user input lessons from the very first exercise)\n",
        "\n",
        "Extras:\n",
        "\n",
        "Keep the game going until the user types “exit”\n",
        "Keep track of how many guesses the user has taken, and when the game ends, print this out."
      ]
    },
    {
      "metadata": {
        "id": "8wf_Gp-7dXaY",
        "colab_type": "code",
        "colab": {
          "base_uri": "https://localhost:8080/",
          "height": 289
        },
        "outputId": "71636fa5-7f7c-4a06-a3c0-cae6c6022adb"
      },
      "cell_type": "code",
      "source": [
        "# This is a guess the number game.\n",
        "import random\n",
        "secretNumber = random.randint(1, 20)\n",
        "print('I am thinking of a number between 1 and 20.')\n",
        "\n",
        "# Ask the player to guess 6 times.\n",
        "for guessesTaken in range(1, 7):\n",
        "    print('Take a guess.')\n",
        "    guess = int(input())\n",
        "\n",
        "    if guess < secretNumber:\n",
        "        print('Your guess is too low.')\n",
        "    elif guess > secretNumber:\n",
        "        print('Your guess is too high.')\n",
        "    else:\n",
        "        break    # This condition is the correct guess!\n",
        "\n",
        "if guess == secretNumber:\n",
        "    print('Good job! You guessed my number in ' + str(guessesTaken) + ' guesses!')\n",
        "else:\n",
        "    print('Nope. The number I was thinking of was ' + str(secretNumber))\n",
        "#Let’s look at this code line by line, starting at the top.\n"
      ],
      "execution_count": 22,
      "outputs": [
        {
          "output_type": "stream",
          "text": [
            "I am thinking of a number between 1 and 20.\n",
            "Take a guess.\n",
            "10\n",
            "Your guess is too low.\n",
            "Take a guess.\n",
            "15\n",
            "Your guess is too low.\n",
            "Take a guess.\n",
            "18\n",
            "Your guess is too high.\n",
            "Take a guess.\n",
            "17\n",
            "Your guess is too high.\n",
            "Take a guess.\n",
            "16\n",
            "Good job! You guessed my number in 5 guesses!\n"
          ],
          "name": "stdout"
        }
      ]
    },
    {
      "metadata": {
        "colab_type": "text",
        "id": "46gq-Fmnck1J"
      },
      "cell_type": "markdown",
      "source": [
        "#### Challenge 7.4.5\n",
        "\n",
        "Hangman"
      ]
    },
    {
      "metadata": {
        "colab_type": "code",
        "id": "PLizGA77ck1L",
        "colab": {}
      },
      "cell_type": "code",
      "source": [
        ""
      ],
      "execution_count": 0,
      "outputs": []
    },
    {
      "metadata": {
        "colab_type": "text",
        "id": "Vdbh_gW_ck1P"
      },
      "cell_type": "markdown",
      "source": [
        "## Take home exercise\n",
        "\n",
        "Finish Hangman!"
      ]
    }
  ]
}