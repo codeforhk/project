{
  "nbformat": 4,
  "nbformat_minor": 0,
  "metadata": {
    "colab": {
      "name": "py_class_2.ipynb",
      "provenance": [],
      "collapsed_sections": [
        "MMjFucIDeq8Q",
        "EBV8l3iEeq8Z",
        "UZysvTpDeq8c",
        "axYPsKaqeq8e",
        "rR3Mw2K-eq8k",
        "cYm-fUXTeq9G",
        "uEPaO83neq9O",
        "tNHM94A0eq9Q",
        "MEDm0bF-eq9S",
        "QbCSljwYeq9V",
        "_VJVTVx6eq9V",
        "jHZmko0Eeq9X",
        "Y3TzmFS1eq9a",
        "GQVnbwPgeq9c",
        "Qvm5ip48eq9e",
        "t6Sn2Y_leq9e",
        "IXb0tBvheq9s",
        "pRGo6doPeq9u",
        "IfWfAUgneq9z",
        "0_lrp6Uveq99",
        "CLs3C6qxeq-B",
        "_jZEML1heq-G",
        "8l9Ox5nEeq-N",
        "MYMTDFUyeq-V",
        "5DKaMx0Xeq-d",
        "heuyIVbWeq-j",
        "bJ4QBNrCeq-n",
        "WqgNLVaceq-1",
        "6ro-6eVkeq-5",
        "JX6NSV7Ieq-8",
        "WlDvGqjIeq_B",
        "8SuFhWOUeq_G",
        "oIfoiGe0eq_H",
        "TTJOZJdneq_I",
        "StXbl1toeq_M",
        "3zJtuP2ieq_O",
        "HdYdFcdTeq_P",
        "cVa4D96peq_U",
        "6EgP_u5oeq_V",
        "gUQbPbHOeq_W",
        "VdxxwBf3eq_b",
        "Ekg_RLTueq_f",
        "6qSWfivneq_g",
        "sH_XwaZGeq_q",
        "s02P4S-Weq_r",
        "v6sIQVYaeq_t",
        "eod0452beq_w",
        "Rl_KMJA8eq_y",
        "LLNXaxezeq_0",
        "AKE0X-ppeq_6",
        "JSv4iMtieq_8",
        "0q8x8tyxeq__",
        "cDUea5oAerAA",
        "oMbs1uKLerAC",
        "YJG-i3iGerAE",
        "-SXuNJi_erAK",
        "yfNa9tXGerAN",
        "pKR76FPverAP",
        "J-4Z9g5lerAU",
        "d4y1BBG4erAX",
        "stmCtMCferAb",
        "0HgQG8YjerAn",
        "icNg_6HgerAo",
        "_N4eIFgserAr",
        "FvJZ8saNerAu",
        "oh0Xv8FnerAw",
        "HR49ZnF4erAz",
        "tVhMYLWkerA0",
        "fLBZWqvMerA4",
        "j9kHjlSeerA6",
        "dRZKEuU_erA6",
        "nqkeqKzserA7",
        "xIwG_Uj3erBB",
        "YYtsCbJperBD",
        "oWl0Ha2RerBD"
      ],
      "toc_visible": true,
      "include_colab_link": true
    },
    "kernelspec": {
      "display_name": "Python 3",
      "language": "python",
      "name": "python3"
    }
  },
  "cells": [
    {
      "cell_type": "markdown",
      "metadata": {
        "id": "view-in-github",
        "colab_type": "text"
      },
      "source": [
        "<a href=\"https://colab.research.google.com/github/codeforhk/python_course/blob/master/py_class_2.ipynb\" target=\"_parent\"><img src=\"https://colab.research.google.com/assets/colab-badge.svg\" alt=\"Open In Colab\"/></a>"
      ]
    },
    {
      "cell_type": "markdown",
      "metadata": {
        "id": "ejMS_tRueq8A",
        "colab_type": "text"
      },
      "source": [
        "\n",
        "    \n",
        "<img src=\"https://www.codefor.hk/wp-content/themes/DC_CUSTOM_THEME/img/logo-code-for-hk-logo.svg\" height=\"150\" width=\"150\"  align=\"center\"/>\n",
        "<h1><center>Code For Hong Kong - Python class 2</center></h1>\n",
        "<h6><center>Written by Patrick Leung</center></h6>\n"
      ]
    },
    {
      "cell_type": "markdown",
      "metadata": {
        "id": "J7IszlFOeq_7",
        "colab_type": "text"
      },
      "source": [
        "# 3.0.0 Python Data Structure (List, Dictionary, Tuple, Dataframe)"
      ]
    },
    {
      "cell_type": "markdown",
      "metadata": {
        "id": "J-lwYgjPeq_7",
        "colab_type": "text"
      },
      "source": [
        "**What is a data structure?**\n",
        "\n",
        "In computer science, a data structure is a data organization, management and storage format that enables efficient access and modification.\n",
        "\n",
        "In laymen terms, it is the way how you organise your data.\n",
        "\n",
        "\n",
        "In python, the most common data structure includes **List, Dictionary, Tuple & DataFrame**\n",
        "\n",
        "You can check the official documents below\n",
        "https://docs.python.org/3/tutorial/datastructures.html"
      ]
    },
    {
      "cell_type": "markdown",
      "metadata": {
        "id": "7N2yunLoeq_8",
        "colab_type": "text"
      },
      "source": [
        "<img src=\"https://storage.googleapis.com/bwdb/acceleratehk/python_class/Screen%20Shot%202017-10-21%20at%2012.26.59%20AM.png\"/>\n"
      ]
    },
    {
      "cell_type": "markdown",
      "metadata": {
        "id": "JSv4iMtieq_8",
        "colab_type": "text"
      },
      "source": [
        "## 3.1.0 List\n",
        "\n",
        "**What is a list?**"
      ]
    },
    {
      "cell_type": "markdown",
      "metadata": {
        "id": "zktdlVXDz7Dx",
        "colab_type": "text"
      },
      "source": [
        "<img src=\"https://www.w3resource.com/w3r_images/python-lists-structure.png\"/>\n",
        "\n",
        "\n"
      ]
    },
    {
      "cell_type": "markdown",
      "metadata": {
        "id": "6-zCQE0leq_9",
        "colab_type": "text"
      },
      "source": [
        "A list is a data structure in Python that is a mutable, or changeable, ordered sequence of elements. Each element or value that is inside of a list is called an item. Just as strings are defined as characters between quotes, lists are defined by having values between square brackets [ ].\n",
        "\n",
        "Lists are great to use when you want to work with many related values. They enable you to keep data together that belongs together, condense your code, and perform the same methods and operations on multiple values at once.\n",
        "\n",
        "When thinking about Python lists and other data structures that are types of collections, it is useful to consider all the different collections you have on your computer: your assortment of files, your song playlists, your browser bookmarks, your emails, the collection of videos you can access on a streaming service, and more."
      ]
    },
    {
      "cell_type": "code",
      "metadata": {
        "id": "vE5bxvaIeq_9",
        "colab_type": "code",
        "outputId": "bd79394b-0c64-4da6-ba5d-fa96f1bf68dc",
        "colab": {}
      },
      "source": [
        "sea_creatures = ['shark', 'cuttlefish', 'squid', 'mantis shrimp', 'anemone']\n",
        "print(sea_creatures)"
      ],
      "execution_count": 0,
      "outputs": [
        {
          "output_type": "stream",
          "text": [
            "['shark', 'cuttlefish', 'squid', 'mantis shrimp', 'anemone']\n"
          ],
          "name": "stdout"
        }
      ]
    },
    {
      "cell_type": "markdown",
      "metadata": {
        "id": "0q8x8tyxeq__",
        "colab_type": "text"
      },
      "source": [
        "### 3.1.1 Python list syntax\n",
        "\n",
        "Python list is bounded by square brackets"
      ]
    },
    {
      "cell_type": "markdown",
      "metadata": {
        "id": "B4WTYKi80I4j",
        "colab_type": "text"
      },
      "source": [
        "<img src=\"https://cdn.techbeamers.com/wp-content/uploads/2018/03/Python-List-A-Beginners-Guide-to-Get-Started-Quickly.png\"/>\n",
        "\n",
        "<img src=\"https://cdn.filestackcontent.com/5aQg9m9zQYOjvta9UMUf\"/>\n"
      ]
    },
    {
      "cell_type": "code",
      "metadata": {
        "id": "Y2XQbY1Feq__",
        "colab_type": "code",
        "colab": {}
      },
      "source": [
        "num_list = [1,2,3,4,5]"
      ],
      "execution_count": 0,
      "outputs": []
    },
    {
      "cell_type": "markdown",
      "metadata": {
        "id": "cDUea5oAerAA",
        "colab_type": "text"
      },
      "source": [
        "#### Example 3.1.1\n",
        "\n",
        "Let's say I want to name a list of students & add to the object called python class"
      ]
    },
    {
      "cell_type": "code",
      "metadata": {
        "id": "g-6sGPqMerAB",
        "colab_type": "code",
        "outputId": "16a48cbb-9e7a-45b7-8515-e97bda6febc6",
        "colab": {}
      },
      "source": [
        "python_class = ['Tommy', \"Sonia\", \"Maria\", \"Jeremie\"]\n",
        "print(python_class)"
      ],
      "execution_count": 0,
      "outputs": [
        {
          "output_type": "stream",
          "text": [
            "['Tommy', 'Sonia', 'Maria', 'Jeremie']\n"
          ],
          "name": "stdout"
        }
      ]
    },
    {
      "cell_type": "markdown",
      "metadata": {
        "id": "oMbs1uKLerAC",
        "colab_type": "text"
      },
      "source": [
        "#### Exercise 3.1.1\n",
        "1) Let's say I want to name a list of instructors & add to the object called python_class_instructors\n",
        "\n",
        "we have Patrick, Rein & Anushree"
      ]
    },
    {
      "cell_type": "code",
      "metadata": {
        "id": "zKwebnOzerAD",
        "colab_type": "code",
        "colab": {}
      },
      "source": [
        "#fill in the gap\n",
        "python_class_instructors = "
      ],
      "execution_count": 0,
      "outputs": []
    },
    {
      "cell_type": "markdown",
      "metadata": {
        "id": "YJG-i3iGerAE",
        "colab_type": "text"
      },
      "source": [
        "### 3.1.2 Python list & index\n",
        "\n",
        "Python list can be selected by index (it begins in zero!)"
      ]
    },
    {
      "cell_type": "code",
      "metadata": {
        "scrolled": true,
        "id": "qlfyx_I_erAF",
        "colab_type": "code",
        "outputId": "129799bb-d6d7-4692-de2a-d984db8dd959",
        "colab": {}
      },
      "source": [
        "num_list = [1,2,3,4,5]\n",
        "print(num_list[0]) # use square bracket to indicate anything \"index\". index begins at 0 - \n",
        "# and this expression is trying to get the first item from the list!\n",
        "\n",
        "#This to select the second item\n",
        "print(num_list[1])\n",
        "\n",
        "#This to select the last item\n",
        "print(num_list[-1])"
      ],
      "execution_count": 0,
      "outputs": [
        {
          "output_type": "stream",
          "text": [
            "1\n",
            "2\n",
            "5\n"
          ],
          "name": "stdout"
        }
      ]
    },
    {
      "cell_type": "markdown",
      "metadata": {
        "id": "5IkyH35verAG",
        "colab_type": "text"
      },
      "source": [
        "In python, you can select more than one index by making use \":\""
      ]
    },
    {
      "cell_type": "code",
      "metadata": {
        "id": "KZDxS_45erAH",
        "colab_type": "code",
        "colab": {}
      },
      "source": [
        "#And this is how to selet more than one list\n",
        "print(num_list[0:5])\n",
        "print(num_list[3:])\n",
        "print(num_list[:3])"
      ],
      "execution_count": 0,
      "outputs": []
    },
    {
      "cell_type": "markdown",
      "metadata": {
        "id": "-SXuNJi_erAK",
        "colab_type": "text"
      },
      "source": [
        "#### Example 3.1.2\n",
        "\n",
        "1) Let's say I want to find the first student from my class\n",
        "\n",
        "2) Let's say I want to find the first 3 students from my class\n",
        "\n",
        "3) Let's say I want to find the last 2 students from my class\n"
      ]
    },
    {
      "cell_type": "code",
      "metadata": {
        "id": "w5OXsMq9erAK",
        "colab_type": "code",
        "outputId": "1e31baf8-2ca0-4a00-84fe-87836e141e1e",
        "colab": {}
      },
      "source": [
        "python_class = ['Tommy', \"Sonia\", \"Maria\", \"Jeremie\"]\n",
        "#First student\n",
        "python_class[0] # It begins in 0!\n",
        "\n",
        "#First three student\n",
        "python_class[0:3]\n",
        "\n",
        "#Last 2 students\n",
        "python_class[-2:]"
      ],
      "execution_count": 0,
      "outputs": [
        {
          "output_type": "execute_result",
          "data": {
            "text/plain": [
              "['Maria', 'Jeremie']"
            ]
          },
          "metadata": {
            "tags": []
          },
          "execution_count": 15
        }
      ]
    },
    {
      "cell_type": "markdown",
      "metadata": {
        "id": "yfNa9tXGerAN",
        "colab_type": "text"
      },
      "source": [
        "#### Exercise 3.1.2\n",
        "\n",
        "1) Let's say I want to find the 5th sea_creatures from my list\n",
        "\n",
        "2) Let's say I want to find the first 3 sea_creatures from my list\n",
        "\n",
        "3) Let's say I want to find the 2-4th seacreatures from my list"
      ]
    },
    {
      "cell_type": "code",
      "metadata": {
        "id": "r9h8wRG_erAN",
        "colab_type": "code",
        "colab": {}
      },
      "source": [
        "sea_creatures = ['shark', 'cuttlefish', 'squid', 'mantis shrimp', 'anemone']\n",
        "#your code here"
      ],
      "execution_count": 0,
      "outputs": []
    },
    {
      "cell_type": "markdown",
      "metadata": {
        "id": "pKR76FPverAP",
        "colab_type": "text"
      },
      "source": [
        "### 3.1.3 How to find the length of the list?\n",
        " Length of python list can be obtained by len()"
      ]
    },
    {
      "cell_type": "code",
      "metadata": {
        "id": "CE4IuFc4erAQ",
        "colab_type": "code",
        "outputId": "552f1dc2-df72-4a57-e888-51911bd64c48",
        "colab": {}
      },
      "source": [
        "num_list = [1,2,3,4,5]\n",
        "len(num_list)"
      ],
      "execution_count": 0,
      "outputs": [
        {
          "output_type": "execute_result",
          "data": {
            "text/plain": [
              "5"
            ]
          },
          "metadata": {
            "tags": []
          },
          "execution_count": 19
        }
      ]
    },
    {
      "cell_type": "markdown",
      "metadata": {
        "id": "J-4Z9g5lerAU",
        "colab_type": "text"
      },
      "source": [
        "#### Exercise  3.1.3\n",
        "Try to find the number of sea_creatures in the list\n",
        "\n"
      ]
    },
    {
      "cell_type": "code",
      "metadata": {
        "id": "TU2uIu63erAV",
        "colab_type": "code",
        "outputId": "caf57c03-fdb2-4893-ccaf-1944e5b78a50",
        "colab": {}
      },
      "source": [
        "sea_creatures = ['shark', 'cuttlefish', 'squid', 'mantis shrimp', 'anemone']\n",
        "len(sea_creatures)"
      ],
      "execution_count": 0,
      "outputs": [
        {
          "output_type": "execute_result",
          "data": {
            "text/plain": [
              "5"
            ]
          },
          "metadata": {
            "tags": []
          },
          "execution_count": 21
        }
      ]
    },
    {
      "cell_type": "markdown",
      "metadata": {
        "id": "d4y1BBG4erAX",
        "colab_type": "text"
      },
      "source": [
        "### 3.1.4 Manipulating the list\n",
        "\n"
      ]
    },
    {
      "cell_type": "markdown",
      "metadata": {
        "id": "stmCtMCferAb",
        "colab_type": "text"
      },
      "source": [
        "#### Example 3.1.4\n",
        "\n",
        "Item can be removed by remove()"
      ]
    },
    {
      "cell_type": "code",
      "metadata": {
        "scrolled": true,
        "id": "6h01c9-nerAc",
        "colab_type": "code",
        "outputId": "f53c2c52-a0e7-433e-d99d-fd42c02ad4ad",
        "colab": {}
      },
      "source": [
        "num_list = [1,2,3,4,5]\n",
        "num_list.remove(1)\n",
        "print(num_list)"
      ],
      "execution_count": 0,
      "outputs": [
        {
          "output_type": "stream",
          "text": [
            "[2, 3, 4, 5]\n"
          ],
          "name": "stdout"
        }
      ]
    },
    {
      "cell_type": "markdown",
      "metadata": {
        "id": "bSjxflN7erAf",
        "colab_type": "text"
      },
      "source": [
        "item can be added by append()"
      ]
    },
    {
      "cell_type": "code",
      "metadata": {
        "id": "EqIN4xfTerAf",
        "colab_type": "code",
        "outputId": "8c116a1f-9868-4260-e004-86383e52dc73",
        "colab": {}
      },
      "source": [
        "num_list.append(1)\n",
        "print(num_list)"
      ],
      "execution_count": 0,
      "outputs": [
        {
          "output_type": "stream",
          "text": [
            "[2, 3, 4, 5, 1]\n"
          ],
          "name": "stdout"
        }
      ]
    },
    {
      "cell_type": "code",
      "metadata": {
        "id": "pUiDnU02erAh",
        "colab_type": "code",
        "outputId": "7350204a-760b-4b9c-9623-93085f0e1057",
        "colab": {}
      },
      "source": [
        "#use append\n",
        "\n",
        "empty_list = []\n",
        "empty_list.append(1)\n",
        "empty_list.append(2.0)\n",
        "empty_list.append('three')\n",
        "print(empty_list)"
      ],
      "execution_count": 0,
      "outputs": [
        {
          "output_type": "stream",
          "text": [
            "[1, 2.0, 'three']\n"
          ],
          "name": "stdout"
        }
      ]
    },
    {
      "cell_type": "code",
      "metadata": {
        "id": "1ikzrl97zU-T",
        "colab_type": "code",
        "outputId": "4570ba9e-ffb9-4e91-ca42-16d9f22dec58",
        "colab": {
          "base_uri": "https://localhost:8080/",
          "height": 34
        }
      },
      "source": [
        "# To sort the list, use .sort()\n",
        "\n",
        "num = [100,-20,1,2,3,1]\n",
        "num.sort()\n",
        "print(num)"
      ],
      "execution_count": 0,
      "outputs": [
        {
          "output_type": "stream",
          "text": [
            "[-20, 1, 2, 3, 100]\n"
          ],
          "name": "stdout"
        }
      ]
    },
    {
      "cell_type": "code",
      "metadata": {
        "id": "795M3dF_zVMo",
        "colab_type": "code",
        "outputId": "a52e832a-37ef-4b0f-8bf6-0dcf39b330f7",
        "colab": {
          "base_uri": "https://localhost:8080/",
          "height": 34
        }
      },
      "source": [
        "# To find the max, use .max()\n",
        "\n",
        "num = [100,-20,1,2,3,1]\n",
        "print(max(num))"
      ],
      "execution_count": 0,
      "outputs": [
        {
          "output_type": "stream",
          "text": [
            "100\n"
          ],
          "name": "stdout"
        }
      ]
    },
    {
      "cell_type": "code",
      "metadata": {
        "id": "95HAl6nJzVXA",
        "colab_type": "code",
        "outputId": "1b5fd917-f09a-4a9f-c745-af5e0fa34b52",
        "colab": {
          "base_uri": "https://localhost:8080/",
          "height": 34
        }
      },
      "source": [
        "# To count a certain item, use count\n",
        "num = [100,-20,1,2,3,1]\n",
        "num.count(1)"
      ],
      "execution_count": 0,
      "outputs": [
        {
          "output_type": "execute_result",
          "data": {
            "text/plain": [
              "2"
            ]
          },
          "metadata": {
            "tags": []
          },
          "execution_count": 24
        }
      ]
    },
    {
      "cell_type": "markdown",
      "metadata": {
        "id": "xziBqfoOerAi",
        "colab_type": "text"
      },
      "source": [
        "To combine 2 lists, you can simple use \"+\""
      ]
    },
    {
      "cell_type": "code",
      "metadata": {
        "id": "-mqMTQszerAj",
        "colab_type": "code",
        "outputId": "de6c7aa4-155f-4537-b4f4-b5253413522d",
        "colab": {}
      },
      "source": [
        "asia = [\"china\", \"japan\", \"india\"]\n",
        "europe = [\"france\", \"germany\", \"italy\"]\n",
        "asia + europe"
      ],
      "execution_count": 0,
      "outputs": [
        {
          "output_type": "execute_result",
          "data": {
            "text/plain": [
              "['china', 'japan', 'india', 'france', 'germany', 'italy']"
            ]
          },
          "metadata": {
            "tags": []
          },
          "execution_count": 30
        }
      ]
    },
    {
      "cell_type": "code",
      "metadata": {
        "id": "7E0RQxIOerAk",
        "colab_type": "code",
        "outputId": "39dc5d96-b086-49fd-8612-21cf65f7d1c6",
        "colab": {}
      },
      "source": [
        "hkisland = ['Central','Wanchai']\n",
        "kowloon = ['tst','mong kok']\n",
        "hk = hkisland+kowloon\n",
        "hk"
      ],
      "execution_count": 0,
      "outputs": [
        {
          "output_type": "execute_result",
          "data": {
            "text/plain": [
              "['Central', 'Wanchai', 'tst', 'mong kok']"
            ]
          },
          "metadata": {
            "tags": []
          },
          "execution_count": 31
        }
      ]
    },
    {
      "cell_type": "markdown",
      "metadata": {
        "id": "0HgQG8YjerAn",
        "colab_type": "text"
      },
      "source": [
        "### 3.1.5 Creating complicated list\n",
        "\n",
        "You can create a complicated list, for example a list of list"
      ]
    },
    {
      "cell_type": "code",
      "metadata": {
        "id": "K9UQL3JkerAn",
        "colab_type": "code",
        "outputId": "ad914b04-89e4-4ed2-a843-2da9549fa6ea",
        "colab": {
          "base_uri": "https://localhost:8080/",
          "height": 34
        }
      },
      "source": [
        "a = 1\n",
        "b = 2\n",
        "c = [3,4,5]\n",
        "[a,b,c]"
      ],
      "execution_count": 0,
      "outputs": [
        {
          "output_type": "execute_result",
          "data": {
            "text/plain": [
              "[1, 2, [3, 4, 5]]"
            ]
          },
          "metadata": {
            "tags": []
          },
          "execution_count": 25
        }
      ]
    },
    {
      "cell_type": "markdown",
      "metadata": {
        "collapsed": true,
        "id": "icNg_6HgerAo",
        "colab_type": "text"
      },
      "source": [
        "### 3.1.6 Working with strings & list"
      ]
    },
    {
      "cell_type": "markdown",
      "metadata": {
        "id": "Vd9ppyLIerAo",
        "colab_type": "text"
      },
      "source": [
        "You can also split string to create a list"
      ]
    },
    {
      "cell_type": "code",
      "metadata": {
        "id": "__Tc1iiDerAo",
        "colab_type": "code",
        "outputId": "d6917e48-e042-4265-93d1-fb86ae57473a",
        "colab": {
          "base_uri": "https://localhost:8080/",
          "height": 68
        }
      },
      "source": [
        "shape_of_you = \"The club isn't the best place to find a lover.  So the bar is where I go (mmmm).  Me and my friends at the table doing shots.  Drinking fast and then we talk slow (mmmm).  And you come over and start up a conversation with just me.  And trust me I'll give it a chance now (mmmm).  Take my hand, stop, put Van The Man on the jukebox.  And then we start to dance.  And now I'm singing like.  .  Girl, you know I want your love.  Your love was handmade for somebody like me.  Come on now, follow my lead.  I may be crazy, don't mind me.  Say, boy, let's not talk too much.  Grab on my waist and put that body on me.  Come on now, follow my lead.  Come, come on now, follow my lead (mmmm).  .  I'm in love with the shape of you.  We push and pull like a magnet do.  Although my heart is falling too.  I'm in love with your body.  Last night you were in my room.  And now my bedsheets smell like you.  Every day discovering something brand new.  I'm in love with your body.  .  Oh I oh I oh I oh I.  I'm in love with your body.  Oh I oh I oh I oh I.  I'm in love with your body.  Oh I oh I oh I oh I.  I'm in love with your body.  Every day discovering something brand new.  I'm in love with the shape of you.  .  One week in we let the story begin.  We're going out on our first date (mmmm).  You and me are thrifty, so go all you can eat.  Fill up your bag and I fill up a plate (mmmm).  We talk for hours and hours about the sweet and the sour.  And how your family is doing okay (mmmm).  And leave and get in a taxi, then kiss in the backseat.  Tell the driver make the radio play.  And I'm singing like.  .  Girl, you know I want your love.  Your love was handmade for somebody like me.  Come on now, follow my lead.  I may be crazy, don't mind me.  Say, boy, let's not talk too much.  Grab on my waist and put that body on me.  Come on now, follow my lead.  Come, come on now, follow my lead (mmmm).  .  I'm in love with the shape of you.  We push and pull like a magnet do.  Although my heart is falling too.  I'm in love with your body.  Last night you were in my room.  And now my bedsheets smell like you.  Every day discovering something brand new.  I'm in love with your body.  .  Oh I oh I oh I oh I.  I'm in love with your body.  Oh I oh I oh I oh I.  I'm in love with your body.  Oh I oh I oh I oh I.  I'm in love with your body.  Every day discovering something brand new.  I'm in love with the shape of you.  .  Come on, be my baby, come on.  Come on, be my baby, come on.  Come on, be my baby, come on.  Come on, be my baby, come on.  Come on, be my baby, come on.  Come on, be my baby, come on.  Come on, be my baby, come on.  Come on, be my baby, come on.  .  I'm in love with the shape of you.  We push and pull like a magnet do.  Although my heart is falling too.  I'm in love with your body.  Last night you were in my room.  And now my bedsheets smell like you.  Every day discovering something brand new.  I'm in love with your body.  .  Come on, be my baby, come on.  Come on, be my baby, come on.  I'm in love with your body.  Come on, be my baby, come on.  Come on, be my baby, come on.  I'm in love with your body.  Come on, be my baby, come on.  Come on, be my baby, come on.  I'm in love with your body.  Every day discovering something brand new.  I'm in love with the shape of you\"\n",
        "shape_of_you_list = shape_of_you.split('.')\n",
        "shape_of_you_list[:3]"
      ],
      "execution_count": 0,
      "outputs": [
        {
          "output_type": "execute_result",
          "data": {
            "text/plain": [
              "[\"The club isn't the best place to find a lover\",\n",
              " '  So the bar is where I go (mmmm)',\n",
              " '  Me and my friends at the table doing shots']"
            ]
          },
          "metadata": {
            "tags": []
          },
          "execution_count": 4
        }
      ]
    },
    {
      "cell_type": "markdown",
      "metadata": {
        "id": "_N4eIFgserAr",
        "colab_type": "text"
      },
      "source": [
        "#### Exercise 3.1.6  - find in the song shape of you\n",
        "1. Find out the indexes of all the \"baby\" in the song\n",
        "2. Make the lyrics as a list. Then, Add the title \"SHAPE OF YOU\" at the start of the song so it become the first item of the list"
      ]
    },
    {
      "cell_type": "code",
      "metadata": {
        "id": "qqc48XGrerAs",
        "colab_type": "code",
        "colab": {}
      },
      "source": [
        "# Your code here"
      ],
      "execution_count": 0,
      "outputs": []
    },
    {
      "cell_type": "markdown",
      "metadata": {
        "id": "FvJZ8saNerAu",
        "colab_type": "text"
      },
      "source": [
        "## 3.2.0 Dictionary"
      ]
    },
    {
      "cell_type": "markdown",
      "metadata": {
        "id": "xr2W7Oc7BA2L",
        "colab_type": "text"
      },
      "source": [
        "<img src=\"https://developers.google.com/edu/python/images/dict.png\n",
        "\"/>\n",
        "\n",
        "Dictionary is another type of python data structure, which use a \"key\" to pair with the \"value\""
      ]
    },
    {
      "cell_type": "markdown",
      "metadata": {
        "id": "GSLYJ8LHB0zV",
        "colab_type": "text"
      },
      "source": [
        "### 3.2.1 Dictionary Syntax\n",
        "\n",
        "Dictionary is so called to \"key value pair\". You can directly extract the value based on the key"
      ]
    },
    {
      "cell_type": "markdown",
      "metadata": {
        "id": "WoR86-_BxApW",
        "colab_type": "text"
      },
      "source": [
        "#### Example 3.2.1"
      ]
    },
    {
      "cell_type": "code",
      "metadata": {
        "id": "Et6nH7D9erAu",
        "colab_type": "code",
        "colab": {}
      },
      "source": [
        "#Let's make a dictionary:\n",
        "mygeobook = {\"Country\":\"USA\",\"Capital\":\"Washington,Dc\",\"President\":\"Barack Obama\",\"Region\":\"China\"}"
      ],
      "execution_count": 0,
      "outputs": []
    },
    {
      "cell_type": "markdown",
      "metadata": {
        "id": "-tgmdROIwaGQ",
        "colab_type": "text"
      },
      "source": [
        "You can query value by the key. It works by using square bracket with the key. "
      ]
    },
    {
      "cell_type": "code",
      "metadata": {
        "id": "FZxppdrTwWuJ",
        "colab_type": "code",
        "outputId": "46686c80-827b-4e78-9644-7484bde760d1",
        "colab": {
          "base_uri": "https://localhost:8080/",
          "height": 34
        }
      },
      "source": [
        "mygeobook['Country']"
      ],
      "execution_count": 0,
      "outputs": [
        {
          "output_type": "execute_result",
          "data": {
            "text/plain": [
              "'USA'"
            ]
          },
          "metadata": {
            "tags": []
          },
          "execution_count": 10
        }
      ]
    },
    {
      "cell_type": "code",
      "metadata": {
        "id": "9VRZ9Q0iwiLy",
        "colab_type": "code",
        "outputId": "37f3fa00-0f3d-431d-b87e-9bb4dd4df1c0",
        "colab": {
          "base_uri": "https://localhost:8080/",
          "height": 34
        }
      },
      "source": [
        "mygeobook['Capital']"
      ],
      "execution_count": 0,
      "outputs": [
        {
          "output_type": "execute_result",
          "data": {
            "text/plain": [
              "'Washington,Dc'"
            ]
          },
          "metadata": {
            "tags": []
          },
          "execution_count": 11
        }
      ]
    },
    {
      "cell_type": "markdown",
      "metadata": {
        "id": "Rl1w1Bf9w1IB",
        "colab_type": "text"
      },
      "source": [
        "You can change the value of a field by reassigning the value"
      ]
    },
    {
      "cell_type": "code",
      "metadata": {
        "id": "fO7DI76rwlTa",
        "colab_type": "code",
        "colab": {}
      },
      "source": [
        "mygeobook['Region'] = \"North America\""
      ],
      "execution_count": 0,
      "outputs": []
    },
    {
      "cell_type": "code",
      "metadata": {
        "id": "K5Y_98IEw7NZ",
        "colab_type": "code",
        "outputId": "bd724951-d8b7-4d86-cd89-d2678fc15f87",
        "colab": {
          "base_uri": "https://localhost:8080/",
          "height": 85
        }
      },
      "source": [
        "mygeobook # Region became North America"
      ],
      "execution_count": 0,
      "outputs": [
        {
          "output_type": "execute_result",
          "data": {
            "text/plain": [
              "{'Capital': 'Washington,Dc',\n",
              " 'Country': 'USA',\n",
              " 'President': 'Barack Obama',\n",
              " 'Region': 'North America'}"
            ]
          },
          "metadata": {
            "tags": []
          },
          "execution_count": 13
        }
      ]
    },
    {
      "cell_type": "markdown",
      "metadata": {
        "id": "P-7oA-BZxRe2",
        "colab_type": "text"
      },
      "source": [
        "Dictionary can also store a list of values. Let's say we want to store the cities in US, and there are more than one city."
      ]
    },
    {
      "cell_type": "code",
      "metadata": {
        "id": "Ij37fvF_xOCJ",
        "colab_type": "code",
        "outputId": "d5af5bfc-82af-441a-b90b-ca1050dbc0d4",
        "colab": {
          "base_uri": "https://localhost:8080/",
          "height": 102
        }
      },
      "source": [
        "mygeobook['City'] = ['new york', 'san fransisco', 'chicago']\n",
        "mygeobook"
      ],
      "execution_count": 0,
      "outputs": [
        {
          "output_type": "execute_result",
          "data": {
            "text/plain": [
              "{'Capital': 'Washington,Dc',\n",
              " 'City': ['new york', 'san fransisco', 'chicago'],\n",
              " 'Country': 'USA',\n",
              " 'President': 'Barack Obama',\n",
              " 'Region': 'North America'}"
            ]
          },
          "metadata": {
            "tags": []
          },
          "execution_count": 14
        }
      ]
    },
    {
      "cell_type": "markdown",
      "metadata": {
        "id": "UbvdbKNEwHRP",
        "colab_type": "text"
      },
      "source": [
        "#### Exercise 3.2.1\n",
        "\n",
        "\n",
        "\n"
      ]
    },
    {
      "cell_type": "markdown",
      "metadata": {
        "id": "I_7Zh6uaxGdg",
        "colab_type": "text"
      },
      "source": [
        "1) Let's make a dictionary called \"school\", \n",
        "\n",
        "and stores these info:\n",
        "\n",
        "- class =  Python course\n",
        "- students = Jeremie , Tommy, \n",
        "- instructors = Patrick, Anushree, Rein\n",
        "\n",
        "2) Let's say Patrick got fired and he is no longer an instructor. How can I remove Patrick?"
      ]
    },
    {
      "cell_type": "code",
      "metadata": {
        "id": "3-RylKGpxDpK",
        "colab_type": "code",
        "colab": {}
      },
      "source": [
        "#Your code here"
      ],
      "execution_count": 0,
      "outputs": []
    },
    {
      "cell_type": "markdown",
      "metadata": {
        "id": "UVdR4llaVVRK",
        "colab_type": "text"
      },
      "source": [
        "## Challenge 3.3.0\n",
        "\n",
        "a) Try to write a program that generates an eight digit password, which consist of letters a - z\n",
        "\n",
        "b) To make it more challenging, try write a program that generates an 8 digit password with lower case, upper case, numer and special character\n",
        "\n",
        "hints: import random"
      ]
    },
    {
      "cell_type": "markdown",
      "metadata": {
        "id": "oh0Xv8FnerAw",
        "colab_type": "text"
      },
      "source": [
        "## Test 3.0.0\n",
        "\n",
        "https://goo.gl/forms/KkEyuIcNZTZifQGT2"
      ]
    },
    {
      "cell_type": "markdown",
      "metadata": {
        "id": "7BhBZ3JTerAx",
        "colab_type": "text"
      },
      "source": [
        "# 4.0.0 Python operations\n"
      ]
    },
    {
      "cell_type": "markdown",
      "metadata": {
        "id": "Vv6p_bRVop-n",
        "colab_type": "text"
      },
      "source": [
        "## 4.1.0 if statements  \n",
        "\n",
        "Where Indentation matters!!"
      ]
    },
    {
      "cell_type": "markdown",
      "metadata": {
        "id": "B4g1sXlverAx",
        "colab_type": "text"
      },
      "source": [
        "![Image of Yaktocat](https://storage.googleapis.com/bwdb/acceleratehk_DSML/class_1/ds19.PNG)"
      ]
    },
    {
      "cell_type": "markdown",
      "metadata": {
        "id": "CXGWv9pMerAx",
        "colab_type": "text"
      },
      "source": [
        "![Image of Yaktocat](https://storage.googleapis.com/bwdb/acceleratehk_DSML/class_1/ds18.PNG)"
      ]
    },
    {
      "cell_type": "markdown",
      "metadata": {
        "id": "Sd14qPbLerAy",
        "colab_type": "text"
      },
      "source": [
        "This works a bit like the function in excel"
      ]
    },
    {
      "cell_type": "markdown",
      "metadata": {
        "id": "HR49ZnF4erAz",
        "colab_type": "raw"
      },
      "source": [
        "the indentation is used to identfy code blocks.\n",
        "if condition_1 :\n",
        "    do something \n",
        "elif condition_2 :\n",
        "    do something else\n",
        "else :\n",
        "    do something else"
      ]
    },
    {
      "cell_type": "markdown",
      "metadata": {
        "id": "tVhMYLWkerA0",
        "colab_type": "text"
      },
      "source": [
        "#### Example 4.1.1 "
      ]
    },
    {
      "cell_type": "code",
      "metadata": {
        "id": "Eu5RkuKkerA0",
        "colab_type": "code",
        "outputId": "039399e6-6e7b-4f59-9222-368bbe298586",
        "colab": {
          "base_uri": "https://localhost:8080/",
          "height": 34
        }
      },
      "source": [
        "iphone = 9000\n",
        "samsung = 5000\n",
        "if(iphone>samsung):\n",
        "    print('buy Samsung!')\n",
        "else:\n",
        "    print('buy iphone!')"
      ],
      "execution_count": 0,
      "outputs": [
        {
          "output_type": "stream",
          "text": [
            "buy Samsung!\n"
          ],
          "name": "stdout"
        }
      ]
    },
    {
      "cell_type": "markdown",
      "metadata": {
        "id": "tFfwrgus0t43",
        "colab_type": "text"
      },
      "source": [
        "Write a code to check if you are taller than Cristiano Ronaldo"
      ]
    },
    {
      "cell_type": "code",
      "metadata": {
        "id": "tOOTdrmY0tYs",
        "colab_type": "code",
        "outputId": "a9d4646e-6596-466b-d450-72a843570aee",
        "colab": {
          "base_uri": "https://localhost:8080/",
          "height": 34
        }
      },
      "source": [
        "my_height = 170\n",
        "Ronaldo_height = 186\n",
        "if Ronaldo_height>my_height:\n",
        "  print('ronaldo is taller')\n",
        "else:\n",
        "  print('you are taller!')\n"
      ],
      "execution_count": 0,
      "outputs": [
        {
          "output_type": "stream",
          "text": [
            "ronaldo is taller\n"
          ],
          "name": "stdout"
        }
      ]
    },
    {
      "cell_type": "markdown",
      "metadata": {
        "id": "IWWDbgIr1BFY",
        "colab_type": "text"
      },
      "source": [
        "Write a code to check  if you are old enough to watch R movie"
      ]
    },
    {
      "cell_type": "code",
      "metadata": {
        "id": "chzR_W1zerA2",
        "colab_type": "code",
        "outputId": "6eb9f106-c951-4ecf-d774-46c6e3a2fca6",
        "colab": {
          "base_uri": "https://localhost:8080/",
          "height": 51
        }
      },
      "source": [
        "age =input(\"Enter your age: \")\n",
        "\n",
        "age = int(age)\n",
        "\n",
        "if age > 17: \n",
        "  print(\"can see a rated R movie\")\n",
        "elif age < 17 and age > 12:\n",
        "  print(\"can see a rated PG-13 movie\")\n",
        "else: \n",
        "  print(\"can only see rated PG movies\")"
      ],
      "execution_count": 0,
      "outputs": [
        {
          "output_type": "stream",
          "text": [
            "Enter your age: 10\n",
            "can only see rated PG movies\n"
          ],
          "name": "stdout"
        }
      ]
    },
    {
      "cell_type": "markdown",
      "metadata": {
        "id": "tg__b8290WCg",
        "colab_type": "text"
      },
      "source": [
        "#### Exercise 4.1.1\n",
        "\n",
        "1) Try to write a code that checks if you have longer name than \"Anusree\""
      ]
    },
    {
      "cell_type": "code",
      "metadata": {
        "id": "QdPqyScT0Ur5",
        "colab_type": "code",
        "colab": {}
      },
      "source": [
        ""
      ],
      "execution_count": 0,
      "outputs": []
    },
    {
      "cell_type": "markdown",
      "metadata": {
        "id": "fLBZWqvMerA4",
        "colab_type": "text"
      },
      "source": [
        "#### Challenge 4.1.1 \n",
        "\n",
        "Ask the user for a number. Depending on whether the number is even or odd, print out an appropriate message to the user. Hint: how does an even / odd number react differently when divided by 2?\n",
        "\n",
        "**hints: modulo operator**\n",
        "\n",
        "**Extras:**\n",
        "\n",
        "If the number is a multiple of 4, print out a different message.\n",
        "Ask the user for two numbers: one number to check (call it num) and one number to divide by (check). If check divides evenly into num, tell that to the user. If not, print a different appropriate message."
      ]
    },
    {
      "cell_type": "code",
      "metadata": {
        "id": "yxEn-DAyerA5",
        "colab_type": "code",
        "colab": {}
      },
      "source": [
        "#your code here\n",
        "\n",
        "num =input(\"Enter your number: \")"
      ],
      "execution_count": 0,
      "outputs": []
    },
    {
      "cell_type": "markdown",
      "metadata": {
        "id": "j9kHjlSeerA6",
        "colab_type": "text"
      },
      "source": [
        "## 4.2.0 For loops"
      ]
    },
    {
      "cell_type": "markdown",
      "metadata": {
        "id": "dRZKEuU_erA6",
        "colab_type": "text"
      },
      "source": [
        "### 4.2.1 What is a for loops?"
      ]
    },
    {
      "cell_type": "markdown",
      "metadata": {
        "id": "ke8V5wDz81rd",
        "colab_type": "text"
      },
      "source": [
        "\n",
        "<img src=\"https://swcarpentry.github.io/python-novice-inflammation/fig/loops_image.png\n",
        "\"/>\n"
      ]
    },
    {
      "cell_type": "markdown",
      "metadata": {
        "id": "HEI1iecjerA7",
        "colab_type": "text"
      },
      "source": [
        "For loops is a way to ask your computer to repeatedly do a task - until it finished the no. of times to keep on doing the same thing ! (Kind of like a slave!)"
      ]
    },
    {
      "cell_type": "markdown",
      "metadata": {
        "id": "U6fSjpnp8fY7",
        "colab_type": "text"
      },
      "source": [
        "#### Exercise 4.2.1"
      ]
    },
    {
      "cell_type": "markdown",
      "metadata": {
        "id": "s3drJFxPerA7",
        "colab_type": "text"
      },
      "source": [
        "Try finish game 6 - 8\n",
        "\n",
        "https://studio.code.org/hoc/6"
      ]
    },
    {
      "cell_type": "markdown",
      "metadata": {
        "id": "EhwLRWpZ-LHN",
        "colab_type": "text"
      },
      "source": [
        "### 4.2.2 Syntax of for loop"
      ]
    },
    {
      "cell_type": "markdown",
      "metadata": {
        "id": "fkW21CZP-RPe",
        "colab_type": "text"
      },
      "source": [
        "\n",
        "<img src=\"https://www.oreilly.com/library/view/head-first-python/9781491919521/figs/web/027fig02.png.jpg\n",
        "\"/>\n"
      ]
    },
    {
      "cell_type": "markdown",
      "metadata": {
        "id": "gl_-BHOTo2I1",
        "colab_type": "text"
      },
      "source": [
        "for i in some_range:\n",
        "\n",
        "    do something with i"
      ]
    },
    {
      "cell_type": "code",
      "metadata": {
        "id": "RDayWil28Yql",
        "colab_type": "code",
        "colab": {}
      },
      "source": [
        "# An example of the for-loop. Iterate through the numbers 1-11. What do you think this function does?\n",
        "x = [1,2,3,4,5,6,7,8,9,10]\n",
        "\n",
        "for i in x:\n",
        "    if i % 2 == 0: \n",
        "        print (i)"
      ],
      "execution_count": 0,
      "outputs": []
    },
    {
      "cell_type": "code",
      "metadata": {
        "id": "xSYtVeiberA9",
        "colab_type": "code",
        "colab": {}
      },
      "source": [
        "## range(i,j) retuns integers beween i and j-1 \n",
        "range(1,11)"
      ],
      "execution_count": 0,
      "outputs": []
    },
    {
      "cell_type": "code",
      "metadata": {
        "id": "36gz79VberA-",
        "colab_type": "code",
        "outputId": "0e8afe05-5f53-40e2-b62c-491ad55b1ad5",
        "colab": {
          "base_uri": "https://localhost:8080/",
          "height": 187
        }
      },
      "source": [
        "## sum of first 10 integers\n",
        "\n",
        "result=0\n",
        "for i in range(1,11):\n",
        "    result = result+i\n",
        "    print(result)"
      ],
      "execution_count": 0,
      "outputs": [
        {
          "output_type": "stream",
          "text": [
            "1\n",
            "3\n",
            "6\n",
            "10\n",
            "15\n",
            "21\n",
            "28\n",
            "36\n",
            "45\n",
            "55\n"
          ],
          "name": "stdout"
        }
      ]
    },
    {
      "cell_type": "code",
      "metadata": {
        "id": "Jr1GgOb-erBA",
        "colab_type": "code",
        "colab": {}
      },
      "source": [
        "shopping_list=[\"bananas\", \"chocolate\", \"carrots\"]\n",
        "## lists are iterators. \n",
        "## We can automatically loop through list elements without using indexes\n",
        "for thing in shopping_list:\n",
        "    print(\"today I purchased some\" + thing)\n",
        "             "
      ],
      "execution_count": 0,
      "outputs": []
    },
    {
      "cell_type": "markdown",
      "metadata": {
        "id": "oJdISfjF11dC",
        "colab_type": "text"
      },
      "source": [
        ""
      ]
    },
    {
      "cell_type": "code",
      "metadata": {
        "id": "VtwIpQOb10Zp",
        "colab_type": "code",
        "colab": {}
      },
      "source": [
        ""
      ],
      "execution_count": 0,
      "outputs": []
    },
    {
      "cell_type": "markdown",
      "metadata": {
        "id": "xIwG_Uj3erBB",
        "colab_type": "text"
      },
      "source": [
        "#### Challenge 4.0.0:\n",
        "\n",
        "Using \"for loops \"  and  \"if statements \" answer the following questions :\n",
        "\n",
        "- who among us has the longest First name? and how long is it? ...... this is a very tricky exercise as it will imply that we can spell all our names correctly :) :) \n",
        "\n",
        "- and what about the shortest name?\n",
        "\n",
        "These are \"probably\" our names : \n",
        "\n",
        "Xiaoyan ,  Maitreya , Jason , Qihui , Chuck , Jeremy , Mihwa , Lina , Huijun , Raul , Warintra , Abhay \n",
        "\n",
        "\n"
      ]
    },
    {
      "cell_type": "code",
      "metadata": {
        "id": "1z5qaHP8erBC",
        "colab_type": "code",
        "colab": {}
      },
      "source": [
        "## some tips \n",
        "\n",
        "## maybe I want to define a list containing our names \n",
        "## and then go through each of the names and see how long they are , and note down the longest one(s)."
      ],
      "execution_count": 0,
      "outputs": []
    },
    {
      "cell_type": "markdown",
      "metadata": {
        "id": "kDH32cCRpD_m",
        "colab_type": "text"
      },
      "source": [
        "## 4.3.0 While loop"
      ]
    },
    {
      "cell_type": "markdown",
      "metadata": {
        "id": "niEsCpnUpJEr",
        "colab_type": "text"
      },
      "source": [
        "\n",
        "#### Exercise 4.3.1\n",
        "\n",
        "Try finish game 9 - 12\n",
        "\n",
        "https://studio.code.org/hoc/9"
      ]
    },
    {
      "cell_type": "code",
      "metadata": {
        "id": "-9xsxf1j_AHo",
        "colab_type": "code",
        "colab": {}
      },
      "source": [
        ""
      ],
      "execution_count": 0,
      "outputs": []
    },
    {
      "cell_type": "markdown",
      "metadata": {
        "id": "t-pydw0g2JU3",
        "colab_type": "text"
      },
      "source": [
        "### 4.4.0 Use of if & loops together\n",
        "\n",
        "Try finish game 14-20\n",
        "\n",
        "https://studio.code.org/hoc/14"
      ]
    },
    {
      "cell_type": "markdown",
      "metadata": {
        "id": "YYtsCbJperBD",
        "colab_type": "text"
      },
      "source": [
        "\n",
        "\n",
        "#### Challenge 4.4.1\n",
        "\n",
        "Using \"for loops \"  and  \"if statements \" answer the following questions :\n",
        "\n",
        "- who among us has the longest First name? and how long is it? ...... this is a very tricky exercise as it will imply that we can spell all our names correctly :) :) \n",
        "\n",
        "- and what about the shortest name?\n",
        "\n",
        "These are \"probably\" our names : \n",
        "\n",
        "Xiaoyan ,  Maitreya , Jason , Qihui , Chuck , Jeremy , Mihwa , Lina , Huijun , Raul , Warintra , Abhay \n",
        "\n"
      ]
    },
    {
      "cell_type": "code",
      "metadata": {
        "id": "fCJxZz8U2GGV",
        "colab_type": "code",
        "colab": {}
      },
      "source": [
        ""
      ],
      "execution_count": 0,
      "outputs": []
    },
    {
      "cell_type": "markdown",
      "metadata": {
        "id": "WQi7nMxO3xea",
        "colab_type": "text"
      },
      "source": [
        "#### Challenge 4.4.2 \n",
        "\n",
        "Find the maximum, mean and minimum value of list of intergers without using any precoded mathematical function in Python"
      ]
    },
    {
      "cell_type": "code",
      "metadata": {
        "id": "ShE61O2m3wyK",
        "colab_type": "code",
        "colab": {}
      },
      "source": [
        ""
      ],
      "execution_count": 0,
      "outputs": []
    },
    {
      "cell_type": "markdown",
      "metadata": {
        "id": "2KmS9Gn55pXn",
        "colab_type": "text"
      },
      "source": [
        "## Test 4.0.0\n",
        "\n",
        "https://goo.gl/forms/jAPGw50cb8zFTAYI3"
      ]
    },
    {
      "cell_type": "markdown",
      "metadata": {
        "id": "oWl0Ha2RerBD",
        "colab_type": "text"
      },
      "source": [
        "## Take home exercise\n",
        "\n",
        "1) You should try finish this at home :)\n",
        "http://www.practicepython.org/\n",
        "\n",
        "2) \n",
        "\n",
        "a) Try to write a program that generates an eight digit password, which consist of letters a - z\n",
        "b) To make it more challenging, try write a program that generates an 8 digit password with lower case, upper case, numer and special character"
      ]
    },
    {
      "cell_type": "code",
      "metadata": {
        "id": "6wws_s0ierBD",
        "colab_type": "code",
        "outputId": "ede11866-59a6-4ada-92b3-8b121113c8b7",
        "colab": {
          "base_uri": "https://localhost:8080/",
          "height": 34
        }
      },
      "source": [
        "#hints\n",
        "\n",
        "import random\n",
        "random.choice(['a','b','c','d','e'])"
      ],
      "execution_count": 0,
      "outputs": [
        {
          "output_type": "execute_result",
          "data": {
            "text/plain": [
              "'b'"
            ]
          },
          "metadata": {
            "tags": []
          },
          "execution_count": 13
        }
      ]
    },
    {
      "cell_type": "code",
      "metadata": {
        "id": "N6R5ftqD6ezY",
        "colab_type": "code",
        "colab": {}
      },
      "source": [
        ""
      ],
      "execution_count": 0,
      "outputs": []
    },
    {
      "cell_type": "markdown",
      "metadata": {
        "colab_type": "text",
        "id": "RaG1x3FArBL6"
      },
      "source": [
        "# 5.0.0 Python Operations Exercise\n"
      ]
    },
    {
      "cell_type": "markdown",
      "metadata": {
        "colab_type": "text",
        "id": "K3TKv8XkrBL8"
      },
      "source": [
        "## Challenge 5.1.0\n",
        "\n",
        "Find the Mean, Max, Min of a list of integer (E.g [10, -10, 100, 200, 3]), without using any built-in function"
      ]
    },
    {
      "cell_type": "code",
      "metadata": {
        "colab_type": "code",
        "id": "Gx0OL_GhrBMK",
        "colab": {}
      },
      "source": [
        "# Your code here"
      ],
      "execution_count": 0,
      "outputs": []
    },
    {
      "cell_type": "markdown",
      "metadata": {
        "colab_type": "text",
        "id": "GOvgFxDArBMO"
      },
      "source": [
        "## Challenge 5.2.0\n",
        "\n",
        "Write a code for finding out the factorial of a number that the user inputs."
      ]
    },
    {
      "cell_type": "code",
      "metadata": {
        "colab_type": "code",
        "id": "bUcAvj2TrBMc",
        "outputId": "bb272f90-317d-4223-dab0-a702ac412374",
        "colab": {
          "base_uri": "https://localhost:8080/",
          "height": 34
        }
      },
      "source": [
        ""
      ],
      "execution_count": 0,
      "outputs": [
        {
          "output_type": "execute_result",
          "data": {
            "text/plain": [
              "120"
            ]
          },
          "metadata": {
            "tags": []
          },
          "execution_count": 28
        }
      ]
    },
    {
      "cell_type": "markdown",
      "metadata": {
        "colab_type": "text",
        "id": "AsWejIFfrBMd"
      },
      "source": [
        "## Challenge 5.3.0\n",
        "\n",
        "Convert a phrase to its acronym.\n",
        "\n",
        "Techies love their TLA (Three Letter Acronyms)!\n",
        "Help generate some jargon (words) by writing a program that converts a long name like “Portable Network Graphics” to its acronym “PNG”.\n",
        "Example: “We love python” => “WLP”\n"
      ]
    },
    {
      "cell_type": "markdown",
      "metadata": {
        "id": "fT7lH5xfVYSU",
        "colab_type": "text"
      },
      "source": [
        "## Challenge 5.4.0\n",
        "\n",
        "Take two lists, say for example these two:\n",
        "\n",
        "  a = [1, 1, 2, 3, 5, 8, 13, 21, 34, 55, 89]\n",
        "  \n",
        "  b = [1, 2, 3, 4, 5, 6, 7, 8, 9, 10, 11, 12, 13]\n",
        "  \n",
        "and write a program that returns a list that contains only the elements that are common between the lists (without duplicates). Make sure your program works on two lists of different sizes."
      ]
    },
    {
      "cell_type": "code",
      "metadata": {
        "id": "msF7at3LnXDk",
        "colab_type": "code",
        "colab": {}
      },
      "source": [
        ""
      ],
      "execution_count": 0,
      "outputs": []
    },
    {
      "cell_type": "markdown",
      "metadata": {
        "id": "C3zuUZrJx_bj",
        "colab_type": "text"
      },
      "source": [
        "## Challenge 5.4.0\n",
        "\n",
        "D.) Given a word, compute the scrabble score for that word.\n",
        "Letter Values\n",
        "You'll need these:\n",
        "\n",
        "\n",
        "\n",
        "\n",
        "- A, E, I, O, U, L, N, R, S, T = 1 points\n",
        "- D, G = 2 points\n",
        "- B, C, M, P  = 3 points\n",
        "- F, H, V, W, Y = 4 points\n",
        "- k = 5 points\n",
        "- J, X = 8 points\n",
        "- Q, Z = 10 points\n",
        "\n",
        "\n",
        "Examples\n",
        "\"cabbage\" should be scored as worth 14 points:\n",
        "\n",
        "3 points for C\n",
        "1 point for A, twice\n",
        "3 points for B, twice\n",
        "2 points for G\n",
        "1 point for E\n",
        "\n",
        "And to total:\n",
        "3 + 2*1 + 2*3 + 2 + 1\n",
        "= 3 + 2 + 6 + 3\n",
        "= 5 + 9\n",
        "= 14"
      ]
    },
    {
      "cell_type": "code",
      "metadata": {
        "id": "f-r0d3B9H2V1",
        "colab_type": "code",
        "outputId": "3c06e0c8-d1f5-4ba3-cd76-d526731d6875",
        "colab": {
          "base_uri": "https://localhost:8080/",
          "height": 51
        }
      },
      "source": [
        "letters = {'A':1,'E':1,'I':1,'O':1,'U':1,'L':1,'N':1,'R':1,'S':1,'T':1,\n",
        "          'D':2,'G':2,\n",
        "          'B':3,'C':3,'M':3,'P':3,\n",
        "          'F':4,'H':4,'V':4,'W':4,'Y':4,\n",
        "          'K':5,\n",
        "          'J':8,'X':8,\n",
        "          'Q':10,'Z':10}\n",
        "\n",
        "word_input = str(input(\"type your word: \")).upper()\n",
        "points = 0\n",
        "\n",
        "for i in word_input:\n",
        "    points = points + letters[i]\n",
        "print(points)"
      ],
      "execution_count": 0,
      "outputs": [
        {
          "output_type": "stream",
          "text": [
            "type your word: patrick\n",
            "15\n"
          ],
          "name": "stdout"
        }
      ]
    },
    {
      "cell_type": "code",
      "metadata": {
        "id": "NY-Trz7kF5Jd",
        "colab_type": "code",
        "colab": {}
      },
      "source": [
        "['a','e','i','o','u']\n",
        "['d','g']\n",
        "['b','c','m','p']\n",
        "['f','h','v','w','y']\n",
        "['k']\n",
        "['j','x']\n",
        "['q','z']"
      ],
      "execution_count": 0,
      "outputs": []
    },
    {
      "cell_type": "markdown",
      "metadata": {
        "id": "MbV7I_SGmtOf",
        "colab_type": "text"
      },
      "source": [
        "## Challenge 5.5.0 - Goldman Sachs interview\n",
        "\n",
        "Go through a string and find the first non-duplicate letter.\n",
        "\n",
        "...and try to go through the list only once!"
      ]
    },
    {
      "cell_type": "code",
      "metadata": {
        "id": "DRb-LRyJEXk0",
        "colab_type": "code",
        "outputId": "2e207797-3bef-44a5-a1bb-dc8d642f09d8",
        "colab": {
          "base_uri": "https://localhost:8080/",
          "height": 34
        }
      },
      "source": [
        "text = 'aabbccddeefgghhijj'\n",
        "\n",
        "#define a dictionary to store the data\n",
        "char = {}\n",
        "n = 0\n",
        "\n",
        "#loop through all text once to get the characters count & order of first occurance\n",
        "for i in text:\n",
        "  if i not in char.keys():\n",
        "    char[i] = [1, n]\n",
        "  else:\n",
        "    char[i] = [char[i][0]+1, char[i][1]]\n",
        "  n = n + 1\n",
        "\n",
        "#loop through the dictionary to find minimum count if occurance ==1  \n",
        "min_count = min([char[i][1] for i in char.keys() if char[i][0]==1])\n",
        "\n",
        "#finally find the relevant field in the dictionary\n",
        "for i in char.keys():\n",
        "  if char[i][0]==1 and char[i][1]==min_count:\n",
        "    print(i)"
      ],
      "execution_count": 0,
      "outputs": [
        {
          "output_type": "stream",
          "text": [
            "f\n"
          ],
          "name": "stdout"
        }
      ]
    },
    {
      "cell_type": "code",
      "metadata": {
        "id": "SW3s20mCoIUx",
        "colab_type": "code",
        "outputId": "5e208775-f43c-458e-8077-20d38de53b93",
        "colab": {
          "base_uri": "https://localhost:8080/",
          "height": 102
        }
      },
      "source": [
        "# Challenge 5.5.0 - Goldman Sachs interview\n",
        "str_input = input('Enter a string: ')\n",
        "print(\"List of caracters to check:            {}\".format(str_input))\n",
        "    \n",
        "no_duplicates =''\n",
        "repeated =''\n",
        "\n",
        "for i in str_input:\n",
        "    if i not in no_duplicates:\n",
        "        no_duplicates = no_duplicates + i\n",
        "    else:\n",
        "        repeated = repeated + i\n",
        "print(\"The characters without duplicates are: {}\".format(no_duplicates))\n",
        "print(\"The repeated characters are:           {}\".format(repeated))\n",
        "\n",
        "for i in no_duplicates:\n",
        "    if i in repeated:\n",
        "        continue\n",
        "    else:\n",
        "        print(\"The first non-repeated characters is:  {}\".format(i))\n",
        "        break"
      ],
      "execution_count": 0,
      "outputs": [
        {
          "output_type": "stream",
          "text": [
            "Enter a string: aabbccdde\n",
            "List of caracters to check:            aabbccdde\n",
            "The characters without duplicates are: abcde\n",
            "The repeated characters are:           abcd\n",
            "The first non-repeated characters is:  e\n"
          ],
          "name": "stdout"
        }
      ]
    },
    {
      "cell_type": "code",
      "metadata": {
        "id": "pjpSJahftcky",
        "colab_type": "code",
        "outputId": "8f7f8d16-49f5-426b-890f-b074f5c05963",
        "colab": {
          "base_uri": "https://localhost:8080/",
          "height": 34
        }
      },
      "source": [
        ""
      ],
      "execution_count": 0,
      "outputs": [
        {
          "output_type": "execute_result",
          "data": {
            "text/plain": [
              "0"
            ]
          },
          "metadata": {
            "tags": []
          },
          "execution_count": 15
        }
      ]
    },
    {
      "cell_type": "code",
      "metadata": {
        "id": "WMkdp1Ssn47V",
        "colab_type": "code",
        "outputId": "4be95a82-1c2a-4959-a69c-d3477027ff13",
        "colab": {
          "base_uri": "https://localhost:8080/",
          "height": 34
        }
      },
      "source": [
        "\n",
        "      "
      ],
      "execution_count": 0,
      "outputs": [
        {
          "output_type": "execute_result",
          "data": {
            "text/plain": [
              "10"
            ]
          },
          "metadata": {
            "tags": []
          },
          "execution_count": 18
        }
      ]
    },
    {
      "cell_type": "code",
      "metadata": {
        "id": "2CuXkef5E7uw",
        "colab_type": "code",
        "colab": {}
      },
      "source": [
        "text = 'aabbccddeefgghhijj'\n",
        "\n",
        "\n",
        "char = {}\n",
        "n = 0\n",
        "for i in text:\n",
        "  if i not in char.keys():\n",
        "    char[i] = 1\n",
        "  else:\n",
        "    char[i] = char[i]+1"
      ],
      "execution_count": 0,
      "outputs": []
    },
    {
      "cell_type": "code",
      "metadata": {
        "id": "N54xOucLFg5W",
        "colab_type": "code",
        "outputId": "bf78dcb5-2d81-4928-98d9-f8fc75a7c4ff",
        "colab": {
          "base_uri": "https://localhost:8080/",
          "height": 187
        }
      },
      "source": [
        "char"
      ],
      "execution_count": 0,
      "outputs": [
        {
          "output_type": "execute_result",
          "data": {
            "text/plain": [
              "{'a': 2,\n",
              " 'b': 2,\n",
              " 'c': 2,\n",
              " 'd': 2,\n",
              " 'e': 2,\n",
              " 'f': 1,\n",
              " 'g': 2,\n",
              " 'h': 2,\n",
              " 'i': 1,\n",
              " 'j': 2}"
            ]
          },
          "metadata": {
            "tags": []
          },
          "execution_count": 6
        }
      ]
    },
    {
      "cell_type": "code",
      "metadata": {
        "id": "wnyBFNhZEwJE",
        "colab_type": "code",
        "outputId": "aa7e9aea-1aa1-4148-d814-1e6c4e16631d",
        "colab": {
          "base_uri": "https://localhost:8080/",
          "height": 187
        }
      },
      "source": [
        "for i in char.keys():\n",
        "  char[]"
      ],
      "execution_count": 0,
      "outputs": [
        {
          "output_type": "execute_result",
          "data": {
            "text/plain": [
              "{'a': [2, 0],\n",
              " 'b': [2, 2],\n",
              " 'c': [2, 4],\n",
              " 'd': [2, 6],\n",
              " 'e': [2, 8],\n",
              " 'f': [1, 10],\n",
              " 'g': [2, 11],\n",
              " 'h': [2, 13],\n",
              " 'i': [1, 15],\n",
              " 'j': [2, 16]}"
            ]
          },
          "metadata": {
            "tags": []
          },
          "execution_count": 4
        }
      ]
    }
  ]
}