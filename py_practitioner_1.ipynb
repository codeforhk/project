{
  "nbformat": 4,
  "nbformat_minor": 0,
  "metadata": {
    "colab": {
      "name": "py_practitioner_1.ipynb",
      "provenance": [],
      "include_colab_link": true
    },
    "kernelspec": {
      "name": "python3",
      "display_name": "Python 3"
    }
  },
  "cells": [
    {
      "cell_type": "markdown",
      "metadata": {
        "id": "view-in-github",
        "colab_type": "text"
      },
      "source": [
        "<a href=\"https://colab.research.google.com/github/codeforhk/python_practitioner/blob/master/py_practitioner_1.ipynb\" target=\"_parent\"><img src=\"https://colab.research.google.com/assets/colab-badge.svg\" alt=\"Open In Colab\"/></a>"
      ]
    },
    {
      "cell_type": "markdown",
      "metadata": {
        "id": "ejMS_tRueq8A",
        "colab_type": "text"
      },
      "source": [
        "\n",
        "    \n",
        "<img src=\"https://www.codefor.hk/wp-content/themes/DC_CUSTOM_THEME/img/logo-code-for-hk-logo.svg\" height=\"150\" width=\"150\"  align=\"center\"/>\n",
        "<h1><center>Code For Hong Kong - Python Practitioner class 1</center></h1>\n",
        "<h6><center>Written by Patrick Leung</center></h6>\n"
      ]
    },
    {
      "cell_type": "markdown",
      "metadata": {
        "id": "MfftnYO9m58V",
        "colab_type": "text"
      },
      "source": [
        "# 0.0.0 Introduction\n"
      ]
    },
    {
      "cell_type": "markdown",
      "metadata": {
        "id": "UBgeQ8BcnVrh",
        "colab_type": "text"
      },
      "source": [
        "### 0.1.0 Overview\n"
      ]
    },
    {
      "cell_type": "markdown",
      "metadata": {
        "id": "yXoKv8iaqKDi",
        "colab_type": "text"
      },
      "source": [
        "\n",
        "- You are expected to attend >75% of all classes in order to pass.\n",
        "- There will be a take home exercise after every class for you to complete during the week.\n",
        "- There will be an in-class test & challenges on every class\n",
        "- There will be a final exam at the end of the course. Your certificate will be graded as Distinction / Merit / Pass.\n",
        "- Please make use of our slack - drop questions on the slack channel & we will try to answer your questions!\n",
        "- You are encouraged to work on your own project using what you learn from this course - tell us your project!\n"
      ]
    },
    {
      "cell_type": "markdown",
      "metadata": {
        "id": "EGCmoAMDowW2",
        "colab_type": "text"
      },
      "source": [
        "### 0.2.0  Course sylabus\n"
      ]
    },
    {
      "cell_type": "markdown",
      "metadata": {
        "id": "IVxutkK9ox6v",
        "colab_type": "text"
      },
      "source": [
        "<img src=\"https://i.pinimg.com/originals/73/29/df/7329df3b89c33a33262016de9b410ba4.gif\" align=\"center\"/>"
      ]
    },
    {
      "cell_type": "markdown",
      "metadata": {
        "id": "MraaPy0qeq8C",
        "colab_type": "text"
      },
      "source": [
        "\n",
        "**Week 1 - Advance Python Functions**\n",
        "- Advance technique in loops and functions\n",
        "- How to write clean python code?\n",
        "\n",
        "**Week 2 - Introduction to Python Libraries**\n",
        "- How to install and update python libraries\n",
        "- Pandas//Webscraping\n",
        "\n",
        "**Week 3 - Building Python workflow I**\n",
        "- How to operate python script in local environment\n",
        "- How to parse data and files to python\n",
        "\n",
        "**Week 4 - Building Python workflow II**\n",
        "- How to operate python script in cloud and linux environment\n",
        "- How to schedule automated workflow\n",
        "\n",
        "**Week 5 - Introduction to Architectural Design**\n",
        "- How to design an end to end python workflow\n",
        "- How to design the best data structure\n",
        "- How to collaborate and update your code on Github"
      ]
    },
    {
      "cell_type": "markdown",
      "metadata": {
        "id": "qW7Cj6oZyyOz",
        "colab_type": "text"
      },
      "source": [
        "## 0.3.0 Computer Environment for Python"
      ]
    },
    {
      "cell_type": "markdown",
      "metadata": {
        "id": "-jeMbu2znboL",
        "colab_type": "text"
      },
      "source": [
        "\n",
        "\n",
        "First of all, you would need to install anaconda for this course. You would need to download python 3.7.\n",
        "Anaconda\n",
        "​\n",
        "\n",
        "[Download](https://www.anaconda.com/distribution/)\n",
        "​\n",
        "​\n",
        "\n",
        "Anaconda is a python distribution. It aims to provide everything you need for python & data science \"out of the box\".\n",
        "​\n",
        "It includes:\n",
        "​\n",
        "- The core python language\n",
        "- 100+ python \"packages\" (libraries)\n",
        "- Spyder (IDE/editor - like pycharm) and Jupyter\n",
        "\n",
        "\n",
        "\n",
        "[Install Anaconda (Window)](https://www.datacamp.com/community/tutorials/installing-anaconda-windows)\n",
        "\n",
        "[Install anaconda (mac)](https://www.datacamp.com/community/tutorials/installing-anaconda-mac-os-x)\n",
        "\n",
        "[Install Python on window](http://blog.yhat.com/posts/installing-python-on-windows.html)\n",
        "\n"
      ]
    },
    {
      "cell_type": "markdown",
      "metadata": {
        "id": "J67UeKuqvidx",
        "colab_type": "text"
      },
      "source": [
        "## 0.4.0 Work on your own project\n",
        "\n",
        "- - How to apply python in real life? (personal project/work level)\n",
        "- - Use your computer as a tool (using python as the enabler)\n",
        "- - Learn the clean/efficient way of building a python project\n",
        "- - Learn a list of practical python library, e.g web-scraping / pandas /\n",
        "- - Learn through one existing project throughout the course, and try to build your own one"
      ]
    },
    {
      "cell_type": "markdown",
      "metadata": {
        "id": "TcJCy8XSeI6l",
        "colab_type": "text"
      },
      "source": [
        "\n",
        "​\n",
        "​"
      ]
    },
    {
      "cell_type": "code",
      "metadata": {
        "id": "bm5BPo-Cec_o",
        "colab_type": "code",
        "colab": {
          "base_uri": "https://localhost:8080/",
          "height": 320
        },
        "outputId": "78321d2f-e261-49ae-f397-21aeb4f9de5d"
      },
      "source": [
        "from IPython.display import YouTubeVideo\n",
        "(YouTubeVideo('OV9WlTd9a2U'))"
      ],
      "execution_count": 2,
      "outputs": [
        {
          "output_type": "execute_result",
          "data": {
            "text/html": [
              "\n",
              "        <iframe\n",
              "            width=\"400\"\n",
              "            height=\"300\"\n",
              "            src=\"https://www.youtube.com/embed/OV9WlTd9a2U\"\n",
              "            frameborder=\"0\"\n",
              "            allowfullscreen\n",
              "        ></iframe>\n",
              "        "
            ],
            "text/plain": [
              "<IPython.lib.display.YouTubeVideo at 0x7f627f109390>"
            ],
            "image/jpeg": "[encoded data removed]"
          },
          "metadata": {
            "tags": []
          },
          "execution_count": 2
        }
      ]
    },
    {
      "cell_type": "markdown",
      "metadata": {
        "id": "cebXxc1o1IAO",
        "colab_type": "text"
      },
      "source": [
        "# 1.0.0 How do professionals code in real world?"
      ]
    },
    {
      "cell_type": "markdown",
      "metadata": {
        "id": "6f5AgHx4frTe",
        "colab_type": "text"
      },
      "source": [
        "\n",
        "\n",
        "\n",
        "<img src=\"https://storage.googleapis.com/bwdb/codeforhk/Screenshot%202019-11-20%20at%209.58.20%20PM.png\" align=\"center\"/>"
      ]
    },
    {
      "cell_type": "markdown",
      "metadata": {
        "id": "iTjOEkOP1NSa",
        "colab_type": "text"
      },
      "source": [
        "# What are the key differences between beginners & professionals?"
      ]
    },
    {
      "cell_type": "markdown",
      "metadata": {
        "id": "M0Ti4XQef7yO",
        "colab_type": "text"
      },
      "source": [
        "\n",
        "\n",
        "## 1.1.0 Coder *Thinks* Differently\n",
        "\n"
      ]
    },
    {
      "cell_type": "markdown",
      "metadata": {
        "id": "c-mdRM4n1Qht",
        "colab_type": "text"
      },
      "source": [
        "<img src=\"https://cdn.shortpixel.ai/client/q_lqip,ret_wait,w_480,h_360/https://selftaught.blog/wp-content/uploads/2018/01/KGrV41o.png\" align=\"center\"/>"
      ]
    },
    {
      "cell_type": "markdown",
      "metadata": {
        "id": "qg5u2nsh0vrr",
        "colab_type": "text"
      },
      "source": [
        "## 1.2.0 Coder thinks *beyond* python"
      ]
    },
    {
      "cell_type": "markdown",
      "metadata": {
        "id": "KrOoPT5r0-wV",
        "colab_type": "text"
      },
      "source": [
        "test"
      ]
    },
    {
      "cell_type": "markdown",
      "metadata": {
        "id": "dqKP1ixZ0KAq",
        "colab_type": "text"
      },
      "source": [
        "## 1.3.0 Coder writes *clean* code"
      ]
    },
    {
      "cell_type": "markdown",
      "metadata": {
        "id": "zBbEhE040_h7",
        "colab_type": "text"
      },
      "source": [
        "test"
      ]
    },
    {
      "cell_type": "markdown",
      "metadata": {
        "id": "INxQH0HS0kKs",
        "colab_type": "text"
      },
      "source": [
        "## 1.4.0 Coder *plans* ahead"
      ]
    },
    {
      "cell_type": "markdown",
      "metadata": {
        "id": "ekvRwXyzjG9x",
        "colab_type": "text"
      },
      "source": [
        "https://www.lucidchart.com/invitations/accept/a1f0d551-b90b-449f-8a6d-4162a8f6c200"
      ]
    },
    {
      "cell_type": "markdown",
      "metadata": {
        "id": "CxgHgFkvhvp8",
        "colab_type": "text"
      },
      "source": [
        "# 2.0.0 Advanced Python Functions & Applications\n",
        "\n",
        "Let's start our practitioner class with learning some new python functions.\n",
        "\n",
        "<img src=\"https://i.stack.imgur.com/LxITc.png\" align=\"center\"/>\n",
        "\n",
        "\n",
        " In coding, the *breath* of existing functions helps you to solve complex problems. By coding more, you would get to know more of these built-in functions.\n",
        "\n",
        "\n",
        "**You can find a good list of built-in functions [here](https://docs.python.org/3/library/functions.html) .**\n",
        "\n",
        "\n",
        "\n",
        "In this session, we will be heavily leveraging python basics - they have a bunches of very good tutorials :)\n",
        "\n",
        "https://pythonbasics.org/"
      ]
    },
    {
      "cell_type": "markdown",
      "metadata": {
        "id": "pAg6vYvGtzIC",
        "colab_type": "text"
      },
      "source": [
        "## 2.1.0 What are the most common built-in functions?\n",
        "\n",
        "Intuitively, practical functions is more popular. Using real data to see which Python builtin and dunder methods are actually worth learning\n",
        "\n",
        "[Further Reading](https://medium.com/@robertbracco1/most-common-python-functions-aafdc01b71ef)\n",
        "\n",
        "[Interactive Visualization](https://codepen.io/rbracco/full/PgWJpW)\n"
      ]
    },
    {
      "cell_type": "markdown",
      "metadata": {
        "id": "MVWxydsvsaap",
        "colab_type": "text"
      },
      "source": [
        "\n",
        "<img src=\"https://miro.medium.com/max/2310/1*otiVBr9L6IwWKcoQzr9RjA.png\" align=\"center\"/>"
      ]
    },
    {
      "cell_type": "markdown",
      "metadata": {
        "id": "KVWYvzo7sXTy",
        "colab_type": "text"
      },
      "source": [
        "\n",
        "\n",
        "<img src=\"https://miro.medium.com/max/1156/1*DVUOnhfAOH5SzQacBInmgw.png\" align=\"center\"/>"
      ]
    },
    {
      "cell_type": "markdown",
      "metadata": {
        "id": "jvJK28pk2yu5",
        "colab_type": "text"
      },
      "source": [
        "## Recap\n",
        "\n"
      ]
    },
    {
      "cell_type": "markdown",
      "metadata": {
        "id": "E8lxX6G51j9O",
        "colab_type": "text"
      },
      "source": [
        "## 2.1.0 Range"
      ]
    },
    {
      "cell_type": "markdown",
      "metadata": {
        "id": "5dxcFS1k1mhj",
        "colab_type": "text"
      },
      "source": [
        "## 2.2.0 Nested Loop"
      ]
    },
    {
      "cell_type": "markdown",
      "metadata": {
        "id": "tMP8GS6g1wm5",
        "colab_type": "text"
      },
      "source": [
        "https://pythonbasics.org/nested-loops/"
      ]
    },
    {
      "cell_type": "markdown",
      "metadata": {
        "id": "4sY6scje1o7w",
        "colab_type": "text"
      },
      "source": [
        "## 2.3.0 Multiple Return"
      ]
    },
    {
      "cell_type": "markdown",
      "metadata": {
        "id": "L0UdvrHA1vYu",
        "colab_type": "text"
      },
      "source": [
        "https://pythonbasics.org/multiple-return/"
      ]
    },
    {
      "cell_type": "markdown",
      "metadata": {
        "id": "6y38W0w62v-4",
        "colab_type": "text"
      },
      "source": [
        "## List Operations\n",
        "\n",
        "https://pythonbasics.org/list-operations/"
      ]
    },
    {
      "cell_type": "markdown",
      "metadata": {
        "id": "Gdx2smn718U2",
        "colab_type": "text"
      },
      "source": [
        "## 2.4.0 Dictionaries\n",
        "\n",
        "https://pythonbasics.org/dictionary/"
      ]
    },
    {
      "cell_type": "markdown",
      "metadata": {
        "id": "DNnSeCG72SjA",
        "colab_type": "text"
      },
      "source": [
        "## 2.5.0 Time and Date\n"
      ]
    },
    {
      "cell_type": "markdown",
      "metadata": {
        "id": "YHaE7e5p2Wj6",
        "colab_type": "text"
      },
      "source": [
        "https://pythonbasics.org/time-and-date/"
      ]
    },
    {
      "cell_type": "markdown",
      "metadata": {
        "id": "N3waXG0QqYf-",
        "colab_type": "text"
      },
      "source": [
        "## 2.8.0 Hangman breakdown with example"
      ]
    },
    {
      "cell_type": "markdown",
      "metadata": {
        "id": "_thTvPKMqYgA",
        "colab_type": "text"
      },
      "source": [
        "Example 1: \n",
        "- To randomly choose a word from list, this is the way to do it."
      ]
    },
    {
      "cell_type": "code",
      "metadata": {
        "id": "7UCNyPhoqYgC",
        "colab_type": "code",
        "outputId": "a839bedd-56bb-46ef-b791-d3e9617d2716",
        "colab": {}
      },
      "source": [
        "import random\n",
        "random.choice([1,2,3])"
      ],
      "execution_count": 0,
      "outputs": [
        {
          "output_type": "execute_result",
          "data": {
            "text/plain": [
              "1"
            ]
          },
          "metadata": {
            "tags": []
          },
          "execution_count": 1
        }
      ]
    },
    {
      "cell_type": "markdown",
      "metadata": {
        "id": "nbF-ft9WqYgJ",
        "colab_type": "text"
      },
      "source": [
        "Q1: Figure out a way to randomly choose a word from \"word_list\", and name it \"chosen_word\""
      ]
    },
    {
      "cell_type": "code",
      "metadata": {
        "id": "kG869PqGqYgK",
        "colab_type": "code",
        "colab": {}
      },
      "source": [
        "word_list = [\"stick\",\"john\",\"pencil\",\"rubber\",\"glove\",\"quick\",\"brown\",\"fox\",\"jumps\",\"over\"\n",
        "                     ,\"lazy\",\"dog\",\"manner\",\"house\",\"food\",\"brain\",\"history\",\"love\",\"peace\",\n",
        "                      \"object\"] \n",
        "\n",
        "chosen_word = #Your code here"
      ],
      "execution_count": 0,
      "outputs": []
    },
    {
      "cell_type": "markdown",
      "metadata": {
        "id": "IMRm992NqYgN",
        "colab_type": "text"
      },
      "source": [
        "Example 2 \n",
        "- 2i)To find out the length of a string\n",
        "- 2ii) To loop through every character in a string\n",
        "- 2iii) To replace every character with '_'"
      ]
    },
    {
      "cell_type": "code",
      "metadata": {
        "id": "xXT-2T7XqYgO",
        "colab_type": "code",
        "colab": {}
      },
      "source": [
        "#2i)To find out the length of a string, do this:\n",
        "name = 'Patrick'\n",
        "length_of_name = len(name)"
      ],
      "execution_count": 0,
      "outputs": []
    },
    {
      "cell_type": "code",
      "metadata": {
        "id": "VKj0GFcLqYgQ",
        "colab_type": "code",
        "colab": {}
      },
      "source": [
        "#2ii) To loop through every character in a string, do this:\n",
        "for i in name:\n",
        "    print(i)"
      ],
      "execution_count": 0,
      "outputs": []
    },
    {
      "cell_type": "code",
      "metadata": {
        "id": "NKNcHNTLqYgT",
        "colab_type": "code",
        "colab": {}
      },
      "source": [
        "#2ii)or alternatively, do this:    \n",
        "[i for i in name]  "
      ],
      "execution_count": 0,
      "outputs": []
    },
    {
      "cell_type": "code",
      "metadata": {
        "id": "_02Wv9ubqYgW",
        "colab_type": "code",
        "colab": {}
      },
      "source": [
        "#2iii) To replace every character with '_', do this\n",
        "['_' for i in name]"
      ],
      "execution_count": 0,
      "outputs": []
    },
    {
      "cell_type": "markdown",
      "metadata": {
        "id": "jABteYbHqYgb",
        "colab_type": "text"
      },
      "source": [
        "Q2: Make the chosen_word \"invisible\" by replacing character to \"_\". For example, \"fox\" should return ['_','_','_']. \n",
        "Name this new variable \"playerchoice."
      ]
    },
    {
      "cell_type": "code",
      "metadata": {
        "id": "rwvpyw_bqYgc",
        "colab_type": "code",
        "colab": {}
      },
      "source": [
        ""
      ],
      "execution_count": 0,
      "outputs": []
    },
    {
      "cell_type": "markdown",
      "metadata": {
        "id": "sJ9H3N3HqYgf",
        "colab_type": "text"
      },
      "source": [
        "Q3 Allow the player to input their guess. Name this variable \"guess\". I have done this question for you"
      ]
    },
    {
      "cell_type": "code",
      "metadata": {
        "id": "eNk7OuJQqYgg",
        "colab_type": "code",
        "colab": {}
      },
      "source": [
        "guess = str(input())"
      ],
      "execution_count": 0,
      "outputs": []
    },
    {
      "cell_type": "markdown",
      "metadata": {
        "id": "FR862tFaqYgj",
        "colab_type": "text"
      },
      "source": [
        "Example 4 \n",
        "- 4i) To check if 1 is in the list [1,2,3]\n",
        "- 4ii) to check if 'p' is in 'patrick'"
      ]
    },
    {
      "cell_type": "code",
      "metadata": {
        "id": "NjU2ukA7qYgk",
        "colab_type": "code",
        "colab": {}
      },
      "source": [
        "#Example 4 \n",
        "#4i) To check if 1 is in the list [1,2,3], do this:\n",
        "1 in [1,2,3]"
      ],
      "execution_count": 0,
      "outputs": []
    },
    {
      "cell_type": "code",
      "metadata": {
        "id": "xVGH3_0BqYgn",
        "colab_type": "code",
        "colab": {}
      },
      "source": [
        "#4ii) to check if 'p' is in 'patrick', do this:\n",
        "'p' in 'patrick'"
      ],
      "execution_count": 0,
      "outputs": []
    },
    {
      "cell_type": "markdown",
      "metadata": {
        "id": "RuUq0jbVqYgq",
        "colab_type": "text"
      },
      "source": [
        "Q4 Now assume guess = 'o', and chosen_word = 'fox'. Write a logic to check if 'o' is in 'fox'."
      ]
    },
    {
      "cell_type": "code",
      "metadata": {
        "id": "m36lt_6GqYgr",
        "colab_type": "code",
        "colab": {}
      },
      "source": [
        "#Q4 Now assume guess = 'o', and chosen_word = 'fox'. Write a logic to check if 'o' is in 'fox'. \n",
        "# You \n",
        "guess = 'o'\n",
        "chosen_word = 'fox'"
      ],
      "execution_count": 0,
      "outputs": []
    },
    {
      "cell_type": "markdown",
      "metadata": {
        "id": "1JgDFgT9qYgt",
        "colab_type": "text"
      },
      "source": [
        "Example 5: \n",
        "- 5i) Write a logic that loop through 'patrick' to find whether letter 'p' match the character. If yes, print \"p', if not, print '_'\n",
        "- 5ii) Write the same logic, but instead put the output in an empty string\n",
        "- 5 iii) Try to use list comprehension to do it"
      ]
    },
    {
      "cell_type": "code",
      "metadata": {
        "id": "hkqgJvddqYgv",
        "colab_type": "code",
        "colab": {}
      },
      "source": [
        "#i)\n",
        "name = 'patrick'\n",
        "guess = 'p'\n",
        "for i in name:\n",
        "    if i==guess:\n",
        "        print(guess)\n",
        "    else:\n",
        "        print('_')"
      ],
      "execution_count": 0,
      "outputs": []
    },
    {
      "cell_type": "code",
      "metadata": {
        "id": "CpgI2IuZqYgy",
        "colab_type": "code",
        "colab": {}
      },
      "source": [
        "#ii)\n",
        "empty_list = []\n",
        "name = 'patrick'\n",
        "guess = 'p'\n",
        "for i in name:\n",
        "    if i==guess:\n",
        "        empty_list.append(guess)\n",
        "    else:\n",
        "        empty_list.append('_')\n",
        "empty_list"
      ],
      "execution_count": 0,
      "outputs": []
    },
    {
      "cell_type": "code",
      "metadata": {
        "id": "Q09pu-WOqYg1",
        "colab_type": "code",
        "colab": {}
      },
      "source": [
        "#iii)\n",
        "[guess if guess==i else '_' for i in 'patrick'] "
      ],
      "execution_count": 0,
      "outputs": []
    },
    {
      "cell_type": "markdown",
      "metadata": {
        "id": "2P1k5bUIqYg4",
        "colab_type": "text"
      },
      "source": [
        "Q5 Now write a logic, that loop over every word in chosen_word. If guess = chosen word, then return guess. If not, return underscore. Put them in a list"
      ]
    },
    {
      "cell_type": "code",
      "metadata": {
        "id": "9KeJftIRqYg5",
        "colab_type": "code",
        "colab": {}
      },
      "source": [
        ""
      ],
      "execution_count": 0,
      "outputs": []
    },
    {
      "cell_type": "markdown",
      "metadata": {
        "id": "qAYLwaWwqYg8",
        "colab_type": "text"
      },
      "source": [
        "Example 6: Write a while loop that start with n = 5, reduce n by 1 for every loop, and print out every n. Write another while loop that breaks if n = 3"
      ]
    },
    {
      "cell_type": "code",
      "metadata": {
        "id": "7gOgEfVTqYg9",
        "colab_type": "code",
        "colab": {}
      },
      "source": [
        "n = 5\n",
        "while n>0:\n",
        "    if n==1:\n",
        "        print('you are nearly dead!')\n",
        "    n = n-1\n",
        "    print(n)\n",
        "\n",
        "#break if n = 5\n",
        "n = 5\n",
        "while n>0:\n",
        "    if n==3:\n",
        "        break\n",
        "    n = n-1\n",
        "    print(n)"
      ],
      "execution_count": 0,
      "outputs": []
    },
    {
      "cell_type": "markdown",
      "metadata": {
        "id": "bTSiszDnqYhA",
        "colab_type": "text"
      },
      "source": [
        "Q6: Now, Write a while loop that start with life = 10, reduce life by 1 for every loop, and print out every life"
      ]
    },
    {
      "cell_type": "code",
      "metadata": {
        "id": "HPyVLaMKqYhB",
        "colab_type": "code",
        "colab": {}
      },
      "source": [
        ""
      ],
      "execution_count": 0,
      "outputs": []
    },
    {
      "cell_type": "markdown",
      "metadata": {
        "id": "BGLT9GGKqYhE",
        "colab_type": "text"
      },
      "source": [
        "Example 7: Similar to example 5. Try to loop through 'patrick' and print out each character. But instead, loop through it using index"
      ]
    },
    {
      "cell_type": "code",
      "metadata": {
        "id": "JP8Epl56qYhE",
        "colab_type": "code",
        "outputId": "7332b02b-4062-4aa7-b4c0-fa72197c9530",
        "colab": {}
      },
      "source": [
        "for i in range(len('patrick')):\n",
        "    print('patrick'[i])"
      ],
      "execution_count": 0,
      "outputs": [
        {
          "output_type": "stream",
          "text": [
            "p\n",
            "a\n",
            "t\n",
            "r\n",
            "i\n",
            "c\n",
            "k\n"
          ],
          "name": "stdout"
        }
      ]
    },
    {
      "cell_type": "markdown",
      "metadata": {
        "id": "rwfZnDWKqYhI",
        "colab_type": "text"
      },
      "source": [
        "Q7: Now, Try to loop through chosen_word. If guess meets the character, print out the word \"guess\". If not, print out the relevant position in playerchoice. Finally, re-assign the output to the variable playerchoice. I have done this part for you."
      ]
    },
    {
      "cell_type": "code",
      "metadata": {
        "id": "ZP09hOHsqYhJ",
        "colab_type": "code",
        "outputId": "621e107b-5fb4-420c-d63e-586cd7a728ac",
        "colab": {}
      },
      "source": [
        "guess = 'o'\n",
        "chosen_word = 'fox'\n",
        "playerchoice = ['_','_','_']\n",
        "\n",
        "#Long form\n",
        "for i in range(len(chosen_word)):\n",
        "    if guess ==chosen_word[i]:\n",
        "        print(guess)\n",
        "    else:\n",
        "        print(chosen_word[i])\n",
        "\n",
        "#Or put into string\n",
        "empty_string = []\n",
        "for i in range(len(chosen_word)):\n",
        "    if guess ==chosen_word[i]:\n",
        "        empty_string.append(guess)\n",
        "    else:\n",
        "        empty_string.append(chosen_word[i])\n",
        "print(empty_string)\n",
        "\n",
        "        \n",
        "#short form\n",
        "playerchoice = [guess if guess ==chosen_word[a] else playerchoice[a] for a in range(len(chosen_word))]"
      ],
      "execution_count": 0,
      "outputs": [
        {
          "output_type": "stream",
          "text": [
            "f\n",
            "o\n",
            "x\n"
          ],
          "name": "stdout"
        }
      ]
    },
    {
      "cell_type": "markdown",
      "metadata": {
        "id": "66UBu0bCqYhM",
        "colab_type": "text"
      },
      "source": [
        "Q8 Finally, please put everything above into one piece :)"
      ]
    },
    {
      "cell_type": "code",
      "metadata": {
        "id": "OFUGBx-6qYhN",
        "colab_type": "code",
        "colab": {}
      },
      "source": [
        "import random\n",
        "print('WELCOME TO HANGMAN! ')\n",
        "word_list = [\"stick\",\"john\",\"pencil\",\"rubber\",\"glove\",\"quick\",\"brown\",\"fox\",\"jumps\",\"over\"\n",
        "                     ,\"lazy\",\"dog\",\"manner\",\"house\",\"food\",\"brain\",\"history\",\"love\",\"peace\",\n",
        "                      \"object\"] \n",
        "# Randomly choose a word and name it \"chosen_word\"\n",
        "chosen_word = #Your code\n",
        "\n",
        "# Assign playerchoice with a list of \"_\"\n",
        "playerchoice = # Your code here\n",
        "print(playerchoice)\n",
        "\n",
        "#Put eveything into a while loop. Reduce life every round\n",
        "life = 10\n",
        "while life>0:\n",
        "    if(sum([a == '_' for a in playerchoice])==0):\n",
        "        print('you won! lucky guy')\n",
        "        break\n",
        "#allow user to input their guess here\n",
        "    guess = #your code here\n",
        "\n",
        "# Write a logic to check if guess is in the chosenword. If yes, check which position is the matched character and replace it. \n",
        "#You should also renew 'playerchoice' because now player has made a right guess\n",
        "#If not, reduce life by 1\n",
        "    \n",
        "if(life==0):\n",
        "    print('You die!!!!!')"
      ],
      "execution_count": 0,
      "outputs": []
    },
    {
      "cell_type": "markdown",
      "metadata": {
        "id": "ui_irNdLyPWk",
        "colab_type": "text"
      },
      "source": [
        ""
      ]
    },
    {
      "cell_type": "markdown",
      "metadata": {
        "id": "YuNRI_DviAcq",
        "colab_type": "text"
      },
      "source": [
        "# 3.0.0 How to write Python Production Code?"
      ]
    },
    {
      "cell_type": "markdown",
      "metadata": {
        "id": "rHUDKnVIjUK0",
        "colab_type": "text"
      },
      "source": [
        "\n",
        "<img src=\"https://d2h0cx97tjks2p.cloudfront.net/blogs/wp-content/uploads/sites/2/2018/02/Package-Module-Structure.png\" align=\"center\"/>"
      ]
    },
    {
      "cell_type": "code",
      "metadata": {
        "id": "qrfEMx-ViHk0",
        "colab_type": "code",
        "colab": {}
      },
      "source": [
        ""
      ],
      "execution_count": 0,
      "outputs": []
    }
  ]
}