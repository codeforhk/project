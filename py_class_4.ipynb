{
  "nbformat": 4,
  "nbformat_minor": 0,
  "metadata": {
    "colab": {
      "name": "py_class_4.ipynb",
      "version": "0.3.2",
      "provenance": [],
      "collapsed_sections": [
        "UZysvTpDeq8c",
        "axYPsKaqeq8e",
        "rR3Mw2K-eq8k",
        "cYm-fUXTeq9G",
        "uEPaO83neq9O",
        "tNHM94A0eq9Q",
        "MEDm0bF-eq9S",
        "QbCSljwYeq9V",
        "_VJVTVx6eq9V",
        "jHZmko0Eeq9X",
        "Y3TzmFS1eq9a",
        "GQVnbwPgeq9c",
        "Qvm5ip48eq9e",
        "t6Sn2Y_leq9e",
        "IXb0tBvheq9s",
        "pRGo6doPeq9u",
        "IfWfAUgneq9z",
        "0_lrp6Uveq99",
        "CLs3C6qxeq-B",
        "_jZEML1heq-G",
        "8l9Ox5nEeq-N",
        "MYMTDFUyeq-V",
        "5DKaMx0Xeq-d",
        "heuyIVbWeq-j",
        "bJ4QBNrCeq-n",
        "WqgNLVaceq-1",
        "6ro-6eVkeq-5",
        "JX6NSV7Ieq-8",
        "WlDvGqjIeq_B",
        "8SuFhWOUeq_G",
        "oIfoiGe0eq_H",
        "TTJOZJdneq_I",
        "StXbl1toeq_M",
        "3zJtuP2ieq_O",
        "HdYdFcdTeq_P",
        "cVa4D96peq_U",
        "6EgP_u5oeq_V",
        "gUQbPbHOeq_W",
        "VdxxwBf3eq_b",
        "Ekg_RLTueq_f",
        "6qSWfivneq_g",
        "sH_XwaZGeq_q",
        "s02P4S-Weq_r",
        "v6sIQVYaeq_t",
        "eod0452beq_w",
        "Rl_KMJA8eq_y",
        "LLNXaxezeq_0",
        "AKE0X-ppeq_6",
        "JSv4iMtieq_8",
        "0q8x8tyxeq__",
        "cDUea5oAerAA",
        "oMbs1uKLerAC",
        "YJG-i3iGerAE",
        "-SXuNJi_erAK",
        "yfNa9tXGerAN",
        "pKR76FPverAP",
        "J-4Z9g5lerAU",
        "d4y1BBG4erAX",
        "stmCtMCferAb",
        "0HgQG8YjerAn",
        "icNg_6HgerAo",
        "_N4eIFgserAr",
        "FvJZ8saNerAu",
        "oh0Xv8FnerAw",
        "tVhMYLWkerA0",
        "fLBZWqvMerA4",
        "j9kHjlSeerA6",
        "dRZKEuU_erA6",
        "xIwG_Uj3erBB",
        "YYtsCbJperBD",
        "oWl0Ha2RerBD"
      ],
      "toc_visible": true,
      "include_colab_link": true
    },
    "kernelspec": {
      "display_name": "Python 3",
      "language": "python",
      "name": "python3"
    }
  },
  "cells": [
    {
      "cell_type": "markdown",
      "metadata": {
        "id": "view-in-github",
        "colab_type": "text"
      },
      "source": [
        "<a href=\"https://colab.research.google.com/github/codeforhk/python_course/blob/master/py_class_4.ipynb\" target=\"_parent\"><img src=\"https://colab.research.google.com/assets/colab-badge.svg\" alt=\"Open In Colab\"/></a>"
      ]
    },
    {
      "metadata": {
        "id": "E_I6QftesBvW",
        "colab_type": "text"
      },
      "cell_type": "markdown",
      "source": [
        "\n",
        "    \n",
        "<img src=\"https://www.codefor.hk/wp-content/themes/DC_CUSTOM_THEME/img/logo-code-for-hk-logo.svg\" height=\"150\" width=\"150\"  align=\"center\"/>\n",
        "<h1><center>Code For Hong Kong - Python class 4</center></h1>\n",
        "<h6><center>Written by Patrick Leung</center></h6>"
      ]
    },
    {
      "metadata": {
        "id": "hffP3JWisQfH",
        "colab_type": "text"
      },
      "cell_type": "markdown",
      "source": [
        "# 8.0.0 Recap"
      ]
    },
    {
      "metadata": {
        "id": "ZC25o1Z7q-Ai",
        "colab_type": "text"
      },
      "cell_type": "markdown",
      "source": [
        "### Review 8.0.0 Concepts"
      ]
    },
    {
      "metadata": {
        "id": "FltYBhLarQmO",
        "colab_type": "text"
      },
      "cell_type": "markdown",
      "source": [
        "- while/ for loop\n",
        "- functions"
      ]
    },
    {
      "metadata": {
        "id": "0pQGnkwGqwII",
        "colab_type": "text"
      },
      "cell_type": "markdown",
      "source": [
        "### Homework 8.0.0 - Hangman\n",
        "\n",
        "https://github.com/codeforhk/python_course/blob/master/py_class_2_Hangman_Breakdown.ipynb"
      ]
    },
    {
      "metadata": {
        "colab_type": "text",
        "id": "ryxxpOnEEhwu"
      },
      "cell_type": "markdown",
      "source": [
        "# 9.0.0 Final Exam"
      ]
    },
    {
      "metadata": {
        "colab_type": "text",
        "id": "3WsDmZFpEhw4"
      },
      "cell_type": "markdown",
      "source": [
        "### Exam Rule\n",
        "\n",
        "\n",
        "- Do not search on the internet for answers\n",
        "- You have 60 mins to complete it\n",
        "- There will be 30 questions of MC & 3 coding questions\n",
        "- You will need to complete all of the questions\n",
        "- 2 points given for each multiple choice question\n",
        "- 10 points for first coding question, 15 points for the last 2 coding questions\n",
        "\n",
        "### Exam Grades\n",
        "-  75/100 Distinction\n",
        "-  60/100 Merit\n",
        "-  40/100 Pass\n",
        "-  10/100 Attended\n",
        "\n",
        "\n",
        "Exam link below. Please wait for instructions before starting your exams."
      ]
    },
    {
      "metadata": {
        "id": "CoEwMdGloFit",
        "colab_type": "text"
      },
      "cell_type": "markdown",
      "source": [
        "# 10.0.0 Practical Python Packages & Skills"
      ]
    },
    {
      "metadata": {
        "colab_type": "text",
        "id": "46gq-Fmnck1J"
      },
      "cell_type": "markdown",
      "source": [
        "##  10.1.0 File system\n"
      ]
    },
    {
      "metadata": {
        "id": "P8VZaP0EHdob",
        "colab_type": "code",
        "colab": {}
      },
      "cell_type": "code",
      "source": [
        "import os"
      ],
      "execution_count": 0,
      "outputs": []
    },
    {
      "metadata": {
        "id": "cxRs3BOtIHUc",
        "colab_type": "code",
        "colab": {
          "base_uri": "https://localhost:8080/",
          "height": 34
        },
        "outputId": "be52726d-addf-470a-9349-4a367bfa4de1"
      },
      "cell_type": "code",
      "source": [
        "os.listdir()"
      ],
      "execution_count": 3,
      "outputs": [
        {
          "output_type": "execute_result",
          "data": {
            "text/plain": [
              "['.config', 'sample_data']"
            ]
          },
          "metadata": {
            "tags": []
          },
          "execution_count": 3
        }
      ]
    },
    {
      "metadata": {
        "id": "PAox06RYIONA",
        "colab_type": "code",
        "colab": {
          "base_uri": "https://localhost:8080/",
          "height": 34
        },
        "outputId": "bebc491f-da12-4375-e080-588ad25cb799"
      },
      "cell_type": "code",
      "source": [
        "os.getcwd()"
      ],
      "execution_count": 4,
      "outputs": [
        {
          "output_type": "execute_result",
          "data": {
            "text/plain": [
              "'/content'"
            ]
          },
          "metadata": {
            "tags": []
          },
          "execution_count": 4
        }
      ]
    },
    {
      "metadata": {
        "id": "OoE3dTm5IQwY",
        "colab_type": "code",
        "colab": {}
      },
      "cell_type": "code",
      "source": [
        "os.chdir('/home')"
      ],
      "execution_count": 0,
      "outputs": []
    },
    {
      "metadata": {
        "id": "nbRxeRf7HvTp",
        "colab_type": "text"
      },
      "cell_type": "markdown",
      "source": [
        "## 10.2.0 Pandas - Spreadsheet related"
      ]
    },
    {
      "metadata": {
        "id": "kxQHde8BIUic",
        "colab_type": "code",
        "colab": {}
      },
      "cell_type": "code",
      "source": [
        "import pandas as pd"
      ],
      "execution_count": 0,
      "outputs": []
    },
    {
      "metadata": {
        "id": "oY7wqxgaIU1o",
        "colab_type": "code",
        "colab": {}
      },
      "cell_type": "code",
      "source": [
        ""
      ],
      "execution_count": 0,
      "outputs": []
    },
    {
      "metadata": {
        "id": "g_naC2AmIVOO",
        "colab_type": "code",
        "colab": {}
      },
      "cell_type": "code",
      "source": [
        ""
      ],
      "execution_count": 0,
      "outputs": []
    },
    {
      "metadata": {
        "id": "BX0uHFC-H3rW",
        "colab_type": "text"
      },
      "cell_type": "markdown",
      "source": [
        "## 10.3.0 Emails "
      ]
    },
    {
      "metadata": {
        "id": "4XXapFUMIcfI",
        "colab_type": "code",
        "colab": {}
      },
      "cell_type": "code",
      "source": [
        ""
      ],
      "execution_count": 0,
      "outputs": []
    },
    {
      "metadata": {
        "id": "Uexgyj-aH6CU",
        "colab_type": "text"
      },
      "cell_type": "markdown",
      "source": [
        "## 10.4.0 Web scraping"
      ]
    },
    {
      "metadata": {
        "id": "C447DrWFIc8Y",
        "colab_type": "code",
        "colab": {}
      },
      "cell_type": "code",
      "source": [
        "import requests\n",
        "from bs4 import BeautifulSoup as bs\n",
        "\n"
      ],
      "execution_count": 0,
      "outputs": []
    },
    {
      "metadata": {
        "id": "moEbpL8wIptq",
        "colab_type": "text"
      },
      "cell_type": "markdown",
      "source": [
        "# 11.0.0 Final review on dictionaries"
      ]
    },
    {
      "metadata": {
        "id": "JHaU00r4IuBm",
        "colab_type": "code",
        "colab": {}
      },
      "cell_type": "code",
      "source": [
        ""
      ],
      "execution_count": 0,
      "outputs": []
    }
  ]
}