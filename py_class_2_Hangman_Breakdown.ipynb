{
  "nbformat": 4,
  "nbformat_minor": 0,
  "metadata": {
    "colab": {
      "name": "py_class_2_Hangman_Breakdown.ipynb",
      "version": "0.3.2",
      "provenance": [],
      "include_colab_link": true
    },
    "kernelspec": {
      "display_name": "Python 3",
      "language": "python",
      "name": "python3"
    }
  },
  "cells": [
    {
      "cell_type": "markdown",
      "metadata": {
        "id": "view-in-github",
        "colab_type": "text"
      },
      "source": [
        "<a href=\"https://colab.research.google.com/github/codeforhk/python_course/blob/master/py_class_2_Hangman_Breakdown.ipynb\" target=\"_parent\"><img src=\"https://colab.research.google.com/assets/colab-badge.svg\" alt=\"Open In Colab\"/></a>"
      ]
    },
    {
      "metadata": {
        "id": "N3waXG0QqYf-",
        "colab_type": "text"
      },
      "cell_type": "markdown",
      "source": [
        "# Hangman breakdown with example"
      ]
    },
    {
      "metadata": {
        "id": "_thTvPKMqYgA",
        "colab_type": "text"
      },
      "cell_type": "markdown",
      "source": [
        "Example 1: \n",
        "- To randomly choose a word from list, this is the way to do it."
      ]
    },
    {
      "metadata": {
        "id": "7UCNyPhoqYgC",
        "colab_type": "code",
        "colab": {},
        "outputId": "a839bedd-56bb-46ef-b791-d3e9617d2716"
      },
      "cell_type": "code",
      "source": [
        "import random\n",
        "random.choice([1,2,3])"
      ],
      "execution_count": 0,
      "outputs": [
        {
          "output_type": "execute_result",
          "data": {
            "text/plain": [
              "1"
            ]
          },
          "metadata": {
            "tags": []
          },
          "execution_count": 1
        }
      ]
    },
    {
      "metadata": {
        "id": "nbF-ft9WqYgJ",
        "colab_type": "text"
      },
      "cell_type": "markdown",
      "source": [
        "Q1: Figure out a way to randomly choose a word from \"word_list\", and name it \"chosen_word\""
      ]
    },
    {
      "metadata": {
        "id": "kG869PqGqYgK",
        "colab_type": "code",
        "colab": {}
      },
      "cell_type": "code",
      "source": [
        "word_list = [\"stick\",\"john\",\"pencil\",\"rubber\",\"glove\",\"quick\",\"brown\",\"fox\",\"jumps\",\"over\"\n",
        "                     ,\"lazy\",\"dog\",\"manner\",\"house\",\"food\",\"brain\",\"history\",\"love\",\"peace\",\n",
        "                      \"object\"] \n",
        "\n",
        "chosen_word = #Your code here"
      ],
      "execution_count": 0,
      "outputs": []
    },
    {
      "metadata": {
        "id": "IMRm992NqYgN",
        "colab_type": "text"
      },
      "cell_type": "markdown",
      "source": [
        "Example 2 \n",
        "- 2i)To find out the length of a string\n",
        "- 2ii) To loop through every character in a string\n",
        "- 2iii) To replace every character with '_'"
      ]
    },
    {
      "metadata": {
        "id": "xXT-2T7XqYgO",
        "colab_type": "code",
        "colab": {}
      },
      "cell_type": "code",
      "source": [
        "#2i)To find out the length of a string, do this:\n",
        "name = 'Patrick'\n",
        "length_of_name = len(name)"
      ],
      "execution_count": 0,
      "outputs": []
    },
    {
      "metadata": {
        "id": "VKj0GFcLqYgQ",
        "colab_type": "code",
        "colab": {}
      },
      "cell_type": "code",
      "source": [
        "#2ii) To loop through every character in a string, do this:\n",
        "for i in name:\n",
        "    print(i)"
      ],
      "execution_count": 0,
      "outputs": []
    },
    {
      "metadata": {
        "id": "NKNcHNTLqYgT",
        "colab_type": "code",
        "colab": {}
      },
      "cell_type": "code",
      "source": [
        "#2ii)or alternatively, do this:    \n",
        "[i for i in name]  "
      ],
      "execution_count": 0,
      "outputs": []
    },
    {
      "metadata": {
        "id": "_02Wv9ubqYgW",
        "colab_type": "code",
        "colab": {}
      },
      "cell_type": "code",
      "source": [
        "#2iii) To replace every character with '_', do this\n",
        "['_' for i in name]"
      ],
      "execution_count": 0,
      "outputs": []
    },
    {
      "metadata": {
        "id": "jABteYbHqYgb",
        "colab_type": "text"
      },
      "cell_type": "markdown",
      "source": [
        "Q2: Make the chosen_word \"invisible\" by replacing character to \"_\". For example, \"fox\" should return ['_','_','_']. \n",
        "Name this new variable \"playerchoice."
      ]
    },
    {
      "metadata": {
        "id": "rwvpyw_bqYgc",
        "colab_type": "code",
        "colab": {}
      },
      "cell_type": "code",
      "source": [
        ""
      ],
      "execution_count": 0,
      "outputs": []
    },
    {
      "metadata": {
        "id": "sJ9H3N3HqYgf",
        "colab_type": "text"
      },
      "cell_type": "markdown",
      "source": [
        "Q3 Allow the player to input their guess. Name this variable \"guess\". I have done this question for you"
      ]
    },
    {
      "metadata": {
        "id": "eNk7OuJQqYgg",
        "colab_type": "code",
        "colab": {}
      },
      "cell_type": "code",
      "source": [
        "guess = str(input())"
      ],
      "execution_count": 0,
      "outputs": []
    },
    {
      "metadata": {
        "id": "FR862tFaqYgj",
        "colab_type": "text"
      },
      "cell_type": "markdown",
      "source": [
        "Example 4 \n",
        "- 4i) To check if 1 is in the list [1,2,3]\n",
        "- 4ii) to check if 'p' is in 'patrick'"
      ]
    },
    {
      "metadata": {
        "id": "NjU2ukA7qYgk",
        "colab_type": "code",
        "colab": {}
      },
      "cell_type": "code",
      "source": [
        "#Example 4 \n",
        "#4i) To check if 1 is in the list [1,2,3], do this:\n",
        "1 in [1,2,3]"
      ],
      "execution_count": 0,
      "outputs": []
    },
    {
      "metadata": {
        "id": "xVGH3_0BqYgn",
        "colab_type": "code",
        "colab": {}
      },
      "cell_type": "code",
      "source": [
        "#4ii) to check if 'p' is in 'patrick', do this:\n",
        "'p' in 'patrick'"
      ],
      "execution_count": 0,
      "outputs": []
    },
    {
      "metadata": {
        "id": "RuUq0jbVqYgq",
        "colab_type": "text"
      },
      "cell_type": "markdown",
      "source": [
        "Q4 Now assume guess = 'o', and chosen_word = 'fox'. Write a logic to check if 'o' is in 'fox'."
      ]
    },
    {
      "metadata": {
        "id": "m36lt_6GqYgr",
        "colab_type": "code",
        "colab": {}
      },
      "cell_type": "code",
      "source": [
        "#Q4 Now assume guess = 'o', and chosen_word = 'fox'. Write a logic to check if 'o' is in 'fox'. \n",
        "# You \n",
        "guess = 'o'\n",
        "chosen_word = 'fox'"
      ],
      "execution_count": 0,
      "outputs": []
    },
    {
      "metadata": {
        "id": "1JgDFgT9qYgt",
        "colab_type": "text"
      },
      "cell_type": "markdown",
      "source": [
        "Example 5: \n",
        "- 5i) Write a logic that loop through 'patrick' to find whether letter 'p' match the character. If yes, print \"p', if not, print '_'\n",
        "- 5ii) Write the same logic, but instead put the output in an empty string\n",
        "- 5 iii) Try to use list comprehension to do it"
      ]
    },
    {
      "metadata": {
        "id": "hkqgJvddqYgv",
        "colab_type": "code",
        "colab": {}
      },
      "cell_type": "code",
      "source": [
        "#i)\n",
        "name = 'patrick'\n",
        "guess = 'p'\n",
        "for i in name:\n",
        "    if i==guess:\n",
        "        print(guess)\n",
        "    else:\n",
        "        print('_')"
      ],
      "execution_count": 0,
      "outputs": []
    },
    {
      "metadata": {
        "id": "CpgI2IuZqYgy",
        "colab_type": "code",
        "colab": {}
      },
      "cell_type": "code",
      "source": [
        "#ii)\n",
        "empty_list = []\n",
        "name = 'patrick'\n",
        "guess = 'p'\n",
        "for i in name:\n",
        "    if i==guess:\n",
        "        empty_list.append(guess)\n",
        "    else:\n",
        "        empty_list.append('_')\n",
        "empty_list"
      ],
      "execution_count": 0,
      "outputs": []
    },
    {
      "metadata": {
        "id": "Q09pu-WOqYg1",
        "colab_type": "code",
        "colab": {}
      },
      "cell_type": "code",
      "source": [
        "#iii)\n",
        "[guess if guess==i else '_' for i in 'patrick'] "
      ],
      "execution_count": 0,
      "outputs": []
    },
    {
      "metadata": {
        "id": "2P1k5bUIqYg4",
        "colab_type": "text"
      },
      "cell_type": "markdown",
      "source": [
        "Q5 Now write a logic, that loop over every word in chosen_word. If guess = chosen word, then return guess. If not, return underscore. Put them in a list"
      ]
    },
    {
      "metadata": {
        "id": "9KeJftIRqYg5",
        "colab_type": "code",
        "colab": {}
      },
      "cell_type": "code",
      "source": [
        ""
      ],
      "execution_count": 0,
      "outputs": []
    },
    {
      "metadata": {
        "id": "qAYLwaWwqYg8",
        "colab_type": "text"
      },
      "cell_type": "markdown",
      "source": [
        "Example 6: Write a while loop that start with n = 5, reduce n by 1 for every loop, and print out every n. Write another while loop that breaks if n = 3"
      ]
    },
    {
      "metadata": {
        "id": "7gOgEfVTqYg9",
        "colab_type": "code",
        "colab": {}
      },
      "cell_type": "code",
      "source": [
        "n = 5\n",
        "while n>0:\n",
        "    if n==1:\n",
        "        print('you are nearly dead!')\n",
        "    n = n-1\n",
        "    print(n)\n",
        "\n",
        "#break if n = 5\n",
        "n = 5\n",
        "while n>0:\n",
        "    if n==3:\n",
        "        break\n",
        "    n = n-1\n",
        "    print(n)"
      ],
      "execution_count": 0,
      "outputs": []
    },
    {
      "metadata": {
        "id": "bTSiszDnqYhA",
        "colab_type": "text"
      },
      "cell_type": "markdown",
      "source": [
        "Q6: Now, Write a while loop that start with life = 10, reduce life by 1 for every loop, and print out every life"
      ]
    },
    {
      "metadata": {
        "id": "HPyVLaMKqYhB",
        "colab_type": "code",
        "colab": {}
      },
      "cell_type": "code",
      "source": [
        ""
      ],
      "execution_count": 0,
      "outputs": []
    },
    {
      "metadata": {
        "id": "BGLT9GGKqYhE",
        "colab_type": "text"
      },
      "cell_type": "markdown",
      "source": [
        "Example 7: Similar to example 5. Try to loop through 'patrick' and print out each character. But instead, loop through it using index"
      ]
    },
    {
      "metadata": {
        "id": "JP8Epl56qYhE",
        "colab_type": "code",
        "colab": {},
        "outputId": "7332b02b-4062-4aa7-b4c0-fa72197c9530"
      },
      "cell_type": "code",
      "source": [
        "for i in range(len('patrick')):\n",
        "    print('patrick'[i])"
      ],
      "execution_count": 0,
      "outputs": [
        {
          "output_type": "stream",
          "text": [
            "p\n",
            "a\n",
            "t\n",
            "r\n",
            "i\n",
            "c\n",
            "k\n"
          ],
          "name": "stdout"
        }
      ]
    },
    {
      "metadata": {
        "id": "rwfZnDWKqYhI",
        "colab_type": "text"
      },
      "cell_type": "markdown",
      "source": [
        "Q7: Now, Try to loop through chosen_word. If guess meets the character, print out the word \"guess\". If not, print out the relevant position in playerchoice. Finally, re-assign the output to the variable playerchoice. I have done this part for you."
      ]
    },
    {
      "metadata": {
        "id": "ZP09hOHsqYhJ",
        "colab_type": "code",
        "colab": {},
        "outputId": "621e107b-5fb4-420c-d63e-586cd7a728ac"
      },
      "cell_type": "code",
      "source": [
        "guess = 'o'\n",
        "chosen_word = 'fox'\n",
        "playerchoice = ['_','_','_']\n",
        "\n",
        "#Long form\n",
        "for i in range(len(chosen_word)):\n",
        "    if guess ==chosen_word[i]:\n",
        "        print(guess)\n",
        "    else:\n",
        "        print(chosen_word[i])\n",
        "\n",
        "#Or put into string\n",
        "empty_string = []\n",
        "for i in range(len(chosen_word)):\n",
        "    if guess ==chosen_word[i]:\n",
        "        empty_string.append(guess)\n",
        "    else:\n",
        "        empty_string.append(chosen_word[i])\n",
        "print(empty_string)\n",
        "\n",
        "        \n",
        "#short form\n",
        "playerchoice = [guess if guess ==chosen_word[a] else playerchoice[a] for a in range(len(chosen_word))]"
      ],
      "execution_count": 0,
      "outputs": [
        {
          "output_type": "stream",
          "text": [
            "f\n",
            "o\n",
            "x\n"
          ],
          "name": "stdout"
        }
      ]
    },
    {
      "metadata": {
        "id": "66UBu0bCqYhM",
        "colab_type": "text"
      },
      "cell_type": "markdown",
      "source": [
        "Q8 Finally, please put everything above into one piece :)"
      ]
    },
    {
      "metadata": {
        "id": "OFUGBx-6qYhN",
        "colab_type": "code",
        "colab": {}
      },
      "cell_type": "code",
      "source": [
        "import random\n",
        "print('WELCOME TO HANGMAN! ')\n",
        "word_list = [\"stick\",\"john\",\"pencil\",\"rubber\",\"glove\",\"quick\",\"brown\",\"fox\",\"jumps\",\"over\"\n",
        "                     ,\"lazy\",\"dog\",\"manner\",\"house\",\"food\",\"brain\",\"history\",\"love\",\"peace\",\n",
        "                      \"object\"] \n",
        "# Randomly choose a word and name it \"chosen_word\"\n",
        "chosen_word = #Your code\n",
        "\n",
        "# Assign playerchoice with a list of \"_\"\n",
        "playerchoice = # Your code here\n",
        "print(playerchoice)\n",
        "\n",
        "#Put eveything into a while loop. Reduce life every round\n",
        "life = 10\n",
        "while life>0:\n",
        "    if(sum([a == '_' for a in playerchoice])==0):\n",
        "        print('you won! lucky guy')\n",
        "        break\n",
        "#allow user to input their guess here\n",
        "    guess = #your code here\n",
        "\n",
        "# Write a logic to check if guess is in the chosenword. If yes, check which position is the matched character and replace it. \n",
        "#You should also renew 'playerchoice' because now player has made a right guess\n",
        "#If not, reduce life by 1\n",
        "    \n",
        "if(life==0):\n",
        "    print('You die!!!!!')"
      ],
      "execution_count": 0,
      "outputs": []
    }
  ]
}